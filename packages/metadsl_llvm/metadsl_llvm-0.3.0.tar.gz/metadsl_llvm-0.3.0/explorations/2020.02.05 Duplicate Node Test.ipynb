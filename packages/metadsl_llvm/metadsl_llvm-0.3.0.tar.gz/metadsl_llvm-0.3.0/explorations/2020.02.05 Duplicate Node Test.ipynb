{
 "cells": [
  {
   "cell_type": "code",
   "execution_count": 3,
   "metadata": {},
   "outputs": [],
   "source": [
    "import metadsl_visualize\n",
    "from metadsl import *\n",
    "from metadsl_core import *"
   ]
  },
  {
   "cell_type": "code",
   "execution_count": 7,
   "metadata": {},
   "outputs": [
    {
     "data": {
      "application/x.typez+json": {
       "nodes": [
        {
         "id": "6638482885269313675",
         "repr": "1",
         "type": "int"
        },
        {
         "args": [
          "6638482885269313675"
         ],
         "function": "Integer.from_int",
         "id": "7738385105563959948"
        },
        {
         "args": [
          "7738385105563959948",
          "7738385105563959948"
         ],
         "function": "Integer.__mul__",
         "id": "4391678613331088830"
        },
        {
         "args": [
          "4391678613331088830",
          "7738385105563959948"
         ],
         "function": "Integer.__mul__",
         "id": "1236720645714203630"
        },
        {
         "args": [
          "1236720645714203630",
          "7738385105563959948"
         ],
         "function": "Integer.__mul__",
         "id": "8746981281598450063"
        }
       ],
       "states": {
        "initial": "8746981281598450063",
        "states": [
         {
          "node": "1236720645714203630",
          "rule": "metadsl_core.integer.integer_math"
         },
         {
          "node": "4391678613331088830",
          "rule": "metadsl_core.integer.integer_math"
         },
         {
          "node": "7738385105563959948",
          "rule": "metadsl_core.integer.integer_math"
         },
         {
          "label": "core",
          "node": "7738385105563959948",
          "rule": ""
         }
        ]
       }
      },
      "text/plain": [
       "Typez(definitions=None, nodes=[PrimitiveNode(id='6638482885269313675', type='int', repr='1'), CallNode(id='7738385105563959948', function='Integer.from_int', type_params=None, args=['6638482885269313675'], kwargs=None), CallNode(id='4391678613331088830', function='Integer.__mul__', type_params=None, args=['7738385105563959948', '7738385105563959948'], kwargs=None), CallNode(id='1236720645714203630', function='Integer.__mul__', type_params=None, args=['4391678613331088830', '7738385105563959948'], kwargs=None), CallNode(id='8746981281598450063', function='Integer.__mul__', type_params=None, args=['1236720645714203630', '7738385105563959948'], kwargs=None)], states=States(initial='8746981281598450063', states=[State(node='1236720645714203630', rule='metadsl_core.integer.integer_math', label=None), State(node='4391678613331088830', rule='metadsl_core.integer.integer_math', label=None), State(node='7738385105563959948', rule='metadsl_core.integer.integer_math', label=None), State(node='7738385105563959948', rule='', label='core')]))"
      ]
     },
     "metadata": {},
     "output_type": "display_data"
    }
   ],
   "source": [
    " Integer.from_int(1) *  Integer.from_int(1) *  Integer.from_int(1) *  Integer.from_int(1)"
   ]
  },
  {
   "cell_type": "code",
   "execution_count": null,
   "metadata": {},
   "outputs": [],
   "source": []
  },
  {
   "cell_type": "code",
   "execution_count": null,
   "metadata": {},
   "outputs": [],
   "source": []
  }
 ],
 "metadata": {
  "kernelspec": {
   "display_name": "Python 3",
   "language": "python",
   "name": "python3"
  },
  "language_info": {
   "codemirror_mode": {
    "name": "ipython",
    "version": 3
   },
   "file_extension": ".py",
   "mimetype": "text/x-python",
   "name": "python",
   "nbconvert_exporter": "python",
   "pygments_lexer": "ipython3",
   "version": "3.7.3"
  }
 },
 "nbformat": 4,
 "nbformat_minor": 4
}
