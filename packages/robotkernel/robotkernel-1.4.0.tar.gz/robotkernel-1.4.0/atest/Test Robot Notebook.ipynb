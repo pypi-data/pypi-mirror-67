{
 "cells": [
  {
   "cell_type": "code",
   "execution_count": null,
   "metadata": {},
   "outputs": [],
   "source": [
    "*** Settings ***\n",
    "\n",
    "Library  JupyterLibrary\n",
    "\n",
    "Suite setup  Suite setup"
   ]
  },
  {
   "cell_type": "code",
   "execution_count": null,
   "metadata": {},
   "outputs": [],
   "source": [
    "*** Variables ***\n",
    "\n",
    "${BROWSER}  firefox\n",
    "\n",
    "${test1}  SEPARATOR=\\n\n",
    "...      *** Test Cases ***\n",
    "...\n",
    "...      Works are equal\n",
    "...      \\ \\ Should be equal\\ \\ hello\\ \\ hello\n",
    "\n",
    "${test2}  SEPARATOR=\\n\n",
    "...      *** Test Cases ***\n",
    "...\n",
    "...      Works are equal\n",
    "...      \\ \\ Should be equal\\ \\ hello\\ \\ world \n",
    " "
   ]
  },
  {
   "cell_type": "code",
   "execution_count": null,
   "metadata": {},
   "outputs": [],
   "source": [
    "*** Keywords ***\n",
    "\n",
    "Suite Setup\n",
    "    ${server}=  Wait for new jupyter server to be ready  jupyter-lab\n",
    "    ${url}=  Get jupyter server url  ${server}\n",
    "    ${token}=  Get jupyter server token  ${server}\n",
    "    Open browser  ${url}?token=${token}  browser=${BROWSER}  alias=default\n",
    "    Set window size   1200  900\n",
    "    Wait until page contains   Robot Framework\n",
    "    Sleep  1s\n",
    "    Launch a new JupyterLab Document    Robot Framework    Notebook\n",
    "\n",
    "Suite Teardown\n",
    "    Close all browsers\n",
    "    Terminate all jupyter servers"
   ]
  },
  {
   "cell_type": "code",
   "execution_count": null,
   "metadata": {},
   "outputs": [],
   "source": [
    "*** Test cases ***\n",
    "\n",
    "Test passing in notebook\n",
    "    Click element  css:button[title=\"Cut the selected cells\"]\n",
    "    Click element  css:button[title=\"Cut the selected cells\"]\n",
    "    Click element  css:DIV.CodeMirror-code > PRE.CodeMirror-line\n",
    "    Press keys  css:DIV.CodeMirror-code > PRE.CodeMirror-line  ${test1}\n",
    "    Press keys  css:DIV.CodeMirror-code > PRE.CodeMirror-line  SHIFT+ENTER\n",
    "    Wait until element is visible  link:Log\n",
    "    Wait until element is visible  link:Report\n",
    "    Page should not contain  FAIL"
   ]
  },
  {
   "cell_type": "code",
   "execution_count": null,
   "metadata": {},
   "outputs": [],
   "source": [
    "*** Test cases ***\n",
    "\n",
    "Test failing in notebook\n",
    "    Click element  css:button[title=\"Cut the selected cells\"]\n",
    "    Click element  css:button[title=\"Cut the selected cells\"]\n",
    "    Click element  css:DIV.CodeMirror-code > PRE.CodeMirror-line\n",
    "    Press keys  css:DIV.CodeMirror-code > PRE.CodeMirror-line  ${test2}\n",
    "    Press keys  css:DIV.CodeMirror-code > PRE.CodeMirror-line  SHIFT+ENTER\n",
    "    Wait until element is visible  link:Log\n",
    "    Wait until element is visible  link:Report\n",
    "    Page should contain  FAIL"
   ]
  },
  {
   "cell_type": "code",
   "execution_count": null,
   "metadata": {},
   "outputs": [],
   "source": [
    "*** Settings ***\n",
    "\n",
    "Suite teardown  Suite teardown"
   ]
  }
 ],
 "metadata": {
  "kernelspec": {
   "display_name": "Robot Framework",
   "language": "robotframework",
   "name": "robotkernel"
  },
  "language_info": {
   "codemirror_mode": "robotframework",
   "file_extension": ".robot",
   "mimetype": "text/plain",
   "name": "robotframework",
   "pygments_lexer": "robotframework"
  }
 },
 "nbformat": 4,
 "nbformat_minor": 4
}
