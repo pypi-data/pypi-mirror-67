{
 "cells": [
  {
   "cell_type": "markdown",
   "metadata": {},
   "source": [
    "# Guided Starter"
   ]
  },
  {
   "cell_type": "markdown",
   "metadata": {},
   "source": [
    "## Opening boilerplate"
   ]
  },
  {
   "cell_type": "code",
   "execution_count": 1,
   "metadata": {},
   "outputs": [],
   "source": [
    "import json, os, pathlib, pkg_resources\n",
    "\n",
    "here = pathlib.Path.cwd()\n",
    "this = here / \"_jupyter_starter_.ipynb\"\n",
    "live = this.exists()\n",
    "\n",
    "if live:\n",
    "    it = json.loads(this.read_text())\n",
    "    \n",
    "else:\n",
    "    it = json.loads(pkg_resources.resource_string(\"robotkernel\", \"resources/starter/quickstart-starter.ipynb\"))\n",
    "\n",
    "meta = it[\"metadata\"][\"jupyter_starters\"]\n",
    "starter = meta[\"starter\"]\n",
    "body = meta.setdefault(\"body\", {})"
   ]
  },
  {
   "cell_type": "markdown",
   "metadata": {},
   "source": [
    "## Notebook state"
   ]
  },
  {
   "cell_type": "code",
   "execution_count": 2,
   "metadata": {},
   "outputs": [],
   "source": [
    "if \"cursor\" not in locals():\n",
    "    cursor = 0"
   ]
  },
  {
   "cell_type": "markdown",
   "metadata": {},
   "source": [
    "## Re-usable notebook base metadata"
   ]
  },
  {
   "cell_type": "code",
   "execution_count": 3,
   "metadata": {},
   "outputs": [],
   "source": [
    "metadata = dict(\n",
    "    metadata=dict(\n",
    "        kernelspec=dict(\n",
    "            display_name=\"Robot Framework\",\n",
    "            language=\"robotframework\",\n",
    "            name=\"robotkernel\"\n",
    "        ),\n",
    "        language_info=dict(\n",
    "            codemirror_mode=\"robotframework\",\n",
    "            file_extension=\".robot\",\n",
    "            mimetype=\"text/plain\",\n",
    "            name=\"Robot Framework\",\n",
    "            pygments_lexer=\"robotframework\"\n",
    "        )\n",
    "    ),\n",
    "    nbformat=4,\n",
    "    nbformat_minor=4\n",
    ")"
   ]
  },
  {
   "cell_type": "markdown",
   "metadata": {},
   "source": [
    "## Step builder functions"
   ]
  },
  {
   "cell_type": "code",
   "execution_count": 4,
   "metadata": {},
   "outputs": [],
   "source": [
    "notebooks = []"
   ]
  },
  {
   "cell_type": "code",
   "execution_count": 5,
   "metadata": {},
   "outputs": [],
   "source": [
    "def step(title, cells):\n",
    "    starter[\"schema\"][\"properties\"][f\"{cursor}-{len(notebooks):02}\"] = dict(\n",
    "        title=f\"{len(notebooks) + 1}. {title}\",\n",
    "        type=\"boolean\",\n",
    "        default=(cursor >= len(notebooks))\n",
    "    )\n",
    "    starter[\"uiSchema\"][f\"{cursor}-{len(notebooks):02}\"] = { \"ui:readonly\": True }\n",
    "    notebooks.append(dict(cells=cells))\n",
    "    notebooks[-1].update(metadata)\n",
    "    return [f\"{cell['source'][0][:77]}...\" for cell in notebooks[-1][\"cells\"]]\n",
    "\n",
    "    \n",
    "def code(source):\n",
    "    return dict(\n",
    "        cell_type=\"code\",\n",
    "        execution_count=None,\n",
    "        metadata=dict(),\n",
    "        outputs=[],\n",
    "        source=[l if l and source.rstrip().endswith(l) else f\"{l}\\n\"\n",
    "                for l in source.strip().split(\"\\n\")]\n",
    "    )\n",
    "\n",
    "\n",
    "def markdown(source):\n",
    "    return dict(\n",
    "        cell_type=\"markdown\",\n",
    "        execution_count=None,\n",
    "        metadata=dict(),\n",
    "        outputs=[],\n",
    "        source=[l if l and source.rstrip().endswith(l) else f\"{l}\\n\"\n",
    "                for l in source.strip().split(\"\\n\")]\n",
    "    )"
   ]
  },
  {
   "cell_type": "markdown",
   "metadata": {},
   "source": [
    "## Steps definitions"
   ]
  },
  {
   "cell_type": "code",
   "execution_count": 6,
   "metadata": {},
   "outputs": [],
   "source": [
    "prefix = \"Quick Start\"\n",
    "chapters = []\n",
    "chapter = []\n",
    "for cell in json.loads(pkg_resources.resource_string(\"robotkernel\", \"resources/notebooks/quickstart.ipynb\"))[\"cells\"]:\n",
    "    if cell[\"source\"][0].startswith(\"#\"):\n",
    "        if chapter:\n",
    "            chapters.append(chapter[:])\n",
    "        chapter = []\n",
    "        cell[\"source\"][0] = f\"#{cell['source'][0].lstrip('#')}\"\n",
    "    chapter.append(cell)\n",
    "chapters.append(chapter[:])"
   ]
  },
  {
   "cell_type": "code",
   "execution_count": 7,
   "metadata": {},
   "outputs": [
    {
     "data": {
      "text/plain": [
       "['# Quick Start for Robot Framework on Jupyter...',\n",
       " 'Congratulations for trying out Robot Framework on the interactive Jupyter pla...',\n",
       " 'You may complete each chapter of this guided start tutorial simply by pressin...']"
      ]
     },
     "execution_count": 7,
     "metadata": {},
     "output_type": "execute_result"
    }
   ],
   "source": [
    "step(title=\"Introduction\",\n",
    "     cells=chapters[0][0:2] + [markdown(\"\"\"\n",
    "You may complete each chapter of this guided start tutorial simply by pressing `SHIFT + ENTER` again and again to advance one cell execution at time until the end of each chapter.\n",
    "\"\"\")])"
   ]
  },
  {
   "cell_type": "code",
   "execution_count": 8,
   "metadata": {},
   "outputs": [
    {
     "data": {
      "text/plain": [
       "['# Robot notebook structure...',\n",
       " 'Robot Framework notebooks may contain any amount of markdown cells and code c...',\n",
       " '*** Settings ***\\n...',\n",
       " 'That said, it is ok for a cell to contain multiple headers, and the same head...',\n",
       " '*** Variables ***\\n...',\n",
       " 'After executing a cell containing either `*** Test Cases ***` or `*** Tasks *...']"
      ]
     },
     "execution_count": 8,
     "metadata": {},
     "output_type": "execute_result"
    }
   ],
   "source": [
    "step(title=\"Robot notebook structure\",\n",
    "     cells=chapters[1])"
   ]
  },
  {
   "cell_type": "code",
   "execution_count": 9,
   "metadata": {},
   "outputs": [
    {
     "data": {
      "text/plain": [
       "['# Prototyping keywords...',\n",
       " 'To ease prototyping custom keywords, executing a cell with one ore more keywo...',\n",
       " '*** Keywords ***\\n...',\n",
       " 'If the cell with the keyword is not executed after a change in its robot code...',\n",
       " 'If the keyword returns a value, the value will displayed between the cell and...']"
      ]
     },
     "execution_count": 9,
     "metadata": {},
     "output_type": "execute_result"
    }
   ],
   "source": [
    "step(title=\"Prototyping keywords\",\n",
    "     cells=chapters[2])"
   ]
  },
  {
   "cell_type": "code",
   "execution_count": 10,
   "metadata": {},
   "outputs": [
    {
     "data": {
      "text/plain": [
       "['# Prototyping libraries...',\n",
       " 'To ease prototyping Python keywords, a code cell could start with `%%python m...',\n",
       " '%%python module GraphLibrary\\n...',\n",
       " 'Once the cell with Python module has been executed, it is injected it is avai...',\n",
       " '*** Settings ***\\n...']"
      ]
     },
     "execution_count": 10,
     "metadata": {},
     "output_type": "execute_result"
    }
   ],
   "source": [
    "step(title=\"Prototyping libraries\",\n",
    "     cells=chapters[3])"
   ]
  },
  {
   "cell_type": "code",
   "execution_count": 11,
   "metadata": {},
   "outputs": [
    {
     "data": {
      "text/plain": [
       "['# Congratulations!\\n...',\n",
       " 'Learn more by just playing with the Jupyter environment, or reading the [Robo...',\n",
       " '**We wish you great time with Robot Framework and Jupyter!**...']"
      ]
     },
     "execution_count": 11,
     "metadata": {},
     "output_type": "execute_result"
    }
   ],
   "source": [
    "step(title=\"Conclusions\",\n",
    "     cells=[markdown(\"\"\"\n",
    "# Congratulations!\n",
    "\n",
    "You have now completed this guided start tutorial.\n",
    "\n",
    "## Learn more\"\"\")] + chapters[-1][1:])"
   ]
  },
  {
   "cell_type": "markdown",
   "metadata": {},
   "source": [
    "## Execute step"
   ]
  },
  {
   "cell_type": "code",
   "execution_count": 12,
   "metadata": {},
   "outputs": [],
   "source": [
    "if len(notebooks) > cursor:\n",
    "    if live:\n",
    "        new_file = (here / f\"{prefix} {cursor:02}.ipynb\")\n",
    "        new_file.write_text(json.dumps(notebooks[cursor], indent=2))\n",
    "        meta[\"copy\"] = True\n",
    "        meta[\"starter\"][\"commands\"] = [\n",
    "            dict(\n",
    "                id=\"filebrowser:open-path\", \n",
    "                args=dict(path=f\"{meta['path']}/{new_file.name}\")\n",
    "            )\n",
    "        ]\n",
    "    cursor += 1"
   ]
  },
  {
   "cell_type": "markdown",
   "metadata": {},
   "source": [
    "## Continuation decision"
   ]
  },
  {
   "cell_type": "code",
   "execution_count": 13,
   "metadata": {},
   "outputs": [],
   "source": [
    "if cursor < len(notebooks):\n",
    "    meta[\"status\"] = \"continuing\"\n",
    "else:\n",
    "    meta[\"status\"] = \"done\""
   ]
  },
  {
   "cell_type": "markdown",
   "metadata": {},
   "source": [
    "## Ending boilerplate"
   ]
  },
  {
   "cell_type": "code",
   "execution_count": 14,
   "metadata": {},
   "outputs": [],
   "source": [
    "if live:\n",
    "    this.write_text(json.dumps(it, indent=2))"
   ]
  }
 ],
 "metadata": {
  "jupyter_starters": {
   "starter": {
    "commands": [],
    "description": "Quick Start for Robot Framework on Jupyter",
    "icon": "<?xml version=\"1.0\" encoding=\"UTF-8\"?>\n<svg width=\"202.43\" height=\"202.34\" version=\"1.1\" viewBox=\"0 0 202.43 202.34\" xml:space=\"preserve\" xmlns=\"http://www.w3.org/2000/svg\">\n  <g class=\"jp-icon-contrast1\" fill=\"#616161\">\n    <path d=\"m65.56 92.183c0-9.5 7.7238-17.224 17.212-17.224 9.5 0 17.224 7.7238 17.224 17.224 0 3.4612-2.7975 6.2588-6.2475 6.2588-3.4512 0-6.2488-2.7975-6.2488-6.2588 0-2.5975-2.1188-4.7062-4.7275-4.7062-2.5962 0-4.7162 2.1088-4.7162 4.7062 0 3.4612-2.7962 6.2588-6.2475 6.2588s-6.2488-2.7975-6.2488-6.2588m71.312 28.941c0 3.4638-2.7962 6.2588-6.2475 6.2588h-57.972c-3.4512 0-6.2488-2.795-6.2488-6.2588 0-3.4612 2.7975-6.2588 6.2488-6.2588h57.972c3.4512 0 6.2475 2.7975 6.2475 6.2588m-27.089-25.435c-1.9312-2.8638-1.1762-6.7475 1.6875-8.6788l14.493-9.7875c2.8412-1.975 6.7475-1.1762 8.6787 1.665 1.9312 2.8625 1.1762 6.7475-1.6875 8.6788l-14.492 9.7875c-1.065 0.7325-2.2862 1.0875-3.485 1.0875-2.0088 0-3.9838-0.97625-5.1938-2.7525m39.685 38.482c0 1.1812-0.47 2.315-1.3062 3.1525l-10.771 10.771c-0.83625 0.835-1.97 1.3062-3.1538 1.3062h-66.041c-1.1838 0-2.3175-0.47125-3.1538-1.3062l-10.771-10.771c-0.83625-0.8375-1.3062-1.9712-1.3062-3.1525v-65.999c0-1.1838 0.47-2.3175 1.3062-3.1525l10.771-10.774c0.83625-0.835 1.97-1.305 3.1538-1.305h66.041c1.1838 0 2.3175 0.47 3.1538 1.305l10.771 10.774c0.83625 0.835 1.3062 1.9688 1.3062 3.1525zm9.1675-76.358-14.062-14.062c-2.1312-2.1312-5.0225-3.3288-8.035-3.3288h-70.654c-3.015 0-5.9062 1.1988-8.0375 3.3312l-14.052 14.061c-2.13 2.1312-3.3262 5.02-3.3262 8.0338v70.644c0 3.0138 1.1975 5.9062 3.3288 8.035l14.062 14.062c2.1312 2.1312 5.0212 3.3275 8.035 3.3275h70.644c3.0125 0 5.9038-1.1962 8.035-3.3275l14.062-14.062c2.1312-2.1288 3.3288-5.0212 3.3288-8.035v-70.642c0-3.015-1.1975-5.905-3.3288-8.0362\"/>\n  </g>\n</svg>\n",
    "label": "Quick Start",
    "schema": {
     "description": "Press **START** to begin the quick start.<br/><br/>",
     "properties": {},
     "title": "# Welcome to Robot Framework on Jupyter<br/>",
     "type": "object"
    },
    "uiSchema": {}
   }
  },
  "kernelspec": {
   "display_name": "Python 3",
   "language": "python",
   "name": "python3"
  },
  "language_info": {
   "codemirror_mode": {
    "name": "ipython",
    "version": 3
   },
   "file_extension": ".py",
   "mimetype": "text/x-python",
   "name": "python",
   "nbconvert_exporter": "python",
   "pygments_lexer": "ipython3",
   "version": "3.7.5"
  },
  "widgets": {
   "application/vnd.jupyter.widget-state+json": {
    "state": {},
    "version_major": 2,
    "version_minor": 0
   }
  }
 },
 "nbformat": 4,
 "nbformat_minor": 4
}
