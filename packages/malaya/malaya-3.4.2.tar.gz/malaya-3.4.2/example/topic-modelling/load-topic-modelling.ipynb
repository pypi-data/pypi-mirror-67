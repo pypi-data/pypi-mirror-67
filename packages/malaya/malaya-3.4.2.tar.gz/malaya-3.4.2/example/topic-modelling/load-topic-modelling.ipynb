{
 "cells": [
  {
   "cell_type": "code",
   "execution_count": 1,
   "metadata": {},
   "outputs": [],
   "source": [
    "import pandas as pd\n",
    "import malaya"
   ]
  },
  {
   "cell_type": "code",
   "execution_count": 2,
   "metadata": {},
   "outputs": [],
   "source": [
    "df = pd.read_csv('tests/02032018.csv',sep=';')\n",
    "df = df.iloc[3:,1:]\n",
    "df.columns = ['text','label']\n",
    "corpus = df.text.tolist()"
   ]
  },
  {
   "cell_type": "markdown",
   "metadata": {},
   "source": [
    "You can get this file [Malaya/tests](https://github.com/huseinzol05/Malaya/tree/master/tests)."
   ]
  },
  {
   "cell_type": "markdown",
   "metadata": {},
   "source": [
    "## Load attention model\n",
    "\n",
    "We can use Transformer model to build topic modeling for corpus we have, the power of attention!"
   ]
  },
  {
   "cell_type": "code",
   "execution_count": 22,
   "metadata": {},
   "outputs": [
    {
     "name": "stdout",
     "output_type": "stream",
     "text": [
      "INFO:tensorflow:loading sentence piece model\n",
      "INFO:tensorflow:Restoring parameters from /Users/huseinzolkepli/Malaya/albert-model/base/albert-base/model.ckpt\n"
     ]
    }
   ],
   "source": [
    "albert = malaya.transformer.load(model = 'albert')\n",
    "attention = malaya.topic_model.attention(corpus, n_topics = 10, vectorizer = albert)"
   ]
  },
  {
   "cell_type": "markdown",
   "metadata": {},
   "source": [
    "#### Get topics"
   ]
  },
  {
   "cell_type": "code",
   "execution_count": 4,
   "metadata": {},
   "outputs": [
    {
     "data": {
      "text/html": [
       "<div>\n",
       "<style scoped>\n",
       "    .dataframe tbody tr th:only-of-type {\n",
       "        vertical-align: middle;\n",
       "    }\n",
       "\n",
       "    .dataframe tbody tr th {\n",
       "        vertical-align: top;\n",
       "    }\n",
       "\n",
       "    .dataframe thead th {\n",
       "        text-align: right;\n",
       "    }\n",
       "</style>\n",
       "<table border=\"1\" class=\"dataframe\">\n",
       "  <thead>\n",
       "    <tr style=\"text-align: right;\">\n",
       "      <th></th>\n",
       "      <th>topic 0</th>\n",
       "      <th>topic 1</th>\n",
       "      <th>topic 2</th>\n",
       "      <th>topic 3</th>\n",
       "      <th>topic 4</th>\n",
       "    </tr>\n",
       "  </thead>\n",
       "  <tbody>\n",
       "    <tr>\n",
       "      <th>0</th>\n",
       "      <td>kena</td>\n",
       "      <td>bayar</td>\n",
       "      <td>negara</td>\n",
       "      <td>terima</td>\n",
       "      <td>raja</td>\n",
       "    </tr>\n",
       "    <tr>\n",
       "      <th>1</th>\n",
       "      <td>rakyat</td>\n",
       "      <td>nilai</td>\n",
       "      <td>rakyat</td>\n",
       "      <td>negara</td>\n",
       "      <td>duit</td>\n",
       "    </tr>\n",
       "    <tr>\n",
       "      <th>2</th>\n",
       "      <td>menteri</td>\n",
       "      <td>malaysia</td>\n",
       "      <td>malaysia</td>\n",
       "      <td>didik</td>\n",
       "      <td>raja duit</td>\n",
       "    </tr>\n",
       "    <tr>\n",
       "      <th>3</th>\n",
       "      <td>raja</td>\n",
       "      <td>negara</td>\n",
       "      <td>kena</td>\n",
       "      <td>isu</td>\n",
       "      <td>daftar</td>\n",
       "    </tr>\n",
       "    <tr>\n",
       "      <th>4</th>\n",
       "      <td>selamat</td>\n",
       "      <td>rana</td>\n",
       "      <td>amanah</td>\n",
       "      <td>didik latih</td>\n",
       "      <td>terima</td>\n",
       "    </tr>\n",
       "    <tr>\n",
       "      <th>5</th>\n",
       "      <td>laku</td>\n",
       "      <td>nyata</td>\n",
       "      <td>arah</td>\n",
       "      <td>tani didik</td>\n",
       "      <td>rana</td>\n",
       "    </tr>\n",
       "    <tr>\n",
       "      <th>6</th>\n",
       "      <td>negara</td>\n",
       "      <td>undi</td>\n",
       "      <td>parti</td>\n",
       "      <td>rakyat</td>\n",
       "      <td>mahukan</td>\n",
       "    </tr>\n",
       "    <tr>\n",
       "      <th>7</th>\n",
       "      <td>perdana</td>\n",
       "      <td>tulis nyata</td>\n",
       "      <td>terima</td>\n",
       "      <td>tangan isu</td>\n",
       "      <td>lihat</td>\n",
       "    </tr>\n",
       "    <tr>\n",
       "      <th>8</th>\n",
       "      <td>hutang</td>\n",
       "      <td>tulis</td>\n",
       "      <td>kembang</td>\n",
       "      <td>capai</td>\n",
       "      <td>pecat</td>\n",
       "    </tr>\n",
       "    <tr>\n",
       "      <th>9</th>\n",
       "      <td>urus</td>\n",
       "      <td>jaga</td>\n",
       "      <td>raja</td>\n",
       "      <td>bangun</td>\n",
       "      <td>parti</td>\n",
       "    </tr>\n",
       "  </tbody>\n",
       "</table>\n",
       "</div>"
      ],
      "text/plain": [
       "   topic 0      topic 1   topic 2      topic 3    topic 4\n",
       "0     kena        bayar    negara       terima       raja\n",
       "1   rakyat        nilai    rakyat       negara       duit\n",
       "2  menteri     malaysia  malaysia        didik  raja duit\n",
       "3     raja       negara      kena          isu     daftar\n",
       "4  selamat         rana    amanah  didik latih     terima\n",
       "5     laku        nyata      arah   tani didik       rana\n",
       "6   negara         undi     parti       rakyat    mahukan\n",
       "7  perdana  tulis nyata    terima   tangan isu      lihat\n",
       "8   hutang        tulis   kembang        capai      pecat\n",
       "9     urus         jaga      raja       bangun      parti"
      ]
     },
     "execution_count": 4,
     "metadata": {},
     "output_type": "execute_result"
    }
   ],
   "source": [
    "attention.top_topics(5, top_n = 10, return_df = True)"
   ]
  },
  {
   "cell_type": "markdown",
   "metadata": {},
   "source": [
    "#### Get topics as string"
   ]
  },
  {
   "cell_type": "code",
   "execution_count": 5,
   "metadata": {},
   "outputs": [
    {
     "data": {
      "text/plain": [
       "[(0, 'kena rakyat menteri raja selamat laku negara perdana hutang urus'),\n",
       " (1, 'bayar nilai malaysia negara rana nyata undi tulis nyata tulis jaga'),\n",
       " (2, 'negara rakyat malaysia kena amanah arah parti terima kembang raja'),\n",
       " (3,\n",
       "  'terima negara didik isu didik latih tani didik rakyat tangan isu capai bangun'),\n",
       " (4, 'raja duit raja duit daftar terima rana mahukan lihat pecat parti'),\n",
       " (5,\n",
       "  'menteri malaysia masyarakat kena syarikat statistik wang parti raja rakyat'),\n",
       " (6, 'rana parti pinggir rakyat raja pasar gembira harga nyata pelabur'),\n",
       " (7, 'umno putus wujud jalan malaysia hutang gaji wang status berita'),\n",
       " (8, 'rakyat undi selesai beli putus pilih pengerusi jual beli daftar pucuk'),\n",
       " (9,\n",
       "  'lembaga lancar jalan lancar rana rendah rujuk jalan rujuk lembaga kerja babit kerja')]"
      ]
     },
     "execution_count": 5,
     "metadata": {},
     "output_type": "execute_result"
    }
   ],
   "source": [
    "attention.get_topics(10)"
   ]
  },
  {
   "cell_type": "markdown",
   "metadata": {},
   "source": [
    "## Train LDA2Vec model"
   ]
  },
  {
   "cell_type": "code",
   "execution_count": 6,
   "metadata": {},
   "outputs": [
    {
     "name": "stdout",
     "output_type": "stream",
     "text": [
      "WARNING:tensorflow:From /Users/huseinzolkepli/Documents/Malaya/malaya/model/lda2vec.py:44: The name tf.random_uniform is deprecated. Please use tf.random.uniform instead.\n",
      "\n",
      "WARNING:tensorflow:From /Users/huseinzolkepli/Documents/Malaya/malaya/model/lda2vec.py:47: The name tf.truncated_normal is deprecated. Please use tf.random.truncated_normal instead.\n",
      "\n",
      "WARNING:tensorflow:From /Users/huseinzolkepli/Documents/Malaya/malaya/model/lda2vec.py:55: The name tf.random_normal is deprecated. Please use tf.random.normal instead.\n",
      "\n",
      "WARNING:tensorflow:\n",
      "The TensorFlow contrib module will not be included in TensorFlow 2.0.\n",
      "For more information, please see:\n",
      "  * https://github.com/tensorflow/community/blob/master/rfcs/20180907-contrib-sunset.md\n",
      "  * https://github.com/tensorflow/addons\n",
      "  * https://github.com/tensorflow/io (for I/O related ops)\n",
      "If you depend on functionality not listed there, please file an issue.\n",
      "\n",
      "WARNING:tensorflow:From /Users/huseinzolkepli/Documents/Malaya/malaya/model/lda2vec.py:104: The name tf.train.get_global_step is deprecated. Please use tf.compat.v1.train.get_global_step instead.\n",
      "\n",
      "WARNING:tensorflow:From /Users/huseinzolkepli/Documents/Malaya/malaya/model/lda2vec.py:117: The name tf.assign is deprecated. Please use tf.compat.v1.assign instead.\n",
      "\n"
     ]
    },
    {
     "name": "stderr",
     "output_type": "stream",
     "text": [
      "minibatch loop: 100%|██████████| 287/287 [00:00<00:00, 351.84it/s, cost=-7.34e+3, epoch=1]\n",
      "minibatch loop: 100%|██████████| 287/287 [00:00<00:00, 416.58it/s, cost=-7.97e+3, epoch=2]\n",
      "minibatch loop: 100%|██████████| 287/287 [00:00<00:00, 410.25it/s, cost=-8630.52, epoch=3]\n",
      "minibatch loop: 100%|██████████| 287/287 [00:00<00:00, 394.22it/s, cost=-9.28e+3, epoch=4]\n",
      "minibatch loop: 100%|██████████| 287/287 [00:00<00:00, 385.13it/s, cost=-9.94e+3, epoch=5]\n",
      "minibatch loop: 100%|██████████| 287/287 [00:00<00:00, 388.20it/s, cost=-1.06e+4, epoch=6]\n",
      "minibatch loop: 100%|██████████| 287/287 [00:00<00:00, 377.24it/s, cost=-1.13e+4, epoch=7]\n",
      "minibatch loop: 100%|██████████| 287/287 [00:00<00:00, 369.94it/s, cost=-1.2e+4, epoch=8] \n",
      "minibatch loop: 100%|██████████| 287/287 [00:00<00:00, 362.51it/s, cost=-1.27e+4, epoch=9]\n",
      "minibatch loop: 100%|██████████| 287/287 [00:00<00:00, 382.22it/s, cost=-1.34e+4, epoch=10]\n"
     ]
    }
   ],
   "source": [
    "lda2vec = malaya.topic_model.lda2vec(corpus, 10, vectorizer = 'skip-gram', skip = 4)"
   ]
  },
  {
   "cell_type": "markdown",
   "metadata": {},
   "source": [
    "#### Get topics\n",
    "\n",
    "You able to set to return as Pandas Dataframe or not by using `return_df` parameter"
   ]
  },
  {
   "cell_type": "code",
   "execution_count": 7,
   "metadata": {},
   "outputs": [
    {
     "data": {
      "text/html": [
       "<div>\n",
       "<style scoped>\n",
       "    .dataframe tbody tr th:only-of-type {\n",
       "        vertical-align: middle;\n",
       "    }\n",
       "\n",
       "    .dataframe tbody tr th {\n",
       "        vertical-align: top;\n",
       "    }\n",
       "\n",
       "    .dataframe thead th {\n",
       "        text-align: right;\n",
       "    }\n",
       "</style>\n",
       "<table border=\"1\" class=\"dataframe\">\n",
       "  <thead>\n",
       "    <tr style=\"text-align: right;\">\n",
       "      <th></th>\n",
       "      <th>topic 0</th>\n",
       "      <th>topic 1</th>\n",
       "      <th>topic 2</th>\n",
       "      <th>topic 3</th>\n",
       "      <th>topic 4</th>\n",
       "    </tr>\n",
       "  </thead>\n",
       "  <tbody>\n",
       "    <tr>\n",
       "      <th>0</th>\n",
       "      <td>antarabangsa</td>\n",
       "      <td>parti islam</td>\n",
       "      <td>main kongsi alam</td>\n",
       "      <td>pesara</td>\n",
       "      <td>layan</td>\n",
       "    </tr>\n",
       "    <tr>\n",
       "      <th>1</th>\n",
       "      <td>bidang didik ajar</td>\n",
       "      <td>arab saudi</td>\n",
       "      <td>projek tanah</td>\n",
       "      <td>gera</td>\n",
       "      <td>teras</td>\n",
       "    </tr>\n",
       "    <tr>\n",
       "      <th>2</th>\n",
       "      <td>ancang wang</td>\n",
       "      <td>dagang didik</td>\n",
       "      <td>makna</td>\n",
       "      <td>senarai</td>\n",
       "      <td>tani didik</td>\n",
       "    </tr>\n",
       "    <tr>\n",
       "      <th>3</th>\n",
       "      <td>main kongsi alam</td>\n",
       "      <td>tulis nyata</td>\n",
       "      <td>cakap</td>\n",
       "      <td>keras</td>\n",
       "      <td>wujud</td>\n",
       "    </tr>\n",
       "    <tr>\n",
       "      <th>4</th>\n",
       "      <td>cakap</td>\n",
       "      <td>bahasa inggeris bahasa</td>\n",
       "      <td>guru nik</td>\n",
       "      <td>aabar</td>\n",
       "      <td>hidup duduk</td>\n",
       "    </tr>\n",
       "    <tr>\n",
       "      <th>5</th>\n",
       "      <td>latih teknikal industri</td>\n",
       "      <td>nampak</td>\n",
       "      <td>aabar</td>\n",
       "      <td>arus perdana</td>\n",
       "      <td>putus</td>\n",
       "    </tr>\n",
       "    <tr>\n",
       "      <th>6</th>\n",
       "      <td>bekal air</td>\n",
       "      <td>ilmu bahasa</td>\n",
       "      <td>negara bangun program</td>\n",
       "      <td>beli</td>\n",
       "      <td>ekonomi dagang</td>\n",
       "    </tr>\n",
       "    <tr>\n",
       "      <th>7</th>\n",
       "      <td>hilang</td>\n",
       "      <td>rangka</td>\n",
       "      <td>rangka</td>\n",
       "      <td>aziz</td>\n",
       "      <td>bertanggungjawab</td>\n",
       "    </tr>\n",
       "    <tr>\n",
       "      <th>8</th>\n",
       "      <td>alam bangun ekonomi</td>\n",
       "      <td>ganti</td>\n",
       "      <td>isu</td>\n",
       "      <td>bidang ancang</td>\n",
       "      <td>kwsp</td>\n",
       "    </tr>\n",
       "    <tr>\n",
       "      <th>9</th>\n",
       "      <td>tulis</td>\n",
       "      <td>proses ajar ajar</td>\n",
       "      <td>latih teknikal industri</td>\n",
       "      <td>didik proses ajar</td>\n",
       "      <td>idea</td>\n",
       "    </tr>\n",
       "  </tbody>\n",
       "</table>\n",
       "</div>"
      ],
      "text/plain": [
       "                   topic 0                 topic 1                  topic 2  \\\n",
       "0             antarabangsa             parti islam         main kongsi alam   \n",
       "1        bidang didik ajar              arab saudi             projek tanah   \n",
       "2              ancang wang            dagang didik                    makna   \n",
       "3         main kongsi alam             tulis nyata                    cakap   \n",
       "4                    cakap  bahasa inggeris bahasa                 guru nik   \n",
       "5  latih teknikal industri                  nampak                    aabar   \n",
       "6                bekal air             ilmu bahasa    negara bangun program   \n",
       "7                   hilang                  rangka                   rangka   \n",
       "8      alam bangun ekonomi                   ganti                      isu   \n",
       "9                    tulis        proses ajar ajar  latih teknikal industri   \n",
       "\n",
       "             topic 3           topic 4  \n",
       "0             pesara             layan  \n",
       "1               gera             teras  \n",
       "2            senarai        tani didik  \n",
       "3              keras             wujud  \n",
       "4              aabar       hidup duduk  \n",
       "5       arus perdana             putus  \n",
       "6               beli    ekonomi dagang  \n",
       "7               aziz  bertanggungjawab  \n",
       "8      bidang ancang              kwsp  \n",
       "9  didik proses ajar              idea  "
      ]
     },
     "execution_count": 7,
     "metadata": {},
     "output_type": "execute_result"
    }
   ],
   "source": [
    "lda2vec.top_topics(5, top_n = 10, return_df = True)"
   ]
  },
  {
   "cell_type": "markdown",
   "metadata": {},
   "source": [
    "#### Important sentences based on topics"
   ]
  },
  {
   "cell_type": "code",
   "execution_count": 8,
   "metadata": {},
   "outputs": [
    {
     "data": {
      "text/plain": [
       "['tolak sebarang percubaan merosak musnah tanah suci jaga tumpu islam',\n",
       " 'status umno',\n",
       " 'catat exco pkr selangor elizabeth adun pkr chua yee ling ahli majlis layang pkr fok wai mun buah acara raya cina babit gambar',\n",
       " 'mesyuarat raja negeri bincang peluang mudah golong milik rumah',\n",
       " 'tarikh dengar pandang pilih raya']"
      ]
     },
     "execution_count": 8,
     "metadata": {},
     "output_type": "execute_result"
    }
   ],
   "source": [
    "lda2vec.get_sentences(5)"
   ]
  },
  {
   "cell_type": "markdown",
   "metadata": {},
   "source": [
    "#### Get topics as string"
   ]
  },
  {
   "cell_type": "code",
   "execution_count": 9,
   "metadata": {},
   "outputs": [
    {
     "data": {
      "text/plain": [
       "[(0,\n",
       "  'antarabangsa bidang didik ajar ancang wang main kongsi alam cakap latih teknikal industri bekal air hilang alam bangun ekonomi tulis'),\n",
       " (1,\n",
       "  'parti islam arab saudi dagang didik tulis nyata bahasa inggeris bahasa nampak ilmu bahasa rangka ganti proses ajar ajar'),\n",
       " (2,\n",
       "  'main kongsi alam projek tanah makna cakap guru nik aabar negara bangun program rangka isu latih teknikal industri'),\n",
       " (3,\n",
       "  'pesara gera senarai keras aabar arus perdana beli aziz bidang ancang didik proses ajar'),\n",
       " (4,\n",
       "  'layan teras tani didik wujud hidup duduk putus ekonomi dagang bertanggungjawab kwsp idea'),\n",
       " (5,\n",
       "  'tingkat bidang kerja kerja sosial negara negara maju bidang didik proses ajar serius beli jalan lancar kerjasama antarabangsa'),\n",
       " (6,\n",
       "  'latih teknikal industri main kongsi alam daging tulis nyata kerjasama malaysia wang mdb masyarakat asli malaysia mtcp tingkat maju guru nik'),\n",
       " (7,\n",
       "  'teknikal industri fungsi kena alat tawar duduk kongsi mahir bangun tuduh alam bank'),\n",
       " (8,\n",
       "  'menteri seri razak bangun negara selatan tangguh pilih peran wang mdb menteri najib razak didik ajar ajar laksana nhrap aabar tulis nyata'),\n",
       " (9,\n",
       "  'peran alam aabar duduk bangun ekonomi alam bangun kawasan projek tanah sabah sekira peran main kongsi alam')]"
      ]
     },
     "execution_count": 9,
     "metadata": {},
     "output_type": "execute_result"
    }
   ],
   "source": [
    "lda2vec.get_topics(10)"
   ]
  },
  {
   "cell_type": "markdown",
   "metadata": {},
   "source": [
    "#### Visualize topics\n",
    "\n",
    "This will initiate [pyLDAvis](https://github.com/bmabey/pyLDAvis) object, to understand [pyLDAvis](https://github.com/bmabey/pyLDAvis) more, read at https://github.com/bmabey/pyLDAvis."
   ]
  },
  {
   "cell_type": "code",
   "execution_count": 10,
   "metadata": {
    "scrolled": true
   },
   "outputs": [
    {
     "name": "stderr",
     "output_type": "stream",
     "text": [
      "/usr/local/lib/python3.7/site-packages/past/types/oldstr.py:5: DeprecationWarning: Using or importing the ABCs from 'collections' instead of from 'collections.abc' is deprecated since Python 3.3,and in 3.9 it will stop working\n",
      "  from collections import Iterable\n"
     ]
    },
    {
     "data": {
      "text/html": [
       "\n",
       "<link rel=\"stylesheet\" type=\"text/css\" href=\"https://cdn.rawgit.com/bmabey/pyLDAvis/files/ldavis.v1.0.0.css\">\n",
       "\n",
       "\n",
       "<div id=\"ldavis_el1090157537512484136983050\"></div>\n",
       "<script type=\"text/javascript\">\n",
       "\n",
       "var ldavis_el1090157537512484136983050_data = {\"mdsDat\": {\"x\": [3.7038595335983155e-05, 5.440156490509169e-05, -6.323751826452439e-05, 0.00016999412587322528, 5.6481927042679706e-05, -9.567207071738129e-05, 0.00025625301760481405, -0.00016047527779859547, -0.00015866670162493476, -9.61176623563578e-05], \"y\": [-0.00020209149456809698, 7.678742471745575e-05, 0.00010588048073747124, -0.00011144341873934761, 5.061931228920019e-05, 0.00010004087498714196, 7.300404035362285e-05, -0.00011575689038970696, -9.327415142209374e-06, 3.228708575446895e-05], \"topics\": [1, 2, 3, 4, 5, 6, 7, 8, 9, 10], \"cluster\": [1, 1, 1, 1, 1, 1, 1, 1, 1, 1], \"Freq\": [13.55920124053955, 12.333187103271484, 12.310441970825195, 11.711064338684082, 11.27611255645752, 8.633474349975586, 8.168426513671875, 7.822873592376709, 7.477386951446533, 6.707836151123047]}, \"tinfo\": {\"Category\": [\"Default\", \"Default\", \"Default\", \"Default\", \"Default\", \"Default\", \"Default\", \"Default\", \"Default\", \"Default\", \"Default\", \"Default\", \"Default\", \"Default\", \"Default\", \"Default\", \"Default\", \"Default\", \"Default\", \"Default\", \"Default\", \"Default\", \"Default\", \"Default\", \"Default\", \"Default\", \"Default\", \"Default\", \"Default\", \"Default\", \"Topic1\", \"Topic1\", \"Topic1\", \"Topic1\", \"Topic1\", \"Topic1\", \"Topic1\", \"Topic1\", \"Topic1\", \"Topic1\", \"Topic1\", \"Topic1\", \"Topic1\", \"Topic1\", \"Topic1\", \"Topic1\", \"Topic1\", \"Topic1\", \"Topic1\", \"Topic1\", \"Topic1\", \"Topic1\", \"Topic1\", \"Topic1\", \"Topic1\", \"Topic1\", \"Topic1\", \"Topic1\", \"Topic1\", \"Topic1\", \"Topic1\", \"Topic1\", \"Topic1\", \"Topic1\", \"Topic1\", \"Topic1\", \"Topic1\", \"Topic1\", \"Topic1\", \"Topic1\", \"Topic1\", \"Topic1\", \"Topic1\", \"Topic1\", \"Topic1\", \"Topic2\", \"Topic2\", \"Topic2\", \"Topic2\", \"Topic2\", \"Topic2\", \"Topic2\", \"Topic2\", \"Topic2\", \"Topic2\", \"Topic2\", \"Topic2\", \"Topic2\", \"Topic2\", \"Topic2\", \"Topic2\", \"Topic2\", \"Topic2\", \"Topic2\", \"Topic2\", \"Topic2\", \"Topic2\", \"Topic2\", \"Topic2\", \"Topic2\", \"Topic2\", \"Topic2\", \"Topic2\", \"Topic2\", \"Topic2\", \"Topic2\", \"Topic2\", \"Topic2\", \"Topic2\", \"Topic2\", \"Topic2\", \"Topic2\", \"Topic2\", \"Topic2\", \"Topic2\", \"Topic2\", \"Topic2\", \"Topic2\", \"Topic2\", \"Topic2\", \"Topic2\", \"Topic2\", \"Topic2\", \"Topic2\", \"Topic2\", \"Topic2\", \"Topic2\", \"Topic2\", \"Topic3\", \"Topic3\", \"Topic3\", \"Topic3\", \"Topic3\", \"Topic3\", \"Topic3\", \"Topic3\", \"Topic3\", \"Topic3\", \"Topic3\", \"Topic3\", \"Topic3\", \"Topic3\", \"Topic3\", \"Topic3\", \"Topic3\", \"Topic3\", \"Topic3\", \"Topic3\", \"Topic3\", \"Topic3\", \"Topic3\", \"Topic3\", \"Topic3\", \"Topic3\", \"Topic3\", \"Topic3\", \"Topic3\", \"Topic3\", \"Topic3\", \"Topic3\", \"Topic3\", \"Topic3\", \"Topic3\", \"Topic3\", \"Topic3\", \"Topic3\", \"Topic3\", \"Topic3\", \"Topic3\", \"Topic3\", \"Topic3\", \"Topic3\", \"Topic3\", \"Topic3\", \"Topic3\", \"Topic4\", \"Topic4\", \"Topic4\", \"Topic4\", \"Topic4\", \"Topic4\", \"Topic4\", \"Topic4\", \"Topic4\", \"Topic4\", \"Topic4\", \"Topic4\", \"Topic4\", \"Topic4\", \"Topic4\", \"Topic4\", \"Topic4\", \"Topic4\", \"Topic4\", \"Topic4\", \"Topic4\", \"Topic4\", \"Topic4\", \"Topic4\", \"Topic4\", \"Topic4\", \"Topic4\", \"Topic4\", \"Topic4\", \"Topic4\", \"Topic4\", \"Topic4\", \"Topic4\", \"Topic4\", \"Topic4\", \"Topic4\", \"Topic4\", \"Topic4\", \"Topic4\", \"Topic4\", \"Topic4\", \"Topic4\", \"Topic4\", \"Topic4\", \"Topic4\", \"Topic4\", \"Topic4\", \"Topic4\", \"Topic4\", \"Topic4\", \"Topic4\", \"Topic5\", \"Topic5\", \"Topic5\", \"Topic5\", \"Topic5\", \"Topic5\", \"Topic5\", \"Topic5\", \"Topic5\", \"Topic5\", \"Topic5\", \"Topic5\", \"Topic5\", \"Topic5\", \"Topic5\", \"Topic5\", \"Topic5\", \"Topic5\", \"Topic5\", \"Topic5\", \"Topic5\", \"Topic5\", \"Topic5\", \"Topic5\", \"Topic5\", \"Topic5\", \"Topic5\", \"Topic5\", \"Topic5\", \"Topic5\", \"Topic5\", \"Topic5\", \"Topic5\", \"Topic5\", \"Topic5\", \"Topic5\", \"Topic5\", \"Topic5\", \"Topic5\", \"Topic5\", \"Topic5\", \"Topic5\", \"Topic5\", \"Topic5\", \"Topic5\", \"Topic5\", \"Topic5\", \"Topic5\", \"Topic5\", \"Topic5\", \"Topic6\", \"Topic6\", \"Topic6\", \"Topic6\", \"Topic6\", \"Topic6\", \"Topic6\", \"Topic6\", \"Topic6\", \"Topic6\", \"Topic6\", \"Topic6\", \"Topic6\", \"Topic6\", \"Topic6\", \"Topic6\", \"Topic6\", \"Topic6\", \"Topic6\", \"Topic6\", \"Topic6\", \"Topic6\", \"Topic6\", \"Topic6\", \"Topic6\", \"Topic6\", \"Topic6\", \"Topic6\", \"Topic6\", \"Topic6\", \"Topic6\", \"Topic6\", \"Topic6\", \"Topic6\", \"Topic6\", \"Topic6\", \"Topic6\", \"Topic6\", \"Topic6\", \"Topic7\", \"Topic7\", \"Topic7\", \"Topic7\", \"Topic7\", \"Topic7\", \"Topic7\", \"Topic7\", \"Topic7\", \"Topic7\", \"Topic7\", \"Topic7\", \"Topic7\", \"Topic7\", \"Topic7\", \"Topic7\", \"Topic7\", \"Topic7\", \"Topic7\", \"Topic7\", \"Topic7\", \"Topic7\", \"Topic7\", \"Topic7\", \"Topic7\", \"Topic7\", \"Topic7\", \"Topic7\", \"Topic7\", \"Topic7\", \"Topic7\", \"Topic7\", \"Topic7\", \"Topic7\", \"Topic7\", \"Topic7\", \"Topic7\", \"Topic7\", \"Topic7\", \"Topic7\", \"Topic7\", \"Topic7\", \"Topic7\", \"Topic8\", \"Topic8\", \"Topic8\", \"Topic8\", \"Topic8\", \"Topic8\", \"Topic8\", \"Topic8\", \"Topic8\", \"Topic8\", \"Topic8\", \"Topic8\", \"Topic8\", \"Topic8\", \"Topic8\", \"Topic8\", \"Topic8\", \"Topic8\", \"Topic8\", \"Topic8\", \"Topic8\", \"Topic8\", \"Topic8\", \"Topic8\", \"Topic8\", \"Topic8\", \"Topic8\", \"Topic8\", \"Topic8\", \"Topic8\", \"Topic8\", \"Topic8\", \"Topic8\", \"Topic8\", \"Topic8\", \"Topic8\", \"Topic8\", \"Topic8\", \"Topic8\", \"Topic8\", \"Topic8\", \"Topic9\", \"Topic9\", \"Topic9\", \"Topic9\", \"Topic9\", \"Topic9\", \"Topic9\", \"Topic9\", \"Topic9\", \"Topic9\", \"Topic9\", \"Topic9\", \"Topic9\", \"Topic9\", \"Topic9\", \"Topic9\", \"Topic9\", \"Topic9\", \"Topic9\", \"Topic9\", \"Topic9\", \"Topic9\", \"Topic9\", \"Topic9\", \"Topic9\", \"Topic9\", \"Topic9\", \"Topic9\", \"Topic9\", \"Topic9\", \"Topic9\", \"Topic9\", \"Topic9\", \"Topic9\", \"Topic9\", \"Topic9\", \"Topic9\", \"Topic9\", \"Topic9\", \"Topic9\", \"Topic9\", \"Topic9\", \"Topic9\", \"Topic9\", \"Topic9\", \"Topic9\", \"Topic10\", \"Topic10\", \"Topic10\", \"Topic10\", \"Topic10\", \"Topic10\", \"Topic10\", \"Topic10\", \"Topic10\", \"Topic10\", \"Topic10\", \"Topic10\", \"Topic10\", \"Topic10\", \"Topic10\", \"Topic10\", \"Topic10\", \"Topic10\", \"Topic10\", \"Topic10\", \"Topic10\", \"Topic10\", \"Topic10\", \"Topic10\", \"Topic10\", \"Topic10\", \"Topic10\", \"Topic10\", \"Topic10\", \"Topic10\", \"Topic10\", \"Topic10\", \"Topic10\", \"Topic10\", \"Topic10\", \"Topic10\", \"Topic10\", \"Topic10\", \"Topic10\", \"Topic10\", \"Topic10\", \"Topic10\"], \"Freq\": [3.0, 3.0, 3.0, 3.0, 3.0, 3.0, 3.0, 3.0, 3.0, 3.0, 3.0, 3.0, 3.0, 3.0, 3.0, 3.0, 3.0, 3.0, 3.0, 3.0, 3.0, 3.0, 3.0, 3.0, 3.0, 3.0, 3.0, 3.0, 3.0, 3.0, 0.49368539452552795, 0.4786665439605713, 0.47913315892219543, 0.4755229353904724, 0.48146942257881165, 0.4678436815738678, 0.4655737280845642, 0.4913465976715088, 0.473014235496521, 0.4621535539627075, 0.4684813320636749, 0.46405309438705444, 0.4826876223087311, 0.46756720542907715, 0.47908803820610046, 0.4944938123226166, 0.47580844163894653, 0.4754258692264557, 0.4803139269351959, 0.4802197515964508, 0.45737123489379883, 0.47600823640823364, 0.4789279103279114, 0.46317312121391296, 0.4813915193080902, 0.4679342210292816, 0.46867620944976807, 0.4745924174785614, 0.4816681146621704, 0.4669053554534912, 0.4875122308731079, 0.4841640591621399, 0.486672043800354, 0.48100847005844116, 0.48027321696281433, 0.48414722084999084, 0.47695207595825195, 0.47849327325820923, 0.48000115156173706, 0.47621771693229675, 0.47767460346221924, 0.4789351522922516, 0.4806649088859558, 0.47746917605400085, 0.476398766040802, 0.41105908155441284, 0.4296920895576477, 0.42734721302986145, 0.43083328008651733, 0.4097297191619873, 0.4259251654148102, 0.4378615617752075, 0.43541744351387024, 0.41965004801750183, 0.42749762535095215, 0.40655896067619324, 0.41310200095176697, 0.4140110909938812, 0.41888871788978577, 0.41158416867256165, 0.41976019740104675, 0.42112046480178833, 0.4184914529323578, 0.41819316148757935, 0.42541882395744324, 0.4194670021533966, 0.42192962765693665, 0.41746944189071655, 0.4218389689922333, 0.4149371087551117, 0.42105698585510254, 0.4259434640407562, 0.4034442603588104, 0.4135609567165375, 0.4313300848007202, 0.43217694759368896, 0.4407617747783661, 0.42506155371665955, 0.42716720700263977, 0.43920496106147766, 0.4334155321121216, 0.4291177988052368, 0.4261087477207184, 0.4230780303478241, 0.4266171455383301, 0.4319315552711487, 0.4294257164001465, 0.424194872379303, 0.4253810942173004, 0.42671552300453186, 0.43041113018989563, 0.4257720708847046, 0.42880845069885254, 0.42858436703681946, 0.43188169598579407, 0.42945724725723267, 0.426348477602005, 0.42563143372535706, 0.42720454931259155, 0.44927194714546204, 0.4354974329471588, 0.4280107617378235, 0.42541494965553284, 0.44119900465011597, 0.42959025502204895, 0.43882787227630615, 0.43938055634498596, 0.4409729838371277, 0.42920178174972534, 0.42400357127189636, 0.44644030928611755, 0.4401336908340454, 0.4239898920059204, 0.4308580458164215, 0.4177699089050293, 0.43110430240631104, 0.4374675750732422, 0.4306822717189789, 0.4313344657421112, 0.42267486453056335, 0.4290013909339905, 0.4066789448261261, 0.43771812319755554, 0.43803009390830994, 0.42709460854530334, 0.4211355447769165, 0.43907642364501953, 0.42946451902389526, 0.43600285053253174, 0.4334487318992615, 0.4405851364135742, 0.4347606897354126, 0.44261619448661804, 0.4385344088077545, 0.43964090943336487, 0.43992990255355835, 0.4354005455970764, 0.4429812729358673, 0.44345343112945557, 0.4378563463687897, 0.4355204701423645, 0.4351992905139923, 0.4324762225151062, 0.4330827295780182, 0.43172362446784973, 0.41618847846984863, 0.4165426194667816, 0.4188941717147827, 0.4136492908000946, 0.4052181541919708, 0.416640043258667, 0.40621739625930786, 0.40060165524482727, 0.42156776785850525, 0.3966080844402313, 0.406347393989563, 0.39688199758529663, 0.3947147727012634, 0.3981856107711792, 0.41558340191841125, 0.4042898714542389, 0.40120750665664673, 0.41296830773353577, 0.4031866788864136, 0.4006882905960083, 0.40645816922187805, 0.4134536683559418, 0.41207802295684814, 0.40015289187431335, 0.409587562084198, 0.4012393355369568, 0.3924950063228607, 0.4059334695339203, 0.39400529861450195, 0.3966516852378845, 0.3991032540798187, 0.4038120210170746, 0.4100356996059418, 0.41118064522743225, 0.4125415086746216, 0.407624751329422, 0.41020286083221436, 0.4076879322528839, 0.4098946750164032, 0.4092042148113251, 0.40664637088775635, 0.4101816415786743, 0.4071820378303528, 0.4096606373786926, 0.4113524854183197, 0.4099297523498535, 0.4088556170463562, 0.40989649295806885, 0.4084961414337158, 0.40872183442115784, 0.4066641330718994, 0.4102171063423157, 0.4061084985733032, 0.39121559262275696, 0.3891720473766327, 0.40014907717704773, 0.3874082863330841, 0.38938239216804504, 0.38310277462005615, 0.39623188972473145, 0.3890300691127777, 0.39125195145606995, 0.3930780589580536, 0.3915535807609558, 0.38161200284957886, 0.3706531822681427, 0.3965449035167694, 0.38197338581085205, 0.39914241433143616, 0.3954586684703827, 0.37596139311790466, 0.39874520897865295, 0.3749564290046692, 0.4004766047000885, 0.3978310227394104, 0.3825794756412506, 0.3837173879146576, 0.3888927698135376, 0.37700411677360535, 0.3827163577079773, 0.3992002010345459, 0.3966235816478729, 0.3978583514690399, 0.4052577316761017, 0.39470285177230835, 0.40058696269989014, 0.39642056822776794, 0.3949902355670929, 0.40084582567214966, 0.4028192460536957, 0.39805588126182556, 0.3971443176269531, 0.39820101857185364, 0.39497750997543335, 0.3988718092441559, 0.39481839537620544, 0.3952549993991852, 0.39319902658462524, 0.39535313844680786, 0.39366939663887024, 0.3938961923122406, 0.31320250034332275, 0.32289159297943115, 0.30931535363197327, 0.3155663013458252, 0.32267528772354126, 0.30761590600013733, 0.3126184940338135, 0.3177347183227539, 0.3142260015010834, 0.31506484746932983, 0.304304838180542, 0.3111327886581421, 0.31684359908103943, 0.315639466047287, 0.3070339262485504, 0.3120661675930023, 0.3099391460418701, 0.3103368282318115, 0.315167099237442, 0.31197795271873474, 0.3131335973739624, 0.323343962430954, 0.31670767068862915, 0.3081603944301605, 0.30879053473472595, 0.2991947829723358, 0.31638282537460327, 0.3096381723880768, 0.30911046266555786, 0.3036191165447235, 0.3193588852882385, 0.3200540244579315, 0.31807786226272583, 0.3191579282283783, 0.312414288520813, 0.31213703751564026, 0.3116832971572876, 0.3094708323478699, 0.31000789999961853, 0.3005204498767853, 0.29595744609832764, 0.29551130533218384, 0.2856961488723755, 0.2919906973838806, 0.2995659112930298, 0.30270013213157654, 0.2896711826324463, 0.2915121018886566, 0.2881324589252472, 0.29656627774238586, 0.2886018753051758, 0.2883262634277344, 0.2901745140552521, 0.29664766788482666, 0.29875460267066956, 0.29093652963638306, 0.2883131802082062, 0.2815759778022766, 0.2874995172023773, 0.2932784855365753, 0.2868488132953644, 0.29396045207977295, 0.28801846504211426, 0.2808222770690918, 0.2861158847808838, 0.283195823431015, 0.2856730818748474, 0.28470152616500854, 0.2836339771747589, 0.2889612317085266, 0.2935793101787567, 0.302639901638031, 0.2923017144203186, 0.2913414537906647, 0.2910522222518921, 0.2882736027240753, 0.29401063919067383, 0.2891690135002136, 0.2896174490451813, 0.28866317868232727, 0.2889411151409149, 0.28853073716163635, 0.2986142039299011, 0.300065815448761, 0.28490039706230164, 0.28449055552482605, 0.2939302623271942, 0.2855352759361267, 0.2746046185493469, 0.2832053601741791, 0.2849860191345215, 0.2836154103279114, 0.2803098261356354, 0.2810550928115845, 0.2856312692165375, 0.27193084359169006, 0.2853243052959442, 0.28210654854774475, 0.27425849437713623, 0.2783968150615692, 0.28007176518440247, 0.26174870133399963, 0.2812885344028473, 0.280563086271286, 0.27840572595596313, 0.2696535885334015, 0.2756936848163605, 0.27981290221214294, 0.2769615054130554, 0.27863839268684387, 0.2788633406162262, 0.2703850269317627, 0.28867197036743164, 0.2894352376461029, 0.28118622303009033, 0.2827759087085724, 0.28406256437301636, 0.28722959756851196, 0.2791331112384796, 0.2789953947067261, 0.28475385904312134, 0.279413104057312, 0.27899107336997986, 0.2770402133464813, 0.2831595242023468, 0.263693630695343, 0.2591683566570282, 0.2693527936935425, 0.2699405550956726, 0.26231154799461365, 0.27580538392066956, 0.2700510621070862, 0.26932117342948914, 0.27112868428230286, 0.2677117884159088, 0.2704591155052185, 0.25799426436424255, 0.2553350627422333, 0.2643355131149292, 0.2706282436847687, 0.2720858156681061, 0.2662798762321472, 0.2670131027698517, 0.2631502151489258, 0.2626420259475708, 0.2760489881038666, 0.2648005783557892, 0.2580341696739197, 0.2534046173095703, 0.26248279213905334, 0.2631995677947998, 0.2604745328426361, 0.2649253308773041, 0.26835131645202637, 0.26572638750076294, 0.26753905415534973, 0.2645646631717682, 0.26628655195236206, 0.26971712708473206, 0.2676589787006378, 0.2658809423446655, 0.2687973976135254, 0.2663893699645996, 0.2672664225101471, 0.2653031051158905, 0.26561954617500305, 0.2658507227897644, 0.26577335596084595, 0.2650917172431946, 0.23814156651496887, 0.23605358600616455, 0.24103200435638428, 0.24448463320732117, 0.2364855259656906, 0.22634035348892212, 0.22401954233646393, 0.2348625212907791, 0.23758162558078766, 0.24075140058994293, 0.23409664630889893, 0.23595455288887024, 0.2350459098815918, 0.2380393147468567, 0.2348168045282364, 0.23647412657737732, 0.23922760784626007, 0.23829562962055206, 0.23314598202705383, 0.23201815783977509, 0.23102307319641113, 0.23365212976932526, 0.23250320553779602, 0.24063389003276825, 0.23520226776599884, 0.2375374436378479, 0.23266589641571045, 0.23451174795627594, 0.23644185066223145, 0.22889234125614166, 0.23387505114078522, 0.23884300887584686, 0.23799841105937958, 0.23822417855262756, 0.23672041296958923, 0.2342149019241333, 0.23475325107574463, 0.234720379114151, 0.2345217913389206, 0.23628227412700653, 0.23577362298965454, 0.2350182980298996], \"Term\": [\"antarabangsa\", \"main kongsi alam\", \"bidang didik ajar\", \"makna\", \"negara rangka program\", \"projek tanah\", \"laksana nhrap\", \"prestasi\", \"masyarakat asli\", \"latih teknikal industri\", \"serius\", \"jaga\", \"didik ajar ajar\", \"resolusi\", \"laku menteri\", \"wajar nyata\", \"isu politik\", \"wang tani didik\", \"negara bangun program\", \"galak\", \"aabar\", \"tulis nyata\", \"tingkat bidang\", \"bekerjasama\", \"cakap\", \"isu\", \"negara bangun\", \"dengar\", \"semak\", \"menang\", \"teras\", \"wang\", \"latih industri\", \"negara rangka\", \"bertanggungjawab\", \"doj\", \"sivil\", \"tani didik\", \"kandung sivil\", \"hak asasi manusia\", \"fasal lembaga umno\", \"masyarakat\", \"kwsp\", \"cabar\", \"menteri jabat perdana\", \"layan\", \"malaysia mtcp malaysia\", \"capai\", \"nyata dakwa\", \"musuh\", \"ikan\", \"timbang wajar nyata\", \"tadbir negara\", \"percaya\", \"ekonomi dagang tani\", \"positif\", \"perdana menteri najib\", \"bidang proses ajar\", \"ketua\", \"bukti\", \"wujud\", \"ekonomi dagang\", \"hidup duduk\", \"idea\", \"bimbang\", \"putus\", \"bidang ekonomi wang\", \"urus niaga\", \"arus perdana\", \"amanah\", \"menteri seri najib\", \"kampung\", \"dagang didik\", \"latih teknikal industri\", \"swasta\", \"ancang ekonomi\", \"rakyat\", \"ekonomi negara\", \"maklum\", \"hak\", \"sesuai\", \"tangguh pilih\", \"peran\", \"temu\", \"angkat\", \"laku tingkat\", \"pimpin negara\", \"negara bangun main\", \"gera sosial\", \"ambil tindak\", \"pindah kampung\", \"teknikal malaysia sedia\", \"kerja\", \"kenal\", \"wang tani\", \"air bersih\", \"utama\", \"bangkang\", \"anak\", \"tuju\", \"dagang didik latih\", \"bantu negara maju\", \"tentera\", \"lihat\", \"laksana nhrap\", \"menteri najib razak\", \"menteri seri razak\", \"parti tanding\", \"inggeris\", \"bangun negara selatan\", \"wang mdb\", \"negara negara maju\", \"maju ancang ekonomi\", \"seri najib\", \"perintah\", \"didik ajar ajar\", \"tatakelakuan\", \"ltat\", \"pergi\", \"facebook\", \"tulis nyata\", \"anti\", \"kerjasama malaysia\", \"negara bangun program\", \"aabar\", \"latih teknikal industri\", \"bahasa\", \"nampak\", \"maklumat\", \"pesara\", \"perdana seri najib\", \"aset\", \"malaysia main kongsi\", \"bidang ancang\", \"kaji\", \"terima tumbuh\", \"dunia\", \"aziz\", \"pesawat\", \"kawasan bandar\", \"gera\", \"beli\", \"mtcp\", \"punca\", \"faktor\", \"airasia\", \"dana seleweng\", \"kandung\", \"alami\", \"giat\", \"negara malaysia main\", \"laku tingkat\", \"wajar tulis nyata\", \"tani didik latih\", \"malaysia sedia\", \"sarawak\", \"kerja kerja\", \"didik latih teknikal\", \"hakim\", \"jppm daftar\", \"arus perdana\", \"bidang ancang wang\", \"keras\", \"masyarakat asli\", \"didik proses ajar\", \"didik ajar ajar\", \"facebook\", \"senarai\", \"aabar\", \"guru nik\", \"raja tingkat\", \"bangun negara selatan\", \"bahan uji kaji\", \"didik teknikal industri\", \"teknikal malaysia\", \"alat\", \"kena\", \"fungsi\", \"bank\", \"alam bangun sosial\", \"tawar\", \"nhrap\", \"sumber baca\", \"teknikal industri\", \"kumpul\", \"ekonomi sosial\", \"program teknikal malaysia\", \"ekonomi sosial bangun\", \"sivil\", \"duduk\", \"projek jalan\", \"fasal lembaga umno\", \"ancang ekonomi wang\", \"ekonomi negara bangun\", \"ekonomi sosial negara\", \"robert kuok\", \"kongsi mahir bangun\", \"alam\", \"menteri kena\", \"maju bidang\", \"menteri perdana menteri\", \"jakoa\", \"tani\", \"tingkat maju didik\", \"hutang hutang\", \"gagal\", \"program kerjasama malaysia\", \"lancong\", \"tumbuh\", \"tuduh\", \"mahir bangun kawasan\", \"dagang tani didik\", \"hasil makan\", \"menteri najib razak\", \"mtcp sedia kongsi\", \"didik proses\", \"tulis\", \"komitmen\", \"raja tingkat maju\", \"hak asasi\", \"kampung\", \"laku raja\", \"didik latih industri\", \"hilang\", \"cakap\", \"buku\", \"parti islam\", \"arab saudi\", \"tumpu\", \"air bersih\", \"proses ajar ajar\", \"teknikal malaysia sedia\", \"anak\", \"khusus\", \"raja tingkat bidang\", \"isu politik\", \"bangun bandar\", \"kerjasama teknikal\", \"raja malaysia\", \"sedia malaysia kongsi\", \"tentera\", \"hebat\", \"jabat\", \"umno tangguh\", \"teknikal diplomasi\", \"kuat\", \"ilmu bahasa\", \"jawat awam\", \"rangka\", \"alam bangun\", \"mahir kawasan\", \"kandung sivil\", \"teknikal mtcp\", \"pendek\", \"arah\", \"ganti\", \"umno tangguh pilih\", \"malaysia mtcp sedia\", \"dagang didik\", \"bidang didik proses\", \"bahasa inggeris bahasa\", \"tingkat bidang\", \"masyarakat temiar\", \"nampak\", \"tulis nyata\", \"tatakelakuan\", \"bahasa inggeris\", \"didik teknikal industri\", \"temiar\", \"bangun negara selatan\", \"laku raja\", \"putus\", \"lonjak\", \"senarai\", \"negara rangka program\", \"main kongsi alam\", \"resolusi\", \"projek tanah\", \"bon\", \"isu\", \"makna\", \"tahan\", \"najib razak\", \"bidang didik ajar\", \"perintah\", \"bekerjasama\", \"insya\", \"arus\", \"rangka\", \"wajar nyata\", \"maklum\", \"laksana nhrap\", \"komprehensif\", \"prestasi\", \"antarabangsa\", \"rasmi\", \"lihat projek jalan\", \"main kongsi alam\", \"didik ajar ajar\", \"perdana menteri seri\", \"bangun malaysia main\", \"timbang wajar tulis\", \"negara bangun program\", \"ancang ekonomi dagang\", \"mesyuarat\", \"projek jalan lancar\", \"guru nik\", \"cakap\", \"latih teknikal industri\", \"aabar\", \"negara rangka program\", \"didik proses ajar\", \"tulis nyata\", \"bidang didik\", \"senarai\", \"bangun ekonomi\", \"sabah\", \"sekira\", \"alam bangun negara\", \"mdb\", \"duduk\", \"peran alam\", \"anak muda\", \"perdana menteri najib\", \"allahyarham\", \"peran\", \"kalang\", \"ekonomi sosial\", \"rumah sedia\", \"projek tanah\", \"alam bangun kawasan\", \"baca\", \"tawar\", \"tinggal\", \"latih industri\", \"parti islam\", \"robert kuok\", \"main peran kongsi\", \"sah\", \"hadap kumpul\", \"fungsi\", \"demokrasi\", \"salah\", \"mac\", \"kaji\", \"mtcp malaysia\", \"ganti\", \"aabar\", \"buku\", \"menteri seri najib\", \"status\", \"bangun main peran\", \"main kongsi alam\", \"teknikal industri\", \"didik latih industri\", \"tuduh\", \"tempoh hutang\", \"menteri seri razak\", \"bidang didik ajar\", \"antarabangsa\", \"allahyarham nik\", \"kampung baharu\", \"ancang wang\", \"alam bangun ekonomi\", \"seri\", \"usaha\", \"tulis\", \"menang\", \"bangun arus\", \"laksana nhrap\", \"bekal air\", \"lampau\", \"hilang\", \"galak\", \"gembira lihat projek\", \"tadbir negara\", \"dengar\", \"rangka program teknikal\", \"serius\", \"negara bangun\", \"inggeris bahasa\", \"pegang\", \"menteri jabat perdana\", \"terima kasih\", \"kongsi\", \"bekerjasama\", \"matlamat\", \"niaga\", \"latih teknikal industri\", \"main kongsi alam\", \"baiah\", \"putus\", \"negara bangun program\", \"cakap\", \"projek tanah\", \"teruk\", \"aabar\", \"raja tingkat\", \"negara rangka program\", \"daging\", \"latih teknikal industri\", \"rak\", \"pindah kampung\", \"pelabur\", \"galak\", \"selatan selatan\", \"tulis nyata\", \"malaysia mtcp\", \"umno tangguh\", \"tingkat maju\", \"bidang didik proses\", \"masyarakat asli\", \"mtcp sedia malaysia\", \"duduk sewa\", \"latih industri diplomasi\", \"wang mdb\", \"kerjasama malaysia\", \"negara bangun\", \"tingkat bidang\", \"kongsi\", \"pindah baharu\", \"main kongsi alam\", \"mtcp sedia\", \"didik ajar\", \"kasih\", \"jaga\", \"hebat\", \"laku menteri\", \"serius\", \"negara rangka program\", \"laku raja\", \"bahasa inggeris bahasa\", \"alam bangun ekonomi\", \"wujud\", \"guru nik\", \"negara bangun program\", \"penambahbaikan\", \"bangun negara selatan\", \"didik latih industri\", \"ancang wang\", \"makna\", \"keras\", \"menteri seri razak\", \"raja tingkat\", \"aabar\", \"kerjasama\", \"umno pilih\", \"sosial negara\", \"tingkat bidang\", \"teknikal\", \"ambil tindak\", \"hak\", \"allahyarham nik aziz\", \"wang tani didik\", \"kerja kerja\", \"malaysia sedia\", \"lantik\", \"malaysia sedia malaysia\", \"jalan lancar\", \"rangka program\", \"daftar\", \"serius\", \"beli\", \"kerjasama malaysia mtcp\", \"jabat perdana\", \"ppsmi\", \"ajar\", \"dagang tani latih\", \"negara maju bidang\", \"sasar\", \"gembira lihat\", \"kandung\", \"alam ekonomi\", \"lonjak\", \"teknikal industri diplomasi\", \"pindah baharu\", \"didik proses ajar\", \"antarabangsa\", \"nampak\", \"tatakelakuan\", \"timbang wajar\", \"mesyuarat\", \"program kerjasama\", \"mtcp malaysia kongsi\", \"raja tingkat\", \"kerjasama malaysia\", \"aktiviti\"], \"Total\": [3.0, 3.0, 3.0, 3.0, 3.0, 3.0, 3.0, 3.0, 3.0, 3.0, 3.0, 3.0, 3.0, 3.0, 3.0, 3.0, 3.0, 3.0, 3.0, 3.0, 3.0, 3.0, 3.0, 3.0, 3.0, 3.0, 3.0, 3.0, 3.0, 3.0, 3.3049137592315674, 3.2426743507385254, 3.266340732574463, 3.243858575820923, 3.2890594005584717, 3.1991748809814453, 3.1899800300598145, 3.366873264312744, 3.244342088699341, 3.17356014251709, 3.2172930240631104, 3.187568426132202, 3.3213725090026855, 3.222177505493164, 3.302030086517334, 3.4092702865600586, 3.2809977531433105, 3.2796876430511475, 3.314960241317749, 3.3171629905700684, 3.1596879959106445, 3.298462152481079, 3.319856643676758, 3.2124557495117188, 3.3398003578186035, 3.2466061115264893, 3.2540786266326904, 3.2971460819244385, 3.3463759422302246, 3.245265007019043, 3.3959929943084717, 3.375056743621826, 3.399675130844116, 3.3611841201782227, 3.3558919429779053, 3.4049112796783447, 3.3300740718841553, 3.359168529510498, 3.38783860206604, 3.3428964614868164, 3.369229793548584, 3.4014081954956055, 3.446040153503418, 3.471466064453125, 3.393173933029175, 3.104823112487793, 3.2550768852233887, 3.253443956375122, 3.283918619155884, 3.1241393089294434, 3.251020908355713, 3.3423330783843994, 3.3245420455932617, 3.2045230865478516, 3.267880439758301, 3.110051393508911, 3.164259195327759, 3.1742475032806396, 3.211836099624634, 3.1564035415649414, 3.220799207687378, 3.2322144508361816, 3.2166881561279297, 3.220486640930176, 3.2771897315979004, 3.2314252853393555, 3.251472234725952, 3.217850685119629, 3.253462791442871, 3.2004618644714355, 3.248227596282959, 3.289757251739502, 3.11670184135437, 3.1958556175231934, 3.3393092155456543, 3.351654052734375, 3.4362220764160156, 3.3017003536224365, 3.3255887031555176, 3.465024948120117, 3.401087522506714, 3.352163553237915, 3.317723274230957, 3.285475730895996, 3.334437131881714, 3.4191336631774902, 3.3872482776641846, 3.306004762649536, 3.3263580799102783, 3.3611679077148438, 3.4380457401275635, 3.3492400646209717, 3.423769950866699, 3.4250986576080322, 3.5196707248687744, 3.471466064453125, 3.4002342224121094, 3.4160189628601074, 3.1512250900268555, 3.331345319747925, 3.2437961101531982, 3.2104880809783936, 3.20072078704834, 3.3199219703674316, 3.2450129985809326, 3.3185229301452637, 3.325403928756714, 3.34151554107666, 3.2544162273406982, 3.2178590297698975, 3.3885912895202637, 3.3497722148895264, 3.227160692214966, 3.282825469970703, 3.184302568435669, 3.2872350215911865, 3.3361403942108154, 3.285214424133301, 3.2952377796173096, 3.2318811416625977, 3.280383348464966, 3.110051393508911, 3.349606990814209, 3.3532586097717285, 3.2719740867614746, 3.2270543575286865, 3.3647210597991943, 3.2925848960876465, 3.3453729152679443, 3.325416088104248, 3.38783860206604, 3.343078374862671, 3.419497013092041, 3.384557008743286, 3.405992031097412, 3.4191336631774902, 3.3611679077148438, 3.4666903018951416, 3.5196707248687744, 3.4646382331848145, 3.4491219520568848, 3.465024948120117, 3.370697259902954, 3.426335573196411, 3.365712881088257, 3.196885108947754, 3.2120304107666016, 3.2638189792633057, 3.2418437004089355, 3.177865743637085, 3.2721524238586426, 3.2179574966430664, 3.1760125160217285, 3.348497152328491, 3.1582257747650146, 3.2442800998687744, 3.1782829761505127, 3.1615824699401855, 3.1899800300598145, 3.331641435623169, 3.2415595054626465, 3.2172930240631104, 3.313032865524292, 3.2357423305511475, 3.217215061187744, 3.2641313076019287, 3.324042558670044, 3.3138575553894043, 3.217965841293335, 3.295475482940674, 3.23173451423645, 3.162773847579956, 3.271124839782715, 3.175164222717285, 3.196504831314087, 3.2187693119049072, 3.2600929737091064, 3.3145065307617188, 3.3381569385528564, 3.3547203540802, 3.3096821308135986, 3.343113660812378, 3.3165783882141113, 3.351654052734375, 3.354687213897705, 3.3194875717163086, 3.3815927505493164, 3.3294003009796143, 3.3827481269836426, 3.4230992794036865, 3.4014081954956055, 3.37687087059021, 3.4238550662994385, 3.3998160362243652, 3.4762752056121826, 3.384770154953003, 3.33677339553833, 3.3147926330566406, 3.2323312759399414, 3.2314252853393555, 3.3264424800872803, 3.2322144508361816, 3.253462791442871, 3.2029869556427, 3.319673776626587, 3.2618932723999023, 3.2832372188568115, 3.2994229793548584, 3.2904398441314697, 3.2078921794891357, 3.11670184135437, 3.3345041275024414, 3.215634822845459, 3.3635146617889404, 3.3342161178588867, 3.1704065799713135, 3.3647725582122803, 3.164201259613037, 3.379570484161377, 3.359769582748413, 3.2323157787323, 3.244342088699341, 3.289229154586792, 3.18912672996521, 3.238170862197876, 3.3787081241607666, 3.3608763217926025, 3.3732619285583496, 3.446040153503418, 3.348097801208496, 3.405435800552368, 3.3665788173675537, 3.3534598350524902, 3.4160189628601074, 3.4380457401275635, 3.3872482776641846, 3.385652542114258, 3.426335573196411, 3.368817090988159, 3.465024948120117, 3.37687087059021, 3.4049112796783447, 3.343345880508423, 3.4666903018951416, 3.4060895442962646, 3.486548662185669, 3.253363847732544, 3.357113838195801, 3.2479920387268066, 3.3182642459869385, 3.3994672298431396, 3.244013786315918, 3.3118321895599365, 3.3694517612457275, 3.334437131881714, 3.345231294631958, 3.2407469749450684, 3.31673002243042, 3.379570484161377, 3.370105028152466, 3.283918619155884, 3.3393092155456543, 3.336798667907715, 3.341309070587158, 3.395622968673706, 3.3622994422912598, 3.375769853591919, 3.486548662185669, 3.4191336631774902, 3.329132318496704, 3.3399341106414795, 3.237720489501953, 3.4250986576080322, 3.3573179244995117, 3.3519392013549805, 3.292985677719116, 3.4646382331848145, 3.4762752056121826, 3.471466064453125, 3.5196707248687744, 3.4060895442962646, 3.405992031097412, 3.4380457401275635, 3.382859230041504, 3.4666903018951416, 3.24409556388855, 3.2563636302948, 3.258647918701172, 3.161292791366577, 3.2412173748016357, 3.331641435623169, 3.3669722080230713, 3.233327627182007, 3.2540786266326904, 3.224688768386841, 3.3245420455932617, 3.2446987628936768, 3.2442800998687744, 3.2654595375061035, 3.357113838195801, 3.3879106044769287, 3.299297571182251, 3.2721524238586426, 3.198914051055908, 3.266340732574463, 3.33677339553833, 3.2641313076019287, 3.349346876144409, 3.282020330429077, 3.200334072113037, 3.2638189792633057, 3.230762004852295, 3.2609198093414307, 3.256209135055542, 3.2450129985809326, 3.3081610202789307, 3.3787081241607666, 3.5196707248687744, 3.384770154953003, 3.369229793548584, 3.3789377212524414, 3.320676326751709, 3.486548662185669, 3.348497152328491, 3.4238550662994385, 3.3547203540802, 3.3916566371917725, 3.4362220764160156, 3.3694517612457275, 3.395622968673706, 3.2758631706237793, 3.306377410888672, 3.459150552749634, 3.362361192703247, 3.249668836593628, 3.3561978340148926, 3.3815927505493164, 3.3663387298583984, 3.3294758796691895, 3.3393092155456543, 3.3956499099731445, 3.236664295196533, 3.3998160362243652, 3.362147808074951, 3.2702505588531494, 3.319856643676758, 3.3415896892547607, 3.1238577365875244, 3.3574907779693604, 3.3518450260162354, 3.329342842102051, 3.228681802749634, 3.302030086517334, 3.3525896072387695, 3.3193752765655518, 3.345231294631958, 3.3481149673461914, 3.247358798980713, 3.471466064453125, 3.486548662185669, 3.3823068141937256, 3.4049112796783447, 3.4250986576080322, 3.4762752056121826, 3.357113838195801, 3.3577816486358643, 3.5196707248687744, 3.4491219520568848, 3.4060895442962646, 3.3912546634674072, 3.471466064453125, 3.256770133972168, 3.220799207687378, 3.3481380939483643, 3.362147808074951, 3.2695770263671875, 3.4380457401275635, 3.369191884994507, 3.3635146617889404, 3.387260913848877, 3.348097801208496, 3.384557008743286, 3.229419231414795, 3.198507070541382, 3.3214612007141113, 3.401087522506714, 3.423769950866699, 3.3518450260162354, 3.3665788173675537, 3.3193752765655518, 3.314809560775757, 3.486548662185669, 3.34533429145813, 3.264052391052246, 3.2082104682922363, 3.3242125511169434, 3.3345041275024414, 3.300380229949951, 3.3574907779693604, 3.4060895442962646, 3.37687087059021, 3.405435800552368, 3.362361192703247, 3.3959929943084717, 3.4646382331848145, 3.4250986576080322, 3.390995502471924, 3.465024948120117, 3.4238550662994385, 3.459150552749634, 3.3994672298431396, 3.419497013092041, 3.4362220764160156, 3.4491219520568848, 3.5196707248687744, 3.2054390907287598, 3.231494426727295, 3.3159680366516113, 3.3665788173675537, 3.27061128616333, 3.1564035415649414, 3.1241393089294434, 3.2764761447906494, 3.317190647125244, 3.3647210597991943, 3.2719740867614746, 3.298208475112915, 3.287224054336548, 3.329286813735962, 3.286180019378662, 3.317119836807251, 3.3574907779693604, 3.3497722148895264, 3.2801785469055176, 3.269305944442749, 3.256963014602661, 3.294515609741211, 3.2809722423553467, 3.395864248275757, 3.3194429874420166, 3.352837562561035, 3.285214424133301, 3.3131461143493652, 3.343345880508423, 3.241865634918213, 3.314809560775757, 3.405992031097412, 3.395622968673706, 3.4160189628601074, 3.3872482776641846, 3.3288707733154297, 3.3519392013549805, 3.3523895740509033, 3.346174478530884, 3.4491219520568848, 3.423769950866699, 3.3858933448791504], \"loglift\": [30.0, 29.0, 28.0, 27.0, 26.0, 25.0, 24.0, 23.0, 22.0, 21.0, 20.0, 19.0, 18.0, 17.0, 16.0, 15.0, 14.0, 13.0, 12.0, 11.0, 10.0, 9.0, 8.0, 7.0, 6.0, 5.0, 4.0, 3.0, 2.0, 1.0, 0.09679999947547913, 0.08500000089406967, 0.0786999985575676, 0.07800000160932541, 0.07660000026226044, 0.07559999823570251, 0.07360000163316727, 0.07349999994039536, 0.07259999960660934, 0.0714000016450882, 0.07129999995231628, 0.07109999656677246, 0.06930000334978104, 0.06780000030994415, 0.06769999861717224, 0.0674000009894371, 0.06719999760389328, 0.06679999828338623, 0.06629999727010727, 0.06549999862909317, 0.06539999693632126, 0.062300000339746475, 0.06199999898672104, 0.061400000005960464, 0.06109999865293503, 0.06109999865293503, 0.06040000170469284, 0.059700001031160355, 0.059700001031160355, 0.059300001710653305, 0.057100001722574234, 0.05640000104904175, 0.05429999902844429, 0.05389999970793724, 0.05400000140070915, 0.04749999940395355, 0.05480000004172325, 0.049300000071525574, 0.04390000179409981, 0.049400001764297485, 0.044599998742341995, 0.037700001150369644, 0.028300000354647636, 0.014299999922513962, 0.03480000048875809, 0.07090000063180923, 0.06800000369548798, 0.06300000101327896, 0.061799999326467514, 0.061500001698732376, 0.06040000170469284, 0.06040000170469284, 0.060100000351667404, 0.05999999865889549, 0.05889999866485596, 0.05820000171661377, 0.05689999833703041, 0.05590000003576279, 0.05590000003576279, 0.05570000037550926, 0.0551999993622303, 0.05490000173449516, 0.05339999869465828, 0.051500000059604645, 0.05119999870657921, 0.05119999870657921, 0.05090000107884407, 0.050599999725818634, 0.05000000074505806, 0.05000000074505806, 0.049800001084804535, 0.04859999939799309, 0.04839999973773956, 0.04809999838471413, 0.04619999974966049, 0.04450000077486038, 0.03929999843239784, 0.042899999767541885, 0.0406000018119812, 0.027400000020861626, 0.03269999846816063, 0.03720000013709068, 0.04050000011920929, 0.04320000112056732, 0.03669999912381172, 0.024000000208616257, 0.02759999968111515, 0.03959999978542328, 0.03620000183582306, 0.028999999165534973, 0.014999999664723873, 0.030300000682473183, 0.015399999916553497, 0.014499999582767487, -0.005100000184029341, 0.003100000089034438, 0.016499999910593033, 0.010200000368058681, 0.09640000015497208, 0.09120000153779984, 0.08669999986886978, 0.07970000058412552, 0.07670000195503235, 0.07649999856948853, 0.07270000129938126, 0.07159999758005142, 0.07069999724626541, 0.06949999928474426, 0.06889999657869339, 0.06800000369548798, 0.06790000200271606, 0.06520000100135803, 0.06509999930858612, 0.06400000303983688, 0.06369999796152115, 0.0632999986410141, 0.06319999694824219, 0.06289999932050705, 0.061400000005960464, 0.060499999672174454, 0.060499999672174454, 0.06040000170469284, 0.059700001031160355, 0.059300001710653305, 0.05860000103712082, 0.058400001376867294, 0.05829999968409538, 0.05779999867081642, 0.05700000002980232, 0.057100001722574234, 0.05490000173449516, 0.05490000173449516, 0.050200000405311584, 0.05119999870657921, 0.04740000143647194, 0.044199999421834946, 0.05090000107884407, 0.037300001829862595, 0.02319999970495701, 0.026200000196695328, 0.02539999969303608, 0.020099999383091927, 0.0414000004529953, 0.026399999856948853, 0.041099999099969864, 0.10580000281333923, 0.10199999809265137, 0.09160000085830688, 0.08579999953508377, 0.08510000258684158, 0.08370000123977661, 0.07500000298023224, 0.07419999688863754, 0.0723000019788742, 0.0697999969124794, 0.06719999760389328, 0.06419999897480011, 0.06400000303983688, 0.06379999965429306, 0.06310000270605087, 0.06300000101327896, 0.06279999762773514, 0.06239999830722809, 0.06199999898672104, 0.061500001698732376, 0.061400000005960464, 0.06019999831914902, 0.05999999865889549, 0.05999999865889549, 0.05950000137090683, 0.058400001376867294, 0.057999998331069946, 0.05790000036358833, 0.05790000036358833, 0.05790000036358833, 0.057100001722574234, 0.05609999969601631, 0.05480000004172325, 0.05050000175833702, 0.04879999905824661, 0.05040000006556511, 0.04659999907016754, 0.04839999973773956, 0.043299999088048935, 0.040699999779462814, 0.04500000178813934, 0.035100001841783524, 0.043299999088048935, 0.03350000083446503, 0.025800000876188278, 0.028699999675154686, 0.0333000011742115, 0.02199999988079071, 0.025599999353289604, 0.004000000189989805, 0.025599999353289604, 0.08640000224113464, 0.08299999684095383, 0.07079999893903732, 0.0658000037074089, 0.06469999998807907, 0.061000000685453415, 0.05959999933838844, 0.05889999866485596, 0.05689999833703041, 0.05609999969601631, 0.05530000105500221, 0.054999999701976776, 0.05380000174045563, 0.05350000038743019, 0.053199999034404755, 0.053199999034404755, 0.05209999904036522, 0.051100000739097595, 0.05050000175833702, 0.05040000006556511, 0.04969999939203262, 0.04960000142455101, 0.04960000142455101, 0.048900000751018524, 0.048500001430511475, 0.04769999906420708, 0.04740000143647194, 0.047200001776218414, 0.04699999839067459, 0.04670000076293945, 0.045499999076128006, 0.04490000009536743, 0.041999999433755875, 0.04450000077486038, 0.04230000078678131, 0.043299999088048935, 0.04360000044107437, 0.039799999445676804, 0.03830000013113022, 0.04129999876022339, 0.039500001817941666, 0.03020000085234642, 0.039000000804662704, 0.020600000396370888, 0.03620000183582306, 0.028999999165534973, 0.042100001126527786, 0.011300000362098217, 0.024700000882148743, 0.0019000000320374966, 0.10890000313520432, 0.1080000028014183, 0.09809999912977219, 0.09669999778270721, 0.09480000287294388, 0.09380000084638596, 0.08919999748468399, 0.08820000290870667, 0.08760000020265579, 0.08699999749660492, 0.08399999886751175, 0.08299999684095383, 0.08240000158548355, 0.08139999955892563, 0.07970000058412552, 0.07919999957084656, 0.0731000006198883, 0.0731000006198883, 0.07240000367164612, 0.07209999859333038, 0.07180000096559525, 0.07159999758005142, 0.07039999961853027, 0.06970000267028809, 0.06849999725818634, 0.06800000369548798, 0.06759999692440033, 0.06599999964237213, 0.06589999794960022, 0.065700002014637, 0.06549999862909317, 0.06430000066757202, 0.05950000137090683, 0.04910000041127205, 0.060499999672174454, 0.059700001031160355, 0.048900000751018524, 0.05790000036358833, 0.03519999980926514, 0.1257999986410141, 0.10670000314712524, 0.10450000315904617, 0.10109999775886536, 0.09790000319480896, 0.09600000083446503, 0.09589999914169312, 0.09239999949932098, 0.09229999780654907, 0.08969999849796295, 0.08810000121593475, 0.0851999968290329, 0.08429999649524689, 0.08420000225305557, 0.07859999686479568, 0.07649999856948853, 0.07649999856948853, 0.07569999992847443, 0.0746999979019165, 0.0746999979019165, 0.07329999655485153, 0.0731000006198883, 0.07180000096559525, 0.07169999927282333, 0.07159999758005142, 0.0706000030040741, 0.0706000030040741, 0.07000000029802322, 0.06800000369548798, 0.06769999861717224, 0.06700000166893005, 0.061799999326467514, 0.05130000039935112, 0.05559999868273735, 0.05700000002980232, 0.05310000106692314, 0.0608999989926815, 0.03180000185966492, 0.05559999868273735, 0.0348999984562397, 0.052000001072883606, 0.041999999433755875, 0.02759999968111515, 0.12479999661445618, 0.12189999967813492, 0.10589999705553055, 0.09520000219345093, 0.08269999921321869, 0.08209999650716782, 0.0771000012755394, 0.07569999992847443, 0.07450000196695328, 0.07419999688863754, 0.07339999824762344, 0.0731000006198883, 0.07259999960660934, 0.0714000016450882, 0.07029999792575836, 0.07010000199079514, 0.06960000097751617, 0.06949999928474426, 0.0689999982714653, 0.06870000064373016, 0.06849999725818634, 0.06769999861717224, 0.06669999659061432, 0.06539999693632126, 0.06509999930858612, 0.06480000168085098, 0.06449999660253525, 0.06270000338554382, 0.06270000338554382, 0.06239999830722809, 0.06109999865293503, 0.05939999967813492, 0.06080000102519989, 0.05979999899864197, 0.058400001376867294, 0.05469999834895134, 0.061000000685453415, 0.06030000001192093, 0.03359999880194664, 0.0348999984562397, 0.04600000008940697, 0.0885000005364418, 0.08699999749660492, 0.07959999889135361, 0.07339999824762344, 0.0731000006198883, 0.07119999825954437, 0.07039999961853027, 0.07029999792575836, 0.06949999928474426, 0.06840000301599503, 0.06809999793767929, 0.06710000336170197, 0.06639999896287918, 0.06620000302791595, 0.06539999693632126, 0.062300000339746475, 0.062199998646974564, 0.0608999989926815, 0.060600001364946365, 0.05889999866485596, 0.05849999934434891, 0.05790000036358833, 0.05719999969005585, 0.05689999833703041, 0.05570000037550926, 0.05480000004172325, 0.054499998688697815, 0.054099999368190765, 0.05400000140070915, 0.05380000174045563, 0.052299998700618744, 0.050999999046325684, 0.049400001764297485, 0.050999999046325684, 0.04749999940395355, 0.040300000458955765, 0.04410000145435333, 0.04749999940395355, 0.03680000081658363, 0.03970000147819519, 0.03280000016093254, 0.04280000180006027, 0.038100000470876694, 0.0340999998152256, 0.03009999915957451, 0.007199999876320362, 0.10220000147819519, 0.08529999852180481, 0.08030000329017639, 0.07940000295639038, 0.07500000298023224, 0.06669999659061432, 0.06669999659061432, 0.06639999896287918, 0.06549999862909317, 0.06459999829530716, 0.06449999660253525, 0.06440000236034393, 0.06390000134706497, 0.06379999965429306, 0.06319999694824219, 0.0608999989926815, 0.06040000170469284, 0.058800000697374344, 0.05790000036358833, 0.05640000104904175, 0.05590000003576279, 0.05570000037550926, 0.05490000173449516, 0.05490000173449516, 0.05480000004172325, 0.05469999834895134, 0.05429999902844429, 0.053700000047683716, 0.05290000140666962, 0.05119999870657921, 0.05050000175833702, 0.04439999908208847, 0.04390000179409981, 0.03889999911189079, 0.04100000113248825, 0.04769999906420708, 0.04309999942779541, 0.042899999767541885, 0.04390000179409981, 0.020999999716877937, 0.02630000002682209, 0.03420000150799751], \"logprob\": [30.0, 29.0, 28.0, 27.0, 26.0, 25.0, 24.0, 23.0, 22.0, 21.0, 20.0, 19.0, 18.0, 17.0, 16.0, 15.0, 14.0, 13.0, 12.0, 11.0, 10.0, 9.0, 8.0, 7.0, 6.0, 5.0, 4.0, 3.0, 2.0, 1.0, -6.622700214385986, -6.653600215911865, -6.652699947357178, -6.660200119018555, -6.647799968719482, -6.676499843597412, -6.681399822235107, -6.627500057220459, -6.665500164031982, -6.688700199127197, -6.675099849700928, -6.684599876403809, -6.645299911499023, -6.67710018157959, -6.652699947357178, -6.621099948883057, -6.659599781036377, -6.660399913787842, -6.650199890136719, -6.650400161743164, -6.699100017547607, -6.659200191497803, -6.65310001373291, -6.686500072479248, -6.6479997634887695, -6.676300048828125, -6.674699783325195, -6.662199974060059, -6.64739990234375, -6.678500175476074, -6.635300159454346, -6.642199993133545, -6.63700008392334, -6.64870023727417, -6.650300025939941, -6.642199993133545, -6.657199859619141, -6.6539998054504395, -6.6508002281188965, -6.65880012512207, -6.655700206756592, -6.65310001373291, -6.649499893188477, -6.656099796295166, -6.658400058746338, -6.711100101470947, -6.666800022125244, -6.672299861907959, -6.664100170135498, -6.714399814605713, -6.675600051879883, -6.6479997634887695, -6.653600215911865, -6.690400123596191, -6.671899795532227, -6.722099781036377, -6.706200122833252, -6.703999996185303, -6.692299842834473, -6.709799766540527, -6.690199851989746, -6.6869001388549805, -6.69320011138916, -6.693900108337402, -6.676799774169922, -6.690899848937988, -6.684999942779541, -6.6956000328063965, -6.685200214385986, -6.701700210571289, -6.687099933624268, -6.675600051879883, -6.729800224304199, -6.705100059509277, -6.663000106811523, -6.660999774932861, -6.64139986038208, -6.677599906921387, -6.672699928283691, -6.644899845123291, -6.658199787139893, -6.668099880218506, -6.67519998550415, -6.682300090789795, -6.673999786376953, -6.661600112915039, -6.667399883270264, -6.679699897766113, -6.6768999099731445, -6.673699855804443, -6.66510009765625, -6.676000118255615, -6.668900012969971, -6.669400215148926, -6.6616997718811035, -6.667300224304199, -6.674600124359131, -6.676300048828125, -6.67080020904541, -6.6203999519348145, -6.651500225067139, -6.668900012969971, -6.675000190734863, -6.638500213623047, -6.665200233459473, -6.643899917602539, -6.642600059509277, -6.638999938964844, -6.666100025177002, -6.678299903869629, -6.626699924468994, -6.640900135040283, -6.678299903869629, -6.662199974060059, -6.6930999755859375, -6.6616997718811035, -6.646999835968018, -6.662600040435791, -6.661099910736084, -6.681399822235107, -6.666600227355957, -6.71999979019165, -6.646399974822998, -6.645699977874756, -6.671000003814697, -6.685100078582764, -6.6433000564575195, -6.665500164031982, -6.650400161743164, -6.656199932098389, -6.639900207519531, -6.653200149536133, -6.635300159454346, -6.644599914550781, -6.642099857330322, -6.64139986038208, -6.651800155639648, -6.634500026702881, -6.633399963378906, -6.646100044250488, -6.651500225067139, -6.652200222015381, -6.6585001945495605, -6.657100200653076, -6.660200119018555, -6.646999835968018, -6.646100044250488, -6.640500068664551, -6.65310001373291, -6.673699855804443, -6.645899772644043, -6.671199798583984, -6.685100078582764, -6.634099960327148, -6.695199966430664, -6.670899868011475, -6.694499969482422, -6.699900150299072, -6.691199779510498, -6.648399829864502, -6.676000118255615, -6.683599948883057, -6.654699802398682, -6.678699970245361, -6.684899806976318, -6.670599937438965, -6.653600215911865, -6.656899929046631, -6.686299800872803, -6.663000106811523, -6.683499813079834, -6.705599784851074, -6.671899795532227, -6.701700210571289, -6.695000171661377, -6.688899993896484, -6.677199840545654, -6.661900043487549, -6.65910005569458, -6.655799865722656, -6.667799949645996, -6.661399841308594, -6.667600154876709, -6.662199974060059, -6.663899898529053, -6.670199871063232, -6.661499977111816, -6.668799877166748, -6.662799835205078, -6.658699989318848, -6.662099838256836, -6.664700031280518, -6.662199974060059, -6.665599822998047, -6.66510009765625, -6.670100212097168, -6.623600006103516, -6.633600234985352, -6.671000003814697, -6.676199913024902, -6.648399829864502, -6.680799961090088, -6.6757001876831055, -6.691999912261963, -6.658299922943115, -6.676599979400635, -6.670899868011475, -6.666200160980225, -6.670100212097168, -6.695799827575684, -6.724999904632568, -6.65749979019165, -6.694900035858154, -6.650899887084961, -6.660200119018555, -6.7108001708984375, -6.651899814605713, -6.713399887084961, -6.647600173950195, -6.654200077056885, -6.693299770355225, -6.690299987792969, -6.677000045776367, -6.708000183105469, -6.692999839782715, -6.6508002281188965, -6.657299995422363, -6.654200077056885, -6.635700225830078, -6.662099838256836, -6.647299766540527, -6.657800197601318, -6.661399841308594, -6.646699905395508, -6.6417999267578125, -6.65369987487793, -6.656000137329102, -6.653299808502197, -6.661399841308594, -6.651599884033203, -6.661799907684326, -6.660699844360352, -6.665900230407715, -6.6605000495910645, -6.664700031280518, -6.6641998291015625, -6.626399993896484, -6.595900058746338, -6.638899803161621, -6.618800163269043, -6.59660005569458, -6.644400119781494, -6.628200054168701, -6.611999988555908, -6.6230998039245605, -6.6203999519348145, -6.655200004577637, -6.632999897003174, -6.614799976348877, -6.618599891662598, -6.646299839019775, -6.630000114440918, -6.6367998123168945, -6.6356000900268555, -6.620100021362305, -6.630300045013428, -6.6265997886657715, -6.5945000648498535, -6.615200042724609, -6.642600059509277, -6.640600204467773, -6.672100067138672, -6.616300106048584, -6.637800216674805, -6.639500141143799, -6.657400131225586, -6.606900215148926, -6.604700088500977, -6.610899925231934, -6.607500076293945, -6.628900051116943, -6.629799842834473, -6.631199836730957, -6.638400077819824, -6.636600017547607, -6.612299919128418, -6.627600193023682, -6.6290998458862305, -6.662899971008301, -6.64109992980957, -6.615499973297119, -6.605100154876709, -6.649099826812744, -6.6427998542785645, -6.654399871826172, -6.6255998611450195, -6.6528000831604, -6.653800010681152, -6.64739990234375, -6.62529993057251, -6.618199825286865, -6.644700050354004, -6.653800010681152, -6.6774001121521, -6.656599998474121, -6.63670015335083, -6.658899784088135, -6.634399890899658, -6.654799938201904, -6.680099964141846, -6.661399841308594, -6.6717000007629395, -6.663000106811523, -6.666399955749512, -6.670199871063232, -6.651599884033203, -6.635700225830078, -6.605299949645996, -6.640100002288818, -6.6433000564575195, -6.6442999839782715, -6.653900146484375, -6.634200096130371, -6.6508002281188965, -6.6493000984191895, -6.652599811553955, -6.651599884033203, -6.6529998779296875, -6.575500011444092, -6.5706000328063965, -6.622499942779541, -6.623899936676025, -6.591300010681152, -6.620299816131592, -6.659299850463867, -6.628399848937988, -6.622200012207031, -6.626999855041504, -6.638700008392334, -6.636099815368652, -6.619900226593018, -6.669099807739258, -6.620999813079834, -6.632299900054932, -6.6605000495910645, -6.645599842071533, -6.639599800109863, -6.707200050354004, -6.635200023651123, -6.637800216674805, -6.645500183105469, -6.677499771118164, -6.655300140380859, -6.640500068664551, -6.650700092315674, -6.644700050354004, -6.643899917602539, -6.674799919128418, -6.609300136566162, -6.6066999435424805, -6.6356000900268555, -6.630000114440918, -6.625400066375732, -6.614299774169922, -6.642899990081787, -6.643400192260742, -6.623000144958496, -6.641900062561035, -6.643400192260742, -6.605299949645996, -6.583399772644043, -6.654699802398682, -6.671999931335449, -6.633399963378906, -6.631199836730957, -6.659900188446045, -6.609799861907959, -6.630799770355225, -6.633500099182129, -6.6269001960754395, -6.639500141143799, -6.629300117492676, -6.676499843597412, -6.6869001388549805, -6.652200222015381, -6.628699779510498, -6.623300075531006, -6.644899845123291, -6.642199993133545, -6.656700134277344, -6.658699989318848, -6.60890007019043, -6.6504998207092285, -6.676400184631348, -6.694499969482422, -6.659299850463867, -6.656499862670898, -6.666900157928467, -6.650000095367432, -6.637199878692627, -6.646999835968018, -6.640200138092041, -6.651400089263916, -6.644899845123291, -6.6321001052856445, -6.639699935913086, -6.646399974822998, -6.635499954223633, -6.644499778747559, -6.641200065612793, -6.648600101470947, -6.64739990234375, -6.646500110626221, -6.6468000411987305, -6.649400234222412, -6.6479997634887695, -6.656799793243408, -6.635900020599365, -6.621699810028076, -6.65500020980835, -6.698800086975098, -6.709099769592285, -6.661799907684326, -6.650300025939941, -6.6371002197265625, -6.66510009765625, -6.657199859619141, -6.661099910736084, -6.648399829864502, -6.6620001792907715, -6.65500020980835, -6.643400192260742, -6.647299766540527, -6.6691999435424805, -6.673999786376953, -6.678299903869629, -6.666999816894531, -6.671899795532227, -6.637599945068359, -6.660399913787842, -6.6504998207092285, -6.671199798583984, -6.663300037384033, -6.655099868774414, -6.687600135803223, -6.666100025177002, -6.644999980926514, -6.648600101470947, -6.647600173950195, -6.6539998054504395, -6.664599895477295, -6.662300109863281, -6.662399768829346, -6.663300037384033, -6.655799865722656, -6.6579999923706055, -6.661200046539307]}, \"token.table\": {\"Topic\": [], \"Freq\": [], \"Term\": []}, \"R\": 30, \"lambda.step\": 0.01, \"plot.opts\": {\"xlab\": \"PC1\", \"ylab\": \"PC2\"}, \"topic.order\": [5, 9, 4, 8, 2, 3, 10, 1, 7, 6]};\n",
       "\n",
       "function LDAvis_load_lib(url, callback){\n",
       "  var s = document.createElement('script');\n",
       "  s.src = url;\n",
       "  s.async = true;\n",
       "  s.onreadystatechange = s.onload = callback;\n",
       "  s.onerror = function(){console.warn(\"failed to load library \" + url);};\n",
       "  document.getElementsByTagName(\"head\")[0].appendChild(s);\n",
       "}\n",
       "\n",
       "if(typeof(LDAvis) !== \"undefined\"){\n",
       "   // already loaded: just create the visualization\n",
       "   !function(LDAvis){\n",
       "       new LDAvis(\"#\" + \"ldavis_el1090157537512484136983050\", ldavis_el1090157537512484136983050_data);\n",
       "   }(LDAvis);\n",
       "}else if(typeof define === \"function\" && define.amd){\n",
       "   // require.js is available: use it to load d3/LDAvis\n",
       "   require.config({paths: {d3: \"https://cdnjs.cloudflare.com/ajax/libs/d3/3.5.5/d3.min\"}});\n",
       "   require([\"d3\"], function(d3){\n",
       "      window.d3 = d3;\n",
       "      LDAvis_load_lib(\"https://cdn.rawgit.com/bmabey/pyLDAvis/files/ldavis.v1.0.0.js\", function(){\n",
       "        new LDAvis(\"#\" + \"ldavis_el1090157537512484136983050\", ldavis_el1090157537512484136983050_data);\n",
       "      });\n",
       "    });\n",
       "}else{\n",
       "    // require.js not available: dynamically load d3 & LDAvis\n",
       "    LDAvis_load_lib(\"https://cdnjs.cloudflare.com/ajax/libs/d3/3.5.5/d3.min.js\", function(){\n",
       "         LDAvis_load_lib(\"https://cdn.rawgit.com/bmabey/pyLDAvis/files/ldavis.v1.0.0.js\", function(){\n",
       "                 new LDAvis(\"#\" + \"ldavis_el1090157537512484136983050\", ldavis_el1090157537512484136983050_data);\n",
       "            })\n",
       "         });\n",
       "}\n",
       "</script>"
      ],
      "text/plain": [
       "PreparedData(topic_coordinates=              x         y  topics  cluster       Freq\n",
       "topic                                                \n",
       "4      0.000037 -0.000202       1        1  13.559201\n",
       "8      0.000054  0.000077       2        1  12.333187\n",
       "3     -0.000063  0.000106       3        1  12.310442\n",
       "7      0.000170 -0.000111       4        1  11.711064\n",
       "1      0.000056  0.000051       5        1  11.276113\n",
       "2     -0.000096  0.000100       6        1   8.633474\n",
       "9      0.000256  0.000073       7        1   8.168427\n",
       "0     -0.000160 -0.000116       8        1   7.822874\n",
       "6     -0.000159 -0.000009       9        1   7.477387\n",
       "5     -0.000096  0.000032      10        1   6.707836, topic_info=    Category      Freq                   Term     Total  loglift  logprob\n",
       "45   Default  3.000000           antarabangsa  3.000000  30.0000  30.0000\n",
       "415  Default  3.000000       main kongsi alam  3.000000  29.0000  29.0000\n",
       "134  Default  3.000000      bidang didik ajar  3.000000  28.0000  28.0000\n",
       "433  Default  3.000000                  makna  3.000000  27.0000  27.0000\n",
       "517  Default  3.000000  negara rangka program  3.000000  26.0000  26.0000\n",
       "..       ...       ...                    ...       ...      ...      ...\n",
       "603  Topic10  0.234720      program kerjasama  3.352390   0.0429  -6.6624\n",
       "485  Topic10  0.234522   mtcp malaysia kongsi  3.346174   0.0439  -6.6633\n",
       "628  Topic10  0.236282           raja tingkat  3.449122   0.0210  -6.6558\n",
       "333  Topic10  0.235774     kerjasama malaysia  3.423770   0.0263  -6.6580\n",
       "10   Topic10  0.235018               aktiviti  3.385893   0.0342  -6.6612\n",
       "\n",
       "[487 rows x 6 columns], token_table=Empty DataFrame\n",
       "Columns: [Topic, Freq, Term]\n",
       "Index: [], R=30, lambda_step=0.01, plot_opts={'xlab': 'PC1', 'ylab': 'PC2'}, topic_order=[5, 9, 4, 8, 2, 3, 10, 1, 7, 6])"
      ]
     },
     "execution_count": 10,
     "metadata": {},
     "output_type": "execute_result"
    }
   ],
   "source": [
    "lda2vec.visualize_topics(notebook_mode = True)"
   ]
  },
  {
   "cell_type": "markdown",
   "metadata": {},
   "source": [
    "## Train LDA model"
   ]
  },
  {
   "cell_type": "code",
   "execution_count": 11,
   "metadata": {},
   "outputs": [],
   "source": [
    "lda = malaya.topic_model.lda(corpus,10,stemming=None,vectorizer='skip-gram',ngram=(1,4),skip=3)"
   ]
  },
  {
   "cell_type": "markdown",
   "metadata": {},
   "source": [
    "#### Print topics"
   ]
  },
  {
   "cell_type": "code",
   "execution_count": 12,
   "metadata": {},
   "outputs": [
    {
     "data": {
      "text/html": [
       "<div>\n",
       "<style scoped>\n",
       "    .dataframe tbody tr th:only-of-type {\n",
       "        vertical-align: middle;\n",
       "    }\n",
       "\n",
       "    .dataframe tbody tr th {\n",
       "        vertical-align: top;\n",
       "    }\n",
       "\n",
       "    .dataframe thead th {\n",
       "        text-align: right;\n",
       "    }\n",
       "</style>\n",
       "<table border=\"1\" class=\"dataframe\">\n",
       "  <thead>\n",
       "    <tr style=\"text-align: right;\">\n",
       "      <th></th>\n",
       "      <th>topic 0</th>\n",
       "      <th>topic 1</th>\n",
       "      <th>topic 2</th>\n",
       "      <th>topic 3</th>\n",
       "      <th>topic 4</th>\n",
       "    </tr>\n",
       "  </thead>\n",
       "  <tbody>\n",
       "    <tr>\n",
       "      <th>0</th>\n",
       "      <td>putus</td>\n",
       "      <td>kongsi alam negara selatan</td>\n",
       "      <td>raja</td>\n",
       "      <td>bangun</td>\n",
       "      <td>rakyat</td>\n",
       "    </tr>\n",
       "    <tr>\n",
       "      <th>1</th>\n",
       "      <td>ambil</td>\n",
       "      <td>alam negara selatan</td>\n",
       "      <td>ajar</td>\n",
       "      <td>malaysia</td>\n",
       "      <td>tingkat</td>\n",
       "    </tr>\n",
       "    <tr>\n",
       "      <th>2</th>\n",
       "      <td>negara</td>\n",
       "      <td>bangun negara selatan</td>\n",
       "      <td>laku</td>\n",
       "      <td>harga</td>\n",
       "      <td>malaysia</td>\n",
       "    </tr>\n",
       "    <tr>\n",
       "      <th>3</th>\n",
       "      <td>raja</td>\n",
       "      <td>negara selatan</td>\n",
       "      <td>tingkat maju proses ajar</td>\n",
       "      <td>menteri</td>\n",
       "      <td>rakyat malaysia</td>\n",
       "    </tr>\n",
       "    <tr>\n",
       "      <th>4</th>\n",
       "      <td>kena</td>\n",
       "      <td>alam bangun negara selatan</td>\n",
       "      <td>bidang didik proses ajar</td>\n",
       "      <td>kelulus</td>\n",
       "      <td>negara</td>\n",
       "    </tr>\n",
       "    <tr>\n",
       "      <th>5</th>\n",
       "      <td>tindak</td>\n",
       "      <td>kongsi bangun negara selatan</td>\n",
       "      <td>tingkat bidang didik ajar</td>\n",
       "      <td>jual</td>\n",
       "      <td>projek</td>\n",
       "    </tr>\n",
       "    <tr>\n",
       "      <th>6</th>\n",
       "      <td>menteri</td>\n",
       "      <td>urus</td>\n",
       "      <td>bidang proses ajar</td>\n",
       "      <td>perdana</td>\n",
       "      <td>asli</td>\n",
       "    </tr>\n",
       "    <tr>\n",
       "      <th>7</th>\n",
       "      <td>laku</td>\n",
       "      <td>negara</td>\n",
       "      <td>tingkat maju bidang ajar</td>\n",
       "      <td>umno</td>\n",
       "      <td>mudah</td>\n",
       "    </tr>\n",
       "    <tr>\n",
       "      <th>8</th>\n",
       "      <td>milik</td>\n",
       "      <td>bangun</td>\n",
       "      <td>maju bidang didik ajar</td>\n",
       "      <td>negara malaysia</td>\n",
       "      <td>masyarakat</td>\n",
       "    </tr>\n",
       "    <tr>\n",
       "      <th>9</th>\n",
       "      <td>kapal</td>\n",
       "      <td>kongsi alam negara</td>\n",
       "      <td>bidang didik ajar</td>\n",
       "      <td>bandar</td>\n",
       "      <td>hilang</td>\n",
       "    </tr>\n",
       "  </tbody>\n",
       "</table>\n",
       "</div>"
      ],
      "text/plain": [
       "   topic 0                       topic 1                    topic 2  \\\n",
       "0    putus    kongsi alam negara selatan                       raja   \n",
       "1    ambil           alam negara selatan                       ajar   \n",
       "2   negara         bangun negara selatan                       laku   \n",
       "3     raja                negara selatan   tingkat maju proses ajar   \n",
       "4     kena    alam bangun negara selatan   bidang didik proses ajar   \n",
       "5   tindak  kongsi bangun negara selatan  tingkat bidang didik ajar   \n",
       "6  menteri                          urus         bidang proses ajar   \n",
       "7     laku                        negara   tingkat maju bidang ajar   \n",
       "8    milik                        bangun     maju bidang didik ajar   \n",
       "9    kapal            kongsi alam negara          bidang didik ajar   \n",
       "\n",
       "           topic 3          topic 4  \n",
       "0           bangun           rakyat  \n",
       "1         malaysia          tingkat  \n",
       "2            harga         malaysia  \n",
       "3          menteri  rakyat malaysia  \n",
       "4          kelulus           negara  \n",
       "5             jual           projek  \n",
       "6          perdana             asli  \n",
       "7             umno            mudah  \n",
       "8  negara malaysia       masyarakat  \n",
       "9           bandar           hilang  "
      ]
     },
     "execution_count": 12,
     "metadata": {},
     "output_type": "execute_result"
    }
   ],
   "source": [
    "lda.top_topics(5, top_n = 10, return_df = True)"
   ]
  },
  {
   "cell_type": "markdown",
   "metadata": {},
   "source": [
    "#### Important sentences based on topics"
   ]
  },
  {
   "cell_type": "code",
   "execution_count": 13,
   "metadata": {},
   "outputs": [
    {
     "data": {
      "text/plain": [
       "['laku jemaah menteri rahsia perdana menteri cakap jurucakap lantik',\n",
       " 'jawat awam puncak kuasa angkat janji kebertanggungjawaban setia abai tanggungjawab semak imbang gagal tahan dana awam seleweng',\n",
       " 'timbang wajar tulis nyata',\n",
       " 'timbang wajar tulis nyata',\n",
       " 'raja rak kerja menteri angkut seri liow tiong lai kembang jaya lampau imaginasi']"
      ]
     },
     "execution_count": 13,
     "metadata": {},
     "output_type": "execute_result"
    }
   ],
   "source": [
    "lda.get_sentences(5)"
   ]
  },
  {
   "cell_type": "markdown",
   "metadata": {},
   "source": [
    "#### Get topics"
   ]
  },
  {
   "cell_type": "code",
   "execution_count": 14,
   "metadata": {},
   "outputs": [
    {
     "data": {
      "text/plain": [
       "[(0, 'putus ambil negara raja kena tindak menteri laku milik kapal'),\n",
       " (1,\n",
       "  'kongsi alam negara selatan alam negara selatan bangun negara selatan negara selatan alam bangun negara selatan kongsi bangun negara selatan urus negara bangun kongsi alam negara'),\n",
       " (2,\n",
       "  'raja ajar laku tingkat maju proses ajar bidang didik proses ajar tingkat bidang didik ajar bidang proses ajar tingkat maju bidang ajar maju bidang didik ajar bidang didik ajar'),\n",
       " (3,\n",
       "  'bangun malaysia harga menteri kelulus jual perdana umno negara malaysia bandar'),\n",
       " (4,\n",
       "  'rakyat tingkat malaysia rakyat malaysia negara projek asli mudah masyarakat hilang'),\n",
       " (5, 'rana bayar asli duduk sewa terima menteri masuk projek malaysia'),\n",
       " (6, 'undi parti pelbagai tangguh pilih ros umno nilai jalan dasar'),\n",
       " (7, 'hutang bahasa mdb selesai malaysia tinggal air rana tumbuh niaga'),\n",
       " (8,\n",
       "  'pilih laksana raya pilih raya catat selesai majlis dakwa nhrap malaysia'),\n",
       " (9,\n",
       "  'negara negara bidang bantu negara ancang bantu negara bidang bantu negara maju negara maju bidang ancang negara maju bidang negara maju ancang wang negara maju ancang ekonomi bantu negara bidang ekonomi')]"
      ]
     },
     "execution_count": 14,
     "metadata": {},
     "output_type": "execute_result"
    }
   ],
   "source": [
    "lda.get_topics(10)"
   ]
  },
  {
   "cell_type": "markdown",
   "metadata": {},
   "source": [
    "#### Visualize topics"
   ]
  },
  {
   "cell_type": "code",
   "execution_count": 15,
   "metadata": {},
   "outputs": [
    {
     "data": {
      "text/html": [
       "\n",
       "<link rel=\"stylesheet\" type=\"text/css\" href=\"https://cdn.rawgit.com/bmabey/pyLDAvis/files/ldavis.v1.0.0.css\">\n",
       "\n",
       "\n",
       "<div id=\"ldavis_el1090157234537766020934793\"></div>\n",
       "<script type=\"text/javascript\">\n",
       "\n",
       "var ldavis_el1090157234537766020934793_data = {\"mdsDat\": {\"x\": [-0.27951944043067406, 0.15741698997322043, -0.02701814481723058, 0.03406331364962608, 0.04642235034322332, 0.0329118373764661, 0.007981609000105394, 0.004178358134911597, 0.01241416057763692, 0.01114896619271485], \"y\": [0.10945447738466095, 0.23420838177595732, -0.05596584625417021, 0.0034677237709631395, -0.08538059625871144, -0.09330907826614154, -0.05479110874421349, -0.03136916079243295, -0.006025181711746083, -0.020289610904165943], \"topics\": [1, 2, 3, 4, 5, 6, 7, 8, 9, 10], \"cluster\": [1, 1, 1, 1, 1, 1, 1, 1, 1, 1], \"Freq\": [27.240158431340184, 15.599829263602533, 10.353595298702366, 8.670466960800383, 8.578521565772405, 7.735307202402502, 6.216871846133727, 5.827097205132514, 5.4298189019835625, 4.348333324129819]}, \"tinfo\": {\"Category\": [\"Default\", \"Default\", \"Default\", \"Default\", \"Default\", \"Default\", \"Default\", \"Default\", \"Default\", \"Default\", \"Default\", \"Default\", \"Default\", \"Default\", \"Default\", \"Default\", \"Default\", \"Default\", \"Default\", \"Default\", \"Default\", \"Default\", \"Default\", \"Default\", \"Default\", \"Default\", \"Default\", \"Default\", \"Default\", \"Default\", \"Topic1\", \"Topic1\", \"Topic1\", \"Topic1\", \"Topic1\", \"Topic1\", \"Topic1\", \"Topic1\", \"Topic1\", \"Topic1\", \"Topic1\", \"Topic1\", \"Topic1\", \"Topic1\", \"Topic1\", \"Topic1\", \"Topic1\", \"Topic1\", \"Topic1\", \"Topic1\", \"Topic1\", \"Topic1\", \"Topic1\", \"Topic1\", \"Topic1\", \"Topic1\", \"Topic1\", \"Topic1\", \"Topic1\", \"Topic1\", \"Topic1\", \"Topic1\", \"Topic1\", \"Topic1\", \"Topic1\", \"Topic1\", \"Topic1\", \"Topic1\", \"Topic1\", \"Topic1\", \"Topic1\", \"Topic1\", \"Topic1\", \"Topic1\", \"Topic1\", \"Topic1\", \"Topic1\", \"Topic1\", \"Topic1\", \"Topic1\", \"Topic1\", \"Topic1\", \"Topic1\", \"Topic1\", \"Topic1\", \"Topic1\", \"Topic1\", \"Topic1\", \"Topic1\", \"Topic1\", \"Topic1\", \"Topic1\", \"Topic1\", \"Topic1\", \"Topic1\", \"Topic1\", \"Topic1\", \"Topic1\", \"Topic2\", \"Topic2\", \"Topic2\", \"Topic2\", \"Topic2\", \"Topic2\", \"Topic2\", \"Topic2\", \"Topic2\", \"Topic2\", \"Topic2\", \"Topic2\", \"Topic2\", \"Topic2\", \"Topic2\", \"Topic2\", \"Topic2\", \"Topic2\", \"Topic2\", \"Topic2\", \"Topic2\", \"Topic2\", \"Topic2\", \"Topic2\", \"Topic2\", \"Topic2\", \"Topic2\", \"Topic2\", \"Topic2\", \"Topic2\", \"Topic2\", \"Topic2\", \"Topic3\", \"Topic3\", \"Topic3\", \"Topic3\", \"Topic3\", \"Topic3\", \"Topic3\", \"Topic3\", \"Topic3\", \"Topic3\", \"Topic3\", \"Topic3\", \"Topic3\", \"Topic3\", \"Topic3\", \"Topic3\", \"Topic3\", \"Topic3\", \"Topic3\", \"Topic3\", \"Topic3\", \"Topic3\", \"Topic3\", \"Topic3\", \"Topic3\", \"Topic3\", \"Topic3\", \"Topic3\", \"Topic3\", \"Topic3\", \"Topic3\", \"Topic3\", \"Topic3\", \"Topic3\", \"Topic3\", \"Topic3\", \"Topic3\", \"Topic3\", \"Topic3\", \"Topic3\", \"Topic3\", \"Topic3\", \"Topic3\", \"Topic3\", \"Topic3\", \"Topic3\", \"Topic3\", \"Topic3\", \"Topic3\", \"Topic3\", \"Topic3\", \"Topic3\", \"Topic3\", \"Topic3\", \"Topic3\", \"Topic3\", \"Topic3\", \"Topic3\", \"Topic3\", \"Topic3\", \"Topic3\", \"Topic3\", \"Topic3\", \"Topic3\", \"Topic3\", \"Topic3\", \"Topic3\", \"Topic3\", \"Topic3\", \"Topic3\", \"Topic3\", \"Topic3\", \"Topic3\", \"Topic3\", \"Topic3\", \"Topic3\", \"Topic3\", \"Topic3\", \"Topic3\", \"Topic3\", \"Topic3\", \"Topic3\", \"Topic3\", \"Topic3\", \"Topic3\", \"Topic3\", \"Topic3\", \"Topic3\", \"Topic3\", \"Topic3\", \"Topic3\", \"Topic3\", \"Topic4\", \"Topic4\", \"Topic4\", \"Topic4\", \"Topic4\", \"Topic4\", \"Topic4\", \"Topic4\", \"Topic4\", \"Topic4\", \"Topic4\", \"Topic4\", \"Topic4\", \"Topic4\", \"Topic4\", \"Topic4\", \"Topic4\", \"Topic4\", \"Topic4\", \"Topic4\", \"Topic4\", \"Topic4\", \"Topic4\", \"Topic4\", \"Topic4\", \"Topic4\", \"Topic4\", \"Topic4\", \"Topic4\", \"Topic4\", \"Topic4\", \"Topic4\", \"Topic4\", \"Topic4\", \"Topic4\", \"Topic4\", \"Topic4\", \"Topic4\", \"Topic4\", \"Topic4\", \"Topic4\", \"Topic4\", \"Topic4\", \"Topic4\", \"Topic4\", \"Topic5\", \"Topic5\", \"Topic5\", \"Topic5\", \"Topic5\", \"Topic5\", \"Topic5\", \"Topic5\", \"Topic5\", \"Topic5\", \"Topic5\", \"Topic5\", \"Topic5\", \"Topic5\", \"Topic5\", \"Topic5\", \"Topic5\", \"Topic5\", \"Topic5\", \"Topic5\", \"Topic5\", \"Topic5\", \"Topic5\", \"Topic5\", \"Topic5\", \"Topic5\", \"Topic5\", \"Topic5\", \"Topic5\", \"Topic5\", \"Topic5\", \"Topic5\", \"Topic5\", \"Topic5\", \"Topic5\", \"Topic5\", \"Topic5\", \"Topic5\", \"Topic5\", \"Topic5\", \"Topic5\", \"Topic5\", \"Topic5\", \"Topic5\", \"Topic5\", \"Topic5\", \"Topic5\", \"Topic5\", \"Topic5\", \"Topic5\", \"Topic5\", \"Topic5\", \"Topic5\", \"Topic5\", \"Topic6\", \"Topic6\", \"Topic6\", \"Topic6\", \"Topic6\", \"Topic6\", \"Topic6\", \"Topic6\", \"Topic6\", \"Topic6\", \"Topic6\", \"Topic6\", \"Topic6\", \"Topic6\", \"Topic6\", \"Topic6\", \"Topic6\", \"Topic6\", \"Topic6\", \"Topic6\", \"Topic6\", \"Topic6\", \"Topic6\", \"Topic6\", \"Topic6\", \"Topic6\", \"Topic6\", \"Topic6\", \"Topic6\", \"Topic6\", \"Topic6\", \"Topic6\", \"Topic6\", \"Topic6\", \"Topic6\", \"Topic6\", \"Topic6\", \"Topic6\", \"Topic6\", \"Topic6\", \"Topic6\", \"Topic6\", \"Topic6\", \"Topic6\", \"Topic6\", \"Topic6\", \"Topic6\", \"Topic6\", \"Topic6\", \"Topic6\", \"Topic6\", \"Topic6\", \"Topic6\", \"Topic6\", \"Topic6\", \"Topic6\", \"Topic6\", \"Topic6\", \"Topic6\", \"Topic6\", \"Topic7\", \"Topic7\", \"Topic7\", \"Topic7\", \"Topic7\", \"Topic7\", \"Topic7\", \"Topic7\", \"Topic7\", \"Topic7\", \"Topic7\", \"Topic7\", \"Topic7\", \"Topic7\", \"Topic7\", \"Topic7\", \"Topic7\", \"Topic7\", \"Topic7\", \"Topic7\", \"Topic7\", \"Topic7\", \"Topic7\", \"Topic7\", \"Topic7\", \"Topic7\", \"Topic7\", \"Topic7\", \"Topic7\", \"Topic7\", \"Topic7\", \"Topic7\", \"Topic7\", \"Topic7\", \"Topic7\", \"Topic7\", \"Topic7\", \"Topic7\", \"Topic7\", \"Topic7\", \"Topic7\", \"Topic7\", \"Topic7\", \"Topic7\", \"Topic7\", \"Topic7\", \"Topic7\", \"Topic7\", \"Topic7\", \"Topic7\", \"Topic7\", \"Topic7\", \"Topic7\", \"Topic7\", \"Topic7\", \"Topic8\", \"Topic8\", \"Topic8\", \"Topic8\", \"Topic8\", \"Topic8\", \"Topic8\", \"Topic8\", \"Topic8\", \"Topic8\", \"Topic8\", \"Topic8\", \"Topic8\", \"Topic8\", \"Topic8\", \"Topic8\", \"Topic8\", \"Topic8\", \"Topic8\", \"Topic8\", \"Topic8\", \"Topic8\", \"Topic8\", \"Topic8\", \"Topic8\", \"Topic8\", \"Topic8\", \"Topic8\", \"Topic8\", \"Topic8\", \"Topic8\", \"Topic8\", \"Topic8\", \"Topic8\", \"Topic8\", \"Topic8\", \"Topic8\", \"Topic8\", \"Topic8\", \"Topic8\", \"Topic8\", \"Topic8\", \"Topic8\", \"Topic8\", \"Topic8\", \"Topic8\", \"Topic8\", \"Topic8\", \"Topic8\", \"Topic8\", \"Topic8\", \"Topic8\", \"Topic9\", \"Topic9\", \"Topic9\", \"Topic9\", \"Topic9\", \"Topic9\", \"Topic9\", \"Topic9\", \"Topic9\", \"Topic9\", \"Topic9\", \"Topic9\", \"Topic9\", \"Topic9\", \"Topic9\", \"Topic9\", \"Topic9\", \"Topic9\", \"Topic9\", \"Topic9\", \"Topic9\", \"Topic9\", \"Topic9\", \"Topic9\", \"Topic9\", \"Topic9\", \"Topic9\", \"Topic9\", \"Topic9\", \"Topic9\", \"Topic9\", \"Topic9\", \"Topic9\", \"Topic9\", \"Topic9\", \"Topic9\", \"Topic9\", \"Topic9\", \"Topic9\", \"Topic9\", \"Topic9\", \"Topic9\", \"Topic9\", \"Topic9\", \"Topic9\", \"Topic9\", \"Topic9\", \"Topic9\", \"Topic10\", \"Topic10\", \"Topic10\", \"Topic10\", \"Topic10\", \"Topic10\", \"Topic10\", \"Topic10\", \"Topic10\", \"Topic10\", \"Topic10\", \"Topic10\", \"Topic10\", \"Topic10\", \"Topic10\", \"Topic10\", \"Topic10\", \"Topic10\", \"Topic10\", \"Topic10\", \"Topic10\", \"Topic10\", \"Topic10\", \"Topic10\", \"Topic10\", \"Topic10\", \"Topic10\", \"Topic10\", \"Topic10\", \"Topic10\", \"Topic10\", \"Topic10\", \"Topic10\", \"Topic10\", \"Topic10\", \"Topic10\", \"Topic10\", \"Topic10\", \"Topic10\", \"Topic10\", \"Topic10\", \"Topic10\", \"Topic10\", \"Topic10\", \"Topic10\"], \"Freq\": [14.0, 9.0, 8.0, 16.0, 27.0, 10.0, 16.0, 9.0, 25.0, 16.0, 7.0, 9.0, 11.0, 7.0, 12.0, 7.0, 7.0, 6.0, 9.0, 4.0, 4.0, 6.0, 7.0, 6.0, 12.0, 7.0, 9.0, 7.0, 5.0, 15.0, 7.2065590568594855, 7.2065590568594855, 7.2065590568594855, 7.2065590568594855, 7.2065590568594855, 7.2065590568594855, 5.427161758860972, 5.427161758860972, 5.427161758860972, 5.427161758860972, 5.427161758860972, 5.427161758860972, 5.427161758860972, 5.427161758860972, 5.427161758860972, 3.647764460861865, 3.647764460861865, 3.647764460861865, 3.647764460861865, 3.647764460861865, 3.647764460861865, 3.647764460861865, 3.647764460861865, 3.647764460861865, 3.647764460861865, 3.647764460861865, 3.647764460861865, 3.647764460861865, 3.647764460861865, 3.647764460861865, 3.647764460861865, 3.647764460861865, 3.647764460861865, 3.647764460861865, 3.647764460861865, 3.647764460861865, 3.647764460861865, 3.647764460861865, 3.647764460861865, 3.647764460861865, 3.647764460861865, 3.647764460861865, 3.647764460861865, 3.647764460861865, 3.647764460861865, 6.189694004555154, 3.647764460861865, 3.647764460861865, 3.647764460861865, 3.647764460861865, 3.647764460861865, 3.647764460861865, 3.647764460861865, 3.647764460861865, 5.427177203949989, 4.537452806621584, 6.131736539006028, 4.53739825143823, 3.8815589673791884, 3.8712002517838044, 3.647774777301827, 3.647771046192892, 3.647764528676694, 3.647764528676694, 3.647764528676694, 3.647764528676694, 3.647764528676694, 3.647764528676694, 4.173067069978851, 3.3548186250046848, 3.3548186250046848, 3.3548186250046848, 3.3548186250046848, 3.3548186250046848, 3.3548186250046848, 3.3548186250046848, 3.3548186250046848, 3.3548186250046848, 3.3548186250046848, 3.3548186250046848, 3.3548186250046848, 3.3548186250046848, 3.3548186250046848, 3.3548186250046848, 3.3548186250046848, 3.3548186250046848, 3.3548186250046848, 3.3548186250046848, 3.3548186250046848, 3.3548186250046848, 3.3548186250046848, 3.3548186250046848, 3.3548186250046848, 3.3548186250046848, 3.3548186250046848, 3.3548186250046848, 3.3548186250046848, 1.7183217347385595, 3.354763267075325, 6.518959319716398, 1.5801355646322952, 1.5801355646322952, 1.5801355646322952, 1.5801355646322952, 1.5801355646322952, 1.5801355646322952, 1.5801355646322952, 1.5801355646322952, 1.5801355646322952, 1.5801355646322952, 1.5801355646322952, 1.5801355646322952, 1.5801355646322952, 1.5801355646322952, 1.5801355646322952, 1.5801355646322952, 1.5801355646322952, 1.5801355646322952, 1.5801355646322952, 1.5801355646322952, 1.5801355646322952, 1.5801355646322952, 1.5801355646322952, 1.5801355646322952, 1.5801355646322952, 1.5801355646322952, 1.5801355646322952, 1.5801355646322952, 1.5801355646322952, 1.5801355646322952, 2.7369522771391606, 2.3325604367393624, 3.0850454147622304, 1.5801355646322952, 1.5801355646322952, 1.5801355646322952, 1.5801355646322952, 1.5801355646322952, 1.5801355646322952, 1.5801355646322952, 1.5801355646322952, 1.5801355646322952, 1.5801355646322952, 1.5801355646322952, 1.5801355646322952, 1.5801355646322952, 1.5801355646322952, 1.5801355646322952, 1.5801355646322952, 1.5801355646322952, 1.5801355646322952, 1.5801355646322952, 1.5801355646322952, 1.5801355646322952, 1.5801355646322952, 1.5801355646322952, 1.5801355646322952, 1.5801355646322952, 1.5801355646322952, 1.5801355646322952, 1.5801355646322952, 1.5801355646322952, 1.5801355646322952, 1.5801355646322952, 1.5801355646322952, 1.5801355646322952, 1.5801355646322952, 2.332538457841861, 3.0850172827875433, 2.492546535635737, 2.0908427494608333, 1.6950374672135609, 1.5801355646322952, 1.5801646490572936, 1.5801551609690254, 1.5801541810469522, 1.5801508679602672, 1.5801450156260073, 1.5801439769270391, 1.5801418167270551, 1.5801416917361135, 1.5801409557786945, 1.5801397728817608, 1.580138763530603, 1.5801375894535494, 1.5801356298668785, 1.5801356298668785, 1.5801355961118402, 1.5801355646322952, 1.5801355646322952, 1.5801355646322952, 1.5801355646322952, 2.939488587892786, 2.939488587892786, 2.939488587892786, 2.939488587892786, 2.939488587892786, 2.939488587892786, 2.939488587892786, 2.939488587892786, 2.939488587892786, 2.939488587892786, 2.939488587892786, 2.939488587892786, 2.939488587892786, 2.939488587892786, 2.939488587892786, 2.939488587892786, 2.939488587892786, 2.939488587892786, 2.939488587892786, 2.222540151647244, 2.222540151647244, 2.222540151647244, 2.2225316628845544, 1.505591715725445, 1.505591715725445, 1.505591715725445, 1.505591715725445, 1.505591715725445, 1.505591715725445, 1.505591715725445, 3.656413942648224, 1.505591715725445, 2.222549401696014, 1.505591715725445, 1.505591715725445, 3.456311988311356, 2.7974146580038113, 1.505591715725445, 3.6564797008361447, 1.505591715725445, 2.2225319754324557, 1.505591715725445, 2.3279981995478156, 2.222544214781856, 2.22254179101729, 4.227358191657942, 2.8413391121180545, 2.8413372481357126, 2.8413355372667533, 2.8413214796429505, 2.8412768719597565, 2.1483295728457645, 2.1483295728457645, 2.1483295728457645, 2.1483295728457645, 2.1483295728457645, 2.1483295728457645, 2.1483295728457645, 2.1483295728457645, 2.1483295728457645, 2.1483295728457645, 2.1483295728457645, 2.1483295728457645, 2.1483295728457645, 2.1483295728457645, 2.1483295728457645, 2.1483295728457645, 2.1483295728457645, 2.1483295728457645, 2.1483295728457645, 2.1483295728457645, 2.1483295728457645, 2.1483295728457645, 2.1483295728457645, 2.148329572768045, 5.5475028943498375, 4.227381510178853, 2.8413425473976988, 8.313942165370577, 2.8413482051940973, 4.24893306163526, 3.5343693018266005, 4.069303902905959, 2.8413771062523714, 3.45673584315885, 3.534389921726122, 2.8413649741358165, 2.841371744296664, 3.060976482492764, 2.8466262433449123, 2.841348755280339, 2.418203859226049, 2.148367409869424, 2.148365126020731, 2.148360357965102, 2.14834676474076, 2.148344637411758, 2.148343889761572, 2.1483394226818686, 4.026646104107487, 2.7064271369282356, 7.2289891694898785, 2.046332511380291, 2.0463325112017627, 2.046332510959458, 2.046332510198185, 2.046331896319837, 2.0463307972183404, 2.046330871463043, 2.046329724780632, 2.046325297355068, 2.046320234638084, 2.046320234638084, 2.046320234638084, 4.573888406563425, 1.3862252494948388, 1.3862252494948388, 1.3862252494948388, 1.3862252494948388, 1.3862252494948388, 1.3862252494948388, 1.3862252494948388, 1.3862252494948388, 1.3862252494948388, 1.3862252494948388, 1.3862252494948388, 1.3862252494517708, 1.3862252494517708, 1.3862252494517264, 6.564799324957645, 4.026649172921282, 2.706451552853565, 3.3665562899314945, 3.5845899900691522, 5.960638253198452, 2.7064418680326203, 2.0462087210300557, 2.046267858826118, 3.2116073390606323, 2.0463335534371474, 2.0463248333365844, 3.7803336878908245, 2.998771144236138, 6.006991552688856, 2.7064569241280956, 2.9987807201806436, 4.210991128952653, 3.89588955518633, 6.1941607816584785, 4.441901027897115, 3.148643402240216, 3.366552244986019, 2.4002665426454595, 2.7064432062517754, 3.4467515040165964, 2.501318160047659, 2.710160796532119, 2.0463600047430845, 2.0463393248759174, 1.929954472962803, 1.9299522930648292, 1.9299519872809163, 2.414851386194152, 4.391957019970087, 1.3073946624102384, 1.3073946624045079, 1.3073946623513784, 1.3073946621976362, 1.3073946617973138, 1.3073946614919063, 1.3073936286026018, 1.3073936286026018, 1.3073936286026018, 1.3073936286026018, 1.3073936286026018, 1.3073936286026018, 1.3073934524555484, 1.3073934524304696, 1.3073931798246203, 1.307390025524195, 1.3073899747507778, 1.3073873585947482, 1.3073873583784417, 1.3073853575174392, 1.3073853575174392, 1.3073853575174392, 1.3073853575174392, 1.3073849393425603, 1.307381226120262, 9.35178321007247, 6.239976089493493, 1.929961983135668, 3.0617818552070006, 3.15571719487868, 2.9326752004570005, 3.1750965638842885, 1.929983580754033, 4.442472711888609, 4.320194184325873, 2.3424453574835087, 1.9299794226546971, 1.822687693563704, 1.8228427395977205, 2.129663042297682, 1.8914376803739463, 1.9299144014875045, 1.6463943433343287, 1.542852833240515, 1.5397062568326214, 1.5296400917393027, 1.3758151705662078, 1.3074174570574224, 1.3074138791097487, 1.3074077451798327, 2.5169614864043495, 1.9030720961523704, 1.9030720961523704, 1.9030720961341072, 1.9030720960650462, 1.9030458828113683, 1.9030458828113683, 5.5514750009478595, 4.3586683129458725, 1.2891782309839843, 1.2891782309839843, 1.2891782309839843, 1.2891782309709927, 1.2891782307880302, 1.2891782306626405, 1.2891782296366017, 1.2891773764981518, 1.2891773764981518, 1.2891773764981518, 1.2891773764981518, 1.2891773764981518, 1.2891773764981518, 1.2891773764981518, 1.2891773764981518, 1.2891773764981518, 1.2891773764981518, 1.2891773764981518, 1.2891773764687484, 1.2891773764687484, 1.2891773764687484, 3.7447861974488226, 4.354367634757441, 2.7207553513781777, 3.1308712472776796, 1.9030688802317557, 1.898680254015295, 1.8986801842535814, 1.8986801842535814, 1.8986799203842968, 3.8675570695145094, 3.642414562702197, 5.506156198486753, 2.4387013421711097, 2.426257474861087, 2.973387204866037, 3.040621563770956, 1.9030704192599193, 1.8876129057578195, 2.355651963785156, 1.8011045632316371, 1.9030930493369342, 1.9030747452805563, 4.311184704725687, 2.4895576946114213, 2.4895567227342688, 2.4895564049982006, 2.4895564049982006, 1.8823486754742629, 1.8823480719704357, 1.8823480719704357, 1.8823477304191794, 1.8823477304191794, 1.882347247311121, 1.8823463889102574, 1.8823465517367468, 1.8823381265243027, 2.7139454727544905, 2.713909253394198, 1.2751398043006248, 1.2751398042351874, 1.2751389030652558, 1.2751389030652558, 1.2751389030652558, 1.2751389030652558, 1.2751379313703242, 1.2751379313703242, 1.2751379313703242, 1.2751379313703242, 1.2751379313703242, 1.2751379313703242, 1.2751379313703242, 1.2751379313703242, 1.2751379313703242, 4.899800476230196, 1.8823520840449672, 1.8823543502713205, 2.489623372119634, 3.062545632087131, 3.8968834068291316, 2.4895665130836293, 1.8167613152721918, 1.8064606073900311, 2.489579970131792, 2.3041523440393346, 3.020681855069988, 1.401847320473531, 1.401847320473531, 2.4895483197804555, 2.5797356787086767, 1.8823531988317501, 3.869210224336437, 3.3242497713200865, 2.23432558903653, 2.2341411691673394, 1.689373608913569, 1.6893561943574447, 2.0943046193506767, 1.1444154651309026, 1.1444154631387349, 1.1444149681266518, 1.1444131440036673, 1.1444102150150586, 1.1444102150150586, 1.1444102150150586, 1.1444102150149844, 1.1443979565131945, 1.1443926818453283, 1.1443806334981583, 1.1443503388817087, 1.126254683524758, 1.4701344091854691, 4.850113187088086, 4.537674567055507, 1.1443980815866976, 1.1444196567716305, 1.1444196567716305, 1.1444243779554168, 1.689366379494745, 1.6893832161259235, 1.1444151615171203, 2.2342961815008193, 2.1328645024691015, 2.042443154412905, 2.0397950264955615, 1.6108930892227062, 2.0710817793919536, 1.527448433401948, 1.252767333871177, 1.2540833061148953, 1.2288756302176367, 1.2054532058882332, 1.1482212690494848, 1.1444351196901177, 1.144435008557577, 1.1444270590117804], \"Term\": [\"rakyat\", \"pilih\", \"laksana\", \"rana\", \"negara\", \"tingkat\", \"parti\", \"putus\", \"malaysia\", \"raja\", \"undi\", \"ambil\", \"kena\", \"hutang\", \"mdb\", \"selesai\", \"asli\", \"tangguh\", \"projek\", \"raya\", \"bahasa\", \"rakyat malaysia\", \"dasar\", \"pelbagai\", \"laku\", \"dakwa\", \"niaga\", \"bayar\", \"ros\", \"menteri\", \"alam negara selatan\", \"negara selatan\", \"kongsi alam negara selatan\", \"alam bangun negara selatan\", \"kongsi bangun negara selatan\", \"bangun negara selatan\", \"kongsi alam negara\", \"alam bangun negara\", \"kongsi alam bangun negara\", \"sedia kongsi bangun negara\", \"sedia alam bangun negara\", \"bangun negara\", \"kongsi bangun negara\", \"sedia kongsi alam negara\", \"alam negara\", \"sedia malaysia kongsi negara\", \"bangun negara negara selatan\", \"malaysia bangun negara\", \"sedia kongsi bangun\", \"sedia malaysia bangun negara\", \"malaysia bangun negara selatan\", \"malaysia kongsi negara selatan\", \"selatan\", \"alam negara selatan selatan\", \"sedia malaysia alam negara\", \"malaysia kongsi alam negara\", \"sedia kongsi\", \"sedia kongsi alam\", \"kongsi alam bangun selatan\", \"alam negara negara selatan\", \"sedia alam bangun\", \"malaysia kongsi bangun negara\", \"kongsi negara\", \"sedia kongsi alam bangun\", \"malaysia kongsi negara\", \"sedia alam\", \"negara negara selatan\", \"malaysia alam negara selatan\", \"malaysia alam negara\", \"bangun selatan\", \"negara selatan selatan\", \"bangun negara selatan selatan\", \"kerjasama teknikal malaysia\", \"kerjasama teknikal malaysia kongsi\", \"sedia bangun\", \"urus\", \"kongsi negara negara selatan\", \"kongsi negara selatan selatan\", \"kongsi negara selatan\", \"malaysia alam bangun negara\", \"teknikal malaysia kongsi\", \"teknikal malaysia\", \"teknikal malaysia kongsi alam\", \"program kerjasama teknikal malaysia\", \"bangun\", \"sedia\", \"negara\", \"niaga\", \"kongsi\", \"malaysia\", \"alam\", \"kongsi alam\", \"malaysia kongsi\", \"malaysia kongsi alam bangun\", \"malaysia kongsi alam\", \"kongsi bangun\", \"kongsi alam bangun\", \"alam bangun\", \"negara bidang\", \"bantu negara bidang ancang\", \"negara bidang ekonomi wang\", \"negara maju bidang ekonomi\", \"bantu negara\", \"negara maju bidang ancang\", \"negara maju bidang\", \"negara maju ancang wang\", \"negara maju ancang ekonomi\", \"negara maju ancang\", \"negara bidang ekonomi\", \"negara maju ekonomi\", \"negara bidang ancang wang\", \"negara bidang ancang ekonomi\", \"negara bidang ancang\", \"negara ancang ekonomi wang\", \"negara ancang ekonomi\", \"negara ancang\", \"negara maju bidang wang\", \"negara maju\", \"bantu negara ancang\", \"bantu negara ancang ekonomi\", \"bantu negara bidang\", \"bantu negara bidang ekonomi\", \"bantu negara maju\", \"bantu negara maju ancang\", \"negara maju ekonomi wang\", \"bantu negara maju ekonomi\", \"bantu negara maju bidang\", \"ekonomi didik\", \"berita\", \"negara\", \"malaysia kongsi alam mahir\", \"main mahir\", \"main kongsi alam kawasan\", \"main kongsi alam mahir\", \"main kongsi bangun\", \"main kongsi bangun kawasan\", \"main kongsi mahir\", \"main kongsi mahir bangun\", \"main kongsi mahir kawasan\", \"main mahir bangun\", \"main kongsi alam\", \"main mahir bangun kawasan\", \"main peran\", \"main peran alam\", \"main peran alam bangun\", \"peran mahir bangun bandar\", \"peran mahir bangun kawasan\", \"main peran alam kawasan\", \"main kongsi alam bangun\", \"main kongsi\", \"main peran alam mahir\", \"mahir bangun kawasan\", \"peran mahir\", \"negara bangun kongsi\", \"peran mahir bangun\", \"mahir\", \"mahir bandar\", \"mahir bangun\", \"mahir bangun bandar\", \"mahir bangun kawasan bandar\", \"harga\", \"kelulus\", \"bangun\", \"bangun main kongsi mahir\", \"bangun bandar\", \"bangun kawasan bandar\", \"bangun kongsi\", \"bangun kongsi alam\", \"bangun kongsi alam mahir\", \"bangun main\", \"bangun main alam\", \"bangun main alam mahir\", \"bangun main kongsi\", \"bangun main kongsi alam\", \"main peran bangun\", \"bangun main peran\", \"bangun main peran kongsi\", \"bangun main peran mahir\", \"bangun malaysia alam\", \"bangun malaysia alam mahir\", \"bangun malaysia kongsi\", \"bangun malaysia kongsi alam\", \"bangun malaysia kongsi mahir\", \"bangun malaysia main\", \"bangun malaysia main alam\", \"bangun malaysia main kongsi\", \"bangun main peran alam\", \"negara bangun kongsi alam\", \"main alam mahir bangun\", \"peran alam mahir\", \"main alam mahir kawasan\", \"main alam bangun kawasan\", \"main alam mahir\", \"negara bangun main kongsi\", \"negara bangun main alam\", \"negara bangun main\", \"peran alam mahir bandar\", \"jual\", \"malaysia\", \"menteri\", \"perdana\", \"umno\", \"main alam bangun\", \"negara malaysia\", \"bandar\", \"main\", \"negara\", \"kawasan\", \"alam\", \"kawasan bandar\", \"kongsi\", \"kongsi alam\", \"peran\", \"bangun kawasan\", \"bangun malaysia\", \"negara bangun\", \"malaysia alam\", \"jual harga\", \"negara bangun malaysia\", \"negara bangun malaysia main\", \"negara bangun malaysia kongsi\", \"negara bangun malaysia alam\", \"tingkat didik proses ajar\", \"maju proses ajar\", \"proses ajar\", \"didik proses ajar\", \"maju bidang didik ajar\", \"didik ajar\", \"bidang proses ajar\", \"maju bidang proses ajar\", \"maju didik ajar\", \"bidang didik proses ajar\", \"maju didik proses ajar\", \"tingkat maju proses ajar\", \"maju bidang ajar\", \"bidang ajar\", \"tingkat maju bidang ajar\", \"tingkat maju didik ajar\", \"tingkat bidang didik ajar\", \"tingkat bidang proses ajar\", \"bidang didik ajar\", \"gembira\", \"gembira lihat\", \"gembira lihat projek\", \"kait mdb\", \"laku raja bidang proses\", \"laku maju didik\", \"laku raja bidang didik\", \"laku raja didik\", \"laku raja didik proses\", \"laku maju bidang proses\", \"laku raja maju\", \"ajar\", \"raja bidang proses\", \"proses\", \"laku raja maju bidang\", \"laku maju didik proses\", \"laku\", \"lihat\", \"laku maju bidang\", \"raja\", \"laku raja maju proses\", \"kait\", \"laku raja\", \"jalan\", \"tingkat\", \"mdb\", \"sewa\", \"giat hidup\", \"makan\", \"sukan\", \"kuok\", \"giat\", \"seri razak\", \"perdana najib\", \"perdana menteri seri najib\", \"perdana menteri seri razak\", \"perdana najib razak\", \"razak\", \"perdana menteri razak\", \"perdana razak\", \"seri najib razak\", \"perdana seri najib\", \"perdana seri najib razak\", \"perdana menteri seri\", \"menteri seri razak\", \"perdana seri razak\", \"menteri seri najib\", \"menteri razak\", \"perdana menteri najib razak\", \"menteri najib razak\", \"menteri najib\", \"najib razak\", \"menteri seri najib razak\", \"seri najib\", \"perdana menteri najib\", \"sewa projek\", \"bayar\", \"duduk\", \"hidup\", \"rana\", \"tanah\", \"asli\", \"masuk\", \"terima\", \"sokong\", \"projek\", \"menteri\", \"perdana\", \"jual\", \"malaysia\", \"parti\", \"raja\", \"masyarakat\", \"rumah\", \"hasil\", \"sumbang\", \"perdana menteri\", \"najib\", \"seri\", \"menteri seri\", \"kapal\", \"tahan\", \"putus\", \"laku jemaah menteri\", \"strategi\", \"daftar ph\", \"bincang\", \"bank\", \"undang\", \"bon\", \"laku menteri\", \"ambil putus\", \"low kapal\", \"jho kapal\", \"jho low kapal\", \"tindak\", \"timbang wajar tulis nyata\", \"timbang wajar tulis\", \"wajar tulis nyata\", \"wajar tulis\", \"wajar nyata\", \"timbang tulis\", \"tulis nyata\", \"timbang tulis nyata\", \"timbang wajar\", \"timbang wajar nyata\", \"timbang nyata\", \"dana seleweng\", \"seleweng\", \"jawat awam\", \"ambil\", \"milik\", \"jawat\", \"ph\", \"kerja\", \"kena\", \"awam\", \"peringkat\", \"langkah\", \"dana\", \"jemaah menteri\", \"tanding\", \"syarikat\", \"jho\", \"raja\", \"daftar\", \"low\", \"laku\", \"nyata\", \"negara\", \"menteri\", \"dakwa\", \"wang\", \"jho low\", \"isu\", \"malaysia\", \"jual\", \"parti\", \"ahli\", \"pas\", \"pesawat\", \"masyarakat asli\", \"pimpin negara\", \"hilang\", \"rakyat malaysia\", \"teras\", \"komitmen\", \"bangun masyarakat\", \"sedia tingkat\", \"gabung\", \"pulang\", \"serius negeri\", \"rakyat serius pimpin\", \"serius pimpin negeri\", \"rakyat serius\", \"pimpin negeri\", \"serius pimpin\", \"sedia mudah\", \"rumah sedia\", \"tingkat tingkat\", \"harga tingkat\", \"sebahagian\", \"airasia jual\", \"syarikat terbang\", \"rakyat malaysia pimpin negara\", \"rakyat malaysia pimpin\", \"malaysia pimpin negara\", \"malaysia pimpin\", \"putrajaya\", \"layan\", \"rakyat\", \"tingkat\", \"airasia\", \"mudah\", \"asli\", \"masyarakat\", \"projek\", \"kembang\", \"malaysia\", \"negara\", \"pimpin\", \"ajar\", \"kait\", \"sumber\", \"bangun\", \"sedia\", \"kena\", \"pas\", \"dasar\", \"syarikat\", \"lihat\", \"parti\", \"rumah\", \"serius\", \"antarabangsa\", \"umno tangguh\", \"lembaga umno\", \"fasal lembaga umno\", \"parti lembaga\", \"umno pilih\", \"maklumat\", \"kongsi maklumat\", \"undi\", \"pelbagai\", \"ros tangguh pilih\", \"ros tangguh\", \"ros pilih\", \"jalan faktor\", \"pengaruh\", \"kongsi pelbagai\", \"suara\", \"parti umno\", \"parti fasal lembaga umno\", \"fasal umno\", \"fasal\", \"tangguh parti fasal lembaga\", \"fasal lembaga\", \"tangguh parti fasal\", \"parti fasal umno\", \"parti lembaga umno\", \"parti fasal\", \"parti fasal lembaga\", \"tangguh pilih parti lembaga\", \"tangguh pilih lembaga\", \"pilih parti lembaga\", \"ros\", \"tangguh\", \"cina\", \"nilai\", \"percaya\", \"tangguh parti\", \"tangguh pilih parti\", \"pilih parti\", \"tangguh pilih\", \"pilih\", \"umno\", \"parti\", \"lembaga\", \"politik\", \"dasar\", \"jalan\", \"lancar\", \"kali\", \"kongsi\", \"islam\", \"isu\", \"alam\", \"bahasa\", \"bahasa ilmu\", \"ilmu\", \"wang hutang hutang\", \"hutang hutang\", \"hutang pendek\", \"allahyarham nik\", \"nik\", \"bahasa inggeris\", \"inggeris\", \"hutang mdb\", \"bahasa bahasa\", \"ilmu bahasa\", \"takut\", \"tinggal\", \"air\", \"insya\", \"malaysia niaga\", \"mdb hutang pendek\", \"mdb hutang\", \"pendek\", \"selesai tempoh\", \"nik aziz\", \"guru\", \"guru aziz\", \"guru nik\", \"aziz\", \"guru nik aziz\", \"allahyarham\", \"allahyarham aziz\", \"allahyarham nik aziz\", \"hutang\", \"tempoh hutang\", \"wang hutang\", \"tumbuh\", \"selesai\", \"mdb\", \"tuju\", \"tempoh\", \"capai\", \"niaga\", \"laksana\", \"malaysia\", \"air bersih\", \"bersih\", \"rakyat\", \"rana\", \"raja\", \"raya\", \"pilih raya\", \"catat\", \"majlis\", \"gambar\", \"hutang projek\", \"nhrap\", \"silap\", \"sasar\", \"kwsp dakwa\", \"komprehensif\", \"awam laksana\", \"awam nhrap\", \"awam laksana nhrap\", \"hadap laksana\", \"pergi\", \"parti jppm\", \"saja\", \"taraf\", \"sarawak\", \"laksana nhrap\", \"pilih\", \"laksana\", \"luas\", \"pesara\", \"pesara tentera\", \"rujuk\", \"buah\", \"jppm\", \"faktor\", \"selesai\", \"dakwa\", \"dasar\", \"lihat\", \"hadap\", \"malaysia\", \"parti\", \"wujud\", \"ahli\", \"ambil\", \"projek\", \"tangguh\", \"didik\", \"kwsp\", \"kaji\"], \"Total\": [14.0, 9.0, 8.0, 16.0, 27.0, 10.0, 16.0, 9.0, 25.0, 16.0, 7.0, 9.0, 11.0, 7.0, 12.0, 7.0, 7.0, 6.0, 9.0, 4.0, 4.0, 6.0, 7.0, 6.0, 12.0, 7.0, 9.0, 7.0, 5.0, 15.0, 7.809498221790238, 7.809498221790238, 7.809498221790238, 7.809498221790238, 7.809498221790238, 7.809498221790238, 6.030100923792126, 6.030100923792126, 6.030100923792126, 6.030100923792126, 6.030100923792126, 6.030100923792126, 6.030100923792126, 6.030100923792126, 6.030100923792126, 4.250703625793855, 4.250703625793855, 4.250703625793855, 4.250703625793855, 4.250703625793855, 4.250703625793855, 4.250703625793855, 4.250703625793855, 4.250703625793855, 4.250703625793855, 4.250703625793855, 4.250703625793855, 4.250703625793855, 4.250703625793855, 4.250703625793855, 4.250703625793855, 4.250703625793855, 4.250703625793855, 4.250703625793855, 4.250703625793855, 4.250703625793855, 4.250703625793855, 4.250703625793855, 4.250703625793855, 4.250703625793855, 4.250703625793855, 4.250703625793855, 4.250703625793855, 4.250703625793855, 4.250703625793855, 8.890203790195182, 4.250703625793855, 4.250703625793855, 4.250703625793855, 4.250703625793855, 4.250703625793855, 4.250703625793855, 4.250703625793855, 4.250703625793855, 14.101439453747581, 8.835470174957413, 27.190310348824788, 9.648248547097882, 8.976656707852184, 25.795641196479302, 8.912859486645099, 7.062500627682224, 5.755594650222145, 5.755594650222145, 5.755594650222145, 5.755594650222145, 5.755594650222145, 5.755594650222145, 4.783151255424186, 3.9649028103251442, 3.9649028103251442, 3.9649028103251442, 3.9649028103251442, 3.9649028103251442, 3.9649028103251442, 3.9649028103251442, 3.9649028103251442, 3.9649028103251442, 3.9649028103251442, 3.9649028103251442, 3.9649028103251442, 3.9649028103251442, 3.9649028103251442, 3.9649028103251442, 3.9649028103251442, 3.9649028103251442, 3.9649028103251442, 3.9649028103251442, 3.9649028103251442, 3.9649028103251442, 3.9649028103251442, 3.9649028103251442, 3.9649028103251442, 3.9649028103251442, 3.9649028103251442, 3.9649028103251442, 3.9649028103251442, 2.3284059200619476, 4.657900528572356, 27.190310348824788, 2.196800043774135, 2.196800043774135, 2.196800043774135, 2.196800043774135, 2.196800043774135, 2.196800043774135, 2.196800043774135, 2.196800043774135, 2.196800043774135, 2.196800043774135, 2.196800043774135, 2.196800043774135, 2.196800043774135, 2.196800043774135, 2.196800043774135, 2.196800043774135, 2.196800043774135, 2.196800043774135, 2.196800043774135, 2.196800043774135, 2.196800043774135, 2.196800043774135, 2.196800043774135, 2.196800043774135, 2.196800043774135, 2.196800043774135, 2.196800043774135, 2.196800043774135, 2.196800043774135, 2.196800043774135, 5.799362831151925, 5.351199740419285, 14.101439453747581, 2.196800043774135, 2.196800043774135, 2.196800043774135, 2.196800043774135, 2.196800043774135, 2.196800043774135, 2.196800043774135, 2.196800043774135, 2.196800043774135, 2.196800043774135, 2.196800043774135, 2.196800043774135, 2.196800043774135, 2.196800043774135, 2.196800043774135, 2.196800043774135, 2.196800043774135, 2.196800043774135, 2.196800043774135, 2.196800043774135, 2.196800043774135, 2.196800043774135, 2.196800043774135, 2.196800043774135, 2.196800043774135, 2.196800043774135, 2.196800043774135, 2.196800043774135, 2.196800043774135, 2.196800043774135, 2.196800043774135, 2.196800043774135, 2.196800043774135, 2.196800043774135, 8.972612937551528, 25.795641196479302, 15.371801370119112, 8.839220551262649, 8.571023086510557, 2.196800043774135, 4.353704070162485, 4.0419829558734195, 4.865881812723969, 27.190310348824788, 3.348971113953965, 8.912859486645099, 2.804010681440794, 8.976656707852184, 7.062500627682224, 2.889809915819793, 2.7417606716116234, 2.8898097433730423, 3.9761973298628055, 3.9761973298628055, 2.819368936246927, 2.196800043774135, 2.196800043774135, 2.196800043774135, 2.196800043774135, 3.5597027741292098, 3.5597027741292098, 3.5597027741292098, 3.5597027741292098, 3.5597027741292098, 3.5597027741292098, 3.5597027741292098, 3.5597027741292098, 3.5597027741292098, 3.5597027741292098, 3.5597027741292098, 3.5597027741292098, 3.5597027741292098, 3.5597027741292098, 3.5597027741292098, 3.5597027741292098, 3.5597027741292098, 3.5597027741292098, 3.5597027741292098, 2.8427543380336115, 2.8427543380336115, 2.8427543380336115, 2.842753665024273, 2.125805901966021, 2.125805901966021, 2.125805901966021, 2.125805901966021, 2.125805901966021, 2.125805901966021, 2.125805901966021, 6.144355084201656, 2.125805901966021, 4.763666082066173, 2.125805901966021, 2.125805901966021, 12.549082193903082, 8.290857190837809, 2.125805901966021, 16.670323170503845, 2.125805901966021, 5.322860584344869, 2.125805901966021, 8.563171530920977, 10.267524856955585, 12.211701737427553, 4.849966267867329, 3.4639471884981052, 3.4639467903315824, 3.463947365533181, 3.463943970573608, 3.463939008058924, 2.770937648838928, 2.770937648838928, 2.770937648838928, 2.770937648838928, 2.770937648838928, 2.770937648838928, 2.770937648838928, 2.770937648838928, 2.770937648838928, 2.770937648838928, 2.770937648838928, 2.770937648838928, 2.770937648838928, 2.770937648838928, 2.770937648838928, 2.770937648838928, 2.770937648838928, 2.770937648838928, 2.770937648838928, 2.770937648838928, 2.770937648838928, 2.770937648838928, 2.770937648838928, 2.77093764883495, 7.426971353133718, 5.6681891097596795, 4.008907668103862, 16.930470741751517, 4.077842622462348, 7.9650040539897295, 6.5357034674781405, 13.164164184062777, 5.6363071205972215, 9.777035814523208, 15.371801370119112, 8.839220551262649, 8.972612937551528, 25.795641196479302, 16.46105897151391, 16.670323170503845, 7.235353407783751, 6.039380483980138, 4.341606109500222, 4.8510871163311755, 6.7366027579393215, 4.204834000472057, 4.900438484595317, 4.183490208424116, 4.652554679612742, 3.3323379285358237, 9.407498129700093, 2.6722308154302956, 2.672230815430499, 2.672230815430848, 2.672230815431932, 2.672230962725555, 2.672230900849674, 2.672231319117696, 2.672231482978846, 2.6722314365689326, 2.6722341995365975, 2.6722341995365975, 2.6722341995365975, 6.080894137047064, 2.0121235535561364, 2.0121235535561364, 2.0121235535561364, 2.0121235535561364, 2.0121235535561364, 2.0121235535561364, 2.0121235535561364, 2.0121235535561364, 2.0121235535561364, 2.0121235535561364, 2.0121235535561364, 2.012123553556184, 2.012123553556184, 2.012123553556173, 9.586162156478709, 6.038573044915303, 4.0847819363387154, 5.222224868140633, 5.831547645039411, 11.11114399646461, 4.422259591147044, 3.2861198517909314, 3.2947994281651325, 6.025947235446316, 3.3652403031599722, 3.3652397972942953, 7.962711779478554, 5.899757908368369, 16.670323170503845, 5.192876472131285, 6.652198884223965, 12.549082193903082, 10.971396941676197, 27.190310348824788, 15.371801370119112, 7.768412570662865, 10.35029409633709, 5.218224509675417, 8.873888153175756, 25.795641196479302, 8.972612937551528, 16.46105897151391, 7.031536472229947, 5.842887921608903, 2.5596162381084717, 2.5596171358273807, 2.559616734930838, 3.2254494367102016, 6.260804206748949, 1.9370468038290793, 1.9370468038294784, 1.937046803833181, 1.9370468038439332, 1.9370468038719038, 1.9370468038932203, 1.9370469605166085, 1.9370469605166085, 1.9370469605166085, 1.9370469605166085, 1.9370469605166085, 1.9370469605166085, 1.9370467739856323, 1.9370467739873842, 1.9370467831952531, 1.9370477710036138, 1.9370477816875766, 1.9370472442212587, 1.9370472442363706, 1.9370476442375126, 1.9370476442375126, 1.9370476442375126, 1.9370476442375126, 1.9370473901256882, 1.9370481520169074, 14.476686712111288, 10.267524856955585, 3.1045760800113475, 6.2177523561868915, 7.9650040539897295, 7.235353407783751, 9.777035814523208, 4.037964474481124, 25.795641196479302, 27.190310348824788, 7.483944068674606, 6.144355084201656, 5.322860584344869, 5.819623388660495, 14.101439453747581, 8.835470174957413, 11.11114399646461, 5.842887921608903, 7.8846690279062095, 7.962711779478554, 8.290857190837809, 16.46105897151391, 6.039380483980138, 3.448300115639888, 2.6894895812955295, 3.147487794943327, 2.533592243601875, 2.533592243601875, 2.533592243603474, 2.533592243609515, 2.5335944703105975, 2.5335944703105975, 7.516793323604018, 6.271846924511453, 1.9196978215279004, 1.9196978215279004, 1.9196978215279004, 1.919697821529041, 1.919697821545046, 1.9196978215559823, 1.9196978216454994, 1.919697863761249, 1.919697863761249, 1.919697863761249, 1.919697863761249, 1.919697863761249, 1.919697863761249, 1.919697863761249, 1.919697863761249, 1.919697863761249, 1.919697863761249, 1.919697863761249, 1.9196978637638213, 1.9196978637638213, 1.9196978637638213, 5.62041310643296, 6.701177529545117, 4.2602928362224315, 5.551482006927584, 3.0785541650836414, 3.078058825769088, 3.0780588179391564, 3.0780588179391564, 3.078058788322929, 9.29370487122998, 8.571023086510557, 16.46105897151391, 4.96662431533998, 5.091554122977958, 7.8846690279062095, 8.563171530920977, 3.96748946006959, 4.939672285324194, 8.976656707852184, 4.907610349939311, 8.873888153175756, 8.912859486645099, 4.942375444896707, 3.1207470907641586, 3.120747428529332, 3.120747538995613, 3.120747538995613, 2.513537516868753, 2.513537423638622, 2.513537423638622, 2.5135373603662226, 2.5135373603662226, 2.51353711853734, 2.5135378265924246, 2.5135382549477074, 2.5135381031172193, 3.7376405566244415, 3.737643207791121, 1.9063278914910096, 1.9063278914977164, 1.90632820475232, 1.90632820475232, 1.90632820475232, 1.90632820475232, 1.9063280546520773, 1.9063280546520773, 1.9063280546520773, 1.9063280546520773, 1.9063280546520773, 1.9063280546520773, 1.9063280546520773, 1.9063280546520773, 1.9063280546520773, 7.455533670639288, 3.058497360017945, 3.2065467832066807, 5.509670253109682, 7.998737367868993, 12.211701737427553, 5.929647597077605, 4.287009838131837, 4.347784971992046, 9.648248547097882, 8.988026047894907, 25.795641196479302, 2.5256916418538835, 2.5256916418538835, 14.476686712111288, 16.930470741751517, 16.670323170503845, 4.5066282464506315, 3.961668678462644, 2.8717494614357157, 2.871773928069925, 2.326788702127975, 2.3267934331504723, 2.925062098685065, 1.781828521297105, 1.781828521794783, 1.7818288357140766, 1.7818288518494203, 1.7818301782536285, 1.7818301782536285, 1.7818301782536285, 1.7818301782536528, 1.7818313227242872, 1.7818338465641332, 1.7818325002411175, 1.781837426348066, 1.7856658118812025, 2.410260818773856, 9.29370487122998, 8.988026047894907, 2.395728644937182, 2.474836922227156, 2.474836922227156, 2.6715132017947054, 4.243957378758037, 4.260897850271619, 3.0096173513829507, 7.998737367868993, 7.768412570662865, 7.8846690279062095, 8.290857190837809, 8.308513327378758, 25.795641196479302, 16.46105897151391, 6.604681909631351, 7.031536472229947, 9.586162156478709, 9.777035814523208, 6.701177529545117, 6.082005313586612, 3.134940266550444, 3.702737485857864], \"loglift\": [30.0, 29.0, 28.0, 27.0, 26.0, 25.0, 24.0, 23.0, 22.0, 21.0, 20.0, 19.0, 18.0, 17.0, 16.0, 15.0, 14.0, 13.0, 12.0, 11.0, 10.0, 9.0, 8.0, 7.0, 6.0, 5.0, 4.0, 3.0, 2.0, 1.0, 1.2201, 1.2201, 1.2201, 1.2201, 1.2201, 1.2201, 1.1951, 1.1951, 1.1951, 1.1951, 1.1951, 1.1951, 1.1951, 1.1951, 1.1951, 1.1475, 1.1475, 1.1475, 1.1475, 1.1475, 1.1475, 1.1475, 1.1475, 1.1475, 1.1475, 1.1475, 1.1475, 1.1475, 1.1475, 1.1475, 1.1475, 1.1475, 1.1475, 1.1475, 1.1475, 1.1475, 1.1475, 1.1475, 1.1475, 1.1475, 1.1475, 1.1475, 1.1475, 1.1475, 1.1475, 0.9384, 1.1475, 1.1475, 1.1475, 1.1475, 1.1475, 1.1475, 1.1475, 1.1475, 0.3456, 0.6341, -0.1889, 0.5461, 0.4621, -0.5962, 0.4071, 0.6398, 0.8444, 0.8444, 0.8444, 0.8444, 0.8444, 0.8444, 1.7215, 1.6908, 1.6908, 1.6908, 1.6908, 1.6908, 1.6908, 1.6908, 1.6908, 1.6908, 1.6908, 1.6908, 1.6908, 1.6908, 1.6908, 1.6908, 1.6908, 1.6908, 1.6908, 1.6908, 1.6908, 1.6908, 1.6908, 1.6908, 1.6908, 1.6908, 1.6908, 1.6908, 1.6908, 1.5541, 1.5297, 0.4298, 1.9383, 1.9383, 1.9383, 1.9383, 1.9383, 1.9383, 1.9383, 1.9383, 1.9383, 1.9383, 1.9383, 1.9383, 1.9383, 1.9383, 1.9383, 1.9383, 1.9383, 1.9383, 1.9383, 1.9383, 1.9383, 1.9383, 1.9383, 1.9383, 1.9383, 1.9383, 1.9383, 1.9383, 1.9383, 1.9383, 1.5169, 1.4375, 0.7481, 1.9383, 1.9383, 1.9383, 1.9383, 1.9383, 1.9383, 1.9383, 1.9383, 1.9383, 1.9383, 1.9383, 1.9383, 1.9383, 1.9383, 1.9383, 1.9383, 1.9383, 1.9383, 1.9383, 1.9383, 1.9383, 1.9383, 1.9383, 1.9383, 1.9383, 1.9383, 1.9383, 1.9383, 1.9383, 1.9383, 1.9383, 1.9383, 1.9383, 1.9383, 0.9206, 0.1442, 0.4486, 0.8262, 0.6472, 1.9383, 1.2543, 1.3286, 1.1431, -0.5775, 1.5167, 0.5379, 1.6943, 0.5307, 0.7706, 1.6642, 1.7167, 1.6642, 1.345, 1.345, 1.6888, 1.9383, 1.9383, 1.9383, 1.9383, 2.2538, 2.2538, 2.2538, 2.2538, 2.2538, 2.2538, 2.2538, 2.2538, 2.2538, 2.2538, 2.2538, 2.2538, 2.2538, 2.2538, 2.2538, 2.2538, 2.2538, 2.2538, 2.2538, 2.1991, 2.1991, 2.1991, 2.1991, 2.1003, 2.1003, 2.1003, 2.1003, 2.1003, 2.1003, 2.1003, 1.9262, 2.1003, 1.6829, 2.1003, 2.1003, 1.1558, 1.3588, 2.1003, 0.9281, 2.1003, 1.5719, 2.1003, 1.1428, 0.9149, 0.7415, 2.3185, 2.2578, 2.2578, 2.2578, 2.2578, 2.2578, 2.2014, 2.2014, 2.2014, 2.2014, 2.2014, 2.2014, 2.2014, 2.2014, 2.2014, 2.2014, 2.2014, 2.2014, 2.2014, 2.2014, 2.2014, 2.2014, 2.2014, 2.2014, 2.2014, 2.2014, 2.2014, 2.2014, 2.2014, 2.2014, 2.1641, 2.1626, 2.1117, 1.7447, 2.0946, 1.8275, 1.8412, 1.2819, 1.771, 1.4162, 0.9859, 1.321, 1.306, 0.3244, 0.701, 0.6866, 1.36, 1.4223, 1.7524, 1.6414, 1.3131, 1.7844, 1.6313, 1.7895, 2.4149, 2.3513, 2.296, 2.2925, 2.2925, 2.2925, 2.2925, 2.2925, 2.2925, 2.2925, 2.2925, 2.2925, 2.2925, 2.2925, 2.2925, 2.2746, 2.1868, 2.1868, 2.1868, 2.1868, 2.1868, 2.1868, 2.1868, 2.1868, 2.1868, 2.1868, 2.1868, 2.1868, 2.1868, 2.1868, 2.1808, 2.1541, 2.1477, 2.1203, 2.0727, 1.9366, 2.0684, 2.0857, 2.083, 1.9301, 2.0619, 2.0619, 1.8144, 1.8827, 1.5387, 1.9077, 1.7626, 1.4674, 1.524, 1.0801, 1.3179, 1.6563, 1.4362, 1.7828, 1.3719, 0.5466, 1.282, 0.7554, 1.325, 1.5102, 2.4955, 2.4955, 2.4955, 2.4885, 2.4234, 2.3848, 2.3848, 2.3848, 2.3848, 2.3848, 2.3848, 2.3848, 2.3848, 2.3848, 2.3848, 2.3848, 2.3848, 2.3848, 2.3848, 2.3848, 2.3848, 2.3848, 2.3848, 2.3848, 2.3848, 2.3848, 2.3848, 2.3848, 2.3848, 2.3848, 2.3409, 2.2799, 2.3025, 2.0695, 1.8521, 1.8748, 1.6532, 2.0397, 1.0189, 0.9383, 1.6163, 1.6199, 1.7062, 1.6171, 0.8876, 1.2365, 1.0274, 1.5113, 1.1466, 1.1347, 1.0878, 0.296, 1.2477, 1.8081, 2.0566, 2.6191, 2.5565, 2.5565, 2.5565, 2.5565, 2.5565, 2.5565, 2.5396, 2.4787, 2.4445, 2.4445, 2.4445, 2.4445, 2.4445, 2.4445, 2.4445, 2.4445, 2.4445, 2.4445, 2.4445, 2.4445, 2.4445, 2.4445, 2.4445, 2.4445, 2.4445, 2.4445, 2.4445, 2.4445, 2.4445, 2.4366, 2.4115, 2.3942, 2.2699, 2.3617, 2.3595, 2.3595, 2.3595, 2.3595, 1.9659, 1.9869, 1.7475, 2.1314, 2.1014, 1.8674, 1.8072, 2.108, 1.8807, 1.5048, 1.8403, 1.303, 1.2986, 2.7766, 2.6873, 2.6873, 2.6873, 2.6873, 2.6241, 2.6241, 2.6241, 2.6241, 2.6241, 2.6241, 2.6241, 2.6241, 2.6241, 2.5932, 2.5932, 2.5111, 2.5111, 2.5111, 2.5111, 2.5111, 2.5111, 2.5111, 2.5111, 2.5111, 2.5111, 2.5111, 2.5111, 2.5111, 2.5111, 2.5111, 2.4935, 2.4279, 2.3806, 2.1189, 1.9532, 1.771, 2.0454, 2.0547, 2.035, 1.5586, 1.5521, 0.7685, 2.3245, 2.3245, 1.1528, 1.0318, 0.7322, 2.9829, 2.96, 2.8844, 2.8843, 2.8152, 2.8152, 2.8013, 2.6926, 2.6926, 2.6926, 2.6926, 2.6926, 2.6926, 2.6926, 2.6926, 2.6926, 2.6926, 2.6926, 2.6926, 2.6745, 2.641, 2.485, 2.4519, 2.3966, 2.3641, 2.3641, 2.2876, 2.2142, 2.2103, 2.1685, 1.86, 1.8428, 1.7846, 1.7331, 1.4949, 0.6132, 0.758, 1.473, 1.4114, 1.0812, 1.0422, 1.3713, 1.465, 2.1277, 1.9612], \"logprob\": [30.0, 29.0, 28.0, 27.0, 26.0, 25.0, 24.0, 23.0, 22.0, 21.0, 20.0, 19.0, 18.0, 17.0, 16.0, 15.0, 14.0, 13.0, 12.0, 11.0, 10.0, 9.0, 8.0, 7.0, 6.0, 5.0, 4.0, 3.0, 2.0, 1.0, -5.3631, -5.3631, -5.3631, -5.3631, -5.3631, -5.3631, -5.6466, -5.6466, -5.6466, -5.6466, -5.6466, -5.6466, -5.6466, -5.6466, -5.6466, -6.0439, -6.0439, -6.0439, -6.0439, -6.0439, -6.0439, -6.0439, -6.0439, -6.0439, -6.0439, -6.0439, -6.0439, -6.0439, -6.0439, -6.0439, -6.0439, -6.0439, -6.0439, -6.0439, -6.0439, -6.0439, -6.0439, -6.0439, -6.0439, -6.0439, -6.0439, -6.0439, -6.0439, -6.0439, -6.0439, -5.5152, -6.0439, -6.0439, -6.0439, -6.0439, -6.0439, -6.0439, -6.0439, -6.0439, -5.6466, -5.8257, -5.5246, -5.8257, -5.9818, -5.9845, -6.0439, -6.0439, -6.0439, -6.0439, -6.0439, -6.0439, -6.0439, -6.0439, -5.352, -5.5702, -5.5702, -5.5702, -5.5702, -5.5702, -5.5702, -5.5702, -5.5702, -5.5702, -5.5702, -5.5702, -5.5702, -5.5702, -5.5702, -5.5702, -5.5702, -5.5702, -5.5702, -5.5702, -5.5702, -5.5702, -5.5702, -5.5702, -5.5702, -5.5702, -5.5702, -5.5702, -5.5702, -6.2393, -5.5702, -4.9059, -5.9132, -5.9132, -5.9132, -5.9132, -5.9132, -5.9132, -5.9132, -5.9132, -5.9132, -5.9132, -5.9132, -5.9132, -5.9132, -5.9132, -5.9132, -5.9132, -5.9132, -5.9132, -5.9132, -5.9132, -5.9132, -5.9132, -5.9132, -5.9132, -5.9132, -5.9132, -5.9132, -5.9132, -5.9132, -5.9132, -5.3638, -5.5237, -5.2441, -5.9132, -5.9132, -5.9132, -5.9132, -5.9132, -5.9132, -5.9132, -5.9132, -5.9132, -5.9132, -5.9132, -5.9132, -5.9132, -5.9132, -5.9132, -5.9132, -5.9132, -5.9132, -5.9132, -5.9132, -5.9132, -5.9132, -5.9132, -5.9132, -5.9132, -5.9132, -5.9132, -5.9132, -5.9132, -5.9132, -5.9132, -5.9132, -5.9132, -5.9132, -5.5237, -5.2441, -5.4574, -5.6331, -5.843, -5.9132, -5.9132, -5.9132, -5.9132, -5.9132, -5.9132, -5.9132, -5.9132, -5.9132, -5.9132, -5.9132, -5.9132, -5.9132, -5.9132, -5.9132, -5.9132, -5.9132, -5.9132, -5.9132, -5.9132, -5.115, -5.115, -5.115, -5.115, -5.115, -5.115, -5.115, -5.115, -5.115, -5.115, -5.115, -5.115, -5.115, -5.115, -5.115, -5.115, -5.115, -5.115, -5.115, -5.3946, -5.3946, -5.3946, -5.3946, -5.7841, -5.7841, -5.7841, -5.7841, -5.7841, -5.7841, -5.7841, -4.8968, -5.7841, -5.3946, -5.7841, -5.7841, -4.9531, -5.1646, -5.7841, -4.8968, -5.7841, -5.3946, -5.7841, -5.3483, -5.3946, -5.3946, -4.741, -5.1383, -5.1383, -5.1383, -5.1383, -5.1384, -5.4179, -5.4179, -5.4179, -5.4179, -5.4179, -5.4179, -5.4179, -5.4179, -5.4179, -5.4179, -5.4179, -5.4179, -5.4179, -5.4179, -5.4179, -5.4179, -5.4179, -5.4179, -5.4179, -5.4179, -5.4179, -5.4179, -5.4179, -5.4179, -4.4693, -4.741, -5.1383, -4.0647, -5.1383, -4.7359, -4.9201, -4.7791, -5.1383, -4.9423, -4.9201, -5.1383, -5.1383, -5.0639, -5.1365, -5.1383, -5.2996, -5.4179, -5.4179, -5.4179, -5.4179, -5.4179, -5.4179, -5.4179, -4.6862, -5.0835, -4.1011, -5.3631, -5.3631, -5.3631, -5.3631, -5.3631, -5.3631, -5.3631, -5.3631, -5.3631, -5.3631, -5.3631, -5.3631, -4.5588, -5.7526, -5.7526, -5.7526, -5.7526, -5.7526, -5.7526, -5.7526, -5.7526, -5.7526, -5.7526, -5.7526, -5.7526, -5.7526, -5.7526, -4.1974, -4.6862, -5.0835, -4.8653, -4.8025, -4.294, -5.0835, -5.3632, -5.3631, -4.9124, -5.3631, -5.3631, -4.7493, -4.9809, -4.2862, -5.0835, -4.9809, -4.6415, -4.7192, -4.2555, -4.5881, -4.9322, -4.8653, -5.2036, -5.0835, -4.8417, -5.1623, -5.0821, -5.3631, -5.3631, -5.2031, -5.2031, -5.2031, -4.979, -4.3808, -5.5926, -5.5926, -5.5926, -5.5926, -5.5926, -5.5926, -5.5926, -5.5926, -5.5926, -5.5926, -5.5926, -5.5926, -5.5926, -5.5926, -5.5926, -5.5926, -5.5926, -5.5926, -5.5926, -5.5926, -5.5926, -5.5926, -5.5926, -5.5926, -5.5926, -3.6251, -4.0296, -5.2031, -4.7416, -4.7114, -4.7847, -4.7053, -5.2031, -4.3694, -4.3973, -5.0094, -5.2031, -5.2603, -5.2602, -5.1047, -5.2233, -5.2031, -5.362, -5.427, -5.429, -5.4356, -5.5416, -5.5926, -5.5926, -5.5926, -4.8728, -5.1524, -5.1524, -5.1524, -5.1524, -5.1524, -5.1524, -4.0818, -4.3237, -5.5419, -5.5419, -5.5419, -5.5419, -5.5419, -5.5419, -5.5419, -5.5419, -5.5419, -5.5419, -5.5419, -5.5419, -5.5419, -5.5419, -5.5419, -5.5419, -5.5419, -5.5419, -5.5419, -5.5419, -5.5419, -4.4755, -4.3247, -4.795, -4.6546, -5.1524, -5.1547, -5.1547, -5.1547, -5.1547, -4.4433, -4.5032, -4.09, -4.9044, -4.9095, -4.7062, -4.6838, -5.1524, -5.1606, -4.9391, -5.2075, -5.1524, -5.1524, -4.264, -4.8132, -4.8132, -4.8132, -4.8132, -5.0927, -5.0927, -5.0927, -5.0927, -5.0927, -5.0927, -5.0927, -5.0927, -5.0927, -4.7269, -4.7269, -5.4822, -5.4822, -5.4822, -5.4822, -5.4822, -5.4822, -5.4822, -5.4822, -5.4822, -5.4822, -5.4822, -5.4822, -5.4822, -5.4822, -5.4822, -4.1361, -5.0927, -5.0927, -4.8131, -4.606, -4.3651, -4.8132, -5.1282, -5.1339, -4.8131, -4.8905, -4.6198, -5.3875, -5.3875, -4.8132, -4.7776, -5.0927, -4.1501, -4.3019, -4.6992, -4.6993, -4.9788, -4.9788, -4.7639, -5.3683, -5.3683, -5.3683, -5.3683, -5.3683, -5.3683, -5.3683, -5.3683, -5.3683, -5.3683, -5.3683, -5.3683, -5.3843, -5.1178, -3.9241, -3.9907, -5.3683, -5.3683, -5.3683, -5.3682, -4.9788, -4.9788, -5.3683, -4.6992, -4.7457, -4.789, -4.7903, -5.0264, -4.7751, -5.0795, -5.2778, -5.2767, -5.297, -5.3163, -5.3649, -5.3682, -5.3682, -5.3682]}, \"token.table\": {\"Topic\": [2, 6, 7, 9, 10, 9, 7, 9, 7, 10, 7, 4, 7, 1, 3, 5, 7, 8, 1, 3, 1, 1, 1, 1, 1, 1, 9, 9, 9, 9, 6, 8, 9, 10, 6, 3, 7, 5, 7, 6, 10, 10, 10, 10, 9, 9, 9, 9, 9, 3, 5, 9, 10, 1, 3, 5, 7, 10, 3, 3, 10, 3, 3, 3, 3, 3, 3, 3, 3, 3, 3, 3, 3, 3, 3, 3, 5, 3, 3, 3, 3, 3, 3, 3, 3, 7, 1, 1, 1, 1, 1, 6, 2, 2, 2, 2, 2, 2, 2, 2, 2, 2, 5, 6, 10, 2, 5, 7, 9, 4, 4, 4, 4, 6, 6, 6, 7, 10, 6, 7, 9, 10, 10, 8, 10, 5, 6, 7, 10, 6, 1, 6, 8, 10, 1, 6, 10, 6, 6, 7, 8, 10, 2, 4, 7, 9, 10, 4, 4, 2, 5, 2, 8, 10, 8, 8, 8, 8, 7, 10, 4, 4, 4, 5, 5, 9, 9, 9, 9, 2, 4, 5, 6, 8, 10, 10, 2, 3, 4, 7, 7, 2, 3, 5, 5, 10, 7, 5, 9, 10, 9, 9, 9, 10, 9, 9, 9, 9, 6, 7, 8, 10, 2, 6, 7, 8, 4, 5, 6, 7, 8, 8, 3, 6, 6, 5, 6, 1, 6, 6, 1, 6, 6, 6, 8, 10, 3, 5, 6, 7, 3, 7, 4, 7, 8, 4, 5, 8, 10, 1, 2, 5, 8, 6, 3, 9, 10, 3, 9, 1, 3, 7, 2, 6, 7, 5, 6, 7, 8, 6, 9, 1, 1, 7, 10, 1, 3, 5, 8, 1, 3, 5, 8, 1, 3, 1, 1, 1, 1, 1, 3, 1, 1, 8, 1, 1, 1, 1, 8, 5, 5, 6, 10, 10, 2, 5, 9, 10, 10, 4, 5, 6, 7, 9, 10, 6, 4, 4, 4, 4, 6, 4, 4, 4, 4, 4, 4, 4, 4, 4, 8, 6, 7, 7, 6, 7, 8, 10, 8, 4, 5, 7, 9, 10, 1, 3, 6, 6, 8, 10, 3, 3, 3, 3, 3, 3, 1, 3, 3, 3, 3, 3, 3, 3, 3, 3, 3, 3, 3, 3, 3, 3, 3, 3, 3, 3, 3, 3, 3, 3, 3, 3, 10, 4, 4, 4, 4, 4, 4, 5, 8, 1, 2, 3, 5, 6, 7, 8, 9, 10, 1, 3, 1, 1, 1, 1, 1, 1, 3, 1, 3, 1, 3, 3, 1, 1, 1, 1, 9, 7, 7, 5, 7, 9, 10, 4, 5, 7, 9, 7, 1, 2, 4, 7, 9, 9, 9, 3, 4, 5, 6, 7, 8, 9, 10, 5, 5, 5, 3, 5, 6, 5, 5, 5, 5, 6, 6, 7, 8, 9, 10, 4, 5, 5, 1, 2, 3, 5, 6, 7, 9, 2, 2, 2, 1, 3, 3, 3, 3, 3, 3, 3, 3, 3, 3, 2, 2, 2, 2, 2, 2, 2, 2, 2, 2, 2, 2, 2, 2, 2, 2, 1, 3, 6, 9, 1, 1, 1, 10, 1, 5, 9, 9, 9, 7, 8, 10, 1, 2, 3, 5, 6, 8, 10, 4, 5, 6, 7, 8, 9, 10, 8, 8, 8, 8, 10, 8, 8, 8, 5, 6, 7, 8, 6, 7, 8, 9, 8, 3, 5, 3, 3, 3, 3, 3, 3, 8, 10, 3, 4, 5, 6, 7, 8, 10, 3, 4, 5, 6, 8, 10, 5, 5, 5, 5, 5, 5, 5, 5, 5, 5, 5, 5, 10, 6, 8, 5, 10, 5, 10, 7, 6, 7, 9, 8, 10, 8, 10, 8, 10, 6, 7, 8, 9, 10, 7, 7, 6, 7, 8, 1, 4, 5, 7, 10, 4, 5, 8, 4, 7, 7, 3, 5, 6, 4, 5, 6, 7, 8, 9, 4, 5, 6, 7, 9, 7, 9, 7, 7, 7, 7, 2, 3, 4, 5, 6, 8, 9, 10, 5, 7, 8, 8, 8, 8, 1, 10, 2, 5, 6, 7, 10, 7, 10, 10, 10, 7, 1, 7, 8, 9, 1, 1, 1, 1, 1, 1, 1, 1, 1, 1, 1, 1, 1, 7, 7, 1, 5, 9, 10, 9, 6, 3, 4, 5, 6, 5, 5, 5, 2, 5, 7, 7, 7, 7, 5, 5, 10, 1, 5, 6, 7, 6, 8, 5, 2, 4, 5, 10, 1, 7, 10, 5, 6, 7, 7, 6, 9, 5, 8, 5, 6, 7, 8, 10, 8, 10, 8, 8, 8, 10, 8, 8, 10, 8, 10, 1, 1, 1, 8, 9, 10, 9, 10, 7, 2, 3, 4, 5, 6, 7, 9, 10, 6, 6, 6, 6, 6, 6, 6, 3, 6, 9, 4, 6, 7, 10, 4, 4, 4, 4, 4, 4, 7, 3, 4, 7, 9, 6, 2, 3, 9, 3, 5, 6, 7, 8, 8, 8, 6, 5, 8, 9, 1, 5, 7, 6, 6, 6, 2, 4, 5, 6, 9, 10, 5, 9, 9, 2, 5, 7, 9, 10], \"Freq\": [0.14221642793852493, 0.28443285587704986, 0.14221642793852493, 0.14221642793852493, 0.14221642793852493, 0.8026448307710315, 0.39593115146312546, 0.39593115146312546, 0.644210336115419, 0.3221051680577095, 0.516249669688374, 0.6510040427651692, 0.3255020213825846, 0.4487897521545743, 0.22439487607728714, 0.11219743803864357, 0.11219743803864357, 0.22439487607728714, 0.6949759743496903, 0.34748798717484514, 0.8291735185181062, 0.8963444002674131, 0.8291735185181062, 0.9410206761364047, 0.8963444002674131, 0.9410206761364047, 0.5245686845764379, 0.5245686845764379, 0.7956913556133889, 0.5245686845764379, 0.7302192353661702, 0.1043170336237386, 0.1043170336237386, 0.1043170336237386, 0.7484381676790473, 0.37181776310072157, 0.37181776310072157, 0.5021968567607157, 0.3766476425705368, 0.6783862272594137, 0.22612874241980455, 0.5612207112689604, 0.5612207112689604, 0.5612207112689604, 0.5245686845764379, 0.8093274265778887, 0.7956912280533999, 0.6408721827920608, 0.7956913756430499, 0.4948066386805993, 0.24740331934029966, 0.24740331934029966, 0.24740331934029966, 0.35457373102936707, 0.21274423861762026, 0.14182949241174683, 0.14182949241174683, 0.07091474620587342, 0.9104151311668632, 0.7294582713612228, 0.3647291356806114, 0.9104151311668632, 0.9104151311668632, 0.9104151311668632, 0.9104151311668632, 0.9104151311668632, 0.9104151311668632, 0.9104151311668632, 0.9104151311668632, 0.9104151311668632, 0.9104151311668632, 0.9104151311668632, 0.9104151311668632, 0.9104151311668632, 0.9104151311668632, 0.692087084482441, 0.3460435422412205, 0.9104151311668632, 0.9104151311668632, 0.9104151311668632, 0.9104151311668632, 0.9104151311668632, 0.9104151311668632, 0.9104151311668632, 0.9104151311668632, 0.5162497870578662, 0.8291735185181062, 0.9410206761364047, 0.8963444002674131, 0.9410206761364047, 0.9410206761364047, 0.7484383003930507, 0.7566389754088281, 0.7566389754088281, 0.7566389754088281, 0.7566389754088281, 0.7566389754088281, 0.7566389754088281, 0.7566389754088281, 0.7566389754088281, 0.7566389754088281, 0.7566389754088281, 0.807866317872409, 0.13464438631206818, 0.13464438631206818, 0.6440669957628954, 0.2146889985876318, 0.39593115146312546, 0.39593115146312546, 0.8427669921778437, 0.8427669921778437, 0.8427669921778437, 0.8427669921778437, 0.7484383416470427, 0.748438200574773, 0.23562913355473955, 0.23562913355473955, 0.4712582671094791, 0.23000217500218856, 0.23000217500218856, 0.4600043500043771, 0.23000217500218856, 0.6964395839044089, 0.7041769463575365, 0.23472564878584548, 0.19257149777521576, 0.5777144933256473, 0.19257149777521576, 0.19257149777521576, 0.7484383416473464, 0.1287264278131242, 0.38617928343937263, 0.1287264278131242, 0.2574528556262484, 0.16594901364514425, 0.49784704093543275, 0.16594901364514425, 0.4969873734804314, 0.1268284054106393, 0.2536568108212786, 0.3804852162319179, 0.2536568108212786, 0.3288389103396857, 0.3288389103396857, 0.16441945516984285, 0.16441945516984285, 0.16441945516984285, 0.8427669921778437, 0.8427669921778437, 0.17642318924719116, 0.7056927569887647, 0.8589567578263113, 0.3322681534715666, 0.3322681534715666, 0.5209153059329388, 0.5209153059329388, 0.789393007122845, 0.5209153059329388, 0.5162497870475461, 0.8595537696099741, 0.7035430298150346, 0.7035430298150346, 0.7035430298150346, 0.8660660574624551, 0.866064012165479, 0.5245686845764379, 0.5245686845764379, 0.5245686845764379, 0.5245686845764379, 0.3610754273107083, 0.1203584757702361, 0.1203584757702361, 0.1203584757702361, 0.1203584757702361, 0.2407169515404722, 0.5612207112689528, 0.17243273599444206, 0.5172982079833262, 0.17243273599444206, 0.17243273599444206, 0.5162495292936864, 0.2303295082001609, 0.2303295082001609, 0.4606590164003218, 0.7483335233357828, 0.24944450777859428, 0.6200686258594401, 0.134128560633843, 0.6706428031692151, 0.134128560633843, 0.6408720907439003, 0.7956914521969846, 0.795691326100239, 0.8595520218965055, 0.6408721134290929, 0.7956910924523043, 0.7956913756430499, 0.5245687294738488, 0.20376515833461925, 0.20376515833461925, 0.4075303166692385, 0.20376515833461925, 0.3380705219871822, 0.3380705219871822, 0.11269017399572741, 0.22538034799145482, 0.2335583250642765, 0.11677916253213826, 0.11677916253213826, 0.11677916253213826, 0.3503374875964148, 0.5209153173927651, 0.24481111001394681, 0.7344333300418405, 0.49698737348043415, 0.2971555995751616, 0.5943111991503232, 0.33899696073344776, 0.5084954411001716, 0.7484373938282909, 0.3832721256610716, 0.3832721256610716, 0.7484373938282909, 0.23469231958617667, 0.23469231958617667, 0.46938463917235335, 0.22290051002085973, 0.3343507650312896, 0.3343507650312896, 0.11145025501042986, 0.7093786039447358, 0.3546893019723679, 0.375737813964586, 0.375737813964586, 0.187868906982293, 0.7035431963757306, 0.2700704556613514, 0.2700704556613514, 0.2700704556613514, 0.20244257963650908, 0.20244257963650908, 0.20244257963650908, 0.40488515927301816, 0.8597427167331952, 0.5971983429975598, 0.2985991714987799, 0.2985991714987799, 0.7132640446905621, 0.3566320223452811, 0.3737479625164007, 0.3737479625164007, 0.18687398125820034, 0.24764952894453074, 0.24764952894453074, 0.4952990578890615, 0.08999973362942502, 0.5399984017765501, 0.17999946725885005, 0.08999973362942502, 0.6859242594721126, 0.3429621297360563, 0.9410206761364047, 0.9410206761364047, 0.516249787058853, 0.561221129045063, 0.4456001972873782, 0.2228000986436891, 0.11140004932184455, 0.2228000986436891, 0.566371631079447, 0.2831858155397235, 0.14159290776986175, 0.14159290776986175, 0.6949759743496903, 0.34748798717484514, 0.8291735185181062, 0.9410206761364047, 0.8291735185181062, 0.8963444002674131, 0.6949759743496903, 0.34748798717484514, 0.8291735185181062, 0.8963444002674131, 0.7893923133463489, 0.9410206761364047, 0.9410206761364047, 0.9410206761364047, 0.9410206761364047, 0.5209153173854544, 0.8660648167190816, 0.318985344208921, 0.318985344208921, 0.318985344208921, 0.5612211341271987, 0.11125913461657254, 0.11125913461657254, 0.22251826923314508, 0.5562956730828628, 0.41489285815496035, 0.23906130772316855, 0.07968710257438952, 0.31874841029755807, 0.07968710257438952, 0.07968710257438952, 0.07968710257438952, 0.7484383416475011, 0.9408196666263503, 0.9408196666263503, 0.9408196666263503, 0.9408196666263503, 0.7484381546805661, 0.9408196666263503, 0.9408196666263503, 0.9408196666263503, 0.9408196666263503, 0.9408196666263503, 0.9408196666263503, 0.9408196666263503, 0.9408196666263503, 0.5040971173657308, 0.5040971173657308, 0.6070172232346769, 0.30350861161733844, 0.5162494277484908, 0.20134399876217474, 0.20134399876217474, 0.4026879975243495, 0.20134399876217474, 0.789393007122845, 0.3618443703644163, 0.1206147901214721, 0.2412295802429442, 0.1206147901214721, 0.2412295802429442, 0.3006524661707129, 0.15032623308535645, 0.45097869925606937, 0.7484373938282909, 0.4174095434861826, 0.4174095434861826, 0.9104151311668632, 0.9104151311668632, 0.9104151311668632, 0.9104151311668632, 0.9104151311668632, 0.9104151311668632, 0.6165377860504528, 0.4110251907003019, 0.9104151311668632, 0.9104151311668632, 0.9104151311668632, 0.9104151311668632, 0.9104151311668632, 0.9104151311668632, 0.9104151311668632, 0.9104151311668632, 0.9104151311668632, 0.9104151311668632, 0.9104151311668632, 0.9104151311668632, 0.9104151311668632, 0.9104151311668632, 0.9104151311668632, 0.9104151311668632, 0.9104151311668632, 0.9104151311668632, 0.9104151311668632, 0.9104151311668632, 0.9104151311668632, 0.9104151311668632, 0.9104151311668632, 0.9104151311668632, 0.6964336504524815, 0.8427669921778437, 0.8427669921778437, 0.8427669921778437, 0.8427669921778437, 0.8427669921778437, 0.8427669921778437, 0.8660641117159967, 0.7893923133463489, 0.1550649572744847, 0.03876623931862117, 0.11629871795586351, 0.11629871795586351, 0.11629871795586351, 0.1550649572744847, 0.03876623931862117, 0.11629871795586351, 0.07753247863724234, 0.5029931449777941, 0.5029931449777941, 0.9410206761364047, 0.9410206761364047, 0.9410206761364047, 0.9410206761364047, 0.9410206761364047, 0.6949759743496903, 0.34748798717484514, 0.6949759743496903, 0.34748798717484514, 0.6949759743496903, 0.34748798717484514, 0.9104151311668632, 0.9410206761364047, 0.9410206761364047, 0.9410206761364047, 0.9410206761364047, 0.5245687294720033, 0.5162495630785756, 0.5162495630785756, 0.6120228709738932, 0.1530057177434733, 0.1530057177434733, 0.1530057177434733, 0.13821024954001637, 0.27642049908003274, 0.4146307486200491, 0.13821024954001637, 0.7813668583498962, 0.3275546755077083, 0.08188866887692707, 0.16377733775385414, 0.08188866887692707, 0.3275546755077083, 0.5245686432730114, 0.5245686432730114, 0.13010836868395617, 0.06505418434197809, 0.26021673736791234, 0.26021673736791234, 0.06505418434197809, 0.06505418434197809, 0.06505418434197809, 0.06505418434197809, 0.7217773380205923, 0.7217773380205923, 0.7217773380205923, 0.23903486088872458, 0.47806972177744916, 0.23903486088872458, 0.7217773380205923, 0.7217773380205923, 0.7217773380205923, 0.16560203752806074, 0.662408150112243, 0.16082982124641285, 0.4824894637392385, 0.16082982124641285, 0.16082982124641285, 0.16082982124641285, 0.4756430336549479, 0.4756430336549479, 0.7217773380205923, 0.2206668450277299, 0.25744465253235155, 0.0735556150092433, 0.03677780750462165, 0.2206668450277299, 0.1471112300184866, 0.03677780750462165, 0.7566389754088281, 0.7566389754088281, 0.7566389754088281, 0.5029931449777941, 0.5029931449777941, 0.9104151311668632, 0.9104151311668632, 0.9104151311668632, 0.9104151311668632, 0.9104151311668632, 0.9104151311668632, 0.9104151311668632, 0.9104151311668632, 0.9104151311668632, 0.8362687664254653, 0.7566389754088281, 0.7566389754088281, 0.7566389754088281, 0.7566389754088281, 0.7566389754088281, 0.7566389754088281, 0.7566389754088281, 0.7566389754088281, 0.7566389754088281, 0.7566389754088281, 0.7566389754088281, 0.7566389754088281, 0.7566389754088281, 0.7566389754088281, 0.7566389754088281, 0.22968947449905083, 0.45937894899810167, 0.22968947449905083, 0.22968947449905083, 0.9410206761364047, 0.8963444002674131, 0.9410206761364047, 0.6837461676109652, 0.5182287723613797, 0.20729150894455184, 0.20729150894455184, 0.7956913556133889, 0.5245686845764379, 0.18013207982158996, 0.5403962394647699, 0.18013207982158996, 0.0911460961002493, 0.1822921922004986, 0.0911460961002493, 0.0911460961002493, 0.3645843844009972, 0.0911460961002493, 0.0911460961002493, 0.06074943305473322, 0.18224829916419966, 0.18224829916419966, 0.06074943305473322, 0.3644965983283993, 0.06074943305473322, 0.12149886610946645, 0.5209153059329388, 0.5209153059329388, 0.5209153059329388, 0.5209153059329388, 0.5612195558683968, 0.789393007122347, 0.5209153059329388, 0.5209153059329388, 0.171148242686921, 0.342296485373842, 0.342296485373842, 0.171148242686921, 0.15944266689479117, 0.15944266689479117, 0.6377706675791647, 0.5245686432730114, 0.520915317388422, 0.6920870431827804, 0.3460435215913902, 0.9104151311668632, 0.9104151311668632, 0.9104151311668632, 0.9104151311668632, 0.9104151311668632, 0.9104151311668632, 0.6496556151857286, 0.3248278075928643, 0.2262642942781089, 0.11313214713905445, 0.33939644141716335, 0.11313214713905445, 0.11313214713905445, 0.11313214713905445, 0.11313214713905445, 0.14844277389244379, 0.14844277389244379, 0.29688554778488757, 0.14844277389244379, 0.14844277389244379, 0.14844277389244379, 0.7217773380205923, 0.7217773380205923, 0.7217773380205923, 0.7217773380205923, 0.7217773380205923, 0.7217773380205923, 0.7217773380205923, 0.7217773380205923, 0.7217773380205923, 0.7217773380205923, 0.7217773380205923, 0.7217773380205923, 0.5612203507967716, 0.6086205282226704, 0.3043102641113352, 0.40406702802060984, 0.40406702802060984, 0.40406702802060984, 0.40406702802060984, 0.7813671323940256, 0.5744677940435273, 0.1914892646811758, 0.1914892646811758, 0.43039886196328264, 0.5379985774541033, 0.6497601632378988, 0.3248800816189494, 0.5209153059322408, 0.7572566621508019, 0.13361938448814442, 0.26723876897628884, 0.13361938448814442, 0.26723876897628884, 0.13361938448814442, 0.7813669807304338, 0.5162497452995672, 0.1964036865457335, 0.1964036865457335, 0.392807373091467, 0.9410206761364047, 0.20456097716540206, 0.30684146574810306, 0.30684146574810306, 0.10228048858270103, 0.4198447090003689, 0.20992235450018445, 0.20992235450018445, 0.8427669921778437, 0.5162497870418649, 0.5162496308028445, 0.1062981874897146, 0.1062981874897146, 0.7440873124280023, 0.2399473578939084, 0.1799605184204313, 0.3599210368408626, 0.0599868394734771, 0.0599868394734771, 0.1199736789469542, 0.9408196666263503, 0.06907657946092, 0.06907657946092, 0.6216892151482799, 0.13815315892184, 0.6388955584472881, 0.15972388961182202, 0.5162495630785756, 0.5162495630785756, 0.5162497452995672, 0.5162497452995672, 0.05906510310631484, 0.05906510310631484, 0.05906510310631484, 0.4725208248505187, 0.05906510310631484, 0.11813020621262968, 0.1771953093189445, 0.8875815313034426, 0.7217773380205923, 0.1779228645765254, 0.7116914583061016, 0.5209153173930745, 0.5209153173930745, 0.5209153173930745, 0.37431969242308305, 0.37431969242308305, 0.1655798972514759, 0.3311597945029518, 0.1655798972514759, 0.1655798972514759, 0.1655798972514759, 0.5162497950121843, 0.5612199799165635, 0.5600152018067132, 0.5612212330021128, 0.5162495264462652, 0.5659008407013383, 0.22636033628053528, 0.11318016814026764, 0.11318016814026764, 0.9410206761364047, 0.9410206761364047, 0.8291735185181062, 0.9410206761364047, 0.9410206761364047, 0.9410206761364047, 0.9410206761364047, 0.8291735185181062, 0.9410206761364047, 0.8291735185181062, 0.9410206761364047, 0.9410206761364047, 0.9410206761364047, 0.5162497950126512, 0.5162497870550006, 0.9410206761364047, 0.2500394634825766, 0.3750591952238649, 0.2500394634825766, 0.5245686432730114, 0.4969873734804314, 0.20406337170510996, 0.20406337170510996, 0.4081267434102199, 0.20406337170510996, 0.7217773380205923, 0.7217773380205923, 0.7217773380205923, 0.2899979602890318, 0.2899979602890318, 0.2899979602890318, 0.5162497452995672, 0.5162497452995672, 0.5162497452995672, 0.8247480042286801, 0.7217773380216284, 0.561221233158866, 0.17742113383878916, 0.5322634015163675, 0.17742113383878916, 0.17742113383878916, 0.7484383416474442, 0.5209153173611637, 0.8660639679027661, 0.20613936134717142, 0.20613936134717142, 0.41227872269434285, 0.20613936134717142, 0.5154972752782395, 0.343664850185493, 0.1718324250927465, 0.25117071361974774, 0.5023414272394955, 0.25117071361974774, 0.5162496696843465, 0.9002688395765889, 0.7956911405160941, 0.7356831240800784, 0.24522770802669283, 0.2971556442438412, 0.5943112884876824, 0.149227504508134, 0.596910018032536, 0.149227504508134, 0.6497601615850461, 0.32488008079252306, 0.5209153059329388, 0.5209153059329388, 0.6497601694897107, 0.32488008474485536, 0.5209153059322408, 0.6497601632378988, 0.3248800816189494, 0.5209153059322408, 0.5612184283554603, 0.9410206761364047, 0.9410206761364047, 0.9410206761364047, 0.23326281901787585, 0.4665256380357517, 0.23326281901787585, 0.6539158824018948, 0.3269579412009474, 0.5162497870589593, 0.22789141475703836, 0.07596380491901279, 0.07596380491901279, 0.30385521967605117, 0.07596380491901279, 0.07596380491901279, 0.07596380491901279, 0.07596380491901279, 0.49698737348044314, 0.49698737348044314, 0.49698737348044314, 0.49698737348044314, 0.49698737348044314, 0.49698737348044314, 0.49698737348044314, 0.16444949993581187, 0.8222474996790594, 0.8026454000995153, 0.1947889124071737, 0.09739445620358685, 0.584366737221521, 0.09739445620358685, 0.8427669921778437, 0.8427669921778437, 0.8427669921778437, 0.8427669921778437, 0.8427669921778437, 0.8427669921778437, 0.5162497925581597, 0.16864408611615378, 0.33728817223230756, 0.16864408611615378, 0.33728817223230756, 0.49698737348044314, 0.36299813021862626, 0.18149906510931313, 0.36299813021862626, 0.23334437205608344, 0.11667218602804172, 0.11667218602804172, 0.11667218602804172, 0.4666887441121669, 0.7893930071204648, 0.9531411066374024, 0.7484383177232444, 0.13303545234639202, 0.798212714078352, 0.13303545234639202, 0.6749001644503665, 0.11248336074172775, 0.11248336074172775, 0.49698737348044314, 0.49698737348044314, 0.49698737348044314, 0.2898468364354674, 0.0966156121451558, 0.0966156121451558, 0.2898468364354674, 0.1932312242903116, 0.0966156121451558, 0.31186197102665014, 0.6237239420533003, 0.6408720907439003, 0.30281549170195127, 0.15140774585097563, 0.15140774585097563, 0.30281549170195127, 0.15140774585097563], \"Term\": [\"ahli\", \"ahli\", \"ahli\", \"ahli\", \"ahli\", \"air\", \"air bersih\", \"air bersih\", \"airasia\", \"airasia\", \"airasia jual\", \"ajar\", \"ajar\", \"alam\", \"alam\", \"alam\", \"alam\", \"alam\", \"alam bangun\", \"alam bangun\", \"alam bangun negara\", \"alam bangun negara selatan\", \"alam negara\", \"alam negara negara selatan\", \"alam negara selatan\", \"alam negara selatan selatan\", \"allahyarham\", \"allahyarham aziz\", \"allahyarham nik\", \"allahyarham nik aziz\", \"ambil\", \"ambil\", \"ambil\", \"ambil\", \"ambil putus\", \"antarabangsa\", \"antarabangsa\", \"asli\", \"asli\", \"awam\", \"awam\", \"awam laksana\", \"awam laksana nhrap\", \"awam nhrap\", \"aziz\", \"bahasa\", \"bahasa bahasa\", \"bahasa ilmu\", \"bahasa inggeris\", \"bandar\", \"bandar\", \"bandar\", \"bandar\", \"bangun\", \"bangun\", \"bangun\", \"bangun\", \"bangun\", \"bangun bandar\", \"bangun kawasan\", \"bangun kawasan\", \"bangun kawasan bandar\", \"bangun kongsi\", \"bangun kongsi alam\", \"bangun kongsi alam mahir\", \"bangun main\", \"bangun main alam\", \"bangun main alam mahir\", \"bangun main kongsi\", \"bangun main kongsi alam\", \"bangun main kongsi mahir\", \"bangun main peran\", \"bangun main peran alam\", \"bangun main peran kongsi\", \"bangun main peran mahir\", \"bangun malaysia\", \"bangun malaysia\", \"bangun malaysia alam\", \"bangun malaysia alam mahir\", \"bangun malaysia kongsi\", \"bangun malaysia kongsi alam\", \"bangun malaysia kongsi mahir\", \"bangun malaysia main\", \"bangun malaysia main alam\", \"bangun malaysia main kongsi\", \"bangun masyarakat\", \"bangun negara\", \"bangun negara negara selatan\", \"bangun negara selatan\", \"bangun negara selatan selatan\", \"bangun selatan\", \"bank\", \"bantu negara\", \"bantu negara ancang\", \"bantu negara ancang ekonomi\", \"bantu negara bidang\", \"bantu negara bidang ancang\", \"bantu negara bidang ekonomi\", \"bantu negara maju\", \"bantu negara maju ancang\", \"bantu negara maju bidang\", \"bantu negara maju ekonomi\", \"bayar\", \"bayar\", \"bayar\", \"berita\", \"berita\", \"bersih\", \"bersih\", \"bidang ajar\", \"bidang didik ajar\", \"bidang didik proses ajar\", \"bidang proses ajar\", \"bincang\", \"bon\", \"buah\", \"buah\", \"buah\", \"capai\", \"capai\", \"capai\", \"capai\", \"catat\", \"cina\", \"cina\", \"daftar\", \"daftar\", \"daftar\", \"daftar\", \"daftar ph\", \"dakwa\", \"dakwa\", \"dakwa\", \"dakwa\", \"dana\", \"dana\", \"dana\", \"dana seleweng\", \"dasar\", \"dasar\", \"dasar\", \"dasar\", \"didik\", \"didik\", \"didik\", \"didik\", \"didik\", \"didik ajar\", \"didik proses ajar\", \"duduk\", \"duduk\", \"ekonomi didik\", \"faktor\", \"faktor\", \"fasal\", \"fasal lembaga\", \"fasal lembaga umno\", \"fasal umno\", \"gabung\", \"gambar\", \"gembira\", \"gembira lihat\", \"gembira lihat projek\", \"giat\", \"giat hidup\", \"guru\", \"guru aziz\", \"guru nik\", \"guru nik aziz\", \"hadap\", \"hadap\", \"hadap\", \"hadap\", \"hadap\", \"hadap\", \"hadap laksana\", \"harga\", \"harga\", \"harga\", \"harga\", \"harga tingkat\", \"hasil\", \"hasil\", \"hasil\", \"hidup\", \"hidup\", \"hilang\", \"hutang\", \"hutang\", \"hutang\", \"hutang hutang\", \"hutang mdb\", \"hutang pendek\", \"hutang projek\", \"ilmu\", \"ilmu bahasa\", \"inggeris\", \"insya\", \"islam\", \"islam\", \"islam\", \"islam\", \"isu\", \"isu\", \"isu\", \"isu\", \"jalan\", \"jalan\", \"jalan\", \"jalan\", \"jalan\", \"jalan faktor\", \"jawat\", \"jawat\", \"jawat awam\", \"jemaah menteri\", \"jemaah menteri\", \"jho\", \"jho\", \"jho kapal\", \"jho low\", \"jho low\", \"jho low kapal\", \"jppm\", \"jppm\", \"jppm\", \"jual\", \"jual\", \"jual\", \"jual\", \"jual harga\", \"jual harga\", \"kait\", \"kait\", \"kait\", \"kait mdb\", \"kaji\", \"kaji\", \"kaji\", \"kali\", \"kali\", \"kali\", \"kali\", \"kapal\", \"kawasan\", \"kawasan\", \"kawasan\", \"kawasan bandar\", \"kawasan bandar\", \"kelulus\", \"kelulus\", \"kelulus\", \"kembang\", \"kembang\", \"kembang\", \"kena\", \"kena\", \"kena\", \"kena\", \"kerja\", \"kerja\", \"kerjasama teknikal malaysia\", \"kerjasama teknikal malaysia kongsi\", \"komitmen\", \"komprehensif\", \"kongsi\", \"kongsi\", \"kongsi\", \"kongsi\", \"kongsi alam\", \"kongsi alam\", \"kongsi alam\", \"kongsi alam\", \"kongsi alam bangun\", \"kongsi alam bangun\", \"kongsi alam bangun negara\", \"kongsi alam bangun selatan\", \"kongsi alam negara\", \"kongsi alam negara selatan\", \"kongsi bangun\", \"kongsi bangun\", \"kongsi bangun negara\", \"kongsi bangun negara selatan\", \"kongsi maklumat\", \"kongsi negara\", \"kongsi negara negara selatan\", \"kongsi negara selatan\", \"kongsi negara selatan selatan\", \"kongsi pelbagai\", \"kuok\", \"kwsp\", \"kwsp\", \"kwsp\", \"kwsp dakwa\", \"laksana\", \"laksana\", \"laksana\", \"laksana\", \"laksana nhrap\", \"laku\", \"laku\", \"laku\", \"laku\", \"laku\", \"laku\", \"laku jemaah menteri\", \"laku maju bidang\", \"laku maju bidang proses\", \"laku maju didik\", \"laku maju didik proses\", \"laku menteri\", \"laku raja\", \"laku raja bidang didik\", \"laku raja bidang proses\", \"laku raja didik\", \"laku raja didik proses\", \"laku raja maju\", \"laku raja maju bidang\", \"laku raja maju proses\", \"lancar\", \"lancar\", \"langkah\", \"langkah\", \"layan\", \"lembaga\", \"lembaga\", \"lembaga\", \"lembaga\", \"lembaga umno\", \"lihat\", \"lihat\", \"lihat\", \"lihat\", \"lihat\", \"low\", \"low\", \"low\", \"low kapal\", \"luas\", \"luas\", \"mahir\", \"mahir bandar\", \"mahir bangun\", \"mahir bangun bandar\", \"mahir bangun kawasan\", \"mahir bangun kawasan bandar\", \"main\", \"main\", \"main alam bangun\", \"main alam bangun kawasan\", \"main alam mahir\", \"main alam mahir bangun\", \"main alam mahir kawasan\", \"main kongsi\", \"main kongsi alam\", \"main kongsi alam bangun\", \"main kongsi alam kawasan\", \"main kongsi alam mahir\", \"main kongsi bangun\", \"main kongsi bangun kawasan\", \"main kongsi mahir\", \"main kongsi mahir bangun\", \"main kongsi mahir kawasan\", \"main mahir\", \"main mahir bangun\", \"main mahir bangun kawasan\", \"main peran\", \"main peran alam\", \"main peran alam bangun\", \"main peran alam kawasan\", \"main peran alam mahir\", \"main peran bangun\", \"majlis\", \"maju bidang ajar\", \"maju bidang didik ajar\", \"maju bidang proses ajar\", \"maju didik ajar\", \"maju didik proses ajar\", \"maju proses ajar\", \"makan\", \"maklumat\", \"malaysia\", \"malaysia\", \"malaysia\", \"malaysia\", \"malaysia\", \"malaysia\", \"malaysia\", \"malaysia\", \"malaysia\", \"malaysia alam\", \"malaysia alam\", \"malaysia alam bangun negara\", \"malaysia alam negara\", \"malaysia alam negara selatan\", \"malaysia bangun negara\", \"malaysia bangun negara selatan\", \"malaysia kongsi\", \"malaysia kongsi\", \"malaysia kongsi alam\", \"malaysia kongsi alam\", \"malaysia kongsi alam bangun\", \"malaysia kongsi alam bangun\", \"malaysia kongsi alam mahir\", \"malaysia kongsi alam negara\", \"malaysia kongsi bangun negara\", \"malaysia kongsi negara\", \"malaysia kongsi negara selatan\", \"malaysia niaga\", \"malaysia pimpin\", \"malaysia pimpin negara\", \"masuk\", \"masuk\", \"masuk\", \"masuk\", \"masyarakat\", \"masyarakat\", \"masyarakat\", \"masyarakat\", \"masyarakat asli\", \"mdb\", \"mdb\", \"mdb\", \"mdb\", \"mdb\", \"mdb hutang\", \"mdb hutang pendek\", \"menteri\", \"menteri\", \"menteri\", \"menteri\", \"menteri\", \"menteri\", \"menteri\", \"menteri\", \"menteri najib\", \"menteri najib razak\", \"menteri razak\", \"menteri seri\", \"menteri seri\", \"menteri seri\", \"menteri seri najib\", \"menteri seri najib razak\", \"menteri seri razak\", \"milik\", \"milik\", \"mudah\", \"mudah\", \"mudah\", \"mudah\", \"mudah\", \"najib\", \"najib\", \"najib razak\", \"negara\", \"negara\", \"negara\", \"negara\", \"negara\", \"negara\", \"negara\", \"negara ancang\", \"negara ancang ekonomi\", \"negara ancang ekonomi wang\", \"negara bangun\", \"negara bangun\", \"negara bangun kongsi\", \"negara bangun kongsi alam\", \"negara bangun main\", \"negara bangun main alam\", \"negara bangun main kongsi\", \"negara bangun malaysia\", \"negara bangun malaysia alam\", \"negara bangun malaysia kongsi\", \"negara bangun malaysia main\", \"negara bidang\", \"negara bidang ancang\", \"negara bidang ancang ekonomi\", \"negara bidang ancang wang\", \"negara bidang ekonomi\", \"negara bidang ekonomi wang\", \"negara maju\", \"negara maju ancang\", \"negara maju ancang ekonomi\", \"negara maju ancang wang\", \"negara maju bidang\", \"negara maju bidang ancang\", \"negara maju bidang ekonomi\", \"negara maju bidang wang\", \"negara maju ekonomi\", \"negara maju ekonomi wang\", \"negara malaysia\", \"negara malaysia\", \"negara malaysia\", \"negara malaysia\", \"negara negara selatan\", \"negara selatan\", \"negara selatan selatan\", \"nhrap\", \"niaga\", \"niaga\", \"niaga\", \"nik\", \"nik aziz\", \"nilai\", \"nilai\", \"nilai\", \"nyata\", \"nyata\", \"nyata\", \"nyata\", \"nyata\", \"nyata\", \"nyata\", \"parti\", \"parti\", \"parti\", \"parti\", \"parti\", \"parti\", \"parti\", \"parti fasal\", \"parti fasal lembaga\", \"parti fasal lembaga umno\", \"parti fasal umno\", \"parti jppm\", \"parti lembaga\", \"parti lembaga umno\", \"parti umno\", \"pas\", \"pas\", \"pas\", \"pas\", \"pelbagai\", \"pelbagai\", \"pelbagai\", \"pendek\", \"pengaruh\", \"peran\", \"peran\", \"peran alam mahir\", \"peran alam mahir bandar\", \"peran mahir\", \"peran mahir bangun\", \"peran mahir bangun bandar\", \"peran mahir bangun kawasan\", \"percaya\", \"percaya\", \"perdana\", \"perdana\", \"perdana\", \"perdana\", \"perdana\", \"perdana\", \"perdana\", \"perdana menteri\", \"perdana menteri\", \"perdana menteri\", \"perdana menteri\", \"perdana menteri\", \"perdana menteri\", \"perdana menteri najib\", \"perdana menteri najib razak\", \"perdana menteri razak\", \"perdana menteri seri\", \"perdana menteri seri najib\", \"perdana menteri seri razak\", \"perdana najib\", \"perdana najib razak\", \"perdana razak\", \"perdana seri najib\", \"perdana seri najib razak\", \"perdana seri razak\", \"pergi\", \"peringkat\", \"peringkat\", \"pesara\", \"pesara\", \"pesara tentera\", \"pesara tentera\", \"pesawat\", \"ph\", \"ph\", \"ph\", \"pilih\", \"pilih\", \"pilih parti\", \"pilih parti\", \"pilih parti lembaga\", \"pilih raya\", \"pimpin\", \"pimpin\", \"pimpin\", \"pimpin\", \"pimpin\", \"pimpin negara\", \"pimpin negeri\", \"politik\", \"politik\", \"politik\", \"program kerjasama teknikal malaysia\", \"projek\", \"projek\", \"projek\", \"projek\", \"proses\", \"proses\", \"proses\", \"proses ajar\", \"pulang\", \"putrajaya\", \"putus\", \"putus\", \"putus\", \"raja\", \"raja\", \"raja\", \"raja\", \"raja\", \"raja\", \"raja bidang proses\", \"rakyat\", \"rakyat\", \"rakyat\", \"rakyat\", \"rakyat malaysia\", \"rakyat malaysia\", \"rakyat malaysia pimpin\", \"rakyat malaysia pimpin negara\", \"rakyat serius\", \"rakyat serius pimpin\", \"rana\", \"rana\", \"rana\", \"rana\", \"rana\", \"rana\", \"rana\", \"raya\", \"razak\", \"ros\", \"ros\", \"ros pilih\", \"ros tangguh\", \"ros tangguh pilih\", \"rujuk\", \"rujuk\", \"rumah\", \"rumah\", \"rumah\", \"rumah\", \"rumah\", \"rumah sedia\", \"saja\", \"sarawak\", \"sasar\", \"sebahagian\", \"sedia\", \"sedia\", \"sedia\", \"sedia\", \"sedia alam\", \"sedia alam bangun\", \"sedia alam bangun negara\", \"sedia bangun\", \"sedia kongsi\", \"sedia kongsi alam\", \"sedia kongsi alam bangun\", \"sedia kongsi alam negara\", \"sedia kongsi bangun\", \"sedia kongsi bangun negara\", \"sedia malaysia alam negara\", \"sedia malaysia bangun negara\", \"sedia malaysia kongsi negara\", \"sedia mudah\", \"sedia tingkat\", \"selatan\", \"selesai\", \"selesai\", \"selesai\", \"selesai tempoh\", \"seleweng\", \"seri\", \"seri\", \"seri\", \"seri\", \"seri najib\", \"seri najib razak\", \"seri razak\", \"serius\", \"serius\", \"serius\", \"serius negeri\", \"serius pimpin\", \"serius pimpin negeri\", \"sewa\", \"sewa projek\", \"silap\", \"sokong\", \"sokong\", \"sokong\", \"sokong\", \"strategi\", \"suara\", \"sukan\", \"sumbang\", \"sumbang\", \"sumbang\", \"sumbang\", \"sumber\", \"sumber\", \"sumber\", \"syarikat\", \"syarikat\", \"syarikat\", \"syarikat terbang\", \"tahan\", \"takut\", \"tanah\", \"tanah\", \"tanding\", \"tanding\", \"tangguh\", \"tangguh\", \"tangguh\", \"tangguh parti\", \"tangguh parti\", \"tangguh parti fasal\", \"tangguh parti fasal lembaga\", \"tangguh pilih\", \"tangguh pilih\", \"tangguh pilih lembaga\", \"tangguh pilih parti\", \"tangguh pilih parti\", \"tangguh pilih parti lembaga\", \"taraf\", \"teknikal malaysia\", \"teknikal malaysia kongsi\", \"teknikal malaysia kongsi alam\", \"tempoh\", \"tempoh\", \"tempoh\", \"tempoh hutang\", \"tempoh hutang\", \"teras\", \"terima\", \"terima\", \"terima\", \"terima\", \"terima\", \"terima\", \"terima\", \"terima\", \"timbang nyata\", \"timbang tulis\", \"timbang tulis nyata\", \"timbang wajar\", \"timbang wajar nyata\", \"timbang wajar tulis\", \"timbang wajar tulis nyata\", \"tindak\", \"tindak\", \"tinggal\", \"tingkat\", \"tingkat\", \"tingkat\", \"tingkat\", \"tingkat bidang didik ajar\", \"tingkat bidang proses ajar\", \"tingkat didik proses ajar\", \"tingkat maju bidang ajar\", \"tingkat maju didik ajar\", \"tingkat maju proses ajar\", \"tingkat tingkat\", \"tuju\", \"tuju\", \"tuju\", \"tuju\", \"tulis nyata\", \"tumbuh\", \"tumbuh\", \"tumbuh\", \"umno\", \"umno\", \"umno\", \"umno\", \"umno\", \"umno pilih\", \"umno tangguh\", \"undang\", \"undi\", \"undi\", \"undi\", \"urus\", \"urus\", \"urus\", \"wajar nyata\", \"wajar tulis\", \"wajar tulis nyata\", \"wang\", \"wang\", \"wang\", \"wang\", \"wang\", \"wang\", \"wang hutang\", \"wang hutang\", \"wang hutang hutang\", \"wujud\", \"wujud\", \"wujud\", \"wujud\", \"wujud\"]}, \"R\": 30, \"lambda.step\": 0.01, \"plot.opts\": {\"xlab\": \"PC1\", \"ylab\": \"PC2\"}, \"topic.order\": [2, 10, 4, 3, 6, 1, 5, 7, 8, 9]};\n",
       "\n",
       "function LDAvis_load_lib(url, callback){\n",
       "  var s = document.createElement('script');\n",
       "  s.src = url;\n",
       "  s.async = true;\n",
       "  s.onreadystatechange = s.onload = callback;\n",
       "  s.onerror = function(){console.warn(\"failed to load library \" + url);};\n",
       "  document.getElementsByTagName(\"head\")[0].appendChild(s);\n",
       "}\n",
       "\n",
       "if(typeof(LDAvis) !== \"undefined\"){\n",
       "   // already loaded: just create the visualization\n",
       "   !function(LDAvis){\n",
       "       new LDAvis(\"#\" + \"ldavis_el1090157234537766020934793\", ldavis_el1090157234537766020934793_data);\n",
       "   }(LDAvis);\n",
       "}else if(typeof define === \"function\" && define.amd){\n",
       "   // require.js is available: use it to load d3/LDAvis\n",
       "   require.config({paths: {d3: \"https://cdnjs.cloudflare.com/ajax/libs/d3/3.5.5/d3.min\"}});\n",
       "   require([\"d3\"], function(d3){\n",
       "      window.d3 = d3;\n",
       "      LDAvis_load_lib(\"https://cdn.rawgit.com/bmabey/pyLDAvis/files/ldavis.v1.0.0.js\", function(){\n",
       "        new LDAvis(\"#\" + \"ldavis_el1090157234537766020934793\", ldavis_el1090157234537766020934793_data);\n",
       "      });\n",
       "    });\n",
       "}else{\n",
       "    // require.js not available: dynamically load d3 & LDAvis\n",
       "    LDAvis_load_lib(\"https://cdnjs.cloudflare.com/ajax/libs/d3/3.5.5/d3.min.js\", function(){\n",
       "         LDAvis_load_lib(\"https://cdn.rawgit.com/bmabey/pyLDAvis/files/ldavis.v1.0.0.js\", function(){\n",
       "                 new LDAvis(\"#\" + \"ldavis_el1090157234537766020934793\", ldavis_el1090157234537766020934793_data);\n",
       "            })\n",
       "         });\n",
       "}\n",
       "</script>"
      ],
      "text/plain": [
       "PreparedData(topic_coordinates=              x         y  topics  cluster       Freq\n",
       "topic                                                \n",
       "1     -0.279519  0.109454       1        1  27.240158\n",
       "9      0.157417  0.234208       2        1  15.599829\n",
       "3     -0.027018 -0.055966       3        1  10.353595\n",
       "2      0.034063  0.003468       4        1   8.670467\n",
       "5      0.046422 -0.085381       5        1   8.578522\n",
       "0      0.032912 -0.093309       6        1   7.735307\n",
       "4      0.007982 -0.054791       7        1   6.216872\n",
       "6      0.004178 -0.031369       8        1   5.827097\n",
       "7      0.012414 -0.006025       9        1   5.429819\n",
       "8      0.011149 -0.020290      10        1   4.348333, topic_info=     Category       Freq     Term      Total  loglift  logprob\n",
       "1575  Default  14.000000   rakyat  14.000000  30.0000  30.0000\n",
       "1453  Default   9.000000    pilih   9.000000  29.0000  29.0000\n",
       "849   Default   8.000000  laksana   8.000000  28.0000  28.0000\n",
       "1586  Default  16.000000     rana  16.000000  27.0000  27.0000\n",
       "1214  Default  27.000000   negara  27.000000  26.0000  26.0000\n",
       "...       ...        ...      ...        ...      ...      ...\n",
       "1512  Topic10   1.205453   projek   9.777036   1.0422  -5.3163\n",
       "1813  Topic10   1.148221  tangguh   6.701178   1.3713  -5.3649\n",
       "467   Topic10   1.144435    didik   6.082005   1.4650  -5.3682\n",
       "847   Topic10   1.144435     kwsp   3.134940   2.1277  -5.3682\n",
       "699   Topic10   1.144427     kaji   3.702737   1.9612  -5.3682\n",
       "\n",
       "[581 rows x 6 columns], token_table=      Topic      Freq   Term\n",
       "term                        \n",
       "11        2  0.142216   ahli\n",
       "11        6  0.284433   ahli\n",
       "11        7  0.142216   ahli\n",
       "11        9  0.142216   ahli\n",
       "11       10  0.142216   ahli\n",
       "...     ...       ...    ...\n",
       "2031      2  0.302815  wujud\n",
       "2031      5  0.151408  wujud\n",
       "2031      7  0.151408  wujud\n",
       "2031      9  0.302815  wujud\n",
       "2031     10  0.151408  wujud\n",
       "\n",
       "[813 rows x 3 columns], R=30, lambda_step=0.01, plot_opts={'xlab': 'PC1', 'ylab': 'PC2'}, topic_order=[2, 10, 4, 3, 6, 1, 5, 7, 8, 9])"
      ]
     },
     "execution_count": 15,
     "metadata": {},
     "output_type": "execute_result"
    }
   ],
   "source": [
    "lda.visualize_topics(notebook_mode = True)"
   ]
  },
  {
   "cell_type": "markdown",
   "metadata": {},
   "source": [
    "## Train NMF model"
   ]
  },
  {
   "cell_type": "code",
   "execution_count": 16,
   "metadata": {},
   "outputs": [
    {
     "data": {
      "text/html": [
       "<div>\n",
       "<style scoped>\n",
       "    .dataframe tbody tr th:only-of-type {\n",
       "        vertical-align: middle;\n",
       "    }\n",
       "\n",
       "    .dataframe tbody tr th {\n",
       "        vertical-align: top;\n",
       "    }\n",
       "\n",
       "    .dataframe thead th {\n",
       "        text-align: right;\n",
       "    }\n",
       "</style>\n",
       "<table border=\"1\" class=\"dataframe\">\n",
       "  <thead>\n",
       "    <tr style=\"text-align: right;\">\n",
       "      <th></th>\n",
       "      <th>topic 0</th>\n",
       "      <th>topic 1</th>\n",
       "      <th>topic 2</th>\n",
       "      <th>topic 3</th>\n",
       "      <th>topic 4</th>\n",
       "    </tr>\n",
       "  </thead>\n",
       "  <tbody>\n",
       "    <tr>\n",
       "      <th>0</th>\n",
       "      <td>negara</td>\n",
       "      <td>negara</td>\n",
       "      <td>menteri</td>\n",
       "      <td>mdb</td>\n",
       "      <td>projek</td>\n",
       "    </tr>\n",
       "    <tr>\n",
       "      <th>1</th>\n",
       "      <td>bangun</td>\n",
       "      <td>wang</td>\n",
       "      <td>perdana</td>\n",
       "      <td>niaga</td>\n",
       "      <td>jual</td>\n",
       "    </tr>\n",
       "    <tr>\n",
       "      <th>2</th>\n",
       "      <td>sedia</td>\n",
       "      <td>ancang</td>\n",
       "      <td>perdana menteri</td>\n",
       "      <td>doj</td>\n",
       "      <td>syarikat</td>\n",
       "    </tr>\n",
       "    <tr>\n",
       "      <th>3</th>\n",
       "      <td>kongsi</td>\n",
       "      <td>maju</td>\n",
       "      <td>seri</td>\n",
       "      <td>urus</td>\n",
       "      <td>sewa</td>\n",
       "    </tr>\n",
       "    <tr>\n",
       "      <th>4</th>\n",
       "      <td>alam</td>\n",
       "      <td>bidang</td>\n",
       "      <td>najib</td>\n",
       "      <td>low</td>\n",
       "      <td>jual syarikat</td>\n",
       "    </tr>\n",
       "    <tr>\n",
       "      <th>5</th>\n",
       "      <td>malaysia</td>\n",
       "      <td>ekonomi</td>\n",
       "      <td>menteri seri</td>\n",
       "      <td>jho</td>\n",
       "      <td>swasta</td>\n",
       "    </tr>\n",
       "    <tr>\n",
       "      <th>6</th>\n",
       "      <td>kongsi alam</td>\n",
       "      <td>industri</td>\n",
       "      <td>menteri seri najib</td>\n",
       "      <td>urus niaga</td>\n",
       "      <td>indonesia</td>\n",
       "    </tr>\n",
       "    <tr>\n",
       "      <th>7</th>\n",
       "      <td>alam bangun</td>\n",
       "      <td>latih</td>\n",
       "      <td>perdana menteri seri</td>\n",
       "      <td>jho low</td>\n",
       "      <td>tanah</td>\n",
       "    </tr>\n",
       "    <tr>\n",
       "      <th>8</th>\n",
       "      <td>selatan</td>\n",
       "      <td>dagang</td>\n",
       "      <td>razak</td>\n",
       "      <td>tuntut</td>\n",
       "      <td>rana</td>\n",
       "    </tr>\n",
       "    <tr>\n",
       "      <th>9</th>\n",
       "      <td>kongsi alam bangun</td>\n",
       "      <td>didik</td>\n",
       "      <td>najib razak</td>\n",
       "      <td>sivil</td>\n",
       "      <td>kena</td>\n",
       "    </tr>\n",
       "  </tbody>\n",
       "</table>\n",
       "</div>"
      ],
      "text/plain": [
       "              topic 0   topic 1               topic 2     topic 3  \\\n",
       "0              negara    negara               menteri         mdb   \n",
       "1              bangun      wang               perdana       niaga   \n",
       "2               sedia    ancang       perdana menteri         doj   \n",
       "3              kongsi      maju                  seri        urus   \n",
       "4                alam    bidang                 najib         low   \n",
       "5            malaysia   ekonomi          menteri seri         jho   \n",
       "6         kongsi alam  industri    menteri seri najib  urus niaga   \n",
       "7         alam bangun     latih  perdana menteri seri     jho low   \n",
       "8             selatan    dagang                 razak      tuntut   \n",
       "9  kongsi alam bangun     didik           najib razak       sivil   \n",
       "\n",
       "         topic 4  \n",
       "0         projek  \n",
       "1           jual  \n",
       "2       syarikat  \n",
       "3           sewa  \n",
       "4  jual syarikat  \n",
       "5         swasta  \n",
       "6      indonesia  \n",
       "7          tanah  \n",
       "8           rana  \n",
       "9           kena  "
      ]
     },
     "execution_count": 16,
     "metadata": {},
     "output_type": "execute_result"
    }
   ],
   "source": [
    "nmf = malaya.topic_model.nmf(corpus,10)\n",
    "nmf.top_topics(5, top_n = 10, return_df = True)"
   ]
  },
  {
   "cell_type": "code",
   "execution_count": 17,
   "metadata": {},
   "outputs": [
    {
     "data": {
      "text/plain": [
       "['sedia kongsi alam bangun ekonomi sosial negara bangun rangka program kerjasama teknikal malaysia mtcp sedia malaysia kongsi alam bangun negara negara selatan selatan',\n",
       " 'sedia kongsi alam bangun ekonomi sosial negara bangun rangka program kerjasama teknikal malaysia mtcp sedia malaysia kongsi alam bangun negara negara selatan selatan',\n",
       " 'kali kongsi maklumat kena pelbagai khidmat biaya program sedia usahawan wanita iks sabah kongsi idea alam aspirasi promosi produk peringkat luas',\n",
       " 'mou memorandum persefahaman arab saudi bidang selamat kongsi alam pakar malaysia deradikalisasi ganas khusus daesh',\n",
       " 'terusi bentang bajet raja sedia promosi tingkat mudah lancong negara']"
      ]
     },
     "execution_count": 17,
     "metadata": {},
     "output_type": "execute_result"
    }
   ],
   "source": [
    "nmf.get_sentences(5)"
   ]
  },
  {
   "cell_type": "code",
   "execution_count": 18,
   "metadata": {},
   "outputs": [
    {
     "data": {
      "text/plain": [
       "[(0,\n",
       "  'negara bangun sedia kongsi alam malaysia kongsi alam alam bangun selatan kongsi alam bangun'),\n",
       " (1, 'negara wang ancang maju bidang ekonomi industri latih dagang didik'),\n",
       " (2,\n",
       "  'menteri perdana perdana menteri seri najib menteri seri menteri seri najib perdana menteri seri razak najib razak'),\n",
       " (3, 'mdb niaga doj urus low jho urus niaga jho low tuntut sivil'),\n",
       " (4,\n",
       "  'projek jual syarikat sewa jual syarikat swasta indonesia tanah rana kena'),\n",
       " (5,\n",
       "  'rakyat malaysia negara rakyat malaysia pimpin pimpin negara maklumat kait asas pandang'),\n",
       " (6,\n",
       "  'parti umno tangguh pilih lembaga putus jalan tangguh pilih pilih parti tangguh pilih parti'),\n",
       " (7, 'ajar raja tingkat laku ajar ajar proses didik bidang maju laku raja'),\n",
       " (8,\n",
       "  'bangun malaysia kawasan alam bangun kawasan main bandar kongsi kongsi alam peran'),\n",
       " (9,\n",
       "  'asli masyarakat jakoa bangun perdana ganti arus arus perdana pelopor bangun arus perdana')]"
      ]
     },
     "execution_count": 18,
     "metadata": {},
     "output_type": "execute_result"
    }
   ],
   "source": [
    "nmf.get_topics(10)"
   ]
  },
  {
   "cell_type": "markdown",
   "metadata": {},
   "source": [
    "## Train LSA model"
   ]
  },
  {
   "cell_type": "code",
   "execution_count": 19,
   "metadata": {},
   "outputs": [
    {
     "data": {
      "text/html": [
       "<div>\n",
       "<style scoped>\n",
       "    .dataframe tbody tr th:only-of-type {\n",
       "        vertical-align: middle;\n",
       "    }\n",
       "\n",
       "    .dataframe tbody tr th {\n",
       "        vertical-align: top;\n",
       "    }\n",
       "\n",
       "    .dataframe thead th {\n",
       "        text-align: right;\n",
       "    }\n",
       "</style>\n",
       "<table border=\"1\" class=\"dataframe\">\n",
       "  <thead>\n",
       "    <tr style=\"text-align: right;\">\n",
       "      <th></th>\n",
       "      <th>topic 0</th>\n",
       "      <th>topic 1</th>\n",
       "      <th>topic 2</th>\n",
       "      <th>topic 3</th>\n",
       "      <th>topic 4</th>\n",
       "    </tr>\n",
       "  </thead>\n",
       "  <tbody>\n",
       "    <tr>\n",
       "      <th>0</th>\n",
       "      <td>negara</td>\n",
       "      <td>negara</td>\n",
       "      <td>negara</td>\n",
       "      <td>mdb</td>\n",
       "      <td>projek</td>\n",
       "    </tr>\n",
       "    <tr>\n",
       "      <th>1</th>\n",
       "      <td>bangun</td>\n",
       "      <td>wang</td>\n",
       "      <td>maju</td>\n",
       "      <td>niaga</td>\n",
       "      <td>malaysia</td>\n",
       "    </tr>\n",
       "    <tr>\n",
       "      <th>2</th>\n",
       "      <td>malaysia</td>\n",
       "      <td>menteri</td>\n",
       "      <td>maju bidang</td>\n",
       "      <td>doj</td>\n",
       "      <td>jual</td>\n",
       "    </tr>\n",
       "    <tr>\n",
       "      <th>3</th>\n",
       "      <td>kongsi</td>\n",
       "      <td>mdb</td>\n",
       "      <td>bidang</td>\n",
       "      <td>urus</td>\n",
       "      <td>raja</td>\n",
       "    </tr>\n",
       "    <tr>\n",
       "      <th>4</th>\n",
       "      <td>alam</td>\n",
       "      <td>raja</td>\n",
       "      <td>teknikal</td>\n",
       "      <td>jho</td>\n",
       "      <td>syarikat</td>\n",
       "    </tr>\n",
       "    <tr>\n",
       "      <th>5</th>\n",
       "      <td>kongsi alam</td>\n",
       "      <td>didik</td>\n",
       "      <td>didik</td>\n",
       "      <td>urus niaga</td>\n",
       "      <td>ajar</td>\n",
       "    </tr>\n",
       "    <tr>\n",
       "      <th>6</th>\n",
       "      <td>sedia</td>\n",
       "      <td>maju</td>\n",
       "      <td>negara negara</td>\n",
       "      <td>low</td>\n",
       "      <td>tingkat</td>\n",
       "    </tr>\n",
       "    <tr>\n",
       "      <th>7</th>\n",
       "      <td>selatan</td>\n",
       "      <td>bidang</td>\n",
       "      <td>tani</td>\n",
       "      <td>jho low</td>\n",
       "      <td>sewa</td>\n",
       "    </tr>\n",
       "    <tr>\n",
       "      <th>8</th>\n",
       "      <td>alam bangun</td>\n",
       "      <td>maju bidang</td>\n",
       "      <td>tani didik</td>\n",
       "      <td>tuntut</td>\n",
       "      <td>jual syarikat</td>\n",
       "    </tr>\n",
       "    <tr>\n",
       "      <th>9</th>\n",
       "      <td>kongsi alam bangun</td>\n",
       "      <td>rakyat</td>\n",
       "      <td>industri diplomasi</td>\n",
       "      <td>tuntut sivil</td>\n",
       "      <td>rakyat</td>\n",
       "    </tr>\n",
       "  </tbody>\n",
       "</table>\n",
       "</div>"
      ],
      "text/plain": [
       "              topic 0      topic 1             topic 2       topic 3  \\\n",
       "0              negara       negara              negara           mdb   \n",
       "1              bangun         wang                maju         niaga   \n",
       "2            malaysia      menteri         maju bidang           doj   \n",
       "3              kongsi          mdb              bidang          urus   \n",
       "4                alam         raja            teknikal           jho   \n",
       "5         kongsi alam        didik               didik    urus niaga   \n",
       "6               sedia         maju       negara negara           low   \n",
       "7             selatan       bidang                tani       jho low   \n",
       "8         alam bangun  maju bidang          tani didik        tuntut   \n",
       "9  kongsi alam bangun       rakyat  industri diplomasi  tuntut sivil   \n",
       "\n",
       "         topic 4  \n",
       "0         projek  \n",
       "1       malaysia  \n",
       "2           jual  \n",
       "3           raja  \n",
       "4       syarikat  \n",
       "5           ajar  \n",
       "6        tingkat  \n",
       "7           sewa  \n",
       "8  jual syarikat  \n",
       "9         rakyat  "
      ]
     },
     "execution_count": 19,
     "metadata": {},
     "output_type": "execute_result"
    }
   ],
   "source": [
    "lsa = malaya.topic_model.lsa(corpus,10)\n",
    "lsa.top_topics(5, top_n = 10, return_df = True)"
   ]
  },
  {
   "cell_type": "code",
   "execution_count": 20,
   "metadata": {},
   "outputs": [
    {
     "data": {
      "text/plain": [
       "['sedia kongsi alam bangun ekonomi sosial negara bangun rangka program kerjasama teknikal malaysia mtcp sedia malaysia kongsi alam bangun negara negara selatan selatan',\n",
       " 'sedia kongsi alam bangun ekonomi sosial negara bangun rangka program kerjasama teknikal malaysia mtcp sedia malaysia kongsi alam bangun negara negara selatan selatan',\n",
       " 'negara bangun malaysia main peran kongsi alam mahir bangun kawasan bandar',\n",
       " 'negara bangun malaysia main peran kongsi alam mahir bangun kawasan bandar',\n",
       " 'bantu negara negara maju bidang ancang ekonomi wang dagang tani didik latih teknikal industri diplomasi']"
      ]
     },
     "execution_count": 20,
     "metadata": {},
     "output_type": "execute_result"
    }
   ],
   "source": [
    "lsa.get_sentences(5)"
   ]
  },
  {
   "cell_type": "code",
   "execution_count": 21,
   "metadata": {},
   "outputs": [
    {
     "data": {
      "text/plain": [
       "[(0,\n",
       "  'negara bangun malaysia kongsi alam kongsi alam sedia selatan alam bangun kongsi alam bangun'),\n",
       " (1, 'negara wang menteri mdb raja didik maju bidang maju bidang rakyat'),\n",
       " (2,\n",
       "  'negara maju maju bidang bidang teknikal didik negara negara tani tani didik industri diplomasi'),\n",
       " (3, 'mdb niaga doj urus jho urus niaga low jho low tuntut tuntut sivil'),\n",
       " (4,\n",
       "  'projek malaysia jual raja syarikat ajar tingkat sewa jual syarikat rakyat'),\n",
       " (5,\n",
       "  'parti pilih rakyat tangguh umno negara pimpin malaysia ambil tangguh pilih'),\n",
       " (6,\n",
       "  'rakyat malaysia menteri bangun asli perdana kawasan bangun kawasan main peran'),\n",
       " (7,\n",
       "  'ajar tingkat ajar ajar proses raja tingkat maju bidang tingkat maju laku raja tingkat raja tingkat maju laku raja'),\n",
       " (8,\n",
       "  'bangun projek bandar kawasan bangun kawasan main alam mahir bangun malaysia main peran mahir negara bangun malaysia'),\n",
       " (9,\n",
       "  'asli masyarakat jakoa bangun arus pelopor bangun arus perdana arus arus perdana ganti masyarakat asli')]"
      ]
     },
     "execution_count": 21,
     "metadata": {},
     "output_type": "execute_result"
    }
   ],
   "source": [
    "lsa.get_topics(10)"
   ]
  },
  {
   "cell_type": "code",
   "execution_count": null,
   "metadata": {},
   "outputs": [],
   "source": []
  }
 ],
 "metadata": {
  "kernelspec": {
   "display_name": "Python 3",
   "language": "python",
   "name": "python3"
  },
  "language_info": {
   "codemirror_mode": {
    "name": "ipython",
    "version": 3
   },
   "file_extension": ".py",
   "mimetype": "text/x-python",
   "name": "python",
   "nbconvert_exporter": "python",
   "pygments_lexer": "ipython3",
   "version": "3.7.5"
  }
 },
 "nbformat": 4,
 "nbformat_minor": 2
}
