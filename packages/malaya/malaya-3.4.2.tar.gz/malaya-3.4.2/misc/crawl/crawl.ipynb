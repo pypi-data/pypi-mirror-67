{
 "cells": [
  {
   "cell_type": "code",
   "execution_count": 1,
   "metadata": {},
   "outputs": [],
   "source": [
    "from core import google_news_run\n",
    "import json\n",
    "import os\n",
    "\n",
    "xgb_model = None"
   ]
  },
  {
   "cell_type": "code",
   "execution_count": null,
   "metadata": {},
   "outputs": [],
   "source": [
    "# with open('new.txt') as fopen:\n",
    "#     topics = fopen.read().split('\\n')\n",
    "    \n",
    "# topics = [topic.split('. ')[1] for topic in topics]\n",
    "# topics[-1]\n",
    "\n",
    "topics = ['mata wang malaysia', 'sukan elektronik']"
   ]
  },
  {
   "cell_type": "code",
   "execution_count": null,
   "metadata": {},
   "outputs": [
    {
     "name": "stderr",
     "output_type": "stream",
     "text": [
      "2019-11-10 19:26:15,649 - DEBUG - Starting new HTTPS connection (1): www.google.com.my:443\n"
     ]
    },
    {
     "name": "stdout",
     "output_type": "stream",
     "text": [
      "crawling mata wang malaysia\n"
     ]
    },
    {
     "name": "stderr",
     "output_type": "stream",
     "text": [
      "2019-11-10 19:26:15,827 - DEBUG - https://www.google.com.my:443 \"GET /search?q=mata+wang+malaysia&source=lnt&tbs=cdr%3A1%2Ccd_min%3A2000%2Ccd_max%3A2020&tbm=nws&start=0 HTTP/1.1\" 200 None\n",
      "2019-11-10 19:26:18,510 - DEBUG - utf-8  confidence = 0.99\n",
      "2019-11-10 19:26:18,511 - DEBUG - SHIFT_JIS Japanese confidence = 0.01\n",
      "2019-11-10 19:26:18,513 - DEBUG - EUC-JP Japanese confidence = 0.01\n",
      "2019-11-10 19:26:18,514 - DEBUG - GB2312 Chinese confidence = 0.01\n",
      "2019-11-10 19:26:18,519 - DEBUG - EUC-KR Korean confidence = 0.01\n",
      "2019-11-10 19:26:18,522 - DEBUG - CP949 Korean confidence = 0.01\n",
      "2019-11-10 19:26:18,526 - DEBUG - Big5 Chinese confidence = 0.01\n",
      "2019-11-10 19:26:18,531 - DEBUG - EUC-TW Taiwan confidence = 0.01\n",
      "2019-11-10 19:26:18,536 - DEBUG - windows-1251 Russian confidence = 0.01\n",
      "2019-11-10 19:26:18,539 - DEBUG - KOI8-R Russian confidence = 0.01\n",
      "2019-11-10 19:26:18,542 - DEBUG - ISO-8859-5 Russian confidence = 0.01\n",
      "2019-11-10 19:26:18,544 - DEBUG - MacCyrillic Russian confidence = 0.0\n",
      "2019-11-10 19:26:18,547 - DEBUG - IBM866 Russian confidence = 0.0\n",
      "2019-11-10 19:26:18,550 - DEBUG - IBM855 Russian confidence = 0.01\n",
      "2019-11-10 19:26:18,556 - DEBUG - ISO-8859-7 Greek confidence = 0.01\n",
      "2019-11-10 19:26:18,559 - DEBUG - windows-1253 Greek confidence = 0.01\n",
      "2019-11-10 19:26:18,564 - DEBUG - ISO-8859-5 Bulgairan confidence = 0.01\n",
      "2019-11-10 19:26:18,570 - DEBUG - windows-1251 Bulgarian confidence = 0.01\n",
      "2019-11-10 19:26:18,580 - DEBUG - TIS-620 Thai confidence = 0.01\n",
      "2019-11-10 19:26:18,583 - DEBUG - ISO-8859-9 Turkish confidence = 0.43329928335115026\n",
      "2019-11-10 19:26:18,589 - DEBUG - windows-1255 Hebrew confidence = 0.0\n",
      "2019-11-10 19:26:18,592 - DEBUG - windows-1255 Hebrew confidence = 0.0\n",
      "2019-11-10 19:26:18,594 - DEBUG - windows-1255 Hebrew confidence = 0.0\n",
      "2019-11-10 19:26:18,598 - DEBUG - utf-8  confidence = 0.99\n",
      "2019-11-10 19:26:18,600 - DEBUG - SHIFT_JIS Japanese confidence = 0.01\n",
      "2019-11-10 19:26:18,605 - DEBUG - EUC-JP Japanese confidence = 0.01\n",
      "2019-11-10 19:26:18,610 - DEBUG - GB2312 Chinese confidence = 0.01\n",
      "2019-11-10 19:26:18,614 - DEBUG - EUC-KR Korean confidence = 0.01\n",
      "2019-11-10 19:26:18,616 - DEBUG - CP949 Korean confidence = 0.01\n",
      "2019-11-10 19:26:18,620 - DEBUG - Big5 Chinese confidence = 0.01\n",
      "2019-11-10 19:26:18,624 - DEBUG - EUC-TW Taiwan confidence = 0.01\n",
      "2019-11-10 19:26:18,752 - DEBUG - Starting new HTTPS connection (1): www.bharian.com.my:443\n",
      "2019-11-10 19:26:19,544 - DEBUG - https://www.bharian.com.my:443 \"GET /berita/nasional/2018/09/473234/nilai-ringgit-pada-prestasi-terbaik-%E2%80%93-guan-eng HTTP/1.1\" 200 None\n",
      "2019-11-10 19:26:19,811 - DEBUG - Starting new HTTPS connection (1): www.bharian.com.my:443\n",
      "2019-11-10 19:26:19,884 - DEBUG - https://www.bharian.com.my:443 \"GET /berita/nasional/2018/09/473234/nilai-ringgit-pada-prestasi-terbaik-%E2%80%93-guan-eng HTTP/1.1\" 200 None\n"
     ]
    },
    {
     "name": "stdout",
     "output_type": "stream",
     "text": [
      "found BM/ID article\n"
     ]
    }
   ],
   "source": [
    "for topic in topics:\n",
    "    # topic = 'isu ' + topic\n",
    "    file = topic + '.json'\n",
    "    if file in os.listdir(os.getcwd()):\n",
    "        print('passed: ', file)\n",
    "        continue\n",
    "    \n",
    "    print('crawling', topic)\n",
    "    results = google_news_run(\n",
    "        topic,\n",
    "        limit = 10000,\n",
    "        year_start = 2000,\n",
    "        year_end = 2020,\n",
    "        debug = False,\n",
    "        sleep_time_every_ten_articles = 5,\n",
    "        xgb_model = xgb_model,\n",
    "    )\n",
    "\n",
    "    with open(file, 'w') as fopen:\n",
    "        fopen.write(json.dumps(results))"
   ]
  },
  {
   "cell_type": "code",
   "execution_count": null,
   "metadata": {},
   "outputs": [],
   "source": []
  }
 ],
 "metadata": {
  "kernelspec": {
   "display_name": "Python 3",
   "language": "python",
   "name": "python3"
  },
  "language_info": {
   "codemirror_mode": {
    "name": "ipython",
    "version": 3
   },
   "file_extension": ".py",
   "mimetype": "text/x-python",
   "name": "python",
   "nbconvert_exporter": "python",
   "pygments_lexer": "ipython3",
   "version": "3.6.5"
  }
 },
 "nbformat": 4,
 "nbformat_minor": 2
}
