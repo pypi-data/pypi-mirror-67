{
 "cells": [
  {
   "cell_type": "markdown",
   "metadata": {},
   "source": [
    "You need to install `ipympl` and `ipyleaflet` to run this notebook:\n",
    "```\n",
    "conda install -c conda-forge ipyleaflet ipympl\n",
    "```"
   ]
  },
  {
   "cell_type": "code",
   "execution_count": null,
   "metadata": {},
   "outputs": [],
   "source": [
    "%matplotlib widget\n",
    "import ipylayout\n",
    "import ipywidgets\n",
    "import ipyleaflet\n",
    "import matplotlib.pyplot as plt\n",
    "import numpy as np\n",
    "plt.ioff()"
   ]
  },
  {
   "cell_type": "code",
   "execution_count": null,
   "metadata": {},
   "outputs": [],
   "source": [
    "# create a plot\n",
    "\n",
    "fig = plt.figure()\n",
    "fig.canvas.header_visible = False\n",
    "fig.canvas.layout.min_height = '300px'\n",
    "fig.canvas.layout.width = '100%'\n",
    "plt.title('Plotting: y=sin(x)')\n",
    "\n",
    "x = np.linspace(0, 20, 500)\n",
    "lines = plt.plot(x, np.sin(x))"
   ]
  },
  {
   "cell_type": "code",
   "execution_count": null,
   "metadata": {},
   "outputs": [],
   "source": [
    "# create a slider\n",
    "\n",
    "slider = ipywidgets.FloatSlider()"
   ]
  },
  {
   "cell_type": "code",
   "execution_count": null,
   "metadata": {},
   "outputs": [],
   "source": [
    "# create a map\n",
    "\n",
    "m = ipyleaflet.Map(\n",
    "    center=(52.204793, 360.121558),\n",
    "    zoom=4\n",
    ")"
   ]
  },
  {
   "cell_type": "code",
   "execution_count": null,
   "metadata": {},
   "outputs": [],
   "source": [
    "# create a layout\n",
    "\n",
    "l = ipylayout.Layout(layout=ipywidgets.Layout(width='100%', height='800px'))\n",
    "l.theme = 'light' # light or dark\n",
    "l.config = {\n",
    "    'content': [{\n",
    "        'type': 'row',\n",
    "        'content': [{\n",
    "            'type': 'component',\n",
    "            'componentName': 'name0',\n",
    "            'componentState': { 'label': 'A' }\n",
    "        }, {\n",
    "            'type': 'column',\n",
    "            'content': [{\n",
    "                'type': 'component',\n",
    "                'componentName': 'name1',\n",
    "                'componentState': { 'label': 'B' }\n",
    "            }, {\n",
    "                'type': 'component',\n",
    "                'componentName': 'name2',\n",
    "                'componentState': { 'label': 'C' }\n",
    "            }]\n",
    "        }]\n",
    "    }]\n",
    "}\n",
    "l.components = {'name0': slider, 'name1': m, 'name2': fig.canvas}"
   ]
  },
  {
   "cell_type": "code",
   "execution_count": null,
   "metadata": {},
   "outputs": [],
   "source": [
    "l"
   ]
  }
 ],
 "metadata": {
  "kernelspec": {
   "display_name": "Python 3",
   "language": "python",
   "name": "python3"
  },
  "language_info": {
   "codemirror_mode": {
    "name": "ipython",
    "version": 3
   },
   "file_extension": ".py",
   "mimetype": "text/x-python",
   "name": "python",
   "nbconvert_exporter": "python",
   "pygments_lexer": "ipython3",
   "version": "3.8.2"
  }
 },
 "nbformat": 4,
 "nbformat_minor": 4
}
