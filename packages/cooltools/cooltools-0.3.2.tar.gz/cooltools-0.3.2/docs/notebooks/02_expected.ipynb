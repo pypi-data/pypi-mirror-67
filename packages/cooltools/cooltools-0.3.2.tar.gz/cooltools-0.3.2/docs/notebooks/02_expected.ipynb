{
 "cells": [
  {
   "cell_type": "markdown",
   "metadata": {},
   "source": [
    "# Expected models on binned contact maps\n",
    "\n",
    "\n",
    "* For intrachromosomal arm regions: P(s) by diagonal\n",
    "* For interchromosomal regions: Average contact frequency by block\n"
   ]
  },
  {
   "cell_type": "code",
   "execution_count": 1,
   "metadata": {
    "ExecuteTime": {
     "end_time": "2018-05-08T02:10:52.840179Z",
     "start_time": "2018-05-08T02:10:51.787737Z"
    }
   },
   "outputs": [],
   "source": [
    "%matplotlib inline\n",
    "import matplotlib.pyplot as plt\n",
    "import matplotlib as mpl\n",
    "import seaborn as sns\n",
    "import multiprocess as mp\n",
    "import numpy as np\n",
    "import pandas as pd\n",
    "import bioframe\n",
    "import cooltools\n",
    "import cooler"
   ]
  },
  {
   "cell_type": "code",
   "execution_count": 2,
   "metadata": {
    "ExecuteTime": {
     "end_time": "2018-05-08T02:10:53.193847Z",
     "start_time": "2018-05-08T02:10:52.845583Z"
    }
   },
   "outputs": [],
   "source": [
    "mm9 = bioframe.fetch_chromsizes('mm9')\n",
    "chromsizes = bioframe.fetch_chromsizes('mm9')\n",
    "chromosomes = list(chromsizes.index)"
   ]
  },
  {
   "cell_type": "code",
   "execution_count": 3,
   "metadata": {
    "ExecuteTime": {
     "end_time": "2018-05-08T02:10:53.220550Z",
     "start_time": "2018-05-08T02:10:53.196035Z"
    }
   },
   "outputs": [],
   "source": [
    "conditions = ['WT', 'T', 'dN']\n",
    "binsize = 100000\n",
    "\n",
    "cooler_paths = {    \n",
    "    'WT' : f'data/UNTR.{binsize}.cool',\n",
    "    'T'  : f'data/TAM.{binsize}.cool',\n",
    "    'dN' : f'data/NIPBL.{binsize}.cool',\n",
    "}\n",
    "long_names = {\n",
    "    'WT': 'Wildtype',\n",
    "    'T' : 'TAM',\n",
    "    'dN': 'NipblKO',\n",
    "}\n",
    "pal = sns.color_palette('colorblind')\n",
    "colors = {\n",
    "    'WT': pal[0],\n",
    "    'T' : '#333333',\n",
    "    'dN': pal[2],\n",
    "}\n",
    "\n",
    "clrs = {\n",
    "    cond: cooler.Cooler(cooler_paths[cond]) for cond in conditions\n",
    "}"
   ]
  },
  {
   "cell_type": "code",
   "execution_count": 4,
   "metadata": {
    "ExecuteTime": {
     "end_time": "2018-05-08T02:12:33.313532Z",
     "start_time": "2018-05-08T02:10:53.222362Z"
    }
   },
   "outputs": [
    {
     "name": "stdout",
     "output_type": "stream",
     "text": [
      "WT cis\n",
      "WT trans\n",
      "T cis\n",
      "T trans\n",
      "dN cis\n",
      "dN trans\n"
     ]
    }
   ],
   "source": [
    "# this cell takes a long time to run\n",
    "from cooltools.expected import diagsum, blocksum_pairwise\n",
    "supports = [(chrom, 0, chromsizes[chrom]) for chrom in chromosomes]\n",
    "\n",
    "\n",
    "cis_exp = {}\n",
    "trs_exp = {}\n",
    "\n",
    "with mp.Pool() as pool:\n",
    "    for cond in conditions:\n",
    "        \n",
    "        print(cond, 'cis')\n",
    "        tables = diagsum(\n",
    "            clrs[cond], \n",
    "            supports, \n",
    "            transforms={\n",
    "                'balanced': lambda p: p['count'] * p['weight1'] * p['weight2'],\n",
    "            },\n",
    "            chunksize=10000000,\n",
    "            ignore_diags=2, \n",
    "            map=pool.map)\n",
    "        \n",
    "        cis_exp[cond] = pd.concat(\n",
    "            [tables[support] for support in supports], \n",
    "            keys=[support[0] for support in supports], \n",
    "            names=['chrom'])\n",
    "        cis_exp[cond]['balanced.avg'] = cis_exp[cond]['balanced.sum'] / cis_exp[cond]['n_valid']\n",
    "        \n",
    "        cis_exp[cond].to_csv(f'data/{long_names[cond]}.{binsize//1000}kb.expected.cis.tsv', sep='\\t')\n",
    "        \n",
    "        print(cond, 'trans')\n",
    "        records = blocksum_pairwise(\n",
    "            clrs[cond],                \n",
    "            supports, \n",
    "            transforms={\n",
    "                'balanced': lambda p: p['count'] * p['weight1'] * p['weight2'],\n",
    "            },\n",
    "            chunksize=10000000,\n",
    "            map=pool.map)\n",
    "        \n",
    "        trs_exp[cond] = pd.DataFrame(\n",
    "            [{'chrom1': s1[0], 'chrom2': s2[0], **rec} for (s1, s2), rec in records.items()], \n",
    "            columns=['chrom1', 'chrom2', 'n_valid', 'count.sum', 'balanced.sum'])\n",
    "        \n",
    "        trs_exp[cond].to_csv(f'data/{long_names[cond]}.{binsize//1000}kb.expected.trans.tsv', sep='\\t', index=False)"
   ]
  },
  {
   "cell_type": "code",
   "execution_count": 5,
   "metadata": {
    "ExecuteTime": {
     "end_time": "2018-05-08T02:12:55.074487Z",
     "start_time": "2018-05-08T02:12:55.061941Z"
    }
   },
   "outputs": [
    {
     "data": {
      "text/html": [
       "<div>\n",
       "<style>\n",
       "    .dataframe thead tr:only-child th {\n",
       "        text-align: right;\n",
       "    }\n",
       "\n",
       "    .dataframe thead th {\n",
       "        text-align: left;\n",
       "    }\n",
       "\n",
       "    .dataframe tbody tr th {\n",
       "        vertical-align: top;\n",
       "    }\n",
       "</style>\n",
       "<table border=\"1\" class=\"dataframe\">\n",
       "  <thead>\n",
       "    <tr style=\"text-align: right;\">\n",
       "      <th></th>\n",
       "      <th></th>\n",
       "      <th>n_valid</th>\n",
       "      <th>count.sum</th>\n",
       "      <th>balanced.sum</th>\n",
       "      <th>balanced.avg</th>\n",
       "    </tr>\n",
       "    <tr>\n",
       "      <th>chrom</th>\n",
       "      <th>diag</th>\n",
       "      <th></th>\n",
       "      <th></th>\n",
       "      <th></th>\n",
       "      <th></th>\n",
       "    </tr>\n",
       "  </thead>\n",
       "  <tbody>\n",
       "    <tr>\n",
       "      <th rowspan=\"5\" valign=\"top\">chr1</th>\n",
       "      <th>0</th>\n",
       "      <td>18900</td>\n",
       "      <td>NaN</td>\n",
       "      <td>NaN</td>\n",
       "      <td>NaN</td>\n",
       "    </tr>\n",
       "    <tr>\n",
       "      <th>1</th>\n",
       "      <td>18652</td>\n",
       "      <td>NaN</td>\n",
       "      <td>NaN</td>\n",
       "      <td>NaN</td>\n",
       "    </tr>\n",
       "    <tr>\n",
       "      <th>2</th>\n",
       "      <td>18638</td>\n",
       "      <td>132754.0</td>\n",
       "      <td>301.561046</td>\n",
       "      <td>0.016180</td>\n",
       "    </tr>\n",
       "    <tr>\n",
       "      <th>3</th>\n",
       "      <td>18634</td>\n",
       "      <td>92489.0</td>\n",
       "      <td>208.895766</td>\n",
       "      <td>0.011210</td>\n",
       "    </tr>\n",
       "    <tr>\n",
       "      <th>4</th>\n",
       "      <td>18623</td>\n",
       "      <td>70473.0</td>\n",
       "      <td>159.212659</td>\n",
       "      <td>0.008549</td>\n",
       "    </tr>\n",
       "  </tbody>\n",
       "</table>\n",
       "</div>"
      ],
      "text/plain": [
       "            n_valid  count.sum  balanced.sum  balanced.avg\n",
       "chrom diag                                                \n",
       "chr1  0       18900        NaN           NaN           NaN\n",
       "      1       18652        NaN           NaN           NaN\n",
       "      2       18638   132754.0    301.561046      0.016180\n",
       "      3       18634    92489.0    208.895766      0.011210\n",
       "      4       18623    70473.0    159.212659      0.008549"
      ]
     },
     "execution_count": 5,
     "metadata": {},
     "output_type": "execute_result"
    }
   ],
   "source": [
    "cis_exp['WT'].head()"
   ]
  },
  {
   "cell_type": "code",
   "execution_count": 6,
   "metadata": {
    "ExecuteTime": {
     "end_time": "2018-05-08T02:12:55.415342Z",
     "start_time": "2018-05-08T02:12:55.404914Z"
    }
   },
   "outputs": [
    {
     "data": {
      "text/html": [
       "<div>\n",
       "<style>\n",
       "    .dataframe thead tr:only-child th {\n",
       "        text-align: right;\n",
       "    }\n",
       "\n",
       "    .dataframe thead th {\n",
       "        text-align: left;\n",
       "    }\n",
       "\n",
       "    .dataframe tbody tr th {\n",
       "        vertical-align: top;\n",
       "    }\n",
       "</style>\n",
       "<table border=\"1\" class=\"dataframe\">\n",
       "  <thead>\n",
       "    <tr style=\"text-align: right;\">\n",
       "      <th></th>\n",
       "      <th>chrom1</th>\n",
       "      <th>chrom2</th>\n",
       "      <th>n_valid</th>\n",
       "      <th>count.sum</th>\n",
       "      <th>balanced.sum</th>\n",
       "    </tr>\n",
       "  </thead>\n",
       "  <tbody>\n",
       "    <tr>\n",
       "      <th>0</th>\n",
       "      <td>chr1</td>\n",
       "      <td>chr2</td>\n",
       "      <td>357714000</td>\n",
       "      <td>147693.0</td>\n",
       "      <td>338.795457</td>\n",
       "    </tr>\n",
       "    <tr>\n",
       "      <th>1</th>\n",
       "      <td>chr1</td>\n",
       "      <td>chr3</td>\n",
       "      <td>314220340</td>\n",
       "      <td>127220.0</td>\n",
       "      <td>309.070464</td>\n",
       "    </tr>\n",
       "    <tr>\n",
       "      <th>2</th>\n",
       "      <td>chr1</td>\n",
       "      <td>chr4</td>\n",
       "      <td>306122580</td>\n",
       "      <td>123733.0</td>\n",
       "      <td>290.960206</td>\n",
       "    </tr>\n",
       "    <tr>\n",
       "      <th>3</th>\n",
       "      <td>chr1</td>\n",
       "      <td>chr5</td>\n",
       "      <td>299987240</td>\n",
       "      <td>112388.0</td>\n",
       "      <td>264.008169</td>\n",
       "    </tr>\n",
       "    <tr>\n",
       "      <th>4</th>\n",
       "      <td>chr1</td>\n",
       "      <td>chr6</td>\n",
       "      <td>294360620</td>\n",
       "      <td>119053.0</td>\n",
       "      <td>280.474475</td>\n",
       "    </tr>\n",
       "  </tbody>\n",
       "</table>\n",
       "</div>"
      ],
      "text/plain": [
       "  chrom1 chrom2    n_valid  count.sum  balanced.sum\n",
       "0   chr1   chr2  357714000   147693.0    338.795457\n",
       "1   chr1   chr3  314220340   127220.0    309.070464\n",
       "2   chr1   chr4  306122580   123733.0    290.960206\n",
       "3   chr1   chr5  299987240   112388.0    264.008169\n",
       "4   chr1   chr6  294360620   119053.0    280.474475"
      ]
     },
     "execution_count": 6,
     "metadata": {},
     "output_type": "execute_result"
    }
   ],
   "source": [
    "trs_exp['WT'].head()"
   ]
  },
  {
   "cell_type": "code",
   "execution_count": 7,
   "metadata": {
    "ExecuteTime": {
     "end_time": "2018-05-08T02:12:56.634905Z",
     "start_time": "2018-05-08T02:12:56.612745Z"
    }
   },
   "outputs": [
    {
     "data": {
      "text/html": [
       "<div>\n",
       "<style>\n",
       "    .dataframe thead tr:only-child th {\n",
       "        text-align: right;\n",
       "    }\n",
       "\n",
       "    .dataframe thead th {\n",
       "        text-align: left;\n",
       "    }\n",
       "\n",
       "    .dataframe tbody tr th {\n",
       "        vertical-align: top;\n",
       "    }\n",
       "</style>\n",
       "<table border=\"1\" class=\"dataframe\">\n",
       "  <thead>\n",
       "    <tr style=\"text-align: right;\">\n",
       "      <th></th>\n",
       "      <th>cis</th>\n",
       "      <th>trans</th>\n",
       "      <th>total</th>\n",
       "      <th>cis:trans</th>\n",
       "      <th>cis:total</th>\n",
       "    </tr>\n",
       "  </thead>\n",
       "  <tbody>\n",
       "    <tr>\n",
       "      <th>NipblKO</th>\n",
       "      <td>60644854</td>\n",
       "      <td>29374071</td>\n",
       "      <td>90018925</td>\n",
       "      <td>2.064571</td>\n",
       "      <td>0.673690</td>\n",
       "    </tr>\n",
       "    <tr>\n",
       "      <th>TAM</th>\n",
       "      <td>46889387</td>\n",
       "      <td>19725414</td>\n",
       "      <td>66614801</td>\n",
       "      <td>2.377105</td>\n",
       "      <td>0.703888</td>\n",
       "    </tr>\n",
       "    <tr>\n",
       "      <th>Wildtype</th>\n",
       "      <td>37717628</td>\n",
       "      <td>14296684</td>\n",
       "      <td>52014312</td>\n",
       "      <td>2.638208</td>\n",
       "      <td>0.725139</td>\n",
       "    </tr>\n",
       "  </tbody>\n",
       "</table>\n",
       "</div>"
      ],
      "text/plain": [
       "               cis     trans     total  cis:trans  cis:total\n",
       "NipblKO   60644854  29374071  90018925   2.064571   0.673690\n",
       "TAM       46889387  19725414  66614801   2.377105   0.703888\n",
       "Wildtype  37717628  14296684  52014312   2.638208   0.725139"
      ]
     },
     "execution_count": 7,
     "metadata": {},
     "output_type": "execute_result"
    }
   ],
   "source": [
    "stats = {}\n",
    "for cond in conditions:    \n",
    "    n_cis = int(cis_exp[cond]['count.sum'].sum())\n",
    "    n_trs = int(trs_exp[cond]['count.sum'].sum())\n",
    "    stats[long_names[cond]] = {\n",
    "        'cis': n_cis,\n",
    "        'trans': n_trs,\n",
    "        'total': n_cis + n_trs,\n",
    "        'cis:trans': n_cis / n_trs,\n",
    "        'cis:total': n_cis / (n_cis + n_trs)\n",
    "    }\n",
    "pd.DataFrame.from_dict(stats, orient='index')"
   ]
  },
  {
   "cell_type": "code",
   "execution_count": 8,
   "metadata": {
    "ExecuteTime": {
     "end_time": "2018-05-08T02:12:57.412670Z",
     "start_time": "2018-05-08T02:12:57.331551Z"
    }
   },
   "outputs": [
    {
     "name": "stderr",
     "output_type": "stream",
     "text": [
      "/home/nezar/miniconda3/envs/py36/lib/python3.6/site-packages/ipykernel_launcher.py:8: RuntimeWarning: invalid value encountered in true_divide\n",
      "  \n"
     ]
    }
   ],
   "source": [
    "sums = {}\n",
    "n_valid = {}\n",
    "scalings = {}\n",
    "for cond in conditions:\n",
    "    grouped = cis_exp[cond].groupby('diag')\n",
    "    n_valid[cond] = grouped['n_valid'].sum().values\n",
    "    sums[cond] = grouped['balanced.sum'].sum().values\n",
    "    scalings[cond] = (sums[cond] / n_valid[cond])"
   ]
  },
  {
   "cell_type": "code",
   "execution_count": 9,
   "metadata": {
    "ExecuteTime": {
     "end_time": "2018-05-08T02:12:58.092032Z",
     "start_time": "2018-05-08T02:12:58.082970Z"
    }
   },
   "outputs": [],
   "source": [
    "from cooltools.lib import numutils\n",
    "\n",
    "def coarsen_geometric(sums, counts, n_bins=100):\n",
    "    \"\"\"Re-bin the expected sums into logarithmically growing bins.\n",
    "    \n",
    "    \"\"\"\n",
    "    dbins = numutils.logbins(1, len(sums), N=n_bins)\n",
    "    spans = list(zip(dbins[:-1], dbins[1:]))\n",
    "    s = np.array([np.nansum(sums[lo:hi]) for lo, hi in spans])\n",
    "    n = np.array([np.nansum(counts[lo:hi]) for lo, hi in spans])\n",
    "    return dbins, s / n"
   ]
  },
  {
   "cell_type": "code",
   "execution_count": 13,
   "metadata": {
    "ExecuteTime": {
     "end_time": "2018-05-08T02:14:43.343690Z",
     "start_time": "2018-05-08T02:14:39.488036Z"
    }
   },
   "outputs": [
    {
     "data": {
      "image/png": "[encoded data removed]",
      "text/plain": [
       "<matplotlib.figure.Figure at 0x7f3f0cb67da0>"
      ]
     },
     "metadata": {},
     "output_type": "display_data"
    }
   ],
   "source": [
    "gs = plt.GridSpec(nrows=2, ncols=1, height_ratios=[10, 2])\n",
    "plt.figure(figsize=(8, 15))\n",
    "\n",
    "SMOOTH = False\n",
    "\n",
    "ax1 = plt.subplot(gs[0])\n",
    "for i, cond in enumerate(conditions):\n",
    "    \n",
    "    ref_point = 200000 // binsize\n",
    "    norm = 1 #scalings[cond][ref_point]\n",
    "    \n",
    "    # cis P(s)\n",
    "    x = np.arange(0, len(scalings[cond]) * binsize, binsize)\n",
    "    y = scalings[cond] / norm\n",
    "    if SMOOTH:\n",
    "        x, y = coarsen_geometric(sums[cond], n_valid[cond], 100)\n",
    "        x *= binsize\n",
    "        x = x[:-1]\n",
    "    \n",
    "    plt.plot(x, y, \n",
    "             color=colors[cond],\n",
    "             label=long_names[cond])\n",
    "    \n",
    "    # average trans levels\n",
    "    for _, row in trs_exp[cond].iterrows():\n",
    "        plt.axhline(\n",
    "            (row['balanced.sum']/row['n_valid']) / norm, \n",
    "            xmin=i/len(conditions),\n",
    "            xmax=(i+1)/len(conditions),\n",
    "            c=colors[cond], \n",
    "            alpha=0.25)\n",
    "\n",
    "plt.xscale('log')\n",
    "plt.yscale('log')\n",
    "plt.ylabel('P(s)')\n",
    "plt.xlabel('separation, bp')\n",
    "plt.legend()\n",
    "plt.gca().set_aspect(1)\n",
    "xlim = plt.xlim()"
   ]
  },
  {
   "cell_type": "code",
   "execution_count": null,
   "metadata": {},
   "outputs": [],
   "source": []
  }
 ],
 "metadata": {
  "kernelspec": {
   "display_name": "Python 3",
   "language": "python",
   "name": "python3"
  },
  "language_info": {
   "codemirror_mode": {
    "name": "ipython",
    "version": 3
   },
   "file_extension": ".py",
   "mimetype": "text/x-python",
   "name": "python",
   "nbconvert_exporter": "python",
   "pygments_lexer": "ipython3",
   "version": "3.7.5"
  },
  "toc": {
   "base_numbering": 1,
   "nav_menu": {},
   "number_sections": true,
   "sideBar": true,
   "skip_h1_title": false,
   "title_cell": "Table of Contents",
   "title_sidebar": "Contents",
   "toc_cell": false,
   "toc_position": {},
   "toc_section_display": "block",
   "toc_window_display": false
  }
 },
 "nbformat": 4,
 "nbformat_minor": 2
}
