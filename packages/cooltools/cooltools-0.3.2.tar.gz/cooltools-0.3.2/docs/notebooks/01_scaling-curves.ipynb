{
 "cells": [
  {
   "cell_type": "markdown",
   "metadata": {},
   "source": [
    "# _P(s)_ curves \n",
    "\n",
    "P(s) from pairs, by strand orientation"
   ]
  },
  {
   "cell_type": "code",
   "execution_count": 1,
   "metadata": {
    "ExecuteTime": {
     "end_time": "2018-05-08T02:08:11.042974Z",
     "start_time": "2018-05-08T02:08:09.811425Z"
    }
   },
   "outputs": [],
   "source": [
    "%matplotlib inline\n",
    "import matplotlib.pyplot as plt\n",
    "import seaborn as sns\n",
    "import multiprocess as mp\n",
    "import numpy as np\n",
    "import pandas as pd\n",
    "import pypairix\n",
    "import bioframe\n",
    "import cooltools"
   ]
  },
  {
   "cell_type": "code",
   "execution_count": 2,
   "metadata": {
    "ExecuteTime": {
     "end_time": "2018-05-08T02:08:11.393617Z",
     "start_time": "2018-05-08T02:08:11.045491Z"
    }
   },
   "outputs": [],
   "source": [
    "mm9 = bioframe.fetch_chromsizes('mm9')\n",
    "chromsizes = bioframe.fetch_chromsizes('mm9')\n",
    "chromosomes = list(chromsizes.index)"
   ]
  },
  {
   "cell_type": "code",
   "execution_count": 3,
   "metadata": {
    "ExecuteTime": {
     "end_time": "2018-05-08T02:08:11.403280Z",
     "start_time": "2018-05-08T02:08:11.395458Z"
    }
   },
   "outputs": [],
   "source": [
    "conditions = ['WT', 'dN']\n",
    "binsize = 100000\n",
    "\n",
    "pairs_paths = {\n",
    "    'WT': 'data/UNTR_R1.nodups.pairs.gz',\n",
    "    'dN': 'data/NIPBL_R1.nodups.pairs.gz'\n",
    "}\n",
    "\n",
    "long_names = {\n",
    "    'WT': 'Wildtype',\n",
    "    'dN': 'NipblKO',\n",
    "}\n",
    "\n",
    "pal = sns.color_palette('colorblind')\n",
    "colors = {\n",
    "    'WT': pal[0],\n",
    "    'dN': pal[2],\n",
    "}"
   ]
  },
  {
   "cell_type": "code",
   "execution_count": 4,
   "metadata": {
    "ExecuteTime": {
     "end_time": "2018-05-08T02:08:14.996343Z",
     "start_time": "2018-05-08T02:08:13.492607Z"
    }
   },
   "outputs": [],
   "source": [
    "from cooltools.expected import compute_scaling\n",
    "import bioframe.dask"
   ]
  },
  {
   "cell_type": "code",
   "execution_count": 5,
   "metadata": {
    "ExecuteTime": {
     "end_time": "2018-05-08T02:08:16.831407Z",
     "start_time": "2018-05-08T02:08:16.388406Z"
    }
   },
   "outputs": [],
   "source": [
    "pairs_header = ['read_id', 'chrom1', 'pos1', 'chrom2', 'pos2', 'strand1', 'strand2', 'pair_type']\n",
    "chrom = 'chr1'\n",
    "\n",
    "df = bioframe.dask.read_pairix_block(\n",
    "    pairs_paths['WT'], \n",
    "    (chrom, chrom),\n",
    "    names=pairs_header,\n",
    "    chunk_level=0)"
   ]
  },
  {
   "cell_type": "code",
   "execution_count": 6,
   "metadata": {
    "ExecuteTime": {
     "end_time": "2018-05-08T02:08:35.876870Z",
     "start_time": "2018-05-08T02:08:16.902118Z"
    }
   },
   "outputs": [
    {
     "name": "stdout",
     "output_type": "stream",
     "text": [
      "4893134\n"
     ]
    },
    {
     "data": {
      "text/html": [
       "<div>\n",
       "<style>\n",
       "    .dataframe thead tr:only-child th {\n",
       "        text-align: right;\n",
       "    }\n",
       "\n",
       "    .dataframe thead th {\n",
       "        text-align: left;\n",
       "    }\n",
       "\n",
       "    .dataframe tbody tr th {\n",
       "        vertical-align: top;\n",
       "    }\n",
       "</style>\n",
       "<table border=\"1\" class=\"dataframe\">\n",
       "  <thead>\n",
       "    <tr style=\"text-align: right;\">\n",
       "      <th></th>\n",
       "      <th>read_id</th>\n",
       "      <th>chrom1</th>\n",
       "      <th>pos1</th>\n",
       "      <th>chrom2</th>\n",
       "      <th>pos2</th>\n",
       "      <th>strand1</th>\n",
       "      <th>strand2</th>\n",
       "      <th>pair_type</th>\n",
       "    </tr>\n",
       "  </thead>\n",
       "  <tbody>\n",
       "    <tr>\n",
       "      <th>0</th>\n",
       "      <td>.</td>\n",
       "      <td>chr1</td>\n",
       "      <td>3000031</td>\n",
       "      <td>chr1</td>\n",
       "      <td>3002463</td>\n",
       "      <td>-</td>\n",
       "      <td>+</td>\n",
       "      <td>LL</td>\n",
       "    </tr>\n",
       "    <tr>\n",
       "      <th>1</th>\n",
       "      <td>.</td>\n",
       "      <td>chr1</td>\n",
       "      <td>3000031</td>\n",
       "      <td>chr1</td>\n",
       "      <td>64746728</td>\n",
       "      <td>-</td>\n",
       "      <td>+</td>\n",
       "      <td>LL</td>\n",
       "    </tr>\n",
       "    <tr>\n",
       "      <th>2</th>\n",
       "      <td>.</td>\n",
       "      <td>chr1</td>\n",
       "      <td>3000036</td>\n",
       "      <td>chr1</td>\n",
       "      <td>12271809</td>\n",
       "      <td>-</td>\n",
       "      <td>+</td>\n",
       "      <td>LL</td>\n",
       "    </tr>\n",
       "    <tr>\n",
       "      <th>3</th>\n",
       "      <td>.</td>\n",
       "      <td>chr1</td>\n",
       "      <td>3000042</td>\n",
       "      <td>chr1</td>\n",
       "      <td>3009611</td>\n",
       "      <td>-</td>\n",
       "      <td>+</td>\n",
       "      <td>LL</td>\n",
       "    </tr>\n",
       "    <tr>\n",
       "      <th>4</th>\n",
       "      <td>.</td>\n",
       "      <td>chr1</td>\n",
       "      <td>3000048</td>\n",
       "      <td>chr1</td>\n",
       "      <td>4637504</td>\n",
       "      <td>-</td>\n",
       "      <td>+</td>\n",
       "      <td>LL</td>\n",
       "    </tr>\n",
       "  </tbody>\n",
       "</table>\n",
       "</div>"
      ],
      "text/plain": [
       "  read_id chrom1     pos1 chrom2      pos2 strand1 strand2 pair_type\n",
       "0       .   chr1  3000031   chr1   3002463       -       +        LL\n",
       "1       .   chr1  3000031   chr1  64746728       -       +        LL\n",
       "2       .   chr1  3000036   chr1  12271809       -       +        LL\n",
       "3       .   chr1  3000042   chr1   3009611       -       +        LL\n",
       "4       .   chr1  3000048   chr1   4637504       -       +        LL"
      ]
     },
     "execution_count": 6,
     "metadata": {},
     "output_type": "execute_result"
    }
   ],
   "source": [
    "df = df.compute()\n",
    "print(len(df))\n",
    "df.head()"
   ]
  },
  {
   "cell_type": "code",
   "execution_count": 7,
   "metadata": {
    "ExecuteTime": {
     "end_time": "2018-05-08T02:08:40.994385Z",
     "start_time": "2018-05-08T02:08:35.878766Z"
    }
   },
   "outputs": [
    {
     "data": {
      "text/plain": [
       "<matplotlib.text.Text at 0x7feace921be0>"
      ]
     },
     "execution_count": 7,
     "metadata": {},
     "output_type": "execute_result"
    },
    {
     "data": {
      "image/png": "[encoded data removed]",
      "text/plain": [
       "<matplotlib.figure.Figure at 0x7feace8d59b0>"
      ]
     },
     "metadata": {},
     "output_type": "display_data"
    }
   ],
   "source": [
    "plt.figure(figsize=(12, 12))\n",
    "\n",
    "dmin = 10\n",
    "dmax = int(1e7)\n",
    "\n",
    "orientations = [\n",
    "    ('+', '-'),\n",
    "    ('-', '+'),\n",
    "    ('+', '+'),\n",
    "    ('-', '-')\n",
    "]\n",
    "\n",
    "grouped = df.groupby(['strand1', 'strand2'])\n",
    "\n",
    "for s1, s2 in orientations:\n",
    "    group = grouped.get_group((s1, s2))\n",
    "    \n",
    "    dbins, obs, areas = compute_scaling(\n",
    "        group, \n",
    "        region1=[0, chromsizes[chrom]], \n",
    "        region2=[0, chromsizes[chrom]],\n",
    "        dmin=dmin, \n",
    "        dmax=dmax)\n",
    "    \n",
    "    dmeans = np.sqrt(dbins[:-1] * dbins[1:])\n",
    "    scaling = obs / areas\n",
    "    plt.loglog(dmeans, scaling, label='{} {}'.format(s1, s2))\n",
    "\n",
    "plt.xlabel(r'genomic separation $s$, bp')\n",
    "plt.ylabel('pair frequency')\n",
    "plt.legend()\n",
    "plt.axvline(6000, c='k', ls='--')\n",
    "plt.gca().set_aspect(1)\n",
    "plt.title(f'WT rep1, {chrom}')"
   ]
  },
  {
   "cell_type": "code",
   "execution_count": null,
   "metadata": {
    "collapsed": true
   },
   "outputs": [],
   "source": []
  },
  {
   "cell_type": "code",
   "execution_count": null,
   "metadata": {
    "collapsed": true
   },
   "outputs": [],
   "source": []
  },
  {
   "cell_type": "code",
   "execution_count": null,
   "metadata": {
    "collapsed": true
   },
   "outputs": [],
   "source": []
  }
 ],
 "metadata": {
  "kernelspec": {
   "display_name": "Python 3",
   "language": "python",
   "name": "python3"
  },
  "language_info": {
   "codemirror_mode": {
    "name": "ipython",
    "version": 3
   },
   "file_extension": ".py",
   "mimetype": "text/x-python",
   "name": "python",
   "nbconvert_exporter": "python",
   "pygments_lexer": "ipython3",
   "version": "3.7.5"
  },
  "toc": {
   "base_numbering": 1,
   "nav_menu": {},
   "number_sections": true,
   "sideBar": true,
   "skip_h1_title": false,
   "title_cell": "Table of Contents",
   "title_sidebar": "Contents",
   "toc_cell": false,
   "toc_position": {},
   "toc_section_display": "block",
   "toc_window_display": false
  }
 },
 "nbformat": 4,
 "nbformat_minor": 2
}
