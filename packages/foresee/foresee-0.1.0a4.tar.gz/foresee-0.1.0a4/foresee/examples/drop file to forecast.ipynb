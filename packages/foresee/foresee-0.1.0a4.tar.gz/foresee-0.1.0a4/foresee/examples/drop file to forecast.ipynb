{
 "cells": [
  {
   "cell_type": "markdown",
   "metadata": {},
   "source": [
    "##### An example of using foresee from UI"
   ]
  },
  {
   "cell_type": "markdown",
   "metadata": {},
   "source": [
    "application runs at this url:  <http://127.0.0.1:8050/>"
   ]
  },
  {
   "cell_type": "code",
   "execution_count": null,
   "metadata": {},
   "outputs": [],
   "source": [
    "# run this command\n",
    "\n",
    "!python ../webapp/app.py"
   ]
  },
  {
   "cell_type": "markdown",
   "metadata": {},
   "source": [
    "Fill out time series information, not all fields are in use today, then drop your data as a csv file.\n",
    "Currently, time series column name should be named 'y' for the process to run properly."
   ]
  },
  {
   "cell_type": "markdown",
   "metadata": {},
   "source": [
    "to kill the process restart the kernel"
   ]
  }
 ],
 "metadata": {
  "kernelspec": {
   "display_name": "Python 3",
   "language": "python",
   "name": "python3"
  },
  "language_info": {
   "codemirror_mode": {
    "name": "ipython",
    "version": 3
   },
   "file_extension": ".py",
   "mimetype": "text/x-python",
   "name": "python",
   "nbconvert_exporter": "python",
   "pygments_lexer": "ipython3",
   "version": "3.6.5"
  }
 },
 "nbformat": 4,
 "nbformat_minor": 2
}
