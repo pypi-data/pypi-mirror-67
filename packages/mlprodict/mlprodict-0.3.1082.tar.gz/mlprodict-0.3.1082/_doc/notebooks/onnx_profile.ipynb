{
  "cells": [
    {
      "cell_type": "markdown",
      "metadata": {},
      "source": [
        "# Memory usage\n",
        "\n",
        "The [first benchmark](http://www.xavierdupre.fr/app/_benchmarks/helpsphinx/sklbench_results/index.html) based on [scikti-learn's benchmark](https://github.com/jeremiedbb/scikit-learn_benchmarks) shows high peaks of memory usage for the python runtime on linear models. Let's see how to measure that."
      ]
    },
    {
      "cell_type": "code",
      "execution_count": 1,
      "metadata": {},
      "outputs": [],
      "source": [
        "from jyquickhelper import add_notebook_menu\n",
        "add_notebook_menu()"
      ]
    },
    {
      "cell_type": "markdown",
      "metadata": {},
      "source": [
        "## Artificial huge data "
      ]
    },
    {
      "cell_type": "code",
      "execution_count": 2,
      "metadata": {},
      "outputs": [
        {
          "data": {
            "text/plain": [
              "0.48"
            ]
          },
          "execution_count": 3,
          "metadata": {},
          "output_type": "execute_result"
        }
      ],
      "source": [
        "import numpy\n",
        "N, nfeat = 300000, 200\n",
        "N * nfeat * 8 / 1e9"
      ]
    },
    {
      "cell_type": "code",
      "execution_count": 3,
      "metadata": {},
      "outputs": [
        {
          "data": {
            "text/plain": [
              "((300000, 200), (300000, 50))"
            ]
          },
          "execution_count": 4,
          "metadata": {},
          "output_type": "execute_result"
        }
      ],
      "source": [
        "X = numpy.random.random((N, nfeat))\n",
        "y = numpy.empty((N, 50))\n",
        "for i in range(y.shape[1]):\n",
        "    y[:, i] = X.sum(axis=1) + numpy.random.random(N)\n",
        "X.shape, y.shape"
      ]
    },
    {
      "cell_type": "code",
      "execution_count": 4,
      "metadata": {},
      "outputs": [],
      "source": [
        "from sklearn.model_selection import train_test_split\n",
        "X_train, X_test, y_train, y_test = train_test_split(X, y, train_size=0.1)"
      ]
    },
    {
      "cell_type": "code",
      "execution_count": 5,
      "metadata": {},
      "outputs": [
        {
          "data": {
            "text/plain": [
              "LinearRegression(copy_X=True, fit_intercept=True, n_jobs=None, normalize=False)"
            ]
          },
          "execution_count": 6,
          "metadata": {},
          "output_type": "execute_result"
        }
      ],
      "source": [
        "from sklearn.linear_model import LinearRegression\n",
        "clr = LinearRegression()\n",
        "clr.fit(X_train, y_train)"
      ]
    },
    {
      "cell_type": "code",
      "execution_count": 6,
      "metadata": {},
      "outputs": [],
      "source": [
        "from mlprodict.onnx_conv import to_onnx\n",
        "from mlprodict.onnxrt import OnnxInference\n",
        "clr_onnx = to_onnx(clr, X_train[:1])\n",
        "oinfpy = OnnxInference(clr_onnx, runtime='python')"
      ]
    },
    {
      "cell_type": "markdown",
      "metadata": {},
      "source": [
        "Let's minimize the cost of verifications on scikit-learn's side."
      ]
    },
    {
      "cell_type": "code",
      "execution_count": 7,
      "metadata": {},
      "outputs": [],
      "source": [
        "from sklearn import set_config\n",
        "set_config(assume_finite=True)"
      ]
    },
    {
      "cell_type": "markdown",
      "metadata": {},
      "source": [
        "## Profiling the prediction function"
      ]
    },
    {
      "cell_type": "code",
      "execution_count": 8,
      "metadata": {},
      "outputs": [
        {
          "name": "stdout",
          "output_type": "stream",
          "text": [
            "\n",
            "  _     ._   __/__   _ _  _  _ _/_   Recorded: 12:58:12  Samples:  3\n",
            " /_//_/// /_\\ / //_// / //_'/ //     Duration: 0.383     CPU time: 0.547\n",
            "/   _/                      v3.0.1\n",
            "\n",
            "Program: c:\\python372_x64\\lib\\site-packages\\ipykernel_launcher.py -f C:\\Users\\xavie\\AppData\\Roaming\\jupyter\\runtime\\kernel-e4d27f6f-be45-4c43-8a6f-ee189d21f0d0.json\n",
            "\n",
            "0.383 profile  pyquickhelper\\pycode\\profiling.py:49\n",
            "|- 0.370 <lambda>  <ipython-input-8-1097e70fe6c7>:2\n",
            "|  `- 0.370 predict  sklearn\\linear_model\\base.py:208\n",
            "|     `- 0.370 _decision_function  sklearn\\linear_model\\base.py:201\n",
            "|        |- 0.222 safe_sparse_dot  sklearn\\utils\\extmath.py:118\n",
            "|        `- 0.148 [self]  \n",
            "`- 0.013 [self]  \n",
            "\n",
            "\n"
          ]
        }
      ],
      "source": [
        "from pyquickhelper.pycode.profiling import profile\n",
        "print(profile(lambda: clr.predict(X_test), \n",
        "              pyinst_format='text')[1])"
      ]
    },
    {
      "cell_type": "code",
      "execution_count": 9,
      "metadata": {
        "scrolled": false
      },
      "outputs": [
        {
          "name": "stdout",
          "output_type": "stream",
          "text": [
            "\n",
            "  _     ._   __/__   _ _  _  _ _/_   Recorded: 12:58:13  Samples:  5\n",
            " /_//_/// /_\\ / //_// / //_'/ //     Duration: 0.484     CPU time: 0.500\n",
            "/   _/                      v3.0.1\n",
            "\n",
            "Program: c:\\python372_x64\\lib\\site-packages\\ipykernel_launcher.py -f C:\\Users\\xavie\\AppData\\Roaming\\jupyter\\runtime\\kernel-e4d27f6f-be45-4c43-8a6f-ee189d21f0d0.json\n",
            "\n",
            "0.484 profile  pyquickhelper\\pycode\\profiling.py:49\n",
            "|- 0.478 <lambda>  <ipython-input-9-da4aa05db7ed>:6\n",
            "|  |- 0.301 nastype32  <ipython-input-9-da4aa05db7ed>:3\n",
            "|  |- 0.145 run  mlprodict\\onnxrt\\onnx_inference.py:333\n",
            "|  |  `- 0.145 _run_sequence_runtime  mlprodict\\onnxrt\\onnx_inference.py:412\n",
            "|  |     `- 0.145 run  mlprodict\\onnxrt\\onnx_inference_node.py:116\n",
            "|  |        `- 0.145 run  mlprodict\\onnxrt\\ops_cpu\\_op.py:279\n",
            "|  |           `- 0.145 run  mlprodict\\onnxrt\\ops_cpu\\_op.py:199\n",
            "|  |              `- 0.145 _run  mlprodict\\onnxrt\\ops_cpu\\op_linear_regressor.py:27\n",
            "|  |                 |- 0.126 numpy_dot_inplace  mlprodict\\onnxrt\\ops_cpu\\_op_numpy_helper.py:8\n",
            "|  |                 |  `- 0.126 dot  <__array_function__ internals>:2\n",
            "|  |                 `- 0.019 [self]  \n",
            "|  `- 0.031 [self]  \n",
            "`- 0.007 [self]  \n",
            "\n",
            "\n"
          ]
        }
      ],
      "source": [
        "import numpy\n",
        "\n",
        "def nastype32(mat):\n",
        "    return mat.astype(numpy.float32)\n",
        "\n",
        "print(profile(lambda: oinfpy.run({'X': nastype32(X_test)}), \n",
        "              pyinst_format='text')[1])"
      ]
    },
    {
      "cell_type": "markdown",
      "metadata": {},
      "source": [
        "Most of the time is taken out into casting into float. Let's take it out."
      ]
    },
    {
      "cell_type": "code",
      "execution_count": 10,
      "metadata": {},
      "outputs": [
        {
          "name": "stdout",
          "output_type": "stream",
          "text": [
            "\n",
            "  _     ._   __/__   _ _  _  _ _/_   Recorded: 12:58:14  Samples:  3\n",
            " /_//_/// /_\\ / //_// / //_'/ //     Duration: 0.094     CPU time: 0.156\n",
            "/   _/                      v3.0.1\n",
            "\n",
            "Program: c:\\python372_x64\\lib\\site-packages\\ipykernel_launcher.py -f C:\\Users\\xavie\\AppData\\Roaming\\jupyter\\runtime\\kernel-e4d27f6f-be45-4c43-8a6f-ee189d21f0d0.json\n",
            "\n",
            "0.094 profile  pyquickhelper\\pycode\\profiling.py:49\n",
            "|- 0.089 <lambda>  <ipython-input-10-fe055596e921>:3\n",
            "|  `- 0.089 run  mlprodict\\onnxrt\\onnx_inference.py:333\n",
            "|     `- 0.089 _run_sequence_runtime  mlprodict\\onnxrt\\onnx_inference.py:412\n",
            "|        `- 0.089 run  mlprodict\\onnxrt\\onnx_inference_node.py:116\n",
            "|           `- 0.089 run  mlprodict\\onnxrt\\ops_cpu\\_op.py:279\n",
            "|              `- 0.089 run  mlprodict\\onnxrt\\ops_cpu\\_op.py:199\n",
            "|                 `- 0.089 _run  mlprodict\\onnxrt\\ops_cpu\\op_linear_regressor.py:27\n",
            "|                    |- 0.079 numpy_dot_inplace  mlprodict\\onnxrt\\ops_cpu\\_op_numpy_helper.py:8\n",
            "|                    |  `- 0.079 dot  <__array_function__ internals>:2\n",
            "|                    `- 0.011 [self]  \n",
            "`- 0.005 [self]  \n",
            "\n",
            "\n"
          ]
        }
      ],
      "source": [
        "X_test32 = X_test.astype(numpy.float32)\n",
        "\n",
        "print(profile(lambda: oinfpy.run({'X': X_test32}), \n",
        "              pyinst_format='text')[1])"
      ]
    },
    {
      "cell_type": "markdown",
      "metadata": {},
      "source": [
        "Much better."
      ]
    },
    {
      "cell_type": "markdown",
      "metadata": {},
      "source": [
        "## SGDClasifier\n",
        "\n",
        "This models is implemented with many ONNX nodes. Let's how it behaves."
      ]
    },
    {
      "cell_type": "code",
      "execution_count": 11,
      "metadata": {},
      "outputs": [
        {
          "data": {
            "text/plain": [
              "SGDClassifier(alpha=0.0001, average=False, class_weight=None,\n",
              "              early_stopping=False, epsilon=0.1, eta0=0.0, fit_intercept=True,\n",
              "              l1_ratio=0.15, learning_rate='optimal', loss='hinge',\n",
              "              max_iter=1000, n_iter_no_change=5, n_jobs=None, penalty='l2',\n",
              "              power_t=0.5, random_state=None, shuffle=True, tol=0.001,\n",
              "              validation_fraction=0.1, verbose=0, warm_start=False)"
            ]
          },
          "execution_count": 12,
          "metadata": {},
          "output_type": "execute_result"
        }
      ],
      "source": [
        "from sklearn.linear_model import SGDClassifier\n",
        "from sklearn.datasets import load_iris\n",
        "data = load_iris()\n",
        "Xir, yir = data.data, data.target\n",
        "Xir_train, Xir_test, yir_train, yir_test = train_test_split(Xir, yir)\n",
        "sgcl = SGDClassifier()\n",
        "sgcl.fit(Xir_train, yir_train)"
      ]
    },
    {
      "cell_type": "code",
      "execution_count": 12,
      "metadata": {},
      "outputs": [],
      "source": [
        "sgd_onnx = to_onnx(sgcl, Xir_train.astype(numpy.float32))"
      ]
    },
    {
      "cell_type": "code",
      "execution_count": 13,
      "metadata": {},
      "outputs": [],
      "source": [
        "%load_ext mlprodict"
      ]
    },
    {
      "cell_type": "code",
      "execution_count": 14,
      "metadata": {},
      "outputs": [
        {
          "data": {
            "text/html": [
              "<div id=\"M37dcba3456374688b43e9b68b3853275-cont\"><div id=\"M37dcba3456374688b43e9b68b3853275\" style=\"width:100%;height:100%;\"></div></div>\n",
              "<script>\n",
              "\n",
              "require(['http://www.xavierdupre.fr/js/vizjs/viz.js'], function() { var svgGraph = Viz(\"digraph{\\n  nodesep=0.05;\\n  ranksep=0.25;\\n  orientation=portrait;\\n\\n  X [shape=box color=red label=\\\"X\\nfloat((0, 4))\\\" fontsize=10];\\n\\n  output_label [shape=box color=green label=\\\"output_label\\nint64((1,))\\\" fontsize=10];\\n  output_probability [shape=box color=green label=\\\"output_probability\\n[{int64, {'kind': 'tensor', 'elem': 'float', 'shape': }}]\\\" fontsize=10];\\n\\n  classes [shape=box label=\\\"classes\\nint32((3,))\\n[0 1 2]\\\" fontsize=10];\\n  coef [shape=box label=\\\"coef\\nfloat32((4, 3))\\n[[   9.5344925   45.874126   -88.39191  ]\\n [  31.4...\\\" fontsize=10];\\n  intercept [shape=box label=\\\"intercept\\nfloat32((3,))\\n[   9.901026  101.29066  -170.73413 ]\\\" fontsize=10];\\n  shape_tensor [shape=box label=\\\"shape_tensor\\nint64((1,))\\n[-1]\\\" fontsize=10];\\n\\n  matmul_result [shape=box label=\\\"matmul_result\\\" fontsize=10];\\n  MatMul [shape=box style=\\\"filled,rounded\\\" color=orange label=\\\"MatMul\\n(MatMul)\\\" fontsize=10];\\n  X -> MatMul;\\n  coef -> MatMul;\\n  MatMul -> matmul_result;\\n\\n  score [shape=box label=\\\"score\\\" fontsize=10];\\n  Add [shape=box style=\\\"filled,rounded\\\" color=orange label=\\\"Add\\n(Add)\\\" fontsize=10];\\n  matmul_result -> Add;\\n  intercept -> Add;\\n  Add -> score;\\n\\n  probabilities [shape=box label=\\\"probabilities\\\" fontsize=10];\\n  Identity [shape=box style=\\\"filled,rounded\\\" color=orange label=\\\"Identity\\n(Identity)\\\" fontsize=10];\\n  score -> Identity;\\n  Identity -> probabilities;\\n\\n  predicted_label [shape=box label=\\\"predicted_label\\\" fontsize=10];\\n  ArgMax [shape=box style=\\\"filled,rounded\\\" color=orange label=\\\"ArgMax\\n(ArgMax)\\naxis=1\\\" fontsize=10];\\n  probabilities -> ArgMax;\\n  ArgMax -> predicted_label;\\n\\n  final_label [shape=box label=\\\"final_label\\\" fontsize=10];\\n  ArrayFeatureExtractor [shape=box style=\\\"filled,rounded\\\" color=orange label=\\\"ArrayFeatureExtractor\\n(ArrayFeatureExtractor)\\\" fontsize=10];\\n  classes -> ArrayFeatureExtractor;\\n  predicted_label -> ArrayFeatureExtractor;\\n  ArrayFeatureExtractor -> final_label;\\n\\n  reshaped_final_label [shape=box label=\\\"reshaped_final_label\\\" fontsize=10];\\n  Reshape [shape=box style=\\\"filled,rounded\\\" color=orange label=\\\"Reshape\\n(Reshape)\\\" fontsize=10];\\n  final_label -> Reshape;\\n  shape_tensor -> Reshape;\\n  Reshape -> reshaped_final_label;\\n\\n  label [shape=box label=\\\"label\\\" fontsize=10];\\n  Cast [shape=box style=\\\"filled,rounded\\\" color=orange label=\\\"Cast\\n(Cast)\\nto=7\\\" fontsize=10];\\n  reshaped_final_label -> Cast;\\n  Cast -> label;\\n\\n  Cast1 [shape=box style=\\\"filled,rounded\\\" color=orange label=\\\"Cast\\n(Cast1)\\nto=7\\\" fontsize=10];\\n  label -> Cast1;\\n  Cast1 -> output_label;\\n\\n  ZipMap [shape=box style=\\\"filled,rounded\\\" color=orange label=\\\"ZipMap\\n(ZipMap)\\nclasslabels_int64s=[0 1 2]\\\" fontsize=10];\\n  probabilities -> ZipMap;\\n  ZipMap -> output_probability;\\n}\");\n",
              "document.getElementById('M37dcba3456374688b43e9b68b3853275').innerHTML = svgGraph; });\n",
              "\n",
              "</script>"
            ],
            "text/plain": [
              "<jyquickhelper.jspy.render_nb_js_dot.RenderJsDot at 0x1e1ab9059b0>"
            ]
          },
          "execution_count": 15,
          "metadata": {},
          "output_type": "execute_result"
        }
      ],
      "source": [
        "%onnxview sgd_onnx"
      ]
    },
    {
      "cell_type": "code",
      "execution_count": 15,
      "metadata": {},
      "outputs": [],
      "source": [
        "sgd_oinf = OnnxInference(sgd_onnx)"
      ]
    },
    {
      "cell_type": "code",
      "execution_count": 16,
      "metadata": {},
      "outputs": [
        {
          "data": {
            "text/plain": [
              "{'output_label': array([2], dtype=int64),\n",
              " 'output_probability': [{0: -172.99298, 1: 219.83615, 2: 223.34476}]}"
            ]
          },
          "execution_count": 17,
          "metadata": {},
          "output_type": "execute_result"
        }
      ],
      "source": [
        "def call_n_times_x1(n, X_test, sgd_oinf):\n",
        "    for i in range(n):\n",
        "        res = sgd_oinf.run({'X': X_test})\n",
        "    return res\n",
        "\n",
        "call_n_times_x1(20, Xir_test[:1].astype(numpy.float32), sgd_oinf)"
      ]
    },
    {
      "cell_type": "code",
      "execution_count": 17,
      "metadata": {},
      "outputs": [
        {
          "data": {
            "text/plain": [
              "array([[-172.99297305,  219.83611031,  223.34468148]])"
            ]
          },
          "execution_count": 18,
          "metadata": {},
          "output_type": "execute_result"
        }
      ],
      "source": [
        "sgcl.decision_function(Xir_test[:1])"
      ]
    },
    {
      "cell_type": "code",
      "execution_count": 18,
      "metadata": {},
      "outputs": [
        {
          "name": "stdout",
          "output_type": "stream",
          "text": [
            "\n",
            "  _     ._   __/__   _ _  _  _ _/_   Recorded: 12:58:15  Samples:  1077\n",
            " /_//_/// /_\\ / //_// / //_'/ //     Duration: 1.585     CPU time: 1.500\n",
            "/   _/                      v3.0.1\n",
            "\n",
            "Program: c:\\python372_x64\\lib\\site-packages\\ipykernel_launcher.py -f C:\\Users\\xavie\\AppData\\Roaming\\jupyter\\runtime\\kernel-e4d27f6f-be45-4c43-8a6f-ee189d21f0d0.json\n",
            "\n",
            "1.584 profile  pyquickhelper\\pycode\\profiling.py:49\n",
            "`- 1.584 <lambda>  <ipython-input-18-ec5a6181dc40>:3\n",
            "   `- 1.584 call_n_times_x1  <ipython-input-16-32f502ef162e>:1\n",
            "      |- 1.545 run  mlprodict\\onnxrt\\onnx_inference.py:333\n",
            "      |  |- 1.487 _run_sequence_runtime  mlprodict\\onnxrt\\onnx_inference.py:412\n",
            "      |  |  |- 1.331 run  mlprodict\\onnxrt\\onnx_inference_node.py:116\n",
            "      |  |  |  |- 0.515 [self]  \n",
            "      |  |  |  |- 0.370 run  mlprodict\\onnxrt\\ops_cpu\\_op.py:112\n",
            "      |  |  |  |  |- 0.228 _run  mlprodict\\onnxrt\\ops_cpu\\op_array_feature_extractor.py:17\n",
            "      |  |  |  |  |- 0.056 _run  mlprodict\\onnxrt\\ops_cpu\\op_cast.py:36\n",
            "      |  |  |  |  |  `- 0.042 <lambda>  mlprodict\\onnxrt\\ops_cpu\\op_cast.py:34\n",
            "      |  |  |  |  |- 0.042 [self]  \n",
            "      |  |  |  |  |- 0.022 _run  mlprodict\\onnxrt\\ops_cpu\\op_reshape.py:16\n",
            "      |  |  |  |  `- 0.021 _run  mlprodict\\onnxrt\\ops_cpu\\op_zipmap.py:165\n",
            "      |  |  |  |- 0.240 run  mlprodict\\onnxrt\\ops_cpu\\_op.py:420\n",
            "      |  |  |  |  |- 0.216 run  mlprodict\\onnxrt\\ops_cpu\\_op.py:357\n",
            "      |  |  |  |  |  |- 0.107 _run  mlprodict\\onnxrt\\ops_cpu\\_op.py:453\n",
            "      |  |  |  |  |  `- 0.094 _run  mlprodict\\onnxrt\\ops_cpu\\op_matmul.py:16\n",
            "      |  |  |  |  |     `- 0.086 numpy_dot_inplace  mlprodict\\onnxrt\\ops_cpu\\_op_numpy_helper.py:8\n",
            "      |  |  |  |  |        |- 0.063 dot  <__array_function__ internals>:2\n",
            "      |  |  |  |  |        |  `- 0.059 [self]  \n",
            "      |  |  |  |  |        `- 0.023 [self]  \n",
            "      |  |  |  |  `- 0.024 [self]  \n",
            "      |  |  |  |- 0.146 run  mlprodict\\onnxrt\\ops_cpu\\_op.py:243\n",
            "      |  |  |  |  `- 0.132 run  mlprodict\\onnxrt\\ops_cpu\\_op.py:199\n",
            "      |  |  |  |     `- 0.123 _run  mlprodict\\onnxrt\\ops_cpu\\op_argmax.py:20\n",
            "      |  |  |  |        |- 0.080 argmax  <__array_function__ internals>:2\n",
            "      |  |  |  |        |  |- 0.061 argmax  numpy\\core\\fromnumeric.py:1091\n",
            "      |  |  |  |        |  |     [4 frames hidden]  numpy\n",
            "      |  |  |  |        |  `- 0.016 [self]  \n",
            "      |  |  |  |        `- 0.043 [self]  \n",
            "      |  |  |  |- 0.043 <listcomp>  mlprodict\\onnxrt\\onnx_inference_node.py:126\n",
            "      |  |  |  `- 0.017 run  mlprodict\\onnxrt\\ops_cpu\\_op.py:279\n",
            "      |  |  |- 0.138 [self]  \n",
            "      |  |  `- 0.018 <dictcomp>  mlprodict\\onnxrt\\onnx_inference.py:513\n",
            "      |  `- 0.058 [self]  \n",
            "      `- 0.038 [self]  \n",
            "\n",
            "\n"
          ]
        }
      ],
      "source": [
        "xir_32 = Xir_test[:1].astype(numpy.float32)\n",
        "\n",
        "print(profile(lambda: call_n_times_x1(20000, xir_32, sgd_oinf), \n",
        "              pyinst_format='text')[1])"
      ]
    },
    {
      "cell_type": "markdown",
      "metadata": {},
      "source": [
        "The code in ``mlprodict/onnxrt/onnx_inference_node.py`` just calls an operator and updates the list containing all the results. The time in here is significant if the number of node is huge if the python runtime is used."
      ]
    },
    {
      "cell_type": "markdown",
      "metadata": {},
      "source": [
        "## Memory profiling"
      ]
    },
    {
      "cell_type": "code",
      "execution_count": 19,
      "metadata": {},
      "outputs": [],
      "source": [
        "%matplotlib inline"
      ]
    },
    {
      "cell_type": "code",
      "execution_count": 20,
      "metadata": {},
      "outputs": [],
      "source": [
        "from memory_profiler import memory_usage\n",
        "memprof_skl = memory_usage((clr.predict, (X_test, )), timestamps=True, interval=0.01)"
      ]
    },
    {
      "cell_type": "code",
      "execution_count": 21,
      "metadata": {},
      "outputs": [
        {
          "data": {
            "text/plain": [
              "[(1548.078125, 1571828296.9566615),\n",
              " (1548.078125, 1571828299.8003368),\n",
              " (1556.70703125, 1571828299.8113093),\n",
              " (1565.3203125, 1571828299.8223698),\n",
              " (1572.63671875, 1571828299.8331084),\n",
              " (1581.921875, 1571828299.844079),\n",
              " (1587.1953125, 1571828299.8540835),\n",
              " (1594.5234375, 1571828299.865023),\n",
              " (1601.18359375, 1571828299.8759935),\n",
              " (1606.8984375, 1571828299.886965),\n",
              " (1615.3203125, 1571828299.897937),\n",
              " (1623.953125, 1571828299.9089084),\n",
              " (1633.41015625, 1571828299.9198797),\n",
              " (1641.4375, 1571828299.9304154),\n",
              " (1650.6953125, 1571828299.941384),\n",
              " (1666.09765625, 1571828299.9523551),\n",
              " (1680.58203125, 1571828299.9633253),\n",
              " (1695.90234375, 1571828299.9742956),\n",
              " (1710.421875, 1571828299.9852667),\n",
              " (1725.75390625, 1571828299.996237),\n",
              " (1738.515625, 1571828300.007209),\n",
              " (1753.70703125, 1571828300.0181797),\n",
              " (1660.453125, 1571828300.029152),\n",
              " (1651.078125, 1571828300.0306547)]"
            ]
          },
          "execution_count": 22,
          "metadata": {},
          "output_type": "execute_result"
        }
      ],
      "source": [
        "memprof_skl"
      ]
    },
    {
      "cell_type": "code",
      "execution_count": 22,
      "metadata": {},
      "outputs": [
        {
          "data": {
            "image/png": "[encoded data removed]",
            "text/plain": [
              "<Figure size 288x288 with 1 Axes>"
            ]
          },
          "metadata": {
            "needs_background": "light"
          },
          "output_type": "display_data"
        }
      ],
      "source": [
        "import matplotlib.pyplot as plt\n",
        "from pandas import DataFrame, to_datetime\n",
        "\n",
        "def mem_profile_plot(mem, title):\n",
        "    fig, ax = plt.subplots(1, 1, figsize=(4, 4))\n",
        "    df = DataFrame(mem, columns=[\"memory\", \"timestamp\"])\n",
        "    df[\"timestamp\"] = to_datetime(df.timestamp)\n",
        "    df[\"timestamp\"] -= df.timestamp.min()\n",
        "    df.set_index(\"timestamp\").plot(ax=ax)\n",
        "    ax.set_title(title + \"\\nmemory usage\")\n",
        "    return ax\n",
        "\n",
        "mem_profile_plot(memprof_skl, \"clr.predict\");"
      ]
    },
    {
      "cell_type": "code",
      "execution_count": 23,
      "metadata": {},
      "outputs": [
        {
          "data": {
            "image/png": "[encoded data removed]",
            "text/plain": [
              "<Figure size 288x288 with 1 Axes>"
            ]
          },
          "metadata": {
            "needs_background": "light"
          },
          "output_type": "display_data"
        }
      ],
      "source": [
        "memprof_onx = memory_usage((oinfpy.run, ({'X': X_test32}, )), timestamps=True, interval=0.01)\n",
        "mem_profile_plot(memprof_onx, \"oinfpy.run\");"
      ]
    },
    {
      "cell_type": "code",
      "execution_count": 24,
      "metadata": {},
      "outputs": [
        {
          "data": {
            "image/png": "[encoded data removed]",
            "text/plain": [
              "<Figure size 288x288 with 1 Axes>"
            ]
          },
          "metadata": {
            "needs_background": "light"
          },
          "output_type": "display_data"
        }
      ],
      "source": [
        "memprof_onx2 = memory_usage((oinfpy.run, ({'X': X_test.astype(numpy.float32, copy=False)}, )),\n",
        "                           timestamps=True, interval=0.01)\n",
        "mem_profile_plot(memprof_onx2, \"oinfpy.run + astype(numpy.float32)\");"
      ]
    },
    {
      "cell_type": "markdown",
      "metadata": {},
      "source": [
        "This is not very informative."
      ]
    },
    {
      "cell_type": "markdown",
      "metadata": {},
      "source": [
        "## Memory profiling outside the notebook\n",
        "\n",
        "More precise."
      ]
    },
    {
      "cell_type": "code",
      "execution_count": 25,
      "metadata": {},
      "outputs": [
        {
          "name": "stdout",
          "output_type": "stream",
          "text": [
            "Writing mprof_clr_predict.py\n"
          ]
        }
      ],
      "source": [
        "%%writefile mprof_clr_predict.py\n",
        "\n",
        "import numpy\n",
        "N, nfeat = 300000, 200\n",
        "X = numpy.random.random((N, nfeat))\n",
        "y = numpy.empty((N, 50))\n",
        "for i in range(y.shape[1]):\n",
        "    y[:, i] = X.sum(axis=1) + numpy.random.random(N)\n",
        "    \n",
        "from sklearn.model_selection import train_test_split\n",
        "X_train, X_test, y_train, y_test = train_test_split(X, y, train_size=0.1)   \n",
        "\n",
        "from sklearn.linear_model import LinearRegression\n",
        "clr = LinearRegression()\n",
        "clr.fit(X_train, y_train)\n",
        "\n",
        "from sklearn import set_config\n",
        "set_config(assume_finite=True)    \n",
        "\n",
        "from memory_profiler import profile\n",
        "@profile\n",
        "def clr_predict():\n",
        "    clr.predict(X_test)\n",
        "    \n",
        "clr_predict()"
      ]
    },
    {
      "cell_type": "code",
      "execution_count": 26,
      "metadata": {},
      "outputs": [
        {
          "name": "stdout",
          "output_type": "stream",
          "text": [
            "Filename: mprof_clr_predict.py\n",
            "\n",
            "Line #    Mem usage    Increment   Line Contents\n",
            "================================================\n",
            "    20    477.1 MiB    477.1 MiB   @profile\n",
            "    21                             def clr_predict():\n",
            "    22    194.1 MiB      0.0 MiB       clr.predict(X_test)\n",
            "\n",
            "\n"
          ]
        }
      ],
      "source": [
        "!python -m memory_profiler mprof_clr_predict.py --timestamp"
      ]
    },
    {
      "cell_type": "markdown",
      "metadata": {},
      "source": [
        "The notebook seems to increase the memory usage."
      ]
    },
    {
      "cell_type": "code",
      "execution_count": 27,
      "metadata": {},
      "outputs": [
        {
          "name": "stdout",
          "output_type": "stream",
          "text": [
            "Writing mprof_onnx_run.py\n"
          ]
        }
      ],
      "source": [
        "%%writefile mprof_onnx_run.py\n",
        "\n",
        "import numpy\n",
        "N, nfeat = 300000, 200\n",
        "X = numpy.random.random((N, nfeat))\n",
        "y = numpy.empty((N, 50))\n",
        "for i in range(y.shape[1]):\n",
        "    y[:, i] = X.sum(axis=1) + numpy.random.random(N)\n",
        "    \n",
        "from sklearn.model_selection import train_test_split\n",
        "X_train, X_test, y_train, y_test = train_test_split(X, y, train_size=0.1)   \n",
        "\n",
        "from sklearn.linear_model import LinearRegression\n",
        "clr = LinearRegression()\n",
        "clr.fit(X_train, y_train)\n",
        "\n",
        "from mlprodict.onnx_conv import to_onnx\n",
        "from mlprodict.onnxrt import OnnxInference\n",
        "clr_onnx = to_onnx(clr, X_train[:1])\n",
        "oinfpy = OnnxInference(clr_onnx, runtime='python')\n",
        "X_test32 = X_test.astype(numpy.float32)\n",
        "\n",
        "from sklearn import set_config\n",
        "set_config(assume_finite=True)    \n",
        "\n",
        "from memory_profiler import profile\n",
        "@profile\n",
        "def oinfpy_predict():\n",
        "    oinfpy.run({'X': X_test32})\n",
        "    \n",
        "oinfpy_predict()"
      ]
    },
    {
      "cell_type": "code",
      "execution_count": 28,
      "metadata": {},
      "outputs": [
        {
          "name": "stdout",
          "output_type": "stream",
          "text": [
            "Filename: mprof_onnx_run.py\n",
            "\n",
            "Line #    Mem usage    Increment   Line Contents\n",
            "================================================\n",
            "    26   1310.9 MiB   1310.9 MiB   @profile\n",
            "    27                             def oinfpy_predict():\n",
            "    28   1311.0 MiB      0.1 MiB       oinfpy.run({'X': X_test32})\n",
            "\n",
            "\n"
          ]
        }
      ],
      "source": [
        "!python -m memory_profiler mprof_onnx_run.py --timestamp"
      ]
    },
    {
      "cell_type": "code",
      "execution_count": 29,
      "metadata": {},
      "outputs": [
        {
          "name": "stdout",
          "output_type": "stream",
          "text": [
            "Writing mprof_onnx_run32.py\n"
          ]
        }
      ],
      "source": [
        "%%writefile mprof_onnx_run32.py\n",
        "\n",
        "import numpy\n",
        "N, nfeat = 300000, 200\n",
        "X = numpy.random.random((N, nfeat))\n",
        "y = numpy.empty((N, 50))\n",
        "for i in range(y.shape[1]):\n",
        "    y[:, i] = X.sum(axis=1) + numpy.random.random(N)\n",
        "    \n",
        "from sklearn.model_selection import train_test_split\n",
        "X_train, X_test, y_train, y_test = train_test_split(X, y, train_size=0.1)   \n",
        "\n",
        "from sklearn.linear_model import LinearRegression\n",
        "clr = LinearRegression()\n",
        "clr.fit(X_train, y_train)\n",
        "\n",
        "from mlprodict.onnx_conv import to_onnx\n",
        "from mlprodict.onnxrt import OnnxInference\n",
        "clr_onnx = to_onnx(clr, X_train[:1])\n",
        "oinfpy = OnnxInference(clr_onnx, runtime='python')\n",
        "\n",
        "from sklearn import set_config\n",
        "set_config(assume_finite=True)    \n",
        "\n",
        "from memory_profiler import profile\n",
        "@profile\n",
        "def oinfpy_predict32():\n",
        "    oinfpy.run({'X': X_test.astype(numpy.float32)})\n",
        "    \n",
        "oinfpy_predict32()"
      ]
    },
    {
      "cell_type": "code",
      "execution_count": 30,
      "metadata": {},
      "outputs": [
        {
          "name": "stdout",
          "output_type": "stream",
          "text": [
            "Filename: mprof_onnx_run32.py\n",
            "\n",
            "Line #    Mem usage    Increment   Line Contents\n",
            "================================================\n",
            "    25   1292.1 MiB   1292.1 MiB   @profile\n",
            "    26                             def oinfpy_predict32():\n",
            "    27   1292.2 MiB      0.1 MiB       oinfpy.run({'X': X_test.astype(numpy.float32)})\n",
            "\n",
            "\n"
          ]
        }
      ],
      "source": [
        "!python -m memory_profiler mprof_onnx_run32.py --timestamp"
      ]
    },
    {
      "cell_type": "code",
      "execution_count": 31,
      "metadata": {},
      "outputs": [],
      "source": []
    }
  ],
  "metadata": {
    "kernelspec": {
      "display_name": "Python 3",
      "language": "python",
      "name": "python3"
    },
    "language_info": {
      "codemirror_mode": {
        "name": "ipython",
        "version": 3
      },
      "file_extension": ".py",
      "mimetype": "text/x-python",
      "name": "python",
      "nbconvert_exporter": "python",
      "pygments_lexer": "ipython3",
      "version": "3.7.2"
    }
  },
  "nbformat": 4,
  "nbformat_minor": 2
}