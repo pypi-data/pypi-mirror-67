{
  "cells": [
    {
      "cell_type": "markdown",
      "metadata": {},
      "source": [
        "# ONNX graph, single or double floats\n",
        "\n",
        "The notebook shows discrepencies obtained by using double floats instead of single float in two cases. The second one involves [GaussianProcessRegressor](https://scikit-learn.org/stable/modules/generated/sklearn.gaussian_process.GaussianProcessRegressor.html)."
      ]
    },
    {
      "cell_type": "code",
      "execution_count": 1,
      "metadata": {},
      "outputs": [
        {
          "data": {
            "text/html": [
              "<div id=\"my_id_menu_nb\">run previous cell, wait for 2 seconds</div>\n",
              "<script>\n",
              "function repeat_indent_string(n){\n",
              "    var a = \"\" ;\n",
              "    for ( ; n > 0 ; --n)\n",
              "        a += \"    \";\n",
              "    return a;\n",
              "}\n",
              "// look up into all sections and builds an automated menu //\n",
              "var update_menu_string = function(begin, lfirst, llast, sformat, send, keep_item, begin_format, end_format) {\n",
              "    var anchors = document.getElementsByClassName(\"section\");\n",
              "    if (anchors.length == 0) {\n",
              "        anchors = document.getElementsByClassName(\"text_cell_render rendered_html\");\n",
              "    }\n",
              "    var i,t;\n",
              "    var text_menu = begin;\n",
              "    var text_memo = \"<pre>\\nlength:\" + anchors.length + \"\\n\";\n",
              "    var ind = \"\";\n",
              "    var memo_level = 1;\n",
              "    var href;\n",
              "    var tags = [];\n",
              "    var main_item = 0;\n",
              "    var format_open = 0;\n",
              "    for (i = 0; i <= llast; i++)\n",
              "        tags.push(\"h\" + i);\n",
              "\n",
              "    for (i = 0; i < anchors.length; i++) {\n",
              "        text_memo += \"**\" + anchors[i].id + \"--\\n\";\n",
              "\n",
              "        var child = null;\n",
              "        for(t = 0; t < tags.length; t++) {\n",
              "            var r = anchors[i].getElementsByTagName(tags[t]);\n",
              "            if (r.length > 0) {\n",
              "child = r[0];\n",
              "break;\n",
              "            }\n",
              "        }\n",
              "        if (child == null) {\n",
              "            text_memo += \"null\\n\";\n",
              "            continue;\n",
              "        }\n",
              "        if (anchors[i].hasAttribute(\"id\")) {\n",
              "            // when converted in RST\n",
              "            href = anchors[i].id;\n",
              "            text_memo += \"#1-\" + href;\n",
              "            // passer \u00e0 child suivant (le chercher)\n",
              "        }\n",
              "        else if (child.hasAttribute(\"id\")) {\n",
              "            // in a notebook\n",
              "            href = child.id;\n",
              "            text_memo += \"#2-\" + href;\n",
              "        }\n",
              "        else {\n",
              "            text_memo += \"#3-\" + \"*\" + \"\\n\";\n",
              "            continue;\n",
              "        }\n",
              "        var title = child.textContent;\n",
              "        var level = parseInt(child.tagName.substring(1,2));\n",
              "\n",
              "        text_memo += \"--\" + level + \"?\" + lfirst + \"--\" + title + \"\\n\";\n",
              "\n",
              "        if ((level < lfirst) || (level > llast)) {\n",
              "            continue ;\n",
              "        }\n",
              "        if (title.endsWith('\u00b6')) {\n",
              "            title = title.substring(0,title.length-1).replace(\"<\", \"&lt;\")\n",
              "         .replace(\">\", \"&gt;\").replace(\"&\", \"&amp;\");\n",
              "        }\n",
              "        if (title.length == 0) {\n",
              "            continue;\n",
              "        }\n",
              "\n",
              "        while (level < memo_level) {\n",
              "            text_menu += end_format + \"</ul>\\n\";\n",
              "            format_open -= 1;\n",
              "            memo_level -= 1;\n",
              "        }\n",
              "        if (level == lfirst) {\n",
              "            main_item += 1;\n",
              "        }\n",
              "        if (keep_item != -1 && main_item != keep_item + 1) {\n",
              "            // alert(main_item + \" - \" + level + \" - \" + keep_item);\n",
              "            continue;\n",
              "        }\n",
              "        while (level > memo_level) {\n",
              "            text_menu += \"<ul>\\n\";\n",
              "            memo_level += 1;\n",
              "        }\n",
              "        text_menu += repeat_indent_string(level-2);\n",
              "        text_menu += begin_format + sformat.replace(\"__HREF__\", href).replace(\"__TITLE__\", title);\n",
              "        format_open += 1;\n",
              "    }\n",
              "    while (1 < memo_level) {\n",
              "        text_menu += end_format + \"</ul>\\n\";\n",
              "        memo_level -= 1;\n",
              "        format_open -= 1;\n",
              "    }\n",
              "    text_menu += send;\n",
              "    //text_menu += \"\\n\" + text_memo;\n",
              "\n",
              "    while (format_open > 0) {\n",
              "        text_menu += end_format;\n",
              "        format_open -= 1;\n",
              "    }\n",
              "    return text_menu;\n",
              "};\n",
              "var update_menu = function() {\n",
              "    var sbegin = \"\";\n",
              "    var sformat = '<a href=\"#__HREF__\">__TITLE__</a>';\n",
              "    var send = \"\";\n",
              "    var begin_format = '<li>';\n",
              "    var end_format = '</li>';\n",
              "    var keep_item = -1;\n",
              "    var text_menu = update_menu_string(sbegin, 2, 4, sformat, send, keep_item,\n",
              "       begin_format, end_format);\n",
              "    var menu = document.getElementById(\"my_id_menu_nb\");\n",
              "    menu.innerHTML=text_menu;\n",
              "};\n",
              "window.setTimeout(update_menu,2000);\n",
              "            </script>"
            ],
            "text/plain": [
              "<IPython.core.display.HTML object>"
            ]
          },
          "execution_count": 2,
          "metadata": {},
          "output_type": "execute_result"
        }
      ],
      "source": [
        "from jyquickhelper import add_notebook_menu\n",
        "add_notebook_menu()"
      ]
    },
    {
      "cell_type": "markdown",
      "metadata": {},
      "source": [
        "## Simple case of a linear regression\n",
        "\n",
        "A linear regression is simply a matrix multiplication followed by an addition: $Y=AX+B$. Let's train one with [scikit-learn](https://scikit-learn.org/stable/)."
      ]
    },
    {
      "cell_type": "code",
      "execution_count": 2,
      "metadata": {},
      "outputs": [
        {
          "data": {
            "text/plain": [
              "LinearRegression(copy_X=True, fit_intercept=True, n_jobs=None, normalize=False)"
            ]
          },
          "execution_count": 3,
          "metadata": {},
          "output_type": "execute_result"
        }
      ],
      "source": [
        "from sklearn.linear_model import LinearRegression\n",
        "from sklearn.datasets import load_boston\n",
        "from sklearn.model_selection import train_test_split\n",
        "data = load_boston()\n",
        "X, y = data.data, data.target\n",
        "X_train, X_test, y_train, y_test = train_test_split(X, y)\n",
        "clr = LinearRegression()\n",
        "clr.fit(X_train, y_train)"
      ]
    },
    {
      "cell_type": "code",
      "execution_count": 3,
      "metadata": {},
      "outputs": [
        {
          "data": {
            "text/plain": [
              "0.7754955458855879"
            ]
          },
          "execution_count": 4,
          "metadata": {},
          "output_type": "execute_result"
        }
      ],
      "source": [
        "clr.score(X_test, y_test)"
      ]
    },
    {
      "cell_type": "code",
      "execution_count": 4,
      "metadata": {},
      "outputs": [
        {
          "data": {
            "text/plain": [
              "array([-9.62221179e-02,  3.97769669e-02,  2.41701192e-02,  1.71686963e+00,\n",
              "       -1.84312581e+01,  3.80408374e+00,  4.42426441e-03, -1.49546082e+00,\n",
              "        3.40876918e-01, -1.46762173e-02, -9.17680772e-01,  9.55019592e-03,\n",
              "       -5.13600350e-01])"
            ]
          },
          "execution_count": 5,
          "metadata": {},
          "output_type": "execute_result"
        }
      ],
      "source": [
        "clr.coef_"
      ]
    },
    {
      "cell_type": "code",
      "execution_count": 5,
      "metadata": {},
      "outputs": [
        {
          "data": {
            "text/plain": [
              "36.47803687780717"
            ]
          },
          "execution_count": 6,
          "metadata": {},
          "output_type": "execute_result"
        }
      ],
      "source": [
        "clr.intercept_"
      ]
    },
    {
      "cell_type": "markdown",
      "metadata": {},
      "source": [
        "Let's predict with *scikit-learn* and *python*."
      ]
    },
    {
      "cell_type": "code",
      "execution_count": 6,
      "metadata": {},
      "outputs": [
        {
          "data": {
            "text/plain": [
              "array([12.48507816, 13.15696794, 31.20718141, 14.70775907,  8.52174843])"
            ]
          },
          "execution_count": 7,
          "metadata": {},
          "output_type": "execute_result"
        }
      ],
      "source": [
        "ypred = clr.predict(X_test)\n",
        "ypred[:5]"
      ]
    },
    {
      "cell_type": "code",
      "execution_count": 7,
      "metadata": {},
      "outputs": [
        {
          "data": {
            "text/plain": [
              "array([12.48507816, 13.15696794, 31.20718141, 14.70775907,  8.52174843])"
            ]
          },
          "execution_count": 8,
          "metadata": {},
          "output_type": "execute_result"
        }
      ],
      "source": [
        "py_pred = X_test @ clr.coef_ + clr.intercept_\n",
        "py_pred[:5]"
      ]
    },
    {
      "cell_type": "code",
      "execution_count": 8,
      "metadata": {},
      "outputs": [
        {
          "data": {
            "text/plain": [
              "(dtype('float64'), dtype('float64'))"
            ]
          },
          "execution_count": 9,
          "metadata": {},
          "output_type": "execute_result"
        }
      ],
      "source": [
        "clr.coef_.dtype, clr.intercept_.dtype"
      ]
    },
    {
      "cell_type": "markdown",
      "metadata": {},
      "source": [
        "## With ONNX\n",
        "\n",
        "With *ONNX*, we would write this operation as follows... We still need to convert everything into single floats = float32."
      ]
    },
    {
      "cell_type": "code",
      "execution_count": 9,
      "metadata": {},
      "outputs": [],
      "source": [
        "%load_ext mlprodict"
      ]
    },
    {
      "cell_type": "code",
      "execution_count": 10,
      "metadata": {},
      "outputs": [
        {
          "data": {
            "text/html": [
              "<div id=\"M4aa07f8d00af4782995b6ad88aa985e5-cont\"><div id=\"M4aa07f8d00af4782995b6ad88aa985e5\" style=\"width:100%;height:100%;\"></div></div>\n",
              "<script>\n",
              "\n",
              "require(['http://www.xavierdupre.fr/js/vizjs/viz.js'], function() { var svgGraph = Viz(\"digraph{\\n  orientation=portrait;\\n  nodesep=0.05;\\n  ranksep=0.25;\\n\\n  X [shape=box color=red label=\\\"X\\nfloat((0, 13))\\\" fontsize=10];\\n\\n  Y [shape=box color=green label=\\\"Y\\nfloat((0,))\\\" fontsize=10];\\n\\n  Ma_MatMulcst [shape=box label=\\\"Ma_MatMulcst\\nfloat32((13,))\\n[-9.6222118e-02  3.9776966e-02  2.4170119e-02  1.7...\\\" fontsize=10];\\n  Ad_Addcst [shape=box label=\\\"Ad_Addcst\\nfloat32((1,))\\n[36.478035]\\\" fontsize=10];\\n\\n  Ma_Y0 [shape=box label=\\\"Ma_Y0\\\" fontsize=10];\\n  Ma_MatMul [shape=box style=\\\"filled,rounded\\\" color=orange label=\\\"MatMul\\n(Ma_MatMul)\\\" fontsize=10];\\n  X -> Ma_MatMul;\\n  Ma_MatMulcst -> Ma_MatMul;\\n  Ma_MatMul -> Ma_Y0;\\n\\n  Ad_Add [shape=box style=\\\"filled,rounded\\\" color=orange label=\\\"Add\\n(Ad_Add)\\\" fontsize=10];\\n  Ma_Y0 -> Ad_Add;\\n  Ad_Addcst -> Ad_Add;\\n  Ad_Add -> Y;\\n}\");\n",
              "document.getElementById('M4aa07f8d00af4782995b6ad88aa985e5').innerHTML = svgGraph; });\n",
              "\n",
              "</script>"
            ],
            "text/plain": [
              "<jyquickhelper.jspy.render_nb_js_dot.RenderJsDot at 0x1986262bfd0>"
            ]
          },
          "execution_count": 11,
          "metadata": {},
          "output_type": "execute_result"
        }
      ],
      "source": [
        "from skl2onnx.algebra.onnx_ops import OnnxMatMul, OnnxAdd\n",
        "import numpy\n",
        "\n",
        "onnx_fct = OnnxAdd(OnnxMatMul('X', clr.coef_.astype(numpy.float32)),\n",
        "                   numpy.array([clr.intercept_]),\n",
        "                   output_names=['Y'])\n",
        "onnx_model32 = onnx_fct.to_onnx({'X': X_test.astype(numpy.float32)},\n",
        "                              dtype=numpy.float32)\n",
        "\n",
        "# add -l 1 if nothing shows up\n",
        "%onnxview onnx_model32"
      ]
    },
    {
      "cell_type": "markdown",
      "metadata": {},
      "source": [
        "The next line uses a python runtime to compute the prediction."
      ]
    },
    {
      "cell_type": "code",
      "execution_count": 11,
      "metadata": {},
      "outputs": [
        {
          "data": {
            "text/plain": [
              "array([12.485075 , 13.156963 , 31.207178 , 14.70776  ,  8.5217495],\n",
              "      dtype=float32)"
            ]
          },
          "execution_count": 12,
          "metadata": {},
          "output_type": "execute_result"
        }
      ],
      "source": [
        "from mlprodict.onnxrt import OnnxInference\n",
        "oinf = OnnxInference(onnx_model32)\n",
        "ort_pred = oinf.run({'X': X_test.astype(numpy.float32)})['Y']\n",
        "ort_pred[:5]"
      ]
    },
    {
      "cell_type": "markdown",
      "metadata": {},
      "source": [
        "And here is the same with [onnxruntime](https://github.com/microsoft/onnxruntime)..."
      ]
    },
    {
      "cell_type": "code",
      "execution_count": 12,
      "metadata": {},
      "outputs": [
        {
          "data": {
            "text/plain": [
              "array([12.485075 , 13.156963 , 31.207178 , 14.70776  ,  8.5217495],\n",
              "      dtype=float32)"
            ]
          },
          "execution_count": 13,
          "metadata": {},
          "output_type": "execute_result"
        }
      ],
      "source": [
        "from mlprodict.tools.asv_options_helper import get_ir_version_from_onnx\n",
        "# line needed when onnx is more recent than onnxruntime\n",
        "onnx_model32.ir_version = get_ir_version_from_onnx()\n",
        "oinf = OnnxInference(onnx_model32, runtime=\"onnxruntime1\")\n",
        "ort_pred = oinf.run({'X': X_test.astype(numpy.float32)})['Y']\n",
        "ort_pred[:5]"
      ]
    },
    {
      "cell_type": "markdown",
      "metadata": {},
      "source": [
        "## With double instead of single float\n",
        "\n",
        "[ONNX](https://onnx.ai/) was originally designed for deep learning which usually uses floats but it does not mean cannot be used. Every number is converted into double floats."
      ]
    },
    {
      "cell_type": "code",
      "execution_count": 13,
      "metadata": {},
      "outputs": [],
      "source": [
        "onnx_fct = OnnxAdd(OnnxMatMul('X', clr.coef_.astype(numpy.float64)),\n",
        "                   numpy.array([clr.intercept_]),\n",
        "                   output_names=['Y'])\n",
        "onnx_model64 = onnx_fct.to_onnx({'X': X_test.astype(numpy.float64)},\n",
        "                              dtype=numpy.float64)"
      ]
    },
    {
      "cell_type": "markdown",
      "metadata": {},
      "source": [
        "And now the *python* runtime..."
      ]
    },
    {
      "cell_type": "code",
      "execution_count": 14,
      "metadata": {},
      "outputs": [
        {
          "data": {
            "text/plain": [
              "array([12.48507816, 13.15696794, 31.20718141, 14.70775907,  8.52174843])"
            ]
          },
          "execution_count": 15,
          "metadata": {},
          "output_type": "execute_result"
        }
      ],
      "source": [
        "oinf = OnnxInference(onnx_model64)\n",
        "ort_pred = oinf.run({'X': X_test})['Y']\n",
        "ort_pred[:5]"
      ]
    },
    {
      "cell_type": "markdown",
      "metadata": {},
      "source": [
        "And the *onnxruntime* version of it, not fully supportive of double yet..."
      ]
    },
    {
      "cell_type": "code",
      "execution_count": 15,
      "metadata": {},
      "outputs": [
        {
          "name": "stdout",
          "output_type": "stream",
          "text": [
            "Unable to create InferenceSession due to '[ONNXRuntimeError] : 2 : INVALID_ARGUMENT : Failed to load model with error: Unknown model file format version.'\n",
            "ir_version: 7\n",
            "producer_name: \"skl2onnx\"\n",
            "producer_version: \"1.6.995\"\n",
            "domain: \"ai.onnx\"\n",
            "model_version: 0\n",
            "graph {\n",
            "  node {\n",
            "    input: \"X\"\n",
            "    input: \"Ma_MatMulcst\"\n",
            "    output: \"Ma_Y0\"\n",
            "    name: \"Ma_MatMul\"\n",
            "    op_type: \"MatMul\"\n",
            "    domain: \"\"\n",
            "  }\n",
            "  node {\n",
            "    input: \"Ma_Y0\"\n",
            "    input: \"Ad_Addcst\"\n",
            "    output: \"Y\"\n",
            "    name: \"Ad_Add\"\n",
            "    op_type: \"Add\"\n",
            "    domain: \"\"\n",
            "  }\n",
            "  name: \"OnnxAdd\"\n",
            "  initializer {\n",
            "    dims: 13\n",
            "    data_type: 11\n",
            "    name: \"Ma_MatMulcst\"\n",
            "    double_data: -0.09622211792905919\n",
            "    double_data: 0.03977696693789472\n",
            "    double_data: 0.0241701192480088\n",
            "    double_data: 1.716869634591464\n",
            "    double_data: -18.431258070644905\n",
            "    double_data: 3.804083741833037\n",
            "    double_data: 0.004424264414403739\n",
            "    double_data: -1.4954608202475637\n",
            "    double_data: 0.34087691770262124\n",
            "    double_data: -0.01467621729175423\n",
            "    double_data: -0.9176807722246216\n",
            "    double_data: 0.009550195919989249\n",
            "    double_data: -0.5136003499381281\n",
            "  }\n",
            "  initializer {\n",
            "    dims: 1\n",
            "    data_type: 11\n",
            "    name: \"Ad_Addcst\"\n",
            "    double_data: 36.47803687780717\n",
            "  }\n",
            "  input {\n",
            "    name: \"X\"\n",
            "    type {\n",
            "      tensor_type {\n",
            "        elem_type: 11\n",
            "        shape {\n",
            "          dim {\n",
            "          }\n",
            "          dim {\n",
            "            dim_value: 13\n",
            "          }\n",
            "        }\n",
            "      }\n",
            "    }\n",
            "  }\n",
            "  output {\n",
            "    name: \"Y\"\n",
            "    type {\n",
            "      tensor_type {\n",
            "        elem_type: 11\n",
            "        shape {\n",
            "          dim {\n",
            "            dim_value: 0\n",
            "          }\n",
            "        }\n",
            "      }\n",
            "    }\n",
            "  }\n",
            "}\n",
            "opset_import {\n",
            "  domain: \"\"\n",
            "  version: 9\n",
            "}\n",
            ".\n"
          ]
        }
      ],
      "source": [
        "try:\n",
        "    oinf = OnnxInference(onnx_model64, runtime=\"onnxruntime1\")\n",
        "    ort_pred = oinf.run({'X': X_test.astype(numpy.float64)})['Y']\n",
        "    ort_pred[:5]\n",
        "except RuntimeError as e:\n",
        "    print(e)"
      ]
    },
    {
      "cell_type": "markdown",
      "metadata": {},
      "source": [
        "## And now the GaussianProcessRegressor\n",
        "\n",
        "This shows a case"
      ]
    },
    {
      "cell_type": "code",
      "execution_count": 16,
      "metadata": {},
      "outputs": [
        {
          "data": {
            "text/plain": [
              "GaussianProcessRegressor(alpha=10, copy_X_train=True,\n",
              "                         kernel=DotProduct(sigma_0=1), n_restarts_optimizer=0,\n",
              "                         normalize_y=False, optimizer='fmin_l_bfgs_b',\n",
              "                         random_state=None)"
            ]
          },
          "execution_count": 17,
          "metadata": {},
          "output_type": "execute_result"
        }
      ],
      "source": [
        "from sklearn.gaussian_process import GaussianProcessRegressor\n",
        "from sklearn.gaussian_process.kernels import DotProduct\n",
        "gau = GaussianProcessRegressor(alpha=10, kernel=DotProduct())\n",
        "gau.fit(X_train, y_train)"
      ]
    },
    {
      "cell_type": "code",
      "execution_count": 17,
      "metadata": {},
      "outputs": [
        {
          "data": {
            "text/plain": [
              "array([13.125 , 14.25  , 32.375 , 18.5   , 11.875 , 19.875 , 27.    ,\n",
              "       24.125 , 25.8125, 31.625 , 21.625 , 21.    , 26.1875, 16.6875,\n",
              "       20.875 , 23.125 , 21.875 , 24.125 , 26.75  , 20.125 , 36.    ,\n",
              "       22.    , 21.    , 21.6875,  8.625 ], dtype=float32)"
            ]
          },
          "execution_count": 18,
          "metadata": {},
          "output_type": "execute_result"
        }
      ],
      "source": [
        "from mlprodict.onnx_conv import to_onnx\n",
        "onnxgau32 = to_onnx(gau, X_train.astype(numpy.float32), dtype=numpy.float32)\n",
        "oinf32 = OnnxInference(onnxgau32, runtime=\"python\")\n",
        "ort_pred32 = oinf32.run({'X': X_test.astype(numpy.float32)})['GPmean']\n",
        "numpy.squeeze(ort_pred32)[:25]"
      ]
    },
    {
      "cell_type": "code",
      "execution_count": 18,
      "metadata": {},
      "outputs": [
        {
          "data": {
            "text/plain": [
              "array([12.56445512, 14.36702446, 32.12489623, 18.18696708, 11.83999281,\n",
              "       20.1427812 , 25.72875093, 23.47921428, 25.85952005, 31.1343177 ,\n",
              "       21.14668927, 20.78586487, 25.67157909, 17.04368344, 20.40205231,\n",
              "       23.1857285 , 20.80027975, 23.70270441, 26.38520145, 20.22776866,\n",
              "       36.11386797, 21.89100091, 21.29767007, 22.34199677,  8.43756296])"
            ]
          },
          "execution_count": 19,
          "metadata": {},
          "output_type": "execute_result"
        }
      ],
      "source": [
        "onnxgau64 = to_onnx(gau, X_train.astype(numpy.float64), dtype=numpy.float64)\n",
        "oinf64 = OnnxInference(onnxgau64, runtime=\"python\")\n",
        "ort_pred64 = oinf64.run({'X': X_test.astype(numpy.float64)})['GPmean']\n",
        "numpy.squeeze(ort_pred64)[:25]"
      ]
    },
    {
      "cell_type": "markdown",
      "metadata": {},
      "source": [
        "The differences between the predictions for single floats and double floats..."
      ]
    },
    {
      "cell_type": "code",
      "execution_count": 19,
      "metadata": {},
      "outputs": [
        {
          "data": {
            "text/plain": [
              "array([0.71177439, 0.71719288, 0.77532736, 1.07472025, 1.27124907])"
            ]
          },
          "execution_count": 20,
          "metadata": {},
          "output_type": "execute_result"
        }
      ],
      "source": [
        "numpy.sort(numpy.sort(numpy.squeeze(ort_pred32 - ort_pred64)))[-5:]"
      ]
    },
    {
      "cell_type": "markdown",
      "metadata": {},
      "source": [
        "Who's right or wrong... The differences between the predictions with the original model..."
      ]
    },
    {
      "cell_type": "code",
      "execution_count": 20,
      "metadata": {},
      "outputs": [],
      "source": [
        "pred = gau.predict(X_test.astype(numpy.float64))"
      ]
    },
    {
      "cell_type": "code",
      "execution_count": 21,
      "metadata": {},
      "outputs": [
        {
          "data": {
            "text/plain": [
              "array([0.71177439, 0.71719288, 0.77532736, 1.07472025, 1.27124907])"
            ]
          },
          "execution_count": 22,
          "metadata": {},
          "output_type": "execute_result"
        }
      ],
      "source": [
        "numpy.sort(numpy.sort(numpy.squeeze(ort_pred32 - pred)))[-5:]"
      ]
    },
    {
      "cell_type": "code",
      "execution_count": 22,
      "metadata": {},
      "outputs": [
        {
          "data": {
            "text/plain": [
              "array([0., 0., 0., 0., 0.])"
            ]
          },
          "execution_count": 23,
          "metadata": {},
          "output_type": "execute_result"
        }
      ],
      "source": [
        "numpy.sort(numpy.sort(numpy.squeeze(ort_pred64 - pred)))[-5:]"
      ]
    },
    {
      "cell_type": "markdown",
      "metadata": {},
      "source": [
        "Double predictions clearly wins."
      ]
    },
    {
      "cell_type": "code",
      "execution_count": 23,
      "metadata": {
        "scrolled": false
      },
      "outputs": [
        {
          "data": {
            "text/html": [
              "<div id=\"Mc84fb5ca7aae4a9092ec7a97e5315e07-cont\"><div id=\"Mc84fb5ca7aae4a9092ec7a97e5315e07\" style=\"width:100%;height:100%;\"></div></div>\n",
              "<script>\n",
              "\n",
              "require(['http://www.xavierdupre.fr/js/vizjs/viz.js'], function() { var svgGraph = Viz(\"digraph{\\n  orientation=portrait;\\n  nodesep=0.05;\\n  ranksep=0.25;\\n\\n  X [shape=box color=red label=\\\"X\\ndouble((0, 13))\\\" fontsize=10];\\n\\n  GPmean [shape=box color=green label=\\\"GPmean\\ndouble((0, 1))\\\" fontsize=10];\\n\\n  kgpd_MatMulcst [shape=box label=\\\"kgpd_MatMulcst\\nfloat64((13, 379))\\n[[4.01100e-02 1.53800e-02 5.42500e-02 ... 2.92400e...\\\" fontsize=10];\\n  kgpd_Addcst [shape=box label=\\\"kgpd_Addcst\\nfloat64((1,))\\n[798.79882685]\\\" fontsize=10];\\n  gpr_MatMulcst [shape=box label=\\\"gpr_MatMulcst\\nfloat64((379,))\\n[-1.34485085e-01  7.74618360e-01 -4.53820520e-01 -...\\\" fontsize=10];\\n  gpr_Addcst [shape=box label=\\\"gpr_Addcst\\nfloat64((1, 1))\\n[[0.]]\\\" fontsize=10];\\n\\n  kgpd_Y0 [shape=box label=\\\"kgpd_Y0\\\" fontsize=10];\\n  kgpd_MatMul [shape=box style=\\\"filled,rounded\\\" color=orange label=\\\"MatMul\\n(kgpd_MatMul)\\\" fontsize=10];\\n  X -> kgpd_MatMul;\\n  kgpd_MatMulcst -> kgpd_MatMul;\\n  kgpd_MatMul -> kgpd_Y0;\\n\\n  kgpd_C0 [shape=box label=\\\"kgpd_C0\\\" fontsize=10];\\n  kgpd_Add [shape=box style=\\\"filled,rounded\\\" color=orange label=\\\"Add\\n(kgpd_Add)\\\" fontsize=10];\\n  kgpd_Y0 -> kgpd_Add;\\n  kgpd_Addcst -> kgpd_Add;\\n  kgpd_Add -> kgpd_C0;\\n\\n  kgpd_output0 [shape=box label=\\\"kgpd_output0\\\" fontsize=10];\\n  kgpd_Identity [shape=box style=\\\"filled,rounded\\\" color=orange label=\\\"Identity\\n(kgpd_Identity)\\\" fontsize=10];\\n  kgpd_C0 -> kgpd_Identity;\\n  kgpd_Identity -> kgpd_output0;\\n\\n  gpr_Y0 [shape=box label=\\\"gpr_Y0\\\" fontsize=10];\\n  gpr_MatMul [shape=box style=\\\"filled,rounded\\\" color=orange label=\\\"MatMul\\n(gpr_MatMul)\\\" fontsize=10];\\n  kgpd_output0 -> gpr_MatMul;\\n  gpr_MatMulcst -> gpr_MatMul;\\n  gpr_MatMul -> gpr_Y0;\\n\\n  gpr_Add [shape=box style=\\\"filled,rounded\\\" color=orange label=\\\"Add\\n(gpr_Add)\\\" fontsize=10];\\n  gpr_Y0 -> gpr_Add;\\n  gpr_Addcst -> gpr_Add;\\n  gpr_Add -> GPmean;\\n}\");\n",
              "document.getElementById('Mc84fb5ca7aae4a9092ec7a97e5315e07').innerHTML = svgGraph; });\n",
              "\n",
              "</script>"
            ],
            "text/plain": [
              "<jyquickhelper.jspy.render_nb_js_dot.RenderJsDot at 0x1985b3b2128>"
            ]
          },
          "execution_count": 24,
          "metadata": {},
          "output_type": "execute_result"
        }
      ],
      "source": [
        "# add -l 1 if nothing shows up\n",
        "%onnxview onnxgau64"
      ]
    },
    {
      "cell_type": "markdown",
      "metadata": {},
      "source": [
        "## Saves...\n",
        "\n",
        "Let's keep track of it."
      ]
    },
    {
      "cell_type": "code",
      "execution_count": 24,
      "metadata": {},
      "outputs": [
        {
          "data": {
            "text/html": [
              "<a href='gpr_dot_product_boston_32.onnx' target='_blank'>gpr_dot_product_boston_32.onnx</a><br>"
            ],
            "text/plain": [
              "C:\\xavierdupre\\__home_\\GitHub\\mlprodict\\_doc\\notebooks\\gpr_dot_product_boston_32.onnx"
            ]
          },
          "execution_count": 25,
          "metadata": {},
          "output_type": "execute_result"
        }
      ],
      "source": [
        "with open(\"gpr_dot_product_boston_32.onnx\", \"wb\") as f:\n",
        "    f.write(onnxgau32.SerializePartialToString())\n",
        "from IPython.display import FileLink\n",
        "FileLink('gpr_dot_product_boston_32.onnx')"
      ]
    },
    {
      "cell_type": "code",
      "execution_count": 25,
      "metadata": {},
      "outputs": [
        {
          "data": {
            "text/html": [
              "<a href='gpr_dot_product_boston_64.onnx' target='_blank'>gpr_dot_product_boston_64.onnx</a><br>"
            ],
            "text/plain": [
              "C:\\xavierdupre\\__home_\\GitHub\\mlprodict\\_doc\\notebooks\\gpr_dot_product_boston_64.onnx"
            ]
          },
          "execution_count": 26,
          "metadata": {},
          "output_type": "execute_result"
        }
      ],
      "source": [
        "with open(\"gpr_dot_product_boston_64.onnx\", \"wb\") as f:\n",
        "    f.write(onnxgau64.SerializePartialToString())\n",
        "FileLink('gpr_dot_product_boston_64.onnx')"
      ]
    },
    {
      "cell_type": "markdown",
      "metadata": {},
      "source": [
        "## Side by side\n",
        "\n",
        "We may wonder where the discrepencies start. But for that, we need to do a side by side."
      ]
    },
    {
      "cell_type": "code",
      "execution_count": 26,
      "metadata": {},
      "outputs": [
        {
          "data": {
            "text/html": [
              "<div>\n",
              "<style scoped>\n",
              "    .dataframe tbody tr th:only-of-type {\n",
              "        vertical-align: middle;\n",
              "    }\n",
              "\n",
              "    .dataframe tbody tr th {\n",
              "        vertical-align: top;\n",
              "    }\n",
              "\n",
              "    .dataframe thead th {\n",
              "        text-align: right;\n",
              "    }\n",
              "</style>\n",
              "<table border=\"1\" class=\"dataframe\">\n",
              "  <thead>\n",
              "    <tr style=\"text-align: right;\">\n",
              "      <th></th>\n",
              "      <th>metric</th>\n",
              "      <th>step</th>\n",
              "      <th>v[0]</th>\n",
              "      <th>v[1]</th>\n",
              "      <th>cmp</th>\n",
              "      <th>name</th>\n",
              "      <th>value[0]</th>\n",
              "      <th>shape[0]</th>\n",
              "      <th>value[1]</th>\n",
              "      <th>shape[1]</th>\n",
              "    </tr>\n",
              "  </thead>\n",
              "  <tbody>\n",
              "    <tr>\n",
              "      <th>0</th>\n",
              "      <td>nb_results</td>\n",
              "      <td>-1</td>\n",
              "      <td>10</td>\n",
              "      <td>1.000000e+01</td>\n",
              "      <td>OK</td>\n",
              "      <td>NaN</td>\n",
              "      <td>NaN</td>\n",
              "      <td>NaN</td>\n",
              "      <td>NaN</td>\n",
              "      <td>NaN</td>\n",
              "    </tr>\n",
              "    <tr>\n",
              "      <th>1</th>\n",
              "      <td>abs-diff</td>\n",
              "      <td>0</td>\n",
              "      <td>0</td>\n",
              "      <td>4.902064e-08</td>\n",
              "      <td>OK</td>\n",
              "      <td>X</td>\n",
              "      <td>[[25.0461, 0.0, 18.1, 0.0, 0.693, 5.987, 100.0...</td>\n",
              "      <td>(127, 13)</td>\n",
              "      <td>[[25.0461, 0.0, 18.1, 0.0, 0.693, 5.987, 100.0...</td>\n",
              "      <td>(127, 13)</td>\n",
              "    </tr>\n",
              "    <tr>\n",
              "      <th>2</th>\n",
              "      <td>abs-diff</td>\n",
              "      <td>1</td>\n",
              "      <td>0</td>\n",
              "      <td>3.585329e-02</td>\n",
              "      <td>e&lt;0.1</td>\n",
              "      <td>GPmean</td>\n",
              "      <td>[[13.125, 14.25, 32.375, 18.5, 11.875, 19.875,...</td>\n",
              "      <td>(1, 127)</td>\n",
              "      <td>[[12.564455117331818, 14.367024457314983, 32.1...</td>\n",
              "      <td>(1, 127)</td>\n",
              "    </tr>\n",
              "    <tr>\n",
              "      <th>3</th>\n",
              "      <td>abs-diff</td>\n",
              "      <td>2</td>\n",
              "      <td>0</td>\n",
              "      <td>5.553783e-08</td>\n",
              "      <td>OK</td>\n",
              "      <td>kgpd_MatMulcst</td>\n",
              "      <td>[[0.04011, 0.01538, 0.05425, 0.16902, 14.2362,...</td>\n",
              "      <td>(13, 379)</td>\n",
              "      <td>[[0.04011, 0.01538, 0.05425, 0.16902, 14.2362,...</td>\n",
              "      <td>(13, 379)</td>\n",
              "    </tr>\n",
              "    <tr>\n",
              "      <th>4</th>\n",
              "      <td>abs-diff</td>\n",
              "      <td>3</td>\n",
              "      <td>0</td>\n",
              "      <td>1.601856e-09</td>\n",
              "      <td>OK</td>\n",
              "      <td>kgpd_Addcst</td>\n",
              "      <td>[798.7988]</td>\n",
              "      <td>(1,)</td>\n",
              "      <td>[798.7988268454396]</td>\n",
              "      <td>(1,)</td>\n",
              "    </tr>\n",
              "    <tr>\n",
              "      <th>5</th>\n",
              "      <td>abs-diff</td>\n",
              "      <td>4</td>\n",
              "      <td>0</td>\n",
              "      <td>5.064639e-08</td>\n",
              "      <td>OK</td>\n",
              "      <td>gpr_MatMulcst</td>\n",
              "      <td>[-0.13448508, 0.7746184, -0.45382053, -0.12038...</td>\n",
              "      <td>(379,)</td>\n",
              "      <td>[-0.1344850845061791, 0.7746183600327846, -0.4...</td>\n",
              "      <td>(379,)</td>\n",
              "    </tr>\n",
              "    <tr>\n",
              "      <th>6</th>\n",
              "      <td>abs-diff</td>\n",
              "      <td>5</td>\n",
              "      <td>0</td>\n",
              "      <td>0.000000e+00</td>\n",
              "      <td>OK</td>\n",
              "      <td>gpr_Addcst</td>\n",
              "      <td>[[0.0]]</td>\n",
              "      <td>(1, 1)</td>\n",
              "      <td>[[0.0]]</td>\n",
              "      <td>(1, 1)</td>\n",
              "    </tr>\n",
              "    <tr>\n",
              "      <th>7</th>\n",
              "      <td>abs-diff</td>\n",
              "      <td>6</td>\n",
              "      <td>0</td>\n",
              "      <td>1.994481e-07</td>\n",
              "      <td>OK</td>\n",
              "      <td>kgpd_Y0</td>\n",
              "      <td>[[381348.2, 320660.8, 363030.22, 288999.44, 61...</td>\n",
              "      <td>(127, 379)</td>\n",
              "      <td>[[381348.18680611637, 320660.8066715434, 36303...</td>\n",
              "      <td>(127, 379)</td>\n",
              "    </tr>\n",
              "    <tr>\n",
              "      <th>8</th>\n",
              "      <td>abs-diff</td>\n",
              "      <td>7</td>\n",
              "      <td>0</td>\n",
              "      <td>1.994481e-07</td>\n",
              "      <td>OK</td>\n",
              "      <td>kgpd_C0</td>\n",
              "      <td>[[381348.2, 320660.8, 363030.22, 288999.44, 61...</td>\n",
              "      <td>(127, 379)</td>\n",
              "      <td>[[381348.18680611637, 320660.8066715434, 36303...</td>\n",
              "      <td>(127, 379)</td>\n",
              "    </tr>\n",
              "    <tr>\n",
              "      <th>9</th>\n",
              "      <td>abs-diff</td>\n",
              "      <td>8</td>\n",
              "      <td>0</td>\n",
              "      <td>1.994481e-07</td>\n",
              "      <td>OK</td>\n",
              "      <td>kgpd_output0</td>\n",
              "      <td>[[381348.2, 320660.8, 363030.22, 288999.44, 61...</td>\n",
              "      <td>(127, 379)</td>\n",
              "      <td>[[381348.18680611637, 320660.8066715434, 36303...</td>\n",
              "      <td>(127, 379)</td>\n",
              "    </tr>\n",
              "    <tr>\n",
              "      <th>10</th>\n",
              "      <td>abs-diff</td>\n",
              "      <td>9</td>\n",
              "      <td>0</td>\n",
              "      <td>3.585329e-02</td>\n",
              "      <td>e&lt;0.1</td>\n",
              "      <td>gpr_Y0</td>\n",
              "      <td>[13.125, 14.25, 32.375, 18.5, 11.875, 19.875, ...</td>\n",
              "      <td>(127,)</td>\n",
              "      <td>[12.564455117331818, 14.367024457314983, 32.12...</td>\n",
              "      <td>(127,)</td>\n",
              "    </tr>\n",
              "  </tbody>\n",
              "</table>\n",
              "</div>"
            ],
            "text/plain": [
              "        metric  step  v[0]          v[1]    cmp            name  \\\n",
              "0   nb_results    -1    10  1.000000e+01     OK             NaN   \n",
              "1     abs-diff     0     0  4.902064e-08     OK               X   \n",
              "2     abs-diff     1     0  3.585329e-02  e<0.1          GPmean   \n",
              "3     abs-diff     2     0  5.553783e-08     OK  kgpd_MatMulcst   \n",
              "4     abs-diff     3     0  1.601856e-09     OK     kgpd_Addcst   \n",
              "5     abs-diff     4     0  5.064639e-08     OK   gpr_MatMulcst   \n",
              "6     abs-diff     5     0  0.000000e+00     OK      gpr_Addcst   \n",
              "7     abs-diff     6     0  1.994481e-07     OK         kgpd_Y0   \n",
              "8     abs-diff     7     0  1.994481e-07     OK         kgpd_C0   \n",
              "9     abs-diff     8     0  1.994481e-07     OK    kgpd_output0   \n",
              "10    abs-diff     9     0  3.585329e-02  e<0.1          gpr_Y0   \n",
              "\n",
              "                                             value[0]    shape[0]  \\\n",
              "0                                                 NaN         NaN   \n",
              "1   [[25.0461, 0.0, 18.1, 0.0, 0.693, 5.987, 100.0...   (127, 13)   \n",
              "2   [[13.125, 14.25, 32.375, 18.5, 11.875, 19.875,...    (1, 127)   \n",
              "3   [[0.04011, 0.01538, 0.05425, 0.16902, 14.2362,...   (13, 379)   \n",
              "4                                          [798.7988]        (1,)   \n",
              "5   [-0.13448508, 0.7746184, -0.45382053, -0.12038...      (379,)   \n",
              "6                                             [[0.0]]      (1, 1)   \n",
              "7   [[381348.2, 320660.8, 363030.22, 288999.44, 61...  (127, 379)   \n",
              "8   [[381348.2, 320660.8, 363030.22, 288999.44, 61...  (127, 379)   \n",
              "9   [[381348.2, 320660.8, 363030.22, 288999.44, 61...  (127, 379)   \n",
              "10  [13.125, 14.25, 32.375, 18.5, 11.875, 19.875, ...      (127,)   \n",
              "\n",
              "                                             value[1]    shape[1]  \n",
              "0                                                 NaN         NaN  \n",
              "1   [[25.0461, 0.0, 18.1, 0.0, 0.693, 5.987, 100.0...   (127, 13)  \n",
              "2   [[12.564455117331818, 14.367024457314983, 32.1...    (1, 127)  \n",
              "3   [[0.04011, 0.01538, 0.05425, 0.16902, 14.2362,...   (13, 379)  \n",
              "4                                 [798.7988268454396]        (1,)  \n",
              "5   [-0.1344850845061791, 0.7746183600327846, -0.4...      (379,)  \n",
              "6                                             [[0.0]]      (1, 1)  \n",
              "7   [[381348.18680611637, 320660.8066715434, 36303...  (127, 379)  \n",
              "8   [[381348.18680611637, 320660.8066715434, 36303...  (127, 379)  \n",
              "9   [[381348.18680611637, 320660.8066715434, 36303...  (127, 379)  \n",
              "10  [12.564455117331818, 14.367024457314983, 32.12...      (127,)  "
            ]
          },
          "execution_count": 27,
          "metadata": {},
          "output_type": "execute_result"
        }
      ],
      "source": [
        "from mlprodict.onnxrt.validate.side_by_side import side_by_side_by_values\n",
        "sbs = side_by_side_by_values([(oinf32, {'X': X_test.astype(numpy.float32)}),\n",
        "                              (oinf64, {'X': X_test.astype(numpy.float64)})])\n",
        "\n",
        "from pandas import DataFrame\n",
        "df = DataFrame(sbs)\n",
        "# dfd = df.drop(['value[0]', 'value[1]', 'value[2]'], axis=1).copy()\n",
        "df"
      ]
    },
    {
      "cell_type": "markdown",
      "metadata": {},
      "source": [
        "The differences really starts for output ``'O0'`` after the matrix multiplication. This matrix melts different number with very different order of magnitudes and that alone explains the discrepencies with doubles and floats on that particular model."
      ]
    },
    {
      "cell_type": "code",
      "execution_count": 27,
      "metadata": {},
      "outputs": [
        {
          "data": {
            "image/png": "[encoded data removed]",
            "text/plain": [
              "<Figure size 1008x288 with 1 Axes>"
            ]
          },
          "metadata": {
            "needs_background": "light"
          },
          "output_type": "display_data"
        }
      ],
      "source": [
        "%matplotlib inline\n",
        "ax = df[['name', 'v[1]']].iloc[1:].set_index('name').plot(kind='bar', figsize=(14,4), logy=True)\n",
        "ax.set_title(\"Relative differences for each output between float32 and float64\\nfor a GaussianProcessRegressor\");"
      ]
    },
    {
      "cell_type": "markdown",
      "metadata": {},
      "source": [
        "Before going further, let's check how sensitive the trained model is about converting double into floats."
      ]
    },
    {
      "cell_type": "code",
      "execution_count": 28,
      "metadata": {},
      "outputs": [
        {
          "data": {
            "text/plain": [
              "array([1.61747448e-06, 1.64913945e-06, 1.67055987e-06, 1.71677675e-06,\n",
              "       2.22248491e-06])"
            ]
          },
          "execution_count": 29,
          "metadata": {},
          "output_type": "execute_result"
        }
      ],
      "source": [
        "pg1 = gau.predict(X_test)\n",
        "pg2 = gau.predict(X_test.astype(numpy.float32).astype(numpy.float64))\n",
        "numpy.sort(numpy.sort(numpy.squeeze(pg1 - pg2)))[-5:]"
      ]
    },
    {
      "cell_type": "markdown",
      "metadata": {},
      "source": [
        "Having float or double inputs should not matter. We confirm that with the model converted into ONNX."
      ]
    },
    {
      "cell_type": "code",
      "execution_count": 29,
      "metadata": {},
      "outputs": [
        {
          "data": {
            "text/plain": [
              "array([1.61747448e-06, 1.64913945e-06, 1.67055987e-06, 1.71677675e-06,\n",
              "       2.22248491e-06])"
            ]
          },
          "execution_count": 30,
          "metadata": {},
          "output_type": "execute_result"
        }
      ],
      "source": [
        "p1 = oinf64.run({'X': X_test})['GPmean']\n",
        "p2 = oinf64.run({'X': X_test.astype(numpy.float32).astype(numpy.float64)})['GPmean']\n",
        "numpy.sort(numpy.sort(numpy.squeeze(p1 - p2)))[-5:]"
      ]
    },
    {
      "cell_type": "markdown",
      "metadata": {},
      "source": [
        "Last verification."
      ]
    },
    {
      "cell_type": "code",
      "execution_count": 30,
      "metadata": {},
      "outputs": [
        {
          "data": {
            "image/png": "[encoded data removed]",
            "text/plain": [
              "<Figure size 1008x288 with 1 Axes>"
            ]
          },
          "metadata": {
            "needs_background": "light"
          },
          "output_type": "display_data"
        }
      ],
      "source": [
        "sbs = side_by_side_by_values([(oinf64, {'X': X_test.astype(numpy.float32).astype(numpy.float64)}),\n",
        "                              (oinf64, {'X': X_test.astype(numpy.float64)})])\n",
        "df = DataFrame(sbs)\n",
        "ax = df[['name', 'v[1]']].iloc[1:].set_index('name').plot(kind='bar', figsize=(14,4), logy=True)\n",
        "ax.set_title(\"Relative differences for each output between float64 and float64 rounded to float32\"\n",
        "             \"\\nfor a GaussianProcessRegressor\");"
      ]
    },
    {
      "cell_type": "code",
      "execution_count": 31,
      "metadata": {},
      "outputs": [],
      "source": []
    }
  ],
  "metadata": {
    "kernelspec": {
      "display_name": "Python 3",
      "language": "python",
      "name": "python3"
    },
    "language_info": {
      "codemirror_mode": {
        "name": "ipython",
        "version": 3
      },
      "file_extension": ".py",
      "mimetype": "text/x-python",
      "name": "python",
      "nbconvert_exporter": "python",
      "pygments_lexer": "ipython3",
      "version": "3.7.2"
    }
  },
  "nbformat": 4,
  "nbformat_minor": 2
}