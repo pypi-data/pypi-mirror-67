{
 "cells": [
  {
   "cell_type": "markdown",
   "metadata": {},
   "source": [
    "# Implementing an untyped Lambda Calculus\n",
    "\n",
    "\n",
    "To introduce `metadsl` we will show how to create a working version of the untyped lambda calculus.\n",
    "\n",
    "This will let us create the some basic combinators, verify that they before as expected under equiavelency.\n",
    "\n",
    "Then we can also create an implementation of arithmetic on natural numbers, using church encoding and show how to convert\n",
    "between these and Python's integers.\n"
   ]
  },
  {
   "cell_type": "markdown",
   "metadata": {},
   "source": [
    "## Terms\n",
    "The lambda calculus might sound abstract and odd, but if you know how to write functions in Python you already have mastered it!\n",
    "The idea is a very simple language that only has functions that take in one argument.\n",
    "Nothing, else, which seems a bit silly maybe, and it is not very useful by itself, but when it is integrated into a system with other data\n",
    "types, it becomes a useful so that we can represent functions.\n"
   ]
  },
  {
   "cell_type": "markdown",
   "metadata": {},
   "source": [
    "First, let's create a concept of a \"variable\" that can optionally have a name. It should only be equal to itself, so that we don't have to worry about shadowing variable names:"
   ]
  },
  {
   "cell_type": "code",
   "execution_count": 1,
   "metadata": {},
   "outputs": [],
   "source": [
    "from __future__ import annotations\n",
    "\n",
    "import dataclasses\n",
    "import typing\n",
    "\n",
    "\n",
    "@dataclasses.dataclass(eq=False)\n",
    "class Variable:\n",
    "    name: typing.Optional[str] = None\n",
    "    \n",
    "    \n",
    "    def __str__(self):\n",
    "        return self.name or str(id(self))\n",
    "        \n",
    "    def __repr__(self):\n",
    "        return f\"Variable({str(self)})\"\n",
    "        \n",
    "x1 = Variable(\"x\")\n",
    "x2 = Variable(\"x\")\n",
    "\n",
    "assert x1 == x1\n",
    "assert x1 != x2\n",
    "assert hash(x1) != hash(x2)"
   ]
  },
  {
   "cell_type": "markdown",
   "metadata": {},
   "source": [
    "Now, let's build our one and only key abstraction, a lambda term.\n",
    "You should be able to call it and also create it by having a body and a variable. "
   ]
  },
  {
   "cell_type": "code",
   "execution_count": 2,
   "metadata": {},
   "outputs": [],
   "source": [
    "import metadsl\n",
    "\n",
    "class LambdaTerm(metadsl.Expression):\n",
    "    @metadsl.expression\n",
    "    def __call__(self, arg: LambdaTerm) -> LambdaTerm:\n",
    "        ...\n",
    "\n",
    "@metadsl.expression\n",
    "def abstraction(variable: Variable, body: LambdaTerm) -> LambdaTerm:\n",
    "    ...\n",
    "\n",
    "@metadsl.expression\n",
    "def from_variable(variable: Variable) -> LambdaTerm:\n",
    "    ...\n",
    "\n",
    "def create_abstraction(fn: typing.Callable[[LambdaTerm], LambdaTerm]) -> LambdaTerm:\n",
    "    arg = Variable()\n",
    "    return abstraction(arg, fn(from_variable(arg)))"
   ]
  },
  {
   "cell_type": "markdown",
   "metadata": {},
   "source": [
    "We can construct the identity function"
   ]
  },
  {
   "cell_type": "code",
   "execution_count": 3,
   "metadata": {},
   "outputs": [],
   "source": [
    "@create_abstraction\n",
    "def identity(x):\n",
    "    return x"
   ]
  },
  {
   "cell_type": "code",
   "execution_count": 4,
   "metadata": {},
   "outputs": [
    {
     "data": {
      "text/plain": [
       "<class '__main__.LambdaTerm'>(abstraction, (Variable(4507814096), <class '__main__.LambdaTerm'>(from_variable, (Variable(4507814096),), {})), {})"
      ]
     },
     "execution_count": 4,
     "metadata": {},
     "output_type": "execute_result"
    }
   ],
   "source": [
    "# NBVAL_IGNORE_OUTPUT\n",
    "identity"
   ]
  },
  {
   "cell_type": "markdown",
   "metadata": {},
   "source": [
    "and then call it on a term:"
   ]
  },
  {
   "cell_type": "code",
   "execution_count": 5,
   "metadata": {},
   "outputs": [
    {
     "data": {
      "text/plain": [
       "<class '__main__.LambdaTerm'>(LambdaTerm.__call__, (<class '__main__.LambdaTerm'>(abstraction, (Variable(4507814096), <class '__main__.LambdaTerm'>(from_variable, (Variable(4507814096),), {})), {}), <class '__main__.LambdaTerm'>(from_variable, (Variable(y),), {})), {})"
      ]
     },
     "execution_count": 5,
     "metadata": {},
     "output_type": "execute_result"
    }
   ],
   "source": [
    "# NBVAL_IGNORE_OUTPUT\n",
    "y_term = from_variable(Variable(\"y\"))\n",
    "called_identity = identity(y_term)\n",
    "called_identity"
   ]
  },
  {
   "cell_type": "markdown",
   "metadata": {},
   "source": [
    "## Pretty Printing\n",
    "\n",
    "This is a bit of a verbose way to print these.\n",
    "\n",
    "Let's create a custom function that walks the tree and converts them to a string:"
   ]
  },
  {
   "cell_type": "code",
   "execution_count": 6,
   "metadata": {},
   "outputs": [],
   "source": [
    "pretty_print_rules = metadsl.RulesRepeatFold()\n",
    "\n",
    "\n",
    "@metadsl.expression\n",
    "def string_term(s: str) -> LambdaTerm:\n",
    "    ...\n",
    "\n",
    "\n",
    "@pretty_print_rules.append\n",
    "@metadsl.rule\n",
    "def pp_variable(variable: Variable):\n",
    "    return (\n",
    "        from_variable(variable),\n",
    "        lambda: string_term(str(variable))\n",
    "    )\n",
    "\n",
    "@pretty_print_rules.append\n",
    "@metadsl.rule\n",
    "def pp_abstraction(variable: Variable, body: str):\n",
    "    return (\n",
    "        abstraction(variable, string_term(body)),\n",
    "        lambda: string_term(f\"(λ{variable}.{body})\")\n",
    "    )\n",
    "\n",
    "\n",
    "@pretty_print_rules.append\n",
    "@metadsl.rule\n",
    "def pp_application(fn: str, arg: str):\n",
    "    return (\n",
    "        string_term(fn)(string_term(arg)),\n",
    "        lambda: string_term(f\"({fn} {arg})\")\n",
    "    )\n",
    "\n",
    "@metadsl.expression\n",
    "def unbox_str(t: LambdaTerm) -> str:\n",
    "    ...\n",
    "\n",
    "\n",
    "@pretty_print_rules.append\n",
    "@metadsl.rule\n",
    "def pp_unbox(s: str):\n",
    "    return unbox_str(string_term(s)), lambda: s"
   ]
  },
  {
   "cell_type": "code",
   "execution_count": 7,
   "metadata": {},
   "outputs": [
    {
     "data": {
      "text/plain": [
       "'((λ4507814096.4507814096) y)'"
      ]
     },
     "execution_count": 7,
     "metadata": {},
     "output_type": "execute_result"
    }
   ],
   "source": [
    "# NBVAL_IGNORE_OUTPUT\n",
    "metadsl.execute.execute(pretty_print_rules, unbox_str(called_identity))"
   ]
  },
  {
   "cell_type": "markdown",
   "metadata": {},
   "source": [
    "## Beta Reduction\n",
    "\n",
    "To make this useful, we need to define some semantics on these.\n",
    "\n",
    "What's a useful thing to do with the lambda calculus?\n",
    "\n",
    "Well it would be nice to actually be able to \"compute\" these values by replacing all instances of a variable with it's argument."
   ]
  },
  {
   "cell_type": "markdown",
   "metadata": {},
   "source": [
    "So let's replace all instances of calling a variable by replacing the arg inside of it:"
   ]
  },
  {
   "cell_type": "code",
   "execution_count": 8,
   "metadata": {},
   "outputs": [
    {
     "data": {
      "text/plain": [
       "<class '__main__.LambdaTerm'>(from_variable, (Variable(y),), {})"
      ]
     },
     "execution_count": 8,
     "metadata": {},
     "output_type": "execute_result"
    }
   ],
   "source": [
    "beta_reduce_rules = metadsl.RulesRepeatFold()\n",
    "\n",
    "@beta_reduce_rules.append\n",
    "@metadsl.rule\n",
    "def _beta_reduce(var: Variable, body: LambdaTerm, arg: LambdaTerm):\n",
    "    def replacement():\n",
    "        # replaces all instances of var with arg\n",
    "        replace_rules = metadsl.RulesRepeatFold(\n",
    "            metadsl.rule(lambda: (from_variable(var), lambda: arg))\n",
    "        )\n",
    "        return metadsl.execute.execute(replace_rules, body) or body\n",
    "\n",
    "    return abstraction(var, body)(arg), replacement\n",
    "\n",
    "metadsl.execute.execute(beta_reduce_rules, called_identity)"
   ]
  },
  {
   "cell_type": "markdown",
   "metadata": {},
   "source": [
    "Now let's combine these two, to execute them in sequence. First we want to beta reduce, until there is no more to beta reduce, then\n",
    "we wanna turn that into a pretty print representation:"
   ]
  },
  {
   "cell_type": "code",
   "execution_count": 9,
   "metadata": {},
   "outputs": [],
   "source": [
    "rules = metadsl.RulesRepeatSequence(beta_reduce_rules, pretty_print_rules)\n",
    "def execute(expr: LambdaTerm) -> str:\n",
    "    return metadsl.execute.execute(rules, unbox_str(expr))"
   ]
  },
  {
   "cell_type": "code",
   "execution_count": 10,
   "metadata": {},
   "outputs": [
    {
     "name": "stdout",
     "output_type": "stream",
     "text": [
      "y\n"
     ]
    }
   ],
   "source": [
    "print(execute(called_identity))"
   ]
  },
  {
   "cell_type": "markdown",
   "metadata": {},
   "source": [
    "## Alpha Conversion\n",
    "\n",
    "This looks allright, but before we do anything serious, let's deal with the annoying issue of these variable names. They aren't much fun to read! Let's fix this by implementing [α-conversion](https://en.wikipedia.org/wiki/Lambda_calculus#%CE%B1-conversion). The basic idea is that given some lambda expression, we rename all the variables to make them standard. Let's create a bunch of global variables, and then create a function that will transform an expression into a normal form using them:"
   ]
  },
  {
   "cell_type": "code",
   "execution_count": 11,
   "metadata": {},
   "outputs": [],
   "source": [
    "GLOBAL_VARS = [Variable(chr(i)) for i in range(ord('a'), ord('a') + 100)]\n",
    "CURRENT_GLOBAL_VAR = 0"
   ]
  },
  {
   "cell_type": "code",
   "execution_count": 12,
   "metadata": {},
   "outputs": [
    {
     "data": {
      "text/plain": [
       "Variable(a)"
      ]
     },
     "execution_count": 12,
     "metadata": {},
     "output_type": "execute_result"
    }
   ],
   "source": [
    "GLOBAL_VARS[0]"
   ]
  },
  {
   "cell_type": "markdown",
   "metadata": {},
   "source": [
    "The idea is that we will map each variable we find in the expression to one of the global variables:"
   ]
  },
  {
   "cell_type": "code",
   "execution_count": 13,
   "metadata": {},
   "outputs": [],
   "source": [
    "alpha_convert_rules = metadsl.RulesRepeatFold()\n",
    "\n",
    "def execute_alpha_convert(x):\n",
    "    global CURRENT_GLOBAL_VAR\n",
    "    CURRENT_GLOBAL_VAR = 0\n",
    "    return metadsl.execute.execute(alpha_convert_rules, x)\n",
    "\n",
    "\n",
    "@alpha_convert_rules.append\n",
    "@metadsl.rule\n",
    "def _alpha_convert(var: Variable, body: LambdaTerm):\n",
    "    def replacement():\n",
    "        if var in GLOBAL_VARS: \n",
    "            raise metadsl.NoMatch\n",
    "        global CURRENT_GLOBAL_VAR\n",
    "\n",
    "        new_var = GLOBAL_VARS[CURRENT_GLOBAL_VAR]\n",
    "        CURRENT_GLOBAL_VAR += 1\n",
    "\n",
    "        replace_rules = metadsl.RulesRepeatFold(\n",
    "            metadsl.rule(lambda: (var, new_var))\n",
    "        )\n",
    "\n",
    "        res = abstraction(new_var, metadsl.execute.execute(replace_rules, body))\n",
    "\n",
    "        # We have already replaced this if we got the same\n",
    "        if res == abstraction(var, body):\n",
    "            raise metadsl.NoMatch\n",
    "        return res\n",
    "\n",
    "    return abstraction(var, body), replacement"
   ]
  },
  {
   "cell_type": "code",
   "execution_count": 14,
   "metadata": {},
   "outputs": [
    {
     "data": {
      "text/plain": [
       "<class '__main__.LambdaTerm'>(abstraction, (Variable(4507814096), <class '__main__.LambdaTerm'>(from_variable, (Variable(4507814096),), {})), {})"
      ]
     },
     "execution_count": 14,
     "metadata": {},
     "output_type": "execute_result"
    }
   ],
   "source": [
    "# NBVAL_IGNORE_OUTPUT\n",
    "identity"
   ]
  },
  {
   "cell_type": "code",
   "execution_count": 15,
   "metadata": {},
   "outputs": [
    {
     "data": {
      "text/plain": [
       "<class '__main__.LambdaTerm'>(abstraction, (Variable(a), <class '__main__.LambdaTerm'>(from_variable, (Variable(a),), {})), {})"
      ]
     },
     "execution_count": 15,
     "metadata": {},
     "output_type": "execute_result"
    }
   ],
   "source": [
    "metadsl.execute.execute(alpha_convert_rules, identity)"
   ]
  },
  {
   "cell_type": "markdown",
   "metadata": {},
   "source": [
    "Now let's add this to our execution step, so that we print before and after beta reducing:"
   ]
  },
  {
   "cell_type": "code",
   "execution_count": 16,
   "metadata": {},
   "outputs": [],
   "source": [
    "core_replacements = metadsl.RulesRepeatSequence(beta_reduce_rules)\n",
    "def execute(expr: LambdaTerm) -> str:\n",
    "    expr = execute_alpha_convert(expr)\n",
    "    res = unbox_str(expr)\n",
    "    return f\"{metadsl.execute.execute(pretty_print_rules, res)} ⇒ {metadsl.execute.execute(metadsl.RuleInOrder(core_replacements, pretty_print_rules), res)}\"\n"
   ]
  },
  {
   "cell_type": "code",
   "execution_count": 17,
   "metadata": {},
   "outputs": [
    {
     "data": {
      "text/plain": [
       "<class '__main__.LambdaTerm'>(abstraction, (Variable(a), <class '__main__.LambdaTerm'>(from_variable, (Variable(a),), {})), {})"
      ]
     },
     "execution_count": 17,
     "metadata": {},
     "output_type": "execute_result"
    }
   ],
   "source": [
    "execute_alpha_convert(identity)"
   ]
  },
  {
   "cell_type": "code",
   "execution_count": 18,
   "metadata": {},
   "outputs": [
    {
     "data": {
      "text/plain": [
       "'((λa.a) (λb.b)) ⇒ (λb.b)'"
      ]
     },
     "execution_count": 18,
     "metadata": {},
     "output_type": "execute_result"
    }
   ],
   "source": [
    "execute(identity(identity))"
   ]
  },
  {
   "cell_type": "markdown",
   "metadata": {},
   "source": [
    "Now we are finally getting somewhere!"
   ]
  },
  {
   "cell_type": "code",
   "execution_count": 19,
   "metadata": {},
   "outputs": [
    {
     "data": {
      "text/plain": [
       "'(((λa.a) (λb.b)) Input) ⇒ Input'"
      ]
     },
     "execution_count": 19,
     "metadata": {},
     "output_type": "execute_result"
    }
   ],
   "source": [
    "execute(identity(identity)(from_variable(Variable(\"Input\"))))"
   ]
  },
  {
   "cell_type": "markdown",
   "metadata": {},
   "source": [
    "Let's actually just set it to always pretty print this representation:"
   ]
  },
  {
   "cell_type": "code",
   "execution_count": 20,
   "metadata": {},
   "outputs": [],
   "source": [
    "LambdaTerm.__repr__ = execute"
   ]
  },
  {
   "cell_type": "code",
   "execution_count": 21,
   "metadata": {},
   "outputs": [
    {
     "data": {
      "text/plain": [
       "(λa.a) ⇒ (λa.a)"
      ]
     },
     "execution_count": 21,
     "metadata": {},
     "output_type": "execute_result"
    }
   ],
   "source": [
    "identity"
   ]
  },
  {
   "cell_type": "code",
   "execution_count": 22,
   "metadata": {},
   "outputs": [
    {
     "data": {
      "text/plain": [
       "((λa.a) (λb.b)) ⇒ (λb.b)"
      ]
     },
     "execution_count": 22,
     "metadata": {},
     "output_type": "execute_result"
    }
   ],
   "source": [
    "identity(identity)"
   ]
  },
  {
   "cell_type": "markdown",
   "metadata": {},
   "source": [
    "## Church Numerals\n",
    "\n",
    "Now that we have a working system, we can start to implement some more useful programming on top of it.\n",
    "\n",
    "One thing we can do is [represent natural numbers](https://en.wikipedia.org/wiki/Church_encoding#Church_numerals) with lambda expression and do math on them."
   ]
  },
  {
   "cell_type": "markdown",
   "metadata": {},
   "source": [
    "### Python Ints\n",
    "First, let's add the ability to embed Python's ints inside a function:"
   ]
  },
  {
   "cell_type": "code",
   "execution_count": 23,
   "metadata": {},
   "outputs": [],
   "source": [
    "@metadsl.expression\n",
    "def int_term(i: int) -> LambdaTerm:\n",
    "    ..."
   ]
  },
  {
   "cell_type": "code",
   "execution_count": 24,
   "metadata": {},
   "outputs": [
    {
     "data": {
      "text/plain": [
       "unbox_str(int_term(123)) ⇒ unbox_str(int_term(123))"
      ]
     },
     "execution_count": 24,
     "metadata": {},
     "output_type": "execute_result"
    }
   ],
   "source": [
    "int_term(123)"
   ]
  },
  {
   "cell_type": "markdown",
   "metadata": {},
   "source": [
    "Oops! We don't know how to turn a int represenation of a lambda term into a string, lets fix that:"
   ]
  },
  {
   "cell_type": "code",
   "execution_count": 25,
   "metadata": {},
   "outputs": [],
   "source": [
    "@pretty_print_rules.append\n",
    "@metadsl.rule\n",
    "def int_to_str(i: int):\n",
    "    return int_term(i), lambda: string_term(str(i))"
   ]
  },
  {
   "cell_type": "code",
   "execution_count": 26,
   "metadata": {},
   "outputs": [
    {
     "data": {
      "text/plain": [
       "((λa.a) 123) ⇒ 123"
      ]
     },
     "execution_count": 26,
     "metadata": {},
     "output_type": "execute_result"
    }
   ],
   "source": [
    "identity(int_term(123))"
   ]
  },
  {
   "cell_type": "markdown",
   "metadata": {},
   "source": [
    "### Church Numerals"
   ]
  },
  {
   "cell_type": "markdown",
   "metadata": {},
   "source": [
    "How do we create a church numeral? Well we have a function that calls itself $n$ times, to represent $n$:"
   ]
  },
  {
   "cell_type": "code",
   "execution_count": 27,
   "metadata": {},
   "outputs": [],
   "source": [
    "def church_numeral(n: int) -> LambdaTerm:\n",
    "    @create_abstraction\n",
    "    def outer(f):\n",
    "        \n",
    "        @create_abstraction\n",
    "        def inner(x):\n",
    "            for i in range(n):\n",
    "                x = f(x)\n",
    "            return x\n",
    "        return inner\n",
    "    return outer"
   ]
  },
  {
   "cell_type": "code",
   "execution_count": 28,
   "metadata": {},
   "outputs": [
    {
     "data": {
      "text/plain": [
       "(λa.(λb.b)) ⇒ (λa.(λb.b))"
      ]
     },
     "execution_count": 28,
     "metadata": {},
     "output_type": "execute_result"
    }
   ],
   "source": [
    "church_numeral(0)"
   ]
  },
  {
   "cell_type": "code",
   "execution_count": 29,
   "metadata": {},
   "outputs": [
    {
     "data": {
      "text/plain": [
       "(λa.(λb.(a b))) ⇒ (λa.(λb.(a b)))"
      ]
     },
     "execution_count": 29,
     "metadata": {},
     "output_type": "execute_result"
    }
   ],
   "source": [
    "x = church_numeral(1)\n",
    "x"
   ]
  },
  {
   "cell_type": "code",
   "execution_count": 30,
   "metadata": {},
   "outputs": [
    {
     "data": {
      "text/plain": [
       "(λa.(λb.(a (a b)))) ⇒ (λa.(λb.(a (a b))))"
      ]
     },
     "execution_count": 30,
     "metadata": {},
     "output_type": "execute_result"
    }
   ],
   "source": [
    "church_numeral(2)"
   ]
  },
  {
   "cell_type": "code",
   "execution_count": 31,
   "metadata": {},
   "outputs": [
    {
     "data": {
      "text/plain": [
       "(λa.(λb.(a (a (a b))))) ⇒ (λa.(λb.(a (a (a b)))))"
      ]
     },
     "execution_count": 31,
     "metadata": {},
     "output_type": "execute_result"
    }
   ],
   "source": [
    "church_numeral(3)"
   ]
  },
  {
   "cell_type": "markdown",
   "metadata": {},
   "source": [
    "Now let's add some replacements that from python integers to church numerals:"
   ]
  },
  {
   "cell_type": "code",
   "execution_count": 32,
   "metadata": {},
   "outputs": [],
   "source": [
    "to_church_rules = metadsl.RulesRepeatFold()\n",
    "\n",
    "@to_church_rules.append\n",
    "@metadsl.rule\n",
    "def int_to_abstraction(i: int):\n",
    "    return int_term(i), lambda: church_numeral(i)"
   ]
  },
  {
   "cell_type": "code",
   "execution_count": 33,
   "metadata": {},
   "outputs": [
    {
     "data": {
      "text/plain": [
       "(λa.(λb.(a (a (a (a (a (a (a (a (a (a b)))))))))))) ⇒ (λa.(λb.(a (a (a (a (a (a (a (a (a (a b))))))))))))"
      ]
     },
     "execution_count": 33,
     "metadata": {},
     "output_type": "execute_result"
    }
   ],
   "source": [
    "metadsl.execute.execute(to_church_rules, int_term(10))"
   ]
  },
  {
   "cell_type": "markdown",
   "metadata": {},
   "source": [
    "### Math"
   ]
  },
  {
   "cell_type": "markdown",
   "metadata": {},
   "source": [
    "Add finally we can define math on these church numerals:"
   ]
  },
  {
   "cell_type": "code",
   "execution_count": 34,
   "metadata": {},
   "outputs": [],
   "source": [
    "@metadsl.expression\n",
    "def add(x: LambdaTerm, y: LambdaTerm) -> LambdaTerm:\n",
    "    ...\n",
    "\n",
    "@metadsl.expression\n",
    "def succ(x: LambdaTerm) -> LambdaTerm:\n",
    "    ...\n",
    "\n",
    "@metadsl.expression\n",
    "def mult(x: LambdaTerm, y: LambdaTerm) -> LambdaTerm:\n",
    "    ...\n",
    "\n",
    "@metadsl.expression\n",
    "def exp(x: LambdaTerm, y: LambdaTerm) -> LambdaTerm:\n",
    "    ..."
   ]
  },
  {
   "cell_type": "markdown",
   "metadata": {},
   "source": [
    "#### on Python Integers\n",
    "First, we can define how these functions behave on Python integers:"
   ]
  },
  {
   "cell_type": "code",
   "execution_count": 35,
   "metadata": {},
   "outputs": [],
   "source": [
    "int_math_rules = metadsl.RulesRepeatFold()\n",
    "\n",
    "\n",
    "@int_math_rules.append\n",
    "@metadsl.rule\n",
    "def _add_ints(x: int, y: int):\n",
    "    return add(int_term(x), int_term(y)), lambda: int_term(x + y)\n",
    "\n",
    "@int_math_rules.append\n",
    "@metadsl.rule\n",
    "def _succ_int(x: int):\n",
    "    return succ(int_term(x)), lambda: int_term(x + 1)\n",
    "\n",
    "@int_math_rules.append\n",
    "@metadsl.rule\n",
    "def _mult_int(x: int, y: int):\n",
    "    return mult(int_term(x), int_term(y)), lambda: int_term(x * y)\n",
    "\n",
    "\n",
    "@int_math_rules.append\n",
    "@metadsl.rule\n",
    "def _exp_int(x: int, y: int):\n",
    "    return exp(int_term(x), int_term(y)), lambda: int_term(x ** y)"
   ]
  },
  {
   "cell_type": "markdown",
   "metadata": {},
   "source": [
    "Now we can add these to our core replacements that we defined above and our executed during printing:"
   ]
  },
  {
   "cell_type": "code",
   "execution_count": 36,
   "metadata": {},
   "outputs": [],
   "source": [
    "core_replacements.append(int_math_rules)\n",
    "pass"
   ]
  },
  {
   "cell_type": "code",
   "execution_count": 37,
   "metadata": {},
   "outputs": [
    {
     "data": {
      "text/plain": [
       "unbox_str(add(string_term(1), string_term(2))) ⇒ 3"
      ]
     },
     "execution_count": 37,
     "metadata": {},
     "output_type": "execute_result"
    }
   ],
   "source": [
    "add(int_term(1), int_term(2))"
   ]
  },
  {
   "cell_type": "markdown",
   "metadata": {},
   "source": [
    "Oh, we forgot to define the pretty printing version of these operations. Let's do that now as well:"
   ]
  },
  {
   "cell_type": "code",
   "execution_count": 38,
   "metadata": {},
   "outputs": [],
   "source": [
    "@pretty_print_rules.append\n",
    "@metadsl.rule\n",
    "def _add_str(x: str, y: str):\n",
    "    return add(string_term(x), string_term(y)), lambda: string_term(f\"{x} + {y}\")\n",
    "\n",
    "@pretty_print_rules.append\n",
    "@metadsl.rule\n",
    "def _succ_str(x: str):\n",
    "    return succ(string_term(x)), lambda: string_term(f\"succ({x})\")\n",
    "\n",
    "@pretty_print_rules.append\n",
    "@metadsl.rule\n",
    "def _mult_str(x: str, y: str):\n",
    "    return mult(string_term(x), string_term(y)), lambda: string_term(f\"{x} * {y}\")\n",
    "\n",
    "@pretty_print_rules.append\n",
    "@metadsl.rule\n",
    "def _exp_str(x: str, y: str):\n",
    "    return exp(string_term(x), string_term(y)), lambda: string_term(f\"{x}^{y}\")"
   ]
  },
  {
   "cell_type": "code",
   "execution_count": 39,
   "metadata": {},
   "outputs": [
    {
     "data": {
      "text/plain": [
       "1 + 2 ⇒ 3"
      ]
     },
     "execution_count": 39,
     "metadata": {},
     "output_type": "execute_result"
    }
   ],
   "source": [
    "add(int_term(1), int_term(2))"
   ]
  },
  {
   "cell_type": "markdown",
   "metadata": {},
   "source": [
    "Sweet!"
   ]
  },
  {
   "cell_type": "markdown",
   "metadata": {},
   "source": [
    "#### on Church numerals\n",
    "But what if we turn them into church numerals first?"
   ]
  },
  {
   "cell_type": "code",
   "execution_count": 40,
   "metadata": {},
   "outputs": [
    {
     "data": {
      "text/plain": [
       "(λa.(λb.(a b))) + (λc.(λd.(c (c d)))) ⇒ (λa.(λb.(a b))) + (λc.(λd.(c (c d))))"
      ]
     },
     "execution_count": 40,
     "metadata": {},
     "output_type": "execute_result"
    }
   ],
   "source": [
    "metadsl.execute.execute(to_church_rules, add(int_term(1), int_term(2)))"
   ]
  },
  {
   "cell_type": "markdown",
   "metadata": {},
   "source": [
    "Well we don't know how to add those. First, let's define the operations as abstractions themselves (following wikipedia here on the naming):"
   ]
  },
  {
   "cell_type": "code",
   "execution_count": 41,
   "metadata": {},
   "outputs": [],
   "source": [
    "@create_abstraction\n",
    "def add_abstraction(m):\n",
    "    @create_abstraction\n",
    "    def inner(n):\n",
    "        @create_abstraction\n",
    "        def inner(f):\n",
    "            @create_abstraction\n",
    "            def inner(x):\n",
    "                return m(f)(n(f)(x))\n",
    "            return inner\n",
    "        return inner\n",
    "    return inner\n",
    "\n",
    "@create_abstraction\n",
    "def succ_abstraction(n):\n",
    "    @create_abstraction\n",
    "    def inner(f):\n",
    "        @create_abstraction\n",
    "        def inner(x):\n",
    "            return f(n(f)(x))\n",
    "        return inner\n",
    "    return inner\n",
    "\n",
    "@create_abstraction\n",
    "def mult_abstraction(m):\n",
    "    @create_abstraction\n",
    "    def inner(n):\n",
    "        @create_abstraction\n",
    "        def inner(f):\n",
    "            return m(n(f))\n",
    "        return inner\n",
    "    return inner\n",
    "\n",
    "@create_abstraction\n",
    "def exp_abstraction(m):\n",
    "    @create_abstraction\n",
    "    def inner(n):\n",
    "        return n(m)\n",
    "    return inner\n"
   ]
  },
  {
   "cell_type": "markdown",
   "metadata": {},
   "source": [
    "Is this right? Well let's try it out!"
   ]
  },
  {
   "cell_type": "code",
   "execution_count": 42,
   "metadata": {},
   "outputs": [
    {
     "data": {
      "text/plain": [
       "(λa.(λb.b)) ⇒ (λa.(λb.b))"
      ]
     },
     "execution_count": 42,
     "metadata": {},
     "output_type": "execute_result"
    }
   ],
   "source": [
    "zero = metadsl.execute.execute(to_church_rules, int_term(0))\n",
    "zero"
   ]
  },
  {
   "cell_type": "code",
   "execution_count": 43,
   "metadata": {},
   "outputs": [
    {
     "data": {
      "text/plain": [
       "(((λa.(λb.(λc.(λd.((a c) ((b c) d)))))) (λe.(λf.f))) (λg.(λh.h))) ⇒ (λc.(λd.d))"
      ]
     },
     "execution_count": 43,
     "metadata": {},
     "output_type": "execute_result"
    }
   ],
   "source": [
    "add_abstraction(zero)(zero)"
   ]
  },
  {
   "cell_type": "code",
   "execution_count": 44,
   "metadata": {},
   "outputs": [
    {
     "data": {
      "text/plain": [
       "(λa.(λb.b)) ⇒ (λa.(λb.b))"
      ]
     },
     "execution_count": 44,
     "metadata": {},
     "output_type": "execute_result"
    }
   ],
   "source": [
    "zero"
   ]
  },
  {
   "cell_type": "markdown",
   "metadata": {},
   "source": [
    "Sweet! Those look same, that's good. "
   ]
  },
  {
   "cell_type": "markdown",
   "metadata": {},
   "source": [
    "And we should find that adding one is the same as the succesor functions..."
   ]
  },
  {
   "cell_type": "code",
   "execution_count": 45,
   "metadata": {},
   "outputs": [],
   "source": [
    "one = metadsl.execute.execute(to_church_rules, int_term(1))"
   ]
  },
  {
   "cell_type": "code",
   "execution_count": 46,
   "metadata": {},
   "outputs": [
    {
     "data": {
      "text/plain": [
       "((λa.(λb.(λc.(λd.((a c) ((b c) d)))))) (λe.(λf.(e f)))) ⇒ (λb.(λc.(λd.(c ((b c) d)))))"
      ]
     },
     "execution_count": 46,
     "metadata": {},
     "output_type": "execute_result"
    }
   ],
   "source": [
    "add_abstraction(one)"
   ]
  },
  {
   "cell_type": "code",
   "execution_count": 47,
   "metadata": {},
   "outputs": [
    {
     "data": {
      "text/plain": [
       "(λa.(λb.(λc.(b ((a b) c))))) ⇒ (λa.(λb.(λc.(b ((a b) c)))))"
      ]
     },
     "execution_count": 47,
     "metadata": {},
     "output_type": "execute_result"
    }
   ],
   "source": [
    "succ_abstraction"
   ]
  },
  {
   "cell_type": "markdown",
   "metadata": {},
   "source": [
    "Those look the same! Nice!\n",
    "\n",
    "OK What about multiplying by zero, that should always return zero..."
   ]
  },
  {
   "cell_type": "code",
   "execution_count": 48,
   "metadata": {},
   "outputs": [
    {
     "data": {
      "text/plain": [
       "(((λa.(λb.(λc.(a (b c))))) (λd.(λe.e))) doesnt matter) ⇒ (λc.(λe.e))"
      ]
     },
     "execution_count": 48,
     "metadata": {},
     "output_type": "execute_result"
    }
   ],
   "source": [
    "mult_abstraction(zero)(from_variable(Variable(\"doesnt matter\")))"
   ]
  },
  {
   "cell_type": "markdown",
   "metadata": {},
   "source": [
    "Yep!"
   ]
  },
  {
   "cell_type": "markdown",
   "metadata": {},
   "source": [
    "It's kind cool how exponentiation is now so simple... Let's try raising something to the 1st power, this should give us back itself:"
   ]
  },
  {
   "cell_type": "code",
   "execution_count": 49,
   "metadata": {},
   "outputs": [
    {
     "data": {
      "text/plain": [
       "(λa.(λb.(b a))) ⇒ (λa.(λb.(b a)))"
      ]
     },
     "execution_count": 49,
     "metadata": {},
     "output_type": "execute_result"
    }
   ],
   "source": [
    "exp_abstraction"
   ]
  },
  {
   "cell_type": "code",
   "execution_count": 50,
   "metadata": {},
   "outputs": [
    {
     "data": {
      "text/plain": [
       "(((λa.(λb.(b a))) doesnt matter) (λc.(λd.(c d)))) ⇒ (λd.(doesnt matter d))"
      ]
     },
     "execution_count": 50,
     "metadata": {},
     "output_type": "execute_result"
    }
   ],
   "source": [
    "exp_abstraction(from_variable(Variable(\"doesnt matter\")))(one)"
   ]
  },
  {
   "cell_type": "markdown",
   "metadata": {},
   "source": [
    "This is actually the same as  the input, despite it being wrapped in another function. If we had implemented [Eta-conversion](https://en.wikipedia.org/wiki/Lambda_calculus#%CE%B7-conversion) this would reduce to \"doesn't matter\"."
   ]
  },
  {
   "cell_type": "markdown",
   "metadata": {},
   "source": [
    "Now we can map these to the operations we defined above:"
   ]
  },
  {
   "cell_type": "code",
   "execution_count": 51,
   "metadata": {},
   "outputs": [],
   "source": [
    "church_math_rules = metadsl.RulesRepeatFold()\n",
    "\n",
    "@church_math_rules.append\n",
    "@metadsl.rule\n",
    "def _add(x: LambdaTerm, y: LambdaTerm):\n",
    "    return add(x, y), lambda: add_abstraction(x)(y)\n",
    "\n",
    "@church_math_rules.append\n",
    "@metadsl.rule\n",
    "def _mult(x: LambdaTerm, y: LambdaTerm):\n",
    "    return mult(x, y), lambda: mult_abstraction(x)(y)\n",
    "\n",
    "@church_math_rules.append\n",
    "@metadsl.rule\n",
    "def _exp(x: LambdaTerm, y: LambdaTerm):\n",
    "    return exp(x, y), lambda: exp_abstraction(x)(y)\n"
   ]
  },
  {
   "cell_type": "code",
   "execution_count": 52,
   "metadata": {},
   "outputs": [
    {
     "data": {
      "text/plain": [
       "(λa.(λb.b)) + (λc.(λd.(c d))) ⇒ (λa.(λb.b)) + (λc.(λd.(c d)))"
      ]
     },
     "execution_count": 52,
     "metadata": {},
     "output_type": "execute_result"
    }
   ],
   "source": [
    "add(zero, one)"
   ]
  },
  {
   "cell_type": "code",
   "execution_count": 53,
   "metadata": {},
   "outputs": [
    {
     "data": {
      "text/plain": [
       "(λa.(λb.(a b))) ⇒ (λa.(λb.(a b)))"
      ]
     },
     "execution_count": 53,
     "metadata": {},
     "output_type": "execute_result"
    }
   ],
   "source": [
    "one"
   ]
  },
  {
   "cell_type": "code",
   "execution_count": 54,
   "metadata": {},
   "outputs": [
    {
     "data": {
      "text/plain": [
       "10 + 5 ⇒ 15"
      ]
     },
     "execution_count": 54,
     "metadata": {},
     "output_type": "execute_result"
    }
   ],
   "source": [
    "add(int_term(10), int_term(5))"
   ]
  },
  {
   "cell_type": "code",
   "execution_count": 55,
   "metadata": {},
   "outputs": [
    {
     "data": {
      "text/plain": [
       "(((λa.(λb.(λc.(λd.((a c) ((b c) d)))))) (λe.(λf.(e (e (e (e (e (e (e (e (e (e f))))))))))))) (λg.(λh.(g (g (g (g (g h)))))))) ⇒ (λc.(λd.(c (c (c (c (c (c (c (c (c (c (c (c (c (c (c d)))))))))))))))))"
      ]
     },
     "execution_count": 55,
     "metadata": {},
     "output_type": "execute_result"
    }
   ],
   "source": [
    "metadsl.execute.execute(church_math_rules, metadsl.execute.execute(to_church_rules, add(int_term(10), int_term(5))))"
   ]
  },
  {
   "cell_type": "markdown",
   "metadata": {},
   "source": [
    "So now we have developed al little lambda calculus calculator. We can define custom pipelines now, reausing all of this work, to apply the steps in any order we would like.\n",
    "\n",
    "And if we have users, they can right functions with the functions, and not worry how they are compiled. For example, I could write a function like this:"
   ]
  },
  {
   "cell_type": "code",
   "execution_count": 56,
   "metadata": {},
   "outputs": [],
   "source": [
    "def my_special_math(x, y, z):\n",
    "    return mult(add(x, y), z)"
   ]
  },
  {
   "cell_type": "markdown",
   "metadata": {},
   "source": [
    "And the function is totally seperate from what we call it with, or how it ends up being compiled:"
   ]
  },
  {
   "cell_type": "code",
   "execution_count": 57,
   "metadata": {},
   "outputs": [
    {
     "data": {
      "text/plain": [
       "10 + 10 * 10 ⇒ 200"
      ]
     },
     "execution_count": 57,
     "metadata": {},
     "output_type": "execute_result"
    }
   ],
   "source": [
    "my_special_math(int_term(10), int_term(10), int_term(10))"
   ]
  },
  {
   "cell_type": "code",
   "execution_count": 58,
   "metadata": {},
   "outputs": [
    {
     "data": {
      "text/plain": [
       "(λa.(λb.b)) + (λc.(λd.(c d))) * (λe.(λf.(e f))) ⇒ (λa.(λb.b)) + (λc.(λd.(c d))) * (λe.(λf.(e f)))"
      ]
     },
     "execution_count": 58,
     "metadata": {},
     "output_type": "execute_result"
    }
   ],
   "source": [
    "my_special_math(zero, one, one)"
   ]
  },
  {
   "cell_type": "code",
   "execution_count": 62,
   "metadata": {},
   "outputs": [
    {
     "data": {
      "text/plain": [
       "(((λa.(λb.(λc.(a (b c))))) (((λd.(λe.(λf.(λg.((d f) ((e f) g)))))) (λh.(λi.i))) (λj.(λk.(j k))))) (λl.(λm.(l m)))) ⇒ (λc.(λg.(c g)))"
      ]
     },
     "execution_count": 62,
     "metadata": {},
     "output_type": "execute_result"
    }
   ],
   "source": [
    "metadsl.execute.execute(church_math_rules, my_special_math(zero, one, one))"
   ]
  },
  {
   "cell_type": "markdown",
   "metadata": {},
   "source": [
    "For another tutorial, it would be useful to show how this compares to a *typed* lambda calculus. That would let us deal with functions over multiple data types, so we know if operations like addition even make sense."
   ]
  }
 ],
 "metadata": {
  "kernelspec": {
   "display_name": "Python 3",
   "language": "python",
   "name": "python3"
  },
  "language_info": {
   "codemirror_mode": {
    "name": "ipython",
    "version": 3
   },
   "file_extension": ".py",
   "mimetype": "text/x-python",
   "name": "python",
   "nbconvert_exporter": "python",
   "pygments_lexer": "ipython3",
   "version": "3.7.3"
  }
 },
 "nbformat": 4,
 "nbformat_minor": 2
}
