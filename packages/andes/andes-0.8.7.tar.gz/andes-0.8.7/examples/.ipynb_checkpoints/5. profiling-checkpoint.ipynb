{
 "cells": [
  {
   "cell_type": "markdown",
   "metadata": {},
   "source": [
    "# Profiling ANDES in Notebook"
   ]
  },
  {
   "cell_type": "markdown",
   "metadata": {},
   "source": [
    "## Profiling with Python CProfiler"
   ]
  },
  {
   "cell_type": "code",
   "execution_count": 1,
   "metadata": {},
   "outputs": [],
   "source": [
    "import andes\n",
    "from andes.utils.paths import get_case\n",
    "\n",
    "case_path = get_case('kundur/kundur_full.xlsx')"
   ]
  },
  {
   "cell_type": "markdown",
   "metadata": {},
   "source": [
    "Passing `profile=True, no_output = True` to `run` will enable the profiler and have the results printed."
   ]
  },
  {
   "cell_type": "code",
   "execution_count": 2,
   "metadata": {},
   "outputs": [
    {
     "name": "stderr",
     "output_type": "stream",
     "text": [
      "Working directory: \"/Users/hcui7/repos/andes/examples\"\n",
      "Parsing input file \"/Users/hcui7/repos/andes/andes/cases/kundur/kundur_full.xlsx\"\n",
      "Input file parsed in 0.0923 second.\n",
      "\n",
      "-> Power flow calculation\n",
      "Method: NR method\n",
      "Power flow initialized.\n",
      "0: |F(x)| = 14.9283   \n",
      "1: |F(x)| = 3.60859   \n",
      "2: |F(x)| = 0.170093  \n",
      "3: |F(x)| = 0.00203827\n",
      "4: |F(x)| = 3.76414e-07\n",
      "Converged in 5 iterations in 0.0109 second.\n",
      "\n",
      "-> Time Domain Simulation Summary:\n",
      "Sparse Solver: KLU\n",
      "Simulation time: 0.0-20.0sec.\n",
      "Variable step size: h0=33.33msec.\n",
      "Initialization was successful in 0.0223 second.\n"
     ]
    },
    {
     "name": "stdout",
     "output_type": "stream",
     "text": [
      "<Toggle 1>: Status of Line.Line_8 changed to 0.0 at t=2.0sec.         \n",
      "100%|████████████████████████████████| 100/100 [00:02<00:00, 36.42%/s]"
     ]
    },
    {
     "name": "stderr",
     "output_type": "stream",
     "text": [
      "Simulation completed in 2.7460 seconds.\n"
     ]
    },
    {
     "name": "stdout",
     "output_type": "stream",
     "text": [
      "\n"
     ]
    },
    {
     "name": "stderr",
     "output_type": "stream",
     "text": [
      "\n",
      "-> Single process finished in 2.9945 seconds.\n"
     ]
    },
    {
     "name": "stdout",
     "output_type": "stream",
     "text": [
      "         1751864 function calls (1743425 primitive calls) in 2.974 seconds\n",
      "\n",
      "   Ordered by: cumulative time\n",
      "   List reduced from 2013 to 40 due to restriction <40>\n",
      "\n",
      "   ncalls  tottime  percall  cumtime  percall filename:lineno(function)\n",
      "        1    0.007    0.007    2.812    2.812 /Users/hcui7/repos/andes/andes/routines/tds.py:138(run)\n",
      "      600    0.106    0.000    2.708    0.005 /Users/hcui7/repos/andes/andes/routines/tds.py:233(_implicit_step)\n",
      "    11036    0.018    0.000    1.955    0.000 /Users/hcui7/repos/andes/andes/system.py:716(_call_models_method)\n",
      "    11036    0.143    0.000    1.931    0.000 /Users/hcui7/repos/andes/andes/system.py:727(<listcomp>)\n",
      "     1834    0.001    0.000    0.949    0.001 /Users/hcui7/repos/andes/andes/system.py:445(g_update)\n",
      "    53131    0.480    0.000    0.902    0.000 /Users/hcui7/repos/andes/andes/core/model.py:1202(g_update)\n",
      "     1834    0.001    0.000    0.564    0.000 /Users/hcui7/repos/andes/andes/system.py:435(f_update)\n",
      "    53131    0.368    0.000    0.519    0.000 /Users/hcui7/repos/andes/andes/core/model.py:1181(f_update)\n",
      "     1834    0.003    0.000    0.358    0.000 /Users/hcui7/repos/andes/andes/system.py:419(fg_to_dae)\n",
      "     3668    0.056    0.000    0.354    0.000 /Users/hcui7/repos/andes/andes/system.py:584(_e_to_dae)\n",
      "   117613    0.302    0.000    0.302    0.000 {method 'at' of 'numpy.ufunc' objects}\n",
      "        1    0.000    0.000    0.146    0.146 /Users/hcui7/repos/andes/andes/main.py:232(load)\n",
      "     1834    0.003    0.000    0.125    0.000 /Users/hcui7/repos/andes/andes/system.py:906(e_clear)\n",
      "54732/54730    0.123    0.000    0.123    0.000 {built-in method numpy.array}\n",
      "     1834    0.001    0.000    0.120    0.000 /Users/hcui7/repos/andes/andes/system.py:402(l_check_eq)\n",
      "21877/16090    0.025    0.000    0.108    0.000 {built-in method numpy.core._multiarray_umath.implement_array_function}\n",
      "     1834    0.092    0.000    0.100    0.000 <lambdifygenerated-21>:1(_lambdifygenerated)\n",
      "        1    0.000    0.000    0.093    0.093 /Users/hcui7/repos/andes/andes/io/__init__.py:94(parse)\n",
      "     1829    0.075    0.000    0.091    0.000 <lambdifygenerated-52>:1(_lambdifygenerated)\n",
      "        1    0.000    0.000    0.091    0.091 /Users/hcui7/repos/andes/andes/io/xlsx.py:84(read)\n",
      "     1866    0.090    0.000    0.090    0.000 /Users/hcui7/repos/andes/andes/system.py:539(vars_to_models)\n",
      "     1833    0.011    0.000    0.090    0.000 /Users/hcui7/repos/andes/andes/core/solver.py:105(solve)\n",
      "     1834    0.001    0.000    0.088    0.000 /Users/hcui7/repos/andes/andes/system.py:410(l_set_eq)\n",
      "    53131    0.020    0.000    0.085    0.000 /Users/hcui7/repos/andes/andes/core/model.py:684(l_check_eq)\n",
      "     1834    0.075    0.000    0.081    0.000 <lambdifygenerated-3>:1(_lambdifygenerated)\n",
      "    53131    0.076    0.000    0.078    0.000 /Users/hcui7/repos/andes/andes/core/model.py:1374(e_clear)\n",
      "     1834    0.001    0.000    0.075    0.000 /Users/hcui7/repos/andes/andes/system.py:394(l_update_var)\n",
      "     1829    0.063    0.000    0.072    0.000 <lambdifygenerated-53>:1(_lambdifygenerated)\n",
      "        1    0.000    0.000    0.072    0.072 /Users/hcui7/miniconda3/envs/a/lib/python3.7/site-packages/pandas/io/excel/_base.py:270(read_excel)\n",
      "     3658    0.053    0.000    0.063    0.000 /Users/hcui7/repos/andes/andes/core/discrete.py:246(check_eq)\n",
      "       29    0.003    0.000    0.062    0.002 /Users/hcui7/repos/andes/andes/system.py:455(j_update)\n",
      "       12    0.005    0.000    0.060    0.005 /Users/hcui7/miniconda3/envs/a/lib/python3.7/site-packages/pandas/core/frame.py:414(__init__)\n",
      "   339230    0.058    0.000    0.058    0.000 {built-in method builtins.getattr}\n",
      "    53131    0.016    0.000    0.055    0.000 /Users/hcui7/repos/andes/andes/core/model.py:699(l_set_eq)\n",
      "     1833    0.002    0.000    0.053    0.000 /Users/hcui7/repos/andes/andes/core/solver.py:51(_numeric)\n",
      "     1833    0.051    0.000    0.051    0.000 {built-in method cvxoptklu.klu.numeric}\n",
      "      786    0.036    0.000    0.045    0.000 /Users/hcui7/repos/andes/andes/core/model.py:1223(j_update)\n",
      "        1    0.000    0.000    0.042    0.042 /Users/hcui7/miniconda3/envs/a/lib/python3.7/site-packages/pandas/io/excel/_base.py:826(parse)\n",
      "        1    0.000    0.000    0.042    0.042 /Users/hcui7/miniconda3/envs/a/lib/python3.7/site-packages/pandas/io/excel/_base.py:387(parse)\n",
      "    53131    0.018    0.000    0.042    0.000 /Users/hcui7/repos/andes/andes/core/model.py:669(l_update_var)\n",
      "\n",
      "\n"
     ]
    }
   ],
   "source": [
    "ss = andes.run(case_path, profile=True, routine='tds', no_output=True)"
   ]
  },
  {
   "cell_type": "markdown",
   "metadata": {},
   "source": [
    "## Profiling with `line_profiler`."
   ]
  },
  {
   "cell_type": "markdown",
   "metadata": {},
   "source": [
    "`line_profiler` provides line-based profiling results for functions. \n",
    "\n",
    "Install with `pip install line_profiler` and restart the notebook."
   ]
  },
  {
   "cell_type": "code",
   "execution_count": 3,
   "metadata": {},
   "outputs": [],
   "source": [
    "import andes\n",
    "from andes.utils.paths import get_case\n",
    "\n",
    "case_path = get_case('kundur/kundur_full.xlsx')"
   ]
  },
  {
   "cell_type": "markdown",
   "metadata": {},
   "source": [
    "### Profile power flow "
   ]
  },
  {
   "cell_type": "markdown",
   "metadata": {},
   "source": [
    "Pass the function name to profile to the magic `%lprun`, followed by a call to the function itself or an upper-level function.\n",
    "\n",
    "Results will be shown in a popup window."
   ]
  },
  {
   "cell_type": "code",
   "execution_count": 4,
   "metadata": {},
   "outputs": [
    {
     "name": "stderr",
     "output_type": "stream",
     "text": [
      "Working directory: \"/Users/hcui7/repos/andes/examples\"\n",
      "Parsing input file \"/Users/hcui7/repos/andes/andes/cases/kundur/kundur_full.xlsx\"\n",
      "Input file parsed in 0.1180 second.\n",
      "\n",
      "-> Power flow calculation\n",
      "Method: NR method\n",
      "Power flow initialized.\n",
      "0: |F(x)| = 14.9283   \n",
      "1: |F(x)| = 3.60859   \n",
      "2: |F(x)| = 0.170093  \n",
      "3: |F(x)| = 0.00203827\n",
      "4: |F(x)| = 3.76414e-07\n",
      "Converged in 5 iterations in 0.0121 second.\n",
      "-> Single process finished in 0.1874 second.\n"
     ]
    }
   ],
   "source": [
    "%lprun -f andes.routines.pflow.PFlow.run andes.run(case_path, no_output=True)"
   ]
  },
  {
   "cell_type": "markdown",
   "metadata": {},
   "source": [
    "Alternatively, do"
   ]
  },
  {
   "cell_type": "code",
   "execution_count": 5,
   "metadata": {},
   "outputs": [
    {
     "name": "stderr",
     "output_type": "stream",
     "text": [
      "Working directory: \"/Users/hcui7/repos/andes/examples\"\n",
      "Parsing input file \"/Users/hcui7/repos/andes/andes/cases/kundur/kundur_full.xlsx\"\n",
      "Input file parsed in 0.0591 second.\n",
      "\n",
      "-> Power flow calculation\n",
      "Method: NR method\n",
      "Power flow initialized.\n",
      "0: |F(x)| = 14.9283   \n",
      "1: |F(x)| = 3.60859   \n",
      "2: |F(x)| = 0.170093  \n",
      "3: |F(x)| = 0.00203827\n",
      "4: |F(x)| = 3.76414e-07\n",
      "Converged in 5 iterations in 0.0096 second.\n",
      "-> Single process finished in 0.1028 second.\n"
     ]
    }
   ],
   "source": [
    "ss = andes.run(case_path, no_output=True)"
   ]
  },
  {
   "cell_type": "code",
   "execution_count": 6,
   "metadata": {},
   "outputs": [
    {
     "name": "stderr",
     "output_type": "stream",
     "text": [
      "\n",
      "-> Power flow calculation\n",
      "Method: NR method\n",
      "Power flow initialized.\n",
      "0: |F(x)| = 14.9283   \n",
      "1: |F(x)| = 3.60859   \n",
      "2: |F(x)| = 0.170093  \n",
      "3: |F(x)| = 0.00203827\n",
      "4: |F(x)| = 3.76414e-07\n",
      "Converged in 5 iterations in 0.0115 second.\n"
     ]
    }
   ],
   "source": [
    "%lprun -f ss.PFlow.run ss.PFlow.run()"
   ]
  },
  {
   "cell_type": "markdown",
   "metadata": {},
   "source": [
    "To dig into the Newton Raphson iteration steps, profile each step instead with:"
   ]
  },
  {
   "cell_type": "code",
   "execution_count": 7,
   "metadata": {},
   "outputs": [
    {
     "name": "stderr",
     "output_type": "stream",
     "text": [
      "\n",
      "-> Power flow calculation\n",
      "Method: NR method\n",
      "Power flow initialized.\n",
      "0: |F(x)| = 14.9283   \n",
      "1: |F(x)| = 3.60859   \n",
      "2: |F(x)| = 0.170093  \n",
      "3: |F(x)| = 0.00203827\n",
      "4: |F(x)| = 3.76414e-07\n",
      "Converged in 5 iterations in 0.0115 second.\n"
     ]
    }
   ],
   "source": [
    "%lprun -f ss.PFlow.nr_step ss.PFlow.run()"
   ]
  },
  {
   "cell_type": "markdown",
   "metadata": {},
   "source": [
    "### Profile time-domain simulation"
   ]
  },
  {
   "cell_type": "code",
   "execution_count": 8,
   "metadata": {},
   "outputs": [
    {
     "name": "stderr",
     "output_type": "stream",
     "text": [
      "\n",
      "-> Time Domain Simulation Summary:\n",
      "Sparse Solver: KLU\n",
      "Simulation time: 0.0-20.0sec.\n",
      "Variable step size: h0=33.33msec.\n",
      "Initialization was successful in 0.0251 second.\n"
     ]
    },
    {
     "name": "stdout",
     "output_type": "stream",
     "text": [
      "<Toggle 1>: Status of Line.Line_8 changed to 0.0 at t=2.0sec.         \n",
      "100%|████████████████████████████████| 100/100 [00:03<00:00, 33.03%/s]"
     ]
    },
    {
     "name": "stderr",
     "output_type": "stream",
     "text": [
      "Simulation completed in 3.0284 seconds.\n"
     ]
    },
    {
     "name": "stdout",
     "output_type": "stream",
     "text": [
      "\n"
     ]
    }
   ],
   "source": [
    "%lprun -f ss.TDS._implicit_step ss.TDS.run()"
   ]
  },
  {
   "cell_type": "markdown",
   "metadata": {},
   "source": [
    "## Cleanup"
   ]
  },
  {
   "cell_type": "code",
   "execution_count": 9,
   "metadata": {},
   "outputs": [
    {
     "name": "stdout",
     "output_type": "stream",
     "text": [
      "\r\n",
      "    _           _         | Version 0.8.5.post39.dev0+ga1b7093a\r\n",
      "   /_\\  _ _  __| |___ ___ | Python 3.7.1 on Darwin, 04/23/2020 07:53:29 PM\r\n",
      "  / _ \\| ' \\/ _` / -_|_-< | \r\n",
      " /_/ \\_\\_||_\\__,_\\___/__/ | This program comes with ABSOLUTELY NO WARRANTY.\r\n",
      "\r\n",
      "No output file found in the working directory.\r\n"
     ]
    }
   ],
   "source": [
    "!andes misc -C"
   ]
  }
 ],
 "metadata": {
  "kernelspec": {
   "display_name": "Python 3",
   "language": "python",
   "name": "python3"
  },
  "language_info": {
   "codemirror_mode": {
    "name": "ipython",
    "version": 3
   },
   "file_extension": ".py",
   "mimetype": "text/x-python",
   "name": "python",
   "nbconvert_exporter": "python",
   "pygments_lexer": "ipython3",
   "version": "3.7.1"
  }
 },
 "nbformat": 4,
 "nbformat_minor": 4
}
